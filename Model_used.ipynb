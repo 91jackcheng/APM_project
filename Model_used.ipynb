{
 "cells": [
  {
   "cell_type": "code",
   "execution_count": 1,
   "metadata": {
    "ExecuteTime": {
     "end_time": "2017-12-03T18:59:36.465486Z",
     "start_time": "2017-12-03T18:59:34.150923Z"
    },
    "collapsed": true
   },
   "outputs": [],
   "source": [
    "import pandas as pd\n",
    "import warnings\n",
    "from pandas import Series, DataFrame\n",
    "warnings.filterwarnings(\"ignore\")"
   ]
  },
  {
   "cell_type": "code",
   "execution_count": 2,
   "metadata": {
    "ExecuteTime": {
     "end_time": "2017-12-03T18:59:38.101743Z",
     "start_time": "2017-12-03T18:59:36.518502Z"
    },
    "collapsed": true
   },
   "outputs": [],
   "source": [
    "import pandas as pd\n",
    "from sklearn.metrics import mean_squared_error\n",
    "from sklearn.metrics import confusion_matrix\n",
    "from sklearn import metrics"
   ]
  },
  {
   "cell_type": "code",
   "execution_count": 3,
   "metadata": {
    "ExecuteTime": {
     "end_time": "2017-12-03T18:59:38.979313Z",
     "start_time": "2017-12-03T18:59:38.149842Z"
    },
    "collapsed": true
   },
   "outputs": [],
   "source": [
    "\n",
    "import numpy as np\n",
    "from sklearn.ensemble import RandomForestClassifier\n",
    "from sklearn.metrics import confusion_matrix\n",
    "from sklearn.ensemble import GradientBoostingClassifier\n",
    "from sklearn.model_selection import GridSearchCV\n",
    "from xgboost.sklearn import XGBClassifier\n",
    "from time import time\n",
    "import matplotlib.pyplot as plt\n",
    "from sklearn.model_selection import train_test_split\n",
    "import warnings\n",
    "warnings.filterwarnings(\"ignore\")\n",
    "%matplotlib inline"
   ]
  },
  {
   "cell_type": "code",
   "execution_count": 31,
   "metadata": {
    "ExecuteTime": {
     "end_time": "2017-12-03T19:26:27.818432Z",
     "start_time": "2017-12-03T19:26:27.805232Z"
    },
    "collapsed": true
   },
   "outputs": [],
   "source": [
    "def filter1(s,f):\n",
    "    if s==f:\n",
    "        return 0\n",
    "    else:\n",
    "        return float(s)\n",
    "def transfrom(input_data):\n",
    "    input_data['Coupon_requirement']=input_data['coupon_requirement'].map(lambda x: filter1(x,'null'))\n",
    "    input_data['Equivalent_discount']=input_data['equivalent_discount'].map(lambda x: filter1(x,'fixed'))\n",
    "    input_data['Fixed']=input_data['equivalent_discount'].map(lambda x: int(x=='fixed'))\n",
    "    return input_data.drop(['coupon_requirement','equivalent_discount'],axis=1)"
   ]
  },
  {
   "cell_type": "code",
   "execution_count": 39,
   "metadata": {
    "ExecuteTime": {
     "end_time": "2017-12-03T19:28:27.737725Z",
     "start_time": "2017-12-03T19:28:27.718610Z"
    }
   },
   "outputs": [],
   "source": [
    "\n",
    "def fillna_pipeline(input_data):\n",
    "    input_data=transfrom(input_data)\n",
    "    input_data['Num_coupon_used'].fillna(0,inplace=True)\n",
    "    input_data['Difference'].fillna(input_data['Difference'].mean(),inplace=True)\n",
    "    input_data['Tot_coupon_sent'].fillna(input_data['Tot_coupon_sent'].mean(),inplace=True)\n",
    "    input_data['num_type'].fillna(input_data['num_type'].mean(),inplace=True)\n",
    "    input_data[\"Customer's Total Usage for Merchant's Coupons\"].fillna(input_data[\"Customer's Total Usage for Merchant's Coupons\"].mean(),inplace=True)\n",
    "    input_data[\"Customer's Total Usage Fraction for Merchant\"].fillna(input_data[\"Customer's Total Usage Fraction for Merchant\"].mean(),inplace=True)\n",
    "    input_data[\"Customer's Total Received by Merchant\"].fillna(input_data[\"Customer's Total Received by Merchant\"].mean(),inplace=True)\n",
    "    input_data[\"Merchant's Total Usage Fraction\"].fillna(input_data[\"Merchant's Total Usage Fraction\"].mean(),inplace=True)\n",
    "    input_data[\"Customer's Inbox Share by Merchant\"].fillna(input_data[\"Customer's Inbox Share by Merchant\"].mean(),inplace=True)\n",
    "    print 'fill completed'\n",
    "    return input_data"
   ]
  },
  {
   "cell_type": "code",
   "execution_count": 26,
   "metadata": {
    "ExecuteTime": {
     "end_time": "2017-12-03T19:14:40.412867Z",
     "start_time": "2017-12-03T19:14:40.295498Z"
    },
    "collapsed": true
   },
   "outputs": [],
   "source": [
    "y_train1=pd.read_csv('y_train1.csv',header=None)\n",
    "y_test1=pd.read_csv('y_test1.csv',header=None)"
   ]
  },
  {
   "cell_type": "code",
   "execution_count": 40,
   "metadata": {
    "ExecuteTime": {
     "end_time": "2017-12-03T19:28:33.086241Z",
     "start_time": "2017-12-03T19:28:29.831583Z"
    }
   },
   "outputs": [
    {
     "name": "stdout",
     "output_type": "stream",
     "text": [
      "fill completed\n",
      "fill completed\n"
     ]
    }
   ],
   "source": [
    "X_train1=fillna_pipeline(pd.read_csv('X_train1.csv'))\n",
    "X_test1=fillna_pipeline(pd.read_csv('X_test1.csv'))"
   ]
  },
  {
   "cell_type": "code",
   "execution_count": 43,
   "metadata": {
    "ExecuteTime": {
     "end_time": "2017-12-03T19:29:53.524846Z",
     "start_time": "2017-12-03T19:28:58.296675Z"
    }
   },
   "outputs": [],
   "source": [
    "GBDT = GradientBoostingClassifier(random_state=42)\n",
    "model=GBDT.fit(X_train1, y_train1)\n",
    "\n"
   ]
  },
  {
   "cell_type": "code",
   "execution_count": 45,
   "metadata": {
    "ExecuteTime": {
     "end_time": "2017-12-03T19:31:23.973432Z",
     "start_time": "2017-12-03T19:31:23.355385Z"
    }
   },
   "outputs": [
    {
     "data": {
      "text/plain": [
       "0.80061310743891601"
      ]
     },
     "execution_count": 45,
     "metadata": {},
     "output_type": "execute_result"
    }
   ],
   "source": [
    "y1_GBDTpredicted_test = GBDT.predict(X_test1)\n",
    "metrics.accuracy_score(y_test1,y1_GBDTpredicted_test)"
   ]
  },
  {
   "cell_type": "code",
   "execution_count": 47,
   "metadata": {
    "ExecuteTime": {
     "end_time": "2017-12-03T21:33:07.164260Z",
     "start_time": "2017-12-03T21:33:06.738350Z"
    }
   },
   "outputs": [
    {
     "data": {
      "text/plain": [
       "array([[114221,  10409],\n",
       "       [ 44551, 106464]])"
      ]
     },
     "execution_count": 47,
     "metadata": {},
     "output_type": "execute_result"
    }
   ],
   "source": [
    "confusion_matrix(y_test1,y1_GBDTpredicted_test)"
   ]
  },
  {
   "cell_type": "code",
   "execution_count": 48,
   "metadata": {
    "ExecuteTime": {
     "end_time": "2017-12-03T21:34:36.125799Z",
     "start_time": "2017-12-03T21:34:36.116611Z"
    }
   },
   "outputs": [
    {
     "data": {
      "text/plain": [
       "0.7049895705724597"
      ]
     },
     "execution_count": 48,
     "metadata": {},
     "output_type": "execute_result"
    }
   ],
   "source": [
    "106464.0/(44551+106464)"
   ]
  },
  {
   "cell_type": "code",
   "execution_count": null,
   "metadata": {
    "collapsed": true
   },
   "outputs": [],
   "source": [
    "parameter_candidates = {\n",
    "    'loss': ('deviance', 'exponential'),\n",
    "}\n",
    "GBDT = GradientBoostingClassifier(random_state=42)\n",
    "GBDTGS = GridSearchCV(\n",
    "    estimator=GBDT, param_grid=parameter_candidates, cv=3, n_jobs=4)\n",
    "\n",
    "GBDTGS.fit(X_train1, y_train1)\n",
    "print GBDTGS.best_params_\n",
    "print GBDTGS.best_score_"
   ]
  }
 ],
 "metadata": {
  "kernelspec": {
   "display_name": "Python [conda root]",
   "language": "python",
   "name": "conda-root-py"
  },
  "language_info": {
   "codemirror_mode": {
    "name": "ipython",
    "version": 2
   },
   "file_extension": ".py",
   "mimetype": "text/x-python",
   "name": "python",
   "nbconvert_exporter": "python",
   "pygments_lexer": "ipython2",
   "version": "2.7.14"
  },
  "nbTranslate": {
   "displayLangs": [
    "*"
   ],
   "hotkey": "alt-t",
   "langInMainMenu": true,
   "sourceLang": "en",
   "targetLang": "fr",
   "useGoogleTranslate": true
  },
  "toc": {
   "nav_menu": {},
   "number_sections": true,
   "sideBar": true,
   "skip_h1_title": false,
   "toc_cell": false,
   "toc_position": {},
   "toc_section_display": "block",
   "toc_window_display": false
  },
  "varInspector": {
   "cols": {
    "lenName": 16,
    "lenType": 16,
    "lenVar": 40
   },
   "kernels_config": {
    "python": {
     "delete_cmd_postfix": "",
     "delete_cmd_prefix": "del ",
     "library": "var_list.py",
     "varRefreshCmd": "print(var_dic_list())"
    },
    "r": {
     "delete_cmd_postfix": ") ",
     "delete_cmd_prefix": "rm(",
     "library": "var_list.r",
     "varRefreshCmd": "cat(var_dic_list()) "
    }
   },
   "types_to_exclude": [
    "module",
    "function",
    "builtin_function_or_method",
    "instance",
    "_Feature"
   ],
   "window_display": false
  }
 },
 "nbformat": 4,
 "nbformat_minor": 2
}
