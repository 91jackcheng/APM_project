{
 "cells": [
  {
   "cell_type": "code",
   "execution_count": 2,
   "metadata": {
    "ExecuteTime": {
     "end_time": "2017-12-13T01:03:04.922698Z",
     "start_time": "2017-12-13T01:03:01.924994Z"
    },
    "collapsed": true
   },
   "outputs": [],
   "source": [
    "import pandas as pd\n",
    "import warnings\n",
    "from pandas import Series, DataFrame\n",
    "warnings.filterwarnings(\"ignore\")"
   ]
  },
  {
   "cell_type": "code",
   "execution_count": 46,
   "metadata": {
    "ExecuteTime": {
     "end_time": "2017-12-14T06:25:42.008399Z",
     "start_time": "2017-12-14T06:25:42.002326Z"
    },
    "collapsed": true
   },
   "outputs": [],
   "source": [
    "\n",
    "from sklearn.metrics import confusion_matrix\n",
    "from sklearn import metrics"
   ]
  },
  {
   "cell_type": "code",
   "execution_count": 3,
   "metadata": {
    "ExecuteTime": {
     "end_time": "2017-12-04T00:59:46.208515Z",
     "start_time": "2017-12-04T00:59:45.301650Z"
    },
    "collapsed": true
   },
   "outputs": [],
   "source": [
    "\n",
    "\n",
    "from sklearn.ensemble import RandomForestClassifier\n",
    "from sklearn.metrics import confusion_matrix\n",
    "from sklearn.ensemble import GradientBoostingClassifier\n",
    "from sklearn.model_selection import GridSearchCV\n",
    "from xgboost.sklearn import XGBClassifier\n",
    "from time import time\n",
    "import matplotlib.pyplot as plt\n",
    "from sklearn.model_selection import train_test_split\n",
    "import warnings\n",
    "warnings.filterwarnings(\"ignore\")\n",
    "%matplotlib inline"
   ]
  },
  {
   "cell_type": "code",
   "execution_count": 6,
   "metadata": {
    "ExecuteTime": {
     "end_time": "2017-12-13T01:05:58.674132Z",
     "start_time": "2017-12-13T01:05:58.663329Z"
    },
    "collapsed": true
   },
   "outputs": [],
   "source": [
    "def filter1(s,f):\n",
    "    if s==f:\n",
    "        return 0\n",
    "    else:\n",
    "        return float(s)\n",
    "def transform(input_data):\n",
    "    input_data['Coupon_requirement']=input_data['coupon_requirement'].map(lambda x: filter1(x,'null'))\n",
    "    input_data['Equivalent_discount']=input_data['equivalent_discount'].map(lambda x: filter1(x,'fixed'))\n",
    "    input_data['Fixed']=input_data['equivalent_discount'].map(lambda x: int(x=='fixed'))\n",
    "    return input_data.drop(['coupon_requirement','equivalent_discount'],axis=1)"
   ]
  },
  {
   "cell_type": "code",
   "execution_count": 19,
   "metadata": {
    "ExecuteTime": {
     "end_time": "2017-12-14T05:26:08.231070Z",
     "start_time": "2017-12-14T05:26:08.212629Z"
    },
    "collapsed": true
   },
   "outputs": [],
   "source": [
    "\n",
    "def fillna_pipeline(input_data):\n",
    "    input_data=transform(input_data)\n",
    "    input_data['Num_coupon_used'].fillna(0,inplace=True)\n",
    "    input_data['Difference'].fillna(input_data['Difference'].mean(),inplace=True)\n",
    "    input_data['money'].fillna(input_data['money'].mean(),inplace=True)\n",
    "    input_data['Tot_coupon_sent'].fillna(input_data['Tot_coupon_sent'].mean(),inplace=True)\n",
    "    input_data['num_type'].fillna(input_data['num_type'].mean(),inplace=True)\n",
    "    input_data[\"Customer's Total Usage for Merchant's Coupons\"].fillna(input_data[\"Customer's Total Usage for Merchant's Coupons\"].mean(),inplace=True)\n",
    "    input_data[\"Customer's Total Usage Fraction for Merchant\"].fillna(input_data[\"Customer's Total Usage Fraction for Merchant\"].mean(),inplace=True)\n",
    "    input_data[\"Customer's Total Received by Merchant\"].fillna(input_data[\"Customer's Total Received by Merchant\"].mean(),inplace=True)\n",
    "    input_data[\"Merchant's Total Usage Fraction\"].fillna(input_data[\"Merchant's Total Usage Fraction\"].mean(),inplace=True)\n",
    "    input_data[\"Customer's Inbox Share by Merchant\"].fillna(input_data[\"Customer's Inbox Share by Merchant\"].mean(),inplace=True)\n",
    "    print 'fill completed'\n",
    "    return input_data"
   ]
  },
  {
   "cell_type": "code",
   "execution_count": 41,
   "metadata": {
    "ExecuteTime": {
     "end_time": "2017-12-04T21:29:47.680445Z",
     "start_time": "2017-12-04T21:29:47.514404Z"
    },
    "collapsed": true
   },
   "outputs": [],
   "source": [
    "y_train1=pd.read_csv('y_train1.csv',header=None)\n",
    "y_test1=pd.read_csv('y_test1.csv',header=None)"
   ]
  },
  {
   "cell_type": "code",
   "execution_count": 42,
   "metadata": {
    "ExecuteTime": {
     "end_time": "2017-12-04T21:30:03.047899Z",
     "start_time": "2017-12-04T21:29:58.810557Z"
    }
   },
   "outputs": [
    {
     "name": "stdout",
     "output_type": "stream",
     "text": [
      "fill completed\n",
      "fill completed\n"
     ]
    }
   ],
   "source": [
    "X_train1=fillna_pipeline(pd.read_csv('X_train1.csv'))\n",
    "X_test1=fillna_pipeline(pd.read_csv('X_test1.csv'))"
   ]
  },
  {
   "cell_type": "code",
   "execution_count": 43,
   "metadata": {
    "ExecuteTime": {
     "end_time": "2017-12-04T21:30:21.646798Z",
     "start_time": "2017-12-04T21:30:16.598163Z"
    }
   },
   "outputs": [
    {
     "name": "stdout",
     "output_type": "stream",
     "text": [
      "fill completed\n",
      "fill completed\n"
     ]
    }
   ],
   "source": [
    "y_train2=pd.read_csv('y_train2.csv',header=None)\n",
    "y_test2=pd.read_csv('y_test2.csv',header=None)\n",
    "X_train2=fillna_pipeline(pd.read_csv('X_train2.csv'))\n",
    "X_test2=fillna_pipeline(pd.read_csv('X_test2.csv'))"
   ]
  },
  {
   "cell_type": "code",
   "execution_count": 13,
   "metadata": {
    "ExecuteTime": {
     "end_time": "2017-12-04T01:05:42.414605Z",
     "start_time": "2017-12-04T01:02:55.024735Z"
    },
    "collapsed": true
   },
   "outputs": [],
   "source": [
    "GBDT = GradientBoostingClassifier(n_estimators=150,max_depth=5 )\n",
    "model=GBDT.fit(X_train1, y_train1)\n",
    "\n"
   ]
  },
  {
   "cell_type": "code",
   "execution_count": 14,
   "metadata": {
    "ExecuteTime": {
     "end_time": "2017-12-04T01:05:47.147698Z",
     "start_time": "2017-12-04T01:05:45.967368Z"
    }
   },
   "outputs": [
    {
     "data": {
      "text/plain": [
       "0.76818734241506281"
      ]
     },
     "execution_count": 14,
     "metadata": {},
     "output_type": "execute_result"
    }
   ],
   "source": [
    "y1_GBDTpredicted_test = GBDT.predict(X_test1)\n",
    "metrics.accuracy_score(y_test1,y1_GBDTpredicted_test)"
   ]
  },
  {
   "cell_type": "code",
   "execution_count": 15,
   "metadata": {
    "ExecuteTime": {
     "end_time": "2017-12-04T01:05:52.038773Z",
     "start_time": "2017-12-04T01:05:50.963757Z"
    },
    "collapsed": true
   },
   "outputs": [],
   "source": [
    "score=GBDT.predict_proba(X_test1)"
   ]
  },
  {
   "cell_type": "code",
   "execution_count": 16,
   "metadata": {
    "ExecuteTime": {
     "end_time": "2017-12-04T01:05:55.938629Z",
     "start_time": "2017-12-04T01:05:55.756156Z"
    },
    "collapsed": true
   },
   "outputs": [],
   "source": [
    "score_GDBT=[]\n",
    "for i in score:\n",
    "    score_GDBT.append(i[1])\n"
   ]
  },
  {
   "cell_type": "code",
   "execution_count": 17,
   "metadata": {
    "ExecuteTime": {
     "end_time": "2017-12-04T01:06:00.328190Z",
     "start_time": "2017-12-04T01:05:59.663942Z"
    }
   },
   "outputs": [
    {
     "name": "stdout",
     "output_type": "stream",
     "text": [
      "AUC socre for GBDT is  0.834147037792\n"
     ]
    },
    {
     "data": {
      "text/plain": [
       "<matplotlib.legend.Legend at 0x1a11c2f450>"
      ]
     },
     "execution_count": 17,
     "metadata": {},
     "output_type": "execute_result"
    },
    {
     "data": {
      "image/png": "[encoded data removed]",
      "text/plain": [
       "<matplotlib.figure.Figure at 0x1039ccb90>"
      ]
     },
     "metadata": {},
     "output_type": "display_data"
    }
   ],
   "source": [
    "from sklearn.metrics import roc_curve, roc_auc_score\n",
    "def plot_roc_curve(fpr, npr, label=None, auc=None):\n",
    "    plt.plot(fpr, tpr, linewidth=2, label=label + str(auc))\n",
    "    plt.plot([0, 1], [0, 1], 'k--')\n",
    "    plt.axis([0, 1, 0, 1])\n",
    "    plt.xlabel('False Positive Rate')\n",
    "    plt.ylabel('True Positive Rate')\n",
    "\n",
    "\n",
    "fpr, tpr, thresholds = roc_curve(y_test1, score_GDBT)\n",
    "auc = roc_auc_score(y_test1, score_GDBT)\n",
    "plot_roc_curve(fpr, tpr, 'GBDT auc =', auc)\n",
    "print 'AUC socre for GBDT is ', str(auc)\n",
    "\n",
    "plt.legend(loc=0)"
   ]
  },
  {
   "cell_type": "code",
   "execution_count": null,
   "metadata": {
    "collapsed": true
   },
   "outputs": [],
   "source": []
  },
  {
   "cell_type": "code",
   "execution_count": null,
   "metadata": {
    "collapsed": true
   },
   "outputs": [],
   "source": []
  },
  {
   "cell_type": "code",
   "execution_count": 32,
   "metadata": {
    "ExecuteTime": {
     "end_time": "2017-12-04T09:45:07.964894Z",
     "start_time": "2017-12-04T09:42:58.132752Z"
    },
    "collapsed": true
   },
   "outputs": [],
   "source": [
    "import xgboost as xgb\n",
    "from random import shuffle\n",
    "from xgboost.sklearn import XGBClassifier\n",
    "gbm = xgb.XGBClassifier(max_depth=15)\n",
    "GBM_model=gbm.fit(X_train1, y_train1)"
   ]
  },
  {
   "cell_type": "code",
   "execution_count": 33,
   "metadata": {
    "ExecuteTime": {
     "end_time": "2017-12-04T09:45:13.845376Z",
     "start_time": "2017-12-04T09:45:11.642059Z"
    },
    "collapsed": true
   },
   "outputs": [],
   "source": [
    "score1=GBM_model.predict_proba(X_test1)\n",
    "score_XG=[]\n",
    "for i in score1:\n",
    "    score_XG.append(i[1])"
   ]
  },
  {
   "cell_type": "code",
   "execution_count": 42,
   "metadata": {
    "ExecuteTime": {
     "end_time": "2017-12-04T09:58:57.858298Z",
     "start_time": "2017-12-04T09:56:11.980562Z"
    },
    "collapsed": true
   },
   "outputs": [],
   "source": [
    "gbm = xgb.XGBClassifier(max_depth=15)\n",
    "GBM_model2=gbm.fit(X_train2, y_train2)"
   ]
  },
  {
   "cell_type": "code",
   "execution_count": 45,
   "metadata": {
    "ExecuteTime": {
     "end_time": "2017-12-04T09:59:28.216847Z",
     "start_time": "2017-12-04T09:59:22.821417Z"
    },
    "collapsed": true
   },
   "outputs": [],
   "source": [
    "score2=GBM_model2.predict_proba(X_test2)\n",
    "score_XG2=[]\n",
    "for i in score2:\n",
    "    score_XG2.append(i[1])"
   ]
  },
  {
   "cell_type": "code",
   "execution_count": 46,
   "metadata": {
    "ExecuteTime": {
     "end_time": "2017-12-04T09:59:36.466394Z",
     "start_time": "2017-12-04T09:59:35.750909Z"
    }
   },
   "outputs": [
    {
     "name": "stdout",
     "output_type": "stream",
     "text": [
      "AUC socre for XG is  0.821755506446\n"
     ]
    },
    {
     "data": {
      "text/plain": [
       "<matplotlib.legend.Legend at 0x1a134a4290>"
      ]
     },
     "execution_count": 46,
     "metadata": {},
     "output_type": "execute_result"
    },
    {
     "data": {
      "image/png": "[encoded data removed]",
      "text/plain": [
       "<matplotlib.figure.Figure at 0x1a19291090>"
      ]
     },
     "metadata": {},
     "output_type": "display_data"
    }
   ],
   "source": [
    "fpr, tpr, thresholds = roc_curve(y_test2, score_XG2)\n",
    "auc = roc_auc_score(y_test2, score_XG2)\n",
    "plot_roc_curve(fpr, tpr, 'XG auc =', auc)\n",
    "print 'AUC socre for XG is ', str(auc)\n",
    "plt.legend(loc=0)"
   ]
  },
  {
   "cell_type": "code",
   "execution_count": 37,
   "metadata": {
    "ExecuteTime": {
     "end_time": "2017-12-04T09:46:27.502400Z",
     "start_time": "2017-12-04T09:46:26.814288Z"
    }
   },
   "outputs": [
    {
     "data": {
      "text/plain": [
       "array([ 0.08081403,  0.14412491,  0.0836494 ,  0.02550601,  0.06086829,\n",
       "        0.03541137,  0.01101005,  0.01968799,  0.08056854,  0.04426115,\n",
       "        0.11624996,  0.1290275 ,  0.08286384,  0.08595697,  0.        ], dtype=float32)"
      ]
     },
     "execution_count": 37,
     "metadata": {},
     "output_type": "execute_result"
    }
   ],
   "source": [
    "GBM_model.feature_importances_"
   ]
  },
  {
   "cell_type": "code",
   "execution_count": 34,
   "metadata": {
    "ExecuteTime": {
     "end_time": "2017-12-04T09:45:19.375928Z",
     "start_time": "2017-12-04T09:45:18.730869Z"
    },
    "scrolled": true
   },
   "outputs": [
    {
     "name": "stdout",
     "output_type": "stream",
     "text": [
      "AUC socre for XG is  0.959087730168\n"
     ]
    },
    {
     "data": {
      "text/plain": [
       "<matplotlib.legend.Legend at 0x1a109fd5d0>"
      ]
     },
     "execution_count": 34,
     "metadata": {},
     "output_type": "execute_result"
    },
    {
     "data": {
      "image/png": "[encoded data removed]",
      "text/plain": [
       "<matplotlib.figure.Figure at 0x1a13225390>"
      ]
     },
     "metadata": {},
     "output_type": "display_data"
    }
   ],
   "source": [
    "fpr, tpr, thresholds = roc_curve(y_test1, score_XG)\n",
    "auc = roc_auc_score(y_test1, score_XG)\n",
    "plot_roc_curve(fpr, tpr, 'XG auc =', auc)\n",
    "print 'AUC socre for XG is ', str(auc)\n",
    "plt.legend(loc=0)"
   ]
  },
  {
   "cell_type": "code",
   "execution_count": 5,
   "metadata": {
    "ExecuteTime": {
     "end_time": "2017-12-04T17:05:30.866451Z",
     "start_time": "2017-12-04T17:05:25.565816Z"
    }
   },
   "outputs": [
    {
     "name": "stdout",
     "output_type": "stream",
     "text": [
      "fill completed\n",
      "fill completed\n"
     ]
    }
   ],
   "source": [
    "y_train=pd.read_csv('y_full_train.csv',header=None)\n",
    "y_test=pd.read_csv('y_full_test.csv',header=None)\n",
    "X_train=fillna_pipeline(pd.read_csv('X_full_train.csv'))\n",
    "X_test=fillna_pipeline(pd.read_csv('X_full_test.csv'))"
   ]
  },
  {
   "cell_type": "code",
   "execution_count": 50,
   "metadata": {
    "ExecuteTime": {
     "end_time": "2017-12-04T11:15:34.994028Z",
     "start_time": "2017-12-04T11:10:29.208024Z"
    },
    "collapsed": true
   },
   "outputs": [],
   "source": [
    "GBM_model2=gbm.fit(X_train, y_train)"
   ]
  },
  {
   "cell_type": "code",
   "execution_count": 51,
   "metadata": {
    "ExecuteTime": {
     "end_time": "2017-12-04T11:16:59.529527Z",
     "start_time": "2017-12-04T11:16:54.489495Z"
    }
   },
   "outputs": [
    {
     "name": "stdout",
     "output_type": "stream",
     "text": [
      "Final Test set AUC socre for XG is  0.854786754456\n"
     ]
    },
    {
     "data": {
      "text/plain": [
       "<matplotlib.legend.Legend at 0x1a129e0dd0>"
      ]
     },
     "execution_count": 51,
     "metadata": {},
     "output_type": "execute_result"
    },
    {
     "data": {
      "image/png": "[encoded data removed]",
      "text/plain": [
       "<matplotlib.figure.Figure at 0x1a10a1d410>"
      ]
     },
     "metadata": {},
     "output_type": "display_data"
    }
   ],
   "source": [
    "score2=GBM_model2.predict_proba(X_test)\n",
    "score_XG2=[]\n",
    "for i in score2:\n",
    "    score_XG2.append(i[1])\n",
    "fpr, tpr, thresholds = roc_curve(y_test, score_XG2)\n",
    "auc = roc_auc_score(y_test, score_XG2)\n",
    "plot_roc_curve(fpr, tpr, 'XG auc =', auc)\n",
    "print 'Final Test set AUC socre for XG is ', str(auc)\n",
    "plt.legend(loc=0)"
   ]
  },
  {
   "cell_type": "code",
   "execution_count": 52,
   "metadata": {
    "ExecuteTime": {
     "end_time": "2017-12-04T11:26:42.489627Z",
     "start_time": "2017-12-04T11:26:41.442829Z"
    }
   },
   "outputs": [
    {
     "data": {
      "text/plain": [
       "[('Fixed', 0.0),\n",
       " (\"Customer's Total Usage for Merchant's Coupons\", 0.015312243),\n",
       " (\"Customer's Total Received by Merchant\", 0.022561353),\n",
       " (\"Customer's Total Usage Fraction for Merchant\", 0.0381735),\n",
       " ('Num_coupon_used', 0.039930079),\n",
       " ('num_type', 0.057992872),\n",
       " (\"Customer's Inbox Share by Merchant\", 0.059929393),\n",
       " ('Coupon_requirement', 0.076843984),\n",
       " (\"Merchant's Total Usage Fraction\", 0.078369208),\n",
       " ('Equivalent_discount', 0.079166092),\n",
       " ('Tot_coupon_sent', 0.07972306),\n",
       " ('Date_received_week', 0.082173705),\n",
       " ('Difference', 0.10886516),\n",
       " ('money', 0.11460619),\n",
       " ('Date_received_month', 0.14635317)]"
      ]
     },
     "execution_count": 52,
     "metadata": {},
     "output_type": "execute_result"
    }
   ],
   "source": [
    "sorted(zip(X_train.columns,GBM_model2.feature_importances_),key=lambda x:x[1])"
   ]
  },
  {
   "cell_type": "code",
   "execution_count": 40,
   "metadata": {
    "ExecuteTime": {
     "end_time": "2017-12-04T09:47:47.993371Z",
     "start_time": "2017-12-04T09:47:47.285658Z"
    }
   },
   "outputs": [
    {
     "data": {
      "text/plain": [
       "[('Fixed', 0.0),\n",
       " (\"Customer's Total Usage for Merchant's Coupons\", 0.011010053),\n",
       " (\"Customer's Total Received by Merchant\", 0.019687988),\n",
       " ('Num_coupon_used', 0.025506008),\n",
       " (\"Customer's Total Usage Fraction for Merchant\", 0.035411373),\n",
       " (\"Customer's Inbox Share by Merchant\", 0.044261146),\n",
       " ('num_type', 0.060868286),\n",
       " (\"Merchant's Total Usage Fraction\", 0.080568545),\n",
       " ('Date_received_week', 0.080814034),\n",
       " ('Coupon_requirement', 0.082863837),\n",
       " ('Tot_coupon_sent', 0.083649397),\n",
       " ('Equivalent_discount', 0.085956968),\n",
       " ('Difference', 0.11624996),\n",
       " ('money', 0.1290275),\n",
       " ('Date_received_month', 0.14412491)]"
      ]
     },
     "execution_count": 40,
     "metadata": {},
     "output_type": "execute_result"
    }
   ],
   "source": [
    "sorted(zip(X_train1.columns,GBM_model.feature_importances_),key=lambda x:x[1])"
   ]
  },
  {
   "cell_type": "code",
   "execution_count": null,
   "metadata": {
    "collapsed": true
   },
   "outputs": [],
   "source": [
    "params = {\n",
    "    'booster': 'gbtree',\n",
    "    'objective': 'rank:pairwise',\n",
    "    'eval_metric': 'auc',\n",
    "    'gamma': 0.1,\n",
    "    'min_child_weight': 1.1,\n",
    "    'max_depth': 5,\n",
    "    'lambda': 10,\n",
    "    'subsample': 0.7,\n",
    "    'colsample_bytree': 0.7,\n",
    "    'colsample_bylevel': 0.7,\n",
    "    'eta': 0.01,\n",
    "    'tree_method': 'exact',\n",
    "    'seed': 0,\n",
    "    'nthread': 12\n",
    "}"
   ]
  },
  {
   "cell_type": "code",
   "execution_count": 14,
   "metadata": {
    "ExecuteTime": {
     "end_time": "2017-12-14T05:25:39.431553Z",
     "start_time": "2017-12-14T05:25:39.423394Z"
    },
    "collapsed": true
   },
   "outputs": [],
   "source": [
    "import pandas as pd\n",
    "import numpy as np\n",
    "from sklearn.model_selection import (train_test_split,KFold)\n",
    "from sklearn.metrics import mean_squared_error\n",
    "from sklearn.neural_network import MLPClassifier\n",
    "from sklearn.preprocessing import StandardScaler\n",
    "import matplotlib.pyplot as plt\n",
    "import glob"
   ]
  },
  {
   "cell_type": "code",
   "execution_count": 22,
   "metadata": {
    "ExecuteTime": {
     "end_time": "2017-12-14T05:26:45.001012Z",
     "start_time": "2017-12-14T05:26:44.446638Z"
    },
    "collapsed": true
   },
   "outputs": [],
   "source": [
    "Scaler = StandardScaler()\n",
    "sX_train = Scaler.fit_transform(X_train)\n",
    "sX_train = DataFrame(sX_train)\n",
    "sX_test = Scaler.transform(X_test)\n",
    "sX_test = DataFrame(sX_test)"
   ]
  },
  {
   "cell_type": "code",
   "execution_count": 23,
   "metadata": {
    "ExecuteTime": {
     "end_time": "2017-12-14T05:26:46.649228Z",
     "start_time": "2017-12-14T05:26:46.118200Z"
    },
    "collapsed": true
   },
   "outputs": [],
   "source": [
    "sX_train = Scaler.fit_transform(X_train)\n",
    "sX_train = DataFrame(sX_train)\n",
    "sX_test = Scaler.transform(X_test)\n",
    "sX_test = DataFrame(sX_test)"
   ]
  },
  {
   "cell_type": "code",
   "execution_count": 55,
   "metadata": {
    "ExecuteTime": {
     "end_time": "2017-12-14T07:29:21.946481Z",
     "start_time": "2017-12-14T07:25:49.197677Z"
    }
   },
   "outputs": [
    {
     "name": "stdout",
     "output_type": "stream",
     "text": [
      "AUC socre for MLP is  0.590493600861\n"
     ]
    },
    {
     "data": {
      "text/plain": [
       "0.34680980504743936"
      ]
     },
     "execution_count": 55,
     "metadata": {},
     "output_type": "execute_result"
    },
    {
     "data": {
      "image/png": "[encoded data removed]",
      "text/plain": [
       "<matplotlib.figure.Figure at 0x1159abdd0>"
      ]
     },
     "metadata": {},
     "output_type": "display_data"
    }
   ],
   "source": [
    "\n",
    "mlp1 = MLPClassifier(hidden_layer_sizes=(25,25,25,25,25,15), random_state=10, activation='tanh', solver='sgd', learning_rate='adaptive',\n",
    "                    batch_size=1000, learning_rate_init=0.05,momentum=0.7, nesterovs_momentum=True)\n",
    "MLP_model1=mlp1.fit(sX_train,y_train)\n",
    "score3=MLP_model1.predict_proba(sX_test)\n",
    "score_NN1=[]\n",
    "for i in score3:\n",
    "    score_NN1.append(i[1])\n",
    "fpr, tpr, thresholds = roc_curve(y_test, score_NN1)\n",
    "auc = roc_auc_score(y_test, score_NN1)\n",
    "plot_roc_curve(fpr, tpr, 'MLP auc =', auc)\n",
    "print 'AUC socre for MLP is ', str(auc)\n",
    "plt.legend(loc=0)\n",
    "y_pred1 = MLP_model1.predict(sX_test)\n",
    "metrics.accuracy_score(y_test,y_pred1)"
   ]
  },
  {
   "cell_type": "code",
   "execution_count": 51,
   "metadata": {
    "ExecuteTime": {
     "end_time": "2017-12-14T07:08:30.853959Z",
     "start_time": "2017-12-14T07:05:04.572535Z"
    }
   },
   "outputs": [
    {
     "name": "stdout",
     "output_type": "stream",
     "text": [
      "AUC socre for MLP is  0.64201288312\n"
     ]
    },
    {
     "data": {
      "text/plain": [
       "0.73739507286796269"
      ]
     },
     "execution_count": 51,
     "metadata": {},
     "output_type": "execute_result"
    },
    {
     "data": {
      "image/png": "[encoded data removed]",
      "text/plain": [
       "<matplotlib.figure.Figure at 0x11207e610>"
      ]
     },
     "metadata": {},
     "output_type": "display_data"
    }
   ],
   "source": [
    "Scaler = StandardScaler()\n",
    "sX_train = Scaler.fit_transform(X_train)\n",
    "sX_train = DataFrame(sX_train)\n",
    "sX_test = Scaler.transform(X_test)\n",
    "sX_test = DataFrame(sX_test)\n",
    "mlp = MLPClassifier(hidden_layer_sizes=(30,30,30,30,30,20), activation='tanh', solver='sgd', learning_rate='adaptive',\n",
    "                    batch_size=1000, learning_rate_init=0.05,momentum=0.7, nesterovs_momentum=True)\n",
    "MLP_model=mlp.fit(sX_train,y_train)\n",
    "score2=MLP_model.predict_proba(sX_test)\n",
    "score_NN=[]\n",
    "for i in score2:\n",
    "    score_NN.append(i[1])\n",
    "fpr, tpr, thresholds = roc_curve(y_test, score_NN)\n",
    "auc = roc_auc_score(y_test, score_NN)\n",
    "plot_roc_curve(fpr, tpr, 'MLP auc =', auc)\n",
    "print 'AUC socre for MLP is ', str(auc)\n",
    "plt.legend(loc=0)\n",
    "y_pred = MLP_model.predict(sX_test)\n",
    "metrics.accuracy_score(y_test,y_pred)"
   ]
  },
  {
   "cell_type": "code",
   "execution_count": 39,
   "metadata": {
    "ExecuteTime": {
     "end_time": "2017-12-14T05:50:31.125044Z",
     "start_time": "2017-12-14T05:47:48.626666Z"
    },
    "collapsed": true
   },
   "outputs": [],
   "source": [
    "MLP_model=mlp.fit(sX_train,y_train)\n"
   ]
  },
  {
   "cell_type": "code",
   "execution_count": 40,
   "metadata": {
    "ExecuteTime": {
     "end_time": "2017-12-14T05:50:34.292855Z",
     "start_time": "2017-12-14T05:50:32.871641Z"
    },
    "collapsed": true
   },
   "outputs": [],
   "source": [
    "score2=MLP_model.predict_proba(sX_test)\n",
    "score_NN=[]\n",
    "for i in score2:\n",
    "    score_NN.append(i[1])"
   ]
  },
  {
   "cell_type": "code",
   "execution_count": 41,
   "metadata": {
    "ExecuteTime": {
     "end_time": "2017-12-14T05:50:36.767520Z",
     "start_time": "2017-12-14T05:50:36.038558Z"
    }
   },
   "outputs": [
    {
     "name": "stdout",
     "output_type": "stream",
     "text": [
      "AUC socre for MLP is  0.747447812895\n"
     ]
    },
    {
     "data": {
      "text/plain": [
       "<matplotlib.legend.Legend at 0x113cb5990>"
      ]
     },
     "execution_count": 41,
     "metadata": {},
     "output_type": "execute_result"
    },
    {
     "data": {
      "image/png": "[encoded data removed]",
      "text/plain": [
       "<matplotlib.figure.Figure at 0x112038c50>"
      ]
     },
     "metadata": {},
     "output_type": "display_data"
    }
   ],
   "source": [
    "fpr, tpr, thresholds = roc_curve(y_test, score_NN)\n",
    "auc = roc_auc_score(y_test, score_NN)\n",
    "plot_roc_curve(fpr, tpr, 'MLP auc =', auc)\n",
    "print 'AUC socre for MLP is ', str(auc)\n",
    "plt.legend(loc=0)"
   ]
  },
  {
   "cell_type": "code",
   "execution_count": 42,
   "metadata": {
    "ExecuteTime": {
     "end_time": "2017-12-14T05:50:39.197526Z",
     "start_time": "2017-12-14T05:50:38.485691Z"
    }
   },
   "outputs": [
    {
     "name": "stdout",
     "output_type": "stream",
     "text": [
      "AUC socre for MLP is  0.747447812895\n"
     ]
    },
    {
     "data": {
      "text/plain": [
       "<matplotlib.legend.Legend at 0x111ef8d90>"
      ]
     },
     "execution_count": 42,
     "metadata": {},
     "output_type": "execute_result"
    },
    {
     "data": {
      "image/png": "[encoded data removed]",
      "text/plain": [
       "<matplotlib.figure.Figure at 0x111ef8750>"
      ]
     },
     "metadata": {},
     "output_type": "display_data"
    }
   ],
   "source": [
    "fpr, tpr, thresholds = roc_curve(y_test, score_NN)\n",
    "auc = roc_auc_score(y_test, score_NN)\n",
    "plot_roc_curve(fpr, tpr, 'MLP auc =', auc)\n",
    "print 'AUC socre for MLP is ', str(auc)\n",
    "plt.legend(loc=0)"
   ]
  },
  {
   "cell_type": "code",
   "execution_count": 113,
   "metadata": {
    "ExecuteTime": {
     "end_time": "2017-12-05T18:40:34.708308Z",
     "start_time": "2017-12-05T18:40:34.255368Z"
    },
    "collapsed": true
   },
   "outputs": [],
   "source": [
    "from sklearn.discriminant_analysis import LinearDiscriminantAnalysis as LDA\n",
    "from sklearn.discriminant_analysis import QuadraticDiscriminantAnalysis as QDA"
   ]
  },
  {
   "cell_type": "code",
   "execution_count": null,
   "metadata": {
    "collapsed": true
   },
   "outputs": [],
   "source": []
  },
  {
   "cell_type": "code",
   "execution_count": 36,
   "metadata": {
    "ExecuteTime": {
     "end_time": "2017-12-04T18:21:52.030452Z",
     "start_time": "2017-12-04T18:21:51.666324Z"
    },
    "collapsed": true
   },
   "outputs": [],
   "source": [
    "\n",
    "from sklearn.ensemble import AdaBoostClassifier\n",
    "from sklearn.tree import DecisionTreeClassifier\n",
    "ABC = AdaBoostClassifier(DecisionTreeClassifier(max_depth=1),\n",
    "                         algorithm=\"SAMME\",\n",
    "                         n_estimators=200)"
   ]
  },
  {
   "cell_type": "code",
   "execution_count": 37,
   "metadata": {
    "ExecuteTime": {
     "end_time": "2017-12-04T18:25:44.699249Z",
     "start_time": "2017-12-04T18:21:58.113174Z"
    }
   },
   "outputs": [
    {
     "data": {
      "text/plain": [
       "AdaBoostClassifier(algorithm='SAMME',\n",
       "          base_estimator=DecisionTreeClassifier(class_weight=None, criterion='gini', max_depth=1,\n",
       "            max_features=None, max_leaf_nodes=None,\n",
       "            min_impurity_decrease=0.0, min_impurity_split=None,\n",
       "            min_samples_leaf=1, min_samples_split=2,\n",
       "            min_weight_fraction_leaf=0.0, presort=False, random_state=None,\n",
       "            splitter='best'),\n",
       "          learning_rate=1.0, n_estimators=200, random_state=None)"
      ]
     },
     "execution_count": 37,
     "metadata": {},
     "output_type": "execute_result"
    }
   ],
   "source": [
    "ABC.fit(X_train, y_train)"
   ]
  },
  {
   "cell_type": "code",
   "execution_count": 40,
   "metadata": {
    "ExecuteTime": {
     "end_time": "2017-12-04T18:37:22.965178Z",
     "start_time": "2017-12-04T18:37:17.384703Z"
    }
   },
   "outputs": [
    {
     "name": "stdout",
     "output_type": "stream",
     "text": [
      "AUC socre for AB is  0.818554511717\n"
     ]
    },
    {
     "data": {
      "text/plain": [
       "<matplotlib.legend.Legend at 0x1a2162a050>"
      ]
     },
     "execution_count": 40,
     "metadata": {},
     "output_type": "execute_result"
    },
    {
     "data": {
      "image/png": "[encoded data removed]",
      "text/plain": [
       "<matplotlib.figure.Figure at 0x1a30c77050>"
      ]
     },
     "metadata": {},
     "output_type": "display_data"
    }
   ],
   "source": [
    "score3=ABC.predict_proba(X_test)\n",
    "score_AB=[]\n",
    "for i in score3:\n",
    "    score_AB.append(i[1])\n",
    "fpr, tpr, thresholds = roc_curve(y_test, score_AB)\n",
    "auc = roc_auc_score(y_test, score_AB)\n",
    "plot_roc_curve(fpr, tpr, 'AB auc =', auc)\n",
    "print 'AUC socre for AB is ', str(auc)\n",
    "plt.legend(loc=0)"
   ]
  },
  {
   "cell_type": "code",
   "execution_count": 8,
   "metadata": {
    "ExecuteTime": {
     "end_time": "2017-12-04T00:47:03.113369Z",
     "start_time": "2017-12-04T00:47:02.952601Z"
    },
    "collapsed": true
   },
   "outputs": [],
   "source": [
    "from sklearn.svm import SVC\n"
   ]
  },
  {
   "cell_type": "code",
   "execution_count": null,
   "metadata": {
    "ExecuteTime": {
     "start_time": "2017-12-04T06:47:37.344Z"
    },
    "collapsed": true
   },
   "outputs": [],
   "source": [
    "GaussianSVC = SVC(kernel='rbf',C=0.5)\n",
    "GaussianSVC.fit(X_train1, y_train1)"
   ]
  },
  {
   "cell_type": "code",
   "execution_count": null,
   "metadata": {
    "collapsed": true
   },
   "outputs": [],
   "source": [
    "score4=GaussianSVC.predict_proba(X_test1)\n",
    "score_SVC=[]\n",
    "for i in score4:\n",
    "    score_SVC.append(i[1])\n",
    "fpr, tpr, thresholds = roc_curve(y_test1, score_SVC)\n",
    "auc = roc_auc_score(y_test1, score_SVC)\n",
    "plot_roc_curve(fpr, tpr, 'SVC auc =', auc)\n",
    "print 'AUC socre for SVC is ', str(auc)\n",
    "plt.legend(loc=0)"
   ]
  },
  {
   "cell_type": "code",
   "execution_count": 8,
   "metadata": {
    "ExecuteTime": {
     "end_time": "2017-12-04T17:06:14.326865Z",
     "start_time": "2017-12-04T17:06:14.317695Z"
    },
    "collapsed": true
   },
   "outputs": [],
   "source": [
    "import numpy as np\n",
    "import pandas as pd\n",
    "from sklearn.preprocessing import MinMaxScaler\n",
    "import xgboost as xgb\n",
    "from random import shuffle\n",
    "from xgboost.sklearn import XGBClassifier\n",
    "from sklearn.cross_validation import cross_val_score\n",
    "import pickle\n",
    "import time\n",
    "from hyperopt import fmin, tpe, hp,space_eval,rand,Trials,partial,STATUS_OK\n",
    "labels = y_train"
   ]
  },
  {
   "cell_type": "code",
   "execution_count": null,
   "metadata": {
    "collapsed": true
   },
   "outputs": [],
   "source": []
  },
  {
   "cell_type": "code",
   "execution_count": null,
   "metadata": {
    "collapsed": true
   },
   "outputs": [],
   "source": [
    "def Mixed_model(argsDict):\n",
    "    max_depth = argsDict[\"max_depth\"]\n",
    "    n_estimators = argsDict['n_estimators'] \n",
    "    learning_rate = argsDict[\"learning_rate\"] \n",
    "    subsample = argsDict[\"subsample\"] \n",
    "    min_child_weight = argsDict[\"min_child_weight\"]\n",
    "    ada_estimators = argsDict['ada_estimators']\n",
    "    ada_depth = argsDict[\"ada_depth\"] \n",
    "    ada_para=argsDict[\"ada_para\"]\n",
    "\n",
    "    ......\n",
    "\n",
    "    metric = (roc_auc_score(y_test1, score1)+roc_auc_score(y_test2, score2))/2\n",
    "    print metric\n",
    "    return -metric"
   ]
  },
  {
   "cell_type": "code",
   "execution_count": null,
   "metadata": {
    "code_folding": [
     33,
     41,
     51,
     61
    ],
    "collapsed": true
   },
   "outputs": [],
   "source": [
    "import numpy as np\n",
    "import pandas as pd\n",
    "from sklearn.preprocessing import MinMaxScaler\n",
    "import xgboost as xgb\n",
    "from random import shuffle\n",
    "from xgboost.sklearn import XGBClassifier\n",
    "from sklearn.cross_validation import cross_val_score\n",
    "import pickle\n",
    "import time\n",
    "from hyperopt import fmin, tpe, hp,space_eval,rand,Trials,partial,STATUS_OK\n",
    "\n",
    "\n",
    "\n",
    "\n",
    "def GBM(argsDict):\n",
    "    max_depth = argsDict[\"max_depth\"] + 5\n",
    "    n_estimators = argsDict['n_estimators'] * 5 + 50\n",
    "    learning_rate = argsDict[\"learning_rate\"] * 0.02 + 0.05\n",
    "    subsample = argsDict[\"subsample\"] * 0.1 + 0.7\n",
    "    min_child_weight = argsDict[\"min_child_weight\"]+1\n",
    "    ada_estimators = argsDict['ada_estimators'] * 10 + 100\n",
    "    ada_depth = argsDict[\"ada_depth\"] \n",
    "    ada_para=argsDict[\"ada_para\"] \n",
    "    \n",
    "    print \"max_depth:\" + str(max_depth)\n",
    "    print \"n_estimator:\" + str(n_estimators)\n",
    "    print \"learning_rate:\" + str(learning_rate)\n",
    "    print \"subsample:\" + str(subsample)\n",
    "    print \"min_child_weight:\" + str(min_child_weight)\n",
    "    print 'ada_estimators'+str(ada_estimators)\n",
    "    print 'ada_depth'+str(ada_depth)\n",
    "    print 'ada_para'+str(ada_para)\n",
    "    \n",
    "    gbm = xgb.XGBClassifier(nthread=4,   \n",
    "                            max_depth=max_depth,  \n",
    "                            n_estimators=n_estimators,  \n",
    "                            learning_rate=learning_rate, \n",
    "                            subsample=subsample,      \n",
    "                            min_child_weight=min_child_weight,   \n",
    "                            max_delta_step = 10,  \n",
    "                            objective=\"binary:logistic\")\n",
    "    ABC = AdaBoostClassifier(DecisionTreeClassifier(max_depth=ada_depth),\n",
    "                         algorithm=\"SAMME\",\n",
    "                         n_estimators=ada_estimators)\n",
    "    ABC_model1=gbm.fit(X_train1, y_train1)\n",
    "    scoreADA1=ABC_model1.predict_proba(X_test1)\n",
    "    \n",
    "    GBM_model1=gbm.fit(X_train1, y_train1)\n",
    "    scoreGBM1=GBM_model1.predict_proba(X_test1)\n",
    "    final_score1=scoreADA1*ada_para+scoreGBM1*(1-ada_para)\n",
    "    score_1=[]\n",
    "    for i in final_score1:\n",
    "        score_1.append(i[1])\n",
    "        \n",
    "    ABC_model2=gbm.fit(X_train2, y_train2)\n",
    "    scoreADA2=ABC_model1.predict_proba(X_test2)\n",
    "    \n",
    "    GBM_model2=gbm.fit(X_train2, y_train2)\n",
    "    scoreGBM2=GBM_model2.predict_proba(X_test2)\n",
    "    final_score2=scoreADA2*ada_para+scoreGBM2*(1-ada_para)\n",
    "    score_2=[]\n",
    "    for i in final_score2:\n",
    "        score_2.append(i[1]) \n",
    "\n",
    "\n",
    "\n",
    "    metric = (roc_auc_score(y_test1, score1)+roc_auc_score(y_test2, score2))/2\n",
    "    print metric\n",
    "    return -metric\n",
    "\n",
    "space = {\"max_depth\":hp.randint(\"max_depth\",15),\n",
    "         \"n_estimators\":hp.randint(\"n_estimators\",10),  #[0,1,2,3,4,5] -> [50,]\n",
    "         \"learning_rate\":hp.randint(\"learning_rate\",6),  #[0,1,2,3,4,5] -> 0.05,0.06\n",
    "         \"subsample\":hp.randint(\"subsample\",4),#[0,1,2,3] -> [0.7,0.8,0.9,1.0]\n",
    "         \"min_child_weight\":hp.randint(\"min_child_weight\",5), #\n",
    "         \"ada_depth\":hp.randint(\"ada_depth\",5),\n",
    "         \"ada_estimators\":hp.randint(\"ada_estimators\",10),\n",
    "         \"ada_para\":hp.uniform(\"ada_para\",0,1)\n",
    "        }\n",
    "algo = partial(tpe.suggest,n_startup_jobs=1)\n",
    "best = fmin(GBM,space,algo=algo,max_evals=1000)\n",
    "\n",
    "print best\n",
    "print GBM(best)"
   ]
  },
  {
   "cell_type": "code",
   "execution_count": null,
   "metadata": {
    "collapsed": true
   },
   "outputs": [],
   "source": [
    "space = {\"max_depth\":hp.randint(\"max_depth\",15)+5, #[5,6,7...]\n",
    "         \"learning_rate\":hp.l(\"learning_rate\",6),  \n",
    "         \"subsample\":hp.randint(\"subsample\",4),\n",
    "         \"min_child_weight\":hp.randint(\"min_child_weight\",5), \n",
    "         \"ada_depth\":hp.randint(\"ada_depth\",5),\n",
    "         \"ada_estimators\":hp.randint(\"ada_estimators\",10),\n",
    "         \"ada_para\":hp.uniform(\"ada_para\",0,1)\n",
    "        }"
   ]
  },
  {
   "cell_type": "code",
   "execution_count": null,
   "metadata": {
    "collapsed": true
   },
   "outputs": [],
   "source": [
    "mix_algo = partial(\n",
    "    mix.suggest, p_suggest=[(0.1, rand.suggest), (0.9, tpe.suggest)])\n",
    "best = fmin(Mixed_model, space, algo=mix_algo, max_evals=1000r, trials=trials)\n",
    "print best\n",
    "print Mixed_model(best)"
   ]
  },
  {
   "cell_type": "code",
   "execution_count": 67,
   "metadata": {
    "ExecuteTime": {
     "end_time": "2017-12-05T00:06:02.994819Z",
     "start_time": "2017-12-04T23:34:29.210834Z"
    }
   },
   "outputs": [
    {
     "name": "stdout",
     "output_type": "stream",
     "text": [
      "max_depth:9\n",
      "n_estimator:80\n",
      "learning_rate:0.15\n",
      "subsample:0.7\n",
      "min_child_weight:1\n",
      "ada_estimators160\n",
      "ada_depth3\n",
      "ada_para0.677271716014\n",
      "0.886121486454\n",
      "max_depth:9\n",
      "n_estimator:80\n",
      "learning_rate:0.15\n",
      "subsample:0.7\n",
      "min_child_weight:1\n",
      "ada_estimators160\n",
      "ada_depth3\n",
      "ada_para0.731993493957\n",
      "0.886121486441\n",
      "max_depth:11\n",
      "n_estimator:85\n",
      "learning_rate:0.13\n",
      "subsample:0.8\n",
      "min_child_weight:1\n",
      "ada_estimators190\n",
      "ada_depth3\n",
      "ada_para0.0596741704251\n",
      "0.888422830827\n",
      "max_depth:11\n",
      "n_estimator:85\n",
      "learning_rate:0.13\n",
      "subsample:0.8\n",
      "min_child_weight:2\n",
      "ada_estimators190\n",
      "ada_depth1\n",
      "ada_para0.0535418840421\n",
      "0.884900518292\n",
      "{'ada_depth': 3, 'ada_estimators': 9, 'learning_rate': 4, 'ada_para': 0.05967417042506784, 'min_child_weight': 0, 'n_estimators': 7, 'subsample': 1, 'max_depth': 6}\n",
      "max_depth:11\n",
      "n_estimator:85\n",
      "learning_rate:0.13\n",
      "subsample:0.8\n",
      "min_child_weight:1\n",
      "ada_estimators190\n",
      "ada_depth3\n",
      "ada_para0.0596741704251\n",
      "0.888422830827\n",
      "-0.888422830827\n"
     ]
    }
   ],
   "source": [
    "\n",
    "import numpy as np\n",
    "import pandas as pd\n",
    "from sklearn.preprocessing import MinMaxScaler\n",
    "import xgboost as xgb\n",
    "from random import shuffle\n",
    "from xgboost.sklearn import XGBClassifier\n",
    "from sklearn.cross_validation import cross_val_score\n",
    "import pickle\n",
    "import time\n",
    "from hyperopt import fmin, tpe, hp,space_eval,rand,Trials,partial,STATUS_OK\n",
    "\n",
    "\n",
    "\n",
    "\n",
    "def GBM(argsDict):\n",
    "    max_depth = argsDict[\"max_depth\"] + 5\n",
    "    n_estimators = argsDict['n_estimators'] * 5 + 50\n",
    "    learning_rate = argsDict[\"learning_rate\"] * 0.02 + 0.05\n",
    "    subsample = argsDict[\"subsample\"] * 0.1 + 0.7\n",
    "    min_child_weight = argsDict[\"min_child_weight\"]+1\n",
    "    ada_estimators = argsDict['ada_estimators'] * 10 + 100\n",
    "    ada_depth = argsDict[\"ada_depth\"] \n",
    "    ada_para=argsDict[\"ada_para\"] \n",
    "    \n",
    "    print \"max_depth:\" + str(max_depth)\n",
    "    print \"n_estimator:\" + str(n_estimators)\n",
    "    print \"learning_rate:\" + str(learning_rate)\n",
    "    print \"subsample:\" + str(subsample)\n",
    "    print \"min_child_weight:\" + str(min_child_weight)\n",
    "    print 'ada_estimators'+str(ada_estimators)\n",
    "    print 'ada_depth'+str(ada_depth)\n",
    "    print 'ada_para'+str(ada_para)\n",
    "    \n",
    "    gbm = xgb.XGBClassifier(nthread=4,   \n",
    "                            max_depth=max_depth,  \n",
    "                            n_estimators=n_estimators,  \n",
    "                            learning_rate=learning_rate, \n",
    "                            subsample=subsample,      \n",
    "                            min_child_weight=min_child_weight,   \n",
    "                            max_delta_step = 10,  \n",
    "                            objective=\"binary:logistic\")\n",
    "    ABC = AdaBoostClassifier(DecisionTreeClassifier(max_depth=ada_depth),\n",
    "                         algorithm=\"SAMME\",\n",
    "                         n_estimators=ada_estimators)\n",
    "    ABC_model1=gbm.fit(X_train1, y_train1)\n",
    "    scoreADA1=ABC_model1.predict_proba(X_test1)\n",
    "    \n",
    "    GBM_model1=gbm.fit(X_train1, y_train1)\n",
    "    scoreGBM1=GBM_model1.predict_proba(X_test1)\n",
    "    final_score1=scoreADA1*ada_para+scoreGBM1*(1-ada_para)\n",
    "    score_1=[]\n",
    "    for i in final_score1:\n",
    "        score_1.append(i[1])\n",
    "        \n",
    "    ABC_model2=gbm.fit(X_train2, y_train2)\n",
    "    scoreADA2=ABC_model1.predict_proba(X_test2)\n",
    "    \n",
    "    GBM_model2=gbm.fit(X_train2, y_train2)\n",
    "    scoreGBM2=GBM_model2.predict_proba(X_test2)\n",
    "    final_score2=scoreADA2*ada_para+scoreGBM2*(1-ada_para)\n",
    "    score_2=[]\n",
    "    for i in final_score2:\n",
    "        score_2.append(i[1]) \n",
    "\n",
    "\n",
    "\n",
    "    metric = (roc_auc_score(y_test1, score_1)+roc_auc_score(y_test2, score_2))/2\n",
    "    print metric\n",
    "    return -metric\n",
    "\n",
    "space = {\"max_depth\":hp.randint(\"max_depth\",15),\n",
    "         \"n_estimators\":hp.randint(\"n_estimators\",10),  \n",
    "         \"learning_rate\":hp.randint(\"learning_rate\",6),  \n",
    "         \"subsample\":hp.randint(\"subsample\",4),\n",
    "         \"min_child_weight\":hp.randint(\"min_child_weight\",5), \n",
    "         \"ada_depth\":hp.randint(\"ada_depth\",5),\n",
    "         \"ada_estimators\":hp.randint(\"ada_estimators\",10),\n",
    "         \"ada_para\":hp.uniform(\"ada_para\",0,1)\n",
    "        }\n",
    "algo = partial(tpe.suggest,n_startup_jobs=1)\n",
    "best = fmin(GBM,space,algo=algo,max_evals=4)\n",
    "\n",
    "print best\n",
    "print GBM(best)"
   ]
  },
  {
   "cell_type": "code",
   "execution_count": 126,
   "metadata": {
    "ExecuteTime": {
     "end_time": "2017-12-05T23:48:15.770323Z",
     "start_time": "2017-12-05T23:48:15.462714Z"
    }
   },
   "outputs": [
    {
     "ename": "NameError",
     "evalue": "name 'SVC' is not defined",
     "output_type": "error",
     "traceback": [
      "\u001b[0;31m---------------------------------------------------------------------------\u001b[0m",
      "\u001b[0;31mNameError\u001b[0m                                 Traceback (most recent call last)",
      "\u001b[0;32m<ipython-input-126-424569bf8781>\u001b[0m in \u001b[0;36m<module>\u001b[0;34m()\u001b[0m\n\u001b[0;32m----> 1\u001b[0;31m \u001b[0mSVC\u001b[0m\u001b[0;34m(\u001b[0m\u001b[0;34m)\u001b[0m\u001b[0;34m\u001b[0m\u001b[0m\n\u001b[0m",
      "\u001b[0;31mNameError\u001b[0m: name 'SVC' is not defined"
     ]
    }
   ],
   "source": [
    "SVC()"
   ]
  },
  {
   "cell_type": "code",
   "execution_count": null,
   "metadata": {
    "collapsed": true
   },
   "outputs": [],
   "source": [
    "max_depth:11\n",
    "n_estimator:85\n",
    "learning_rate:0.13\n",
    "subsample:0.8\n",
    "min_child_weight:1\n",
    "ada_estimators190\n",
    "ada_depth3\n",
    "ada_para0.0596741704251"
   ]
  },
  {
   "cell_type": "code",
   "execution_count": 56,
   "metadata": {
    "ExecuteTime": {
     "end_time": "2017-12-04T22:26:05.542149Z",
     "start_time": "2017-12-04T22:26:05.534556Z"
    }
   },
   "outputs": [
    {
     "data": {
      "text/plain": [
       "(275645, 1)"
      ]
     },
     "execution_count": 56,
     "metadata": {},
     "output_type": "execute_result"
    }
   ],
   "source": [
    "y_test1.shape"
   ]
  },
  {
   "cell_type": "code",
   "execution_count": null,
   "metadata": {
    "collapsed": true
   },
   "outputs": [],
   "source": [
    "print len(testIndex)\n",
    "attr_train = X_train2\n",
    "print attr_train.shape\n",
    "attr_test = X_test2\n",
    "print attr_test.shape\n",
    "label_train = y_train2[0]\n",
    "print len(label_train)\n",
    "label_test = y_test2[0]\n",
    "print len(label_test)\n",
    "\n",
    "\n",
    "\n",
    "    metric = cross_val_score(gbm,attr_train,label_train,cv=1,scoring=\"roc_auc\").mean()\n",
    "    print metric\n",
    "    return -metric\n",
    "\n",
    "space = {\"max_depth\":hp.randint(\"max_depth\",15),\n",
    "         \"n_estimators\":hp.randint(\"n_estimators\",10),  #[0,1,2,3,4,5] -> [50,]\n",
    "         \"learning_rate\":hp.randint(\"learning_rate\",6),  #[0,1,2,3,4,5] -> 0.05,0.06\n",
    "         \"subsample\":hp.randint(\"subsample\",4),#[0,1,2,3] -> [0.7,0.8,0.9,1.0]\n",
    "         \"min_child_weight\":hp.randint(\"min_child_weight\",5), #\n",
    "        }\n",
    "algo = partial(tpe.suggest,n_startup_jobs=1)\n",
    "best = fmin(GBM,space,algo=algo,max_evals=4)\n",
    "\n",
    "print best\n",
    "print GBM(best)"
   ]
  },
  {
   "cell_type": "code",
   "execution_count": null,
   "metadata": {
    "collapsed": true
   },
   "outputs": [],
   "source": [
    "max_depth:13\n",
    "n_estimator:70\n",
    "learning_rate:0.13\n",
    "subsample:0.9\n",
    "min_child_weight:5"
   ]
  },
  {
   "cell_type": "code",
   "execution_count": 60,
   "metadata": {
    "ExecuteTime": {
     "end_time": "2017-12-04T22:59:25.561269Z",
     "start_time": "2017-12-04T22:59:25.537641Z"
    },
    "collapsed": true
   },
   "outputs": [],
   "source": [
    "gbm = xgb.XGBClassifier(max_depth=13,n_estimator=70,learning_rate=0.13,subsample=0.9,min_child_weight=5)"
   ]
  },
  {
   "cell_type": "code",
   "execution_count": 61,
   "metadata": {
    "ExecuteTime": {
     "end_time": "2017-12-04T23:04:50.573745Z",
     "start_time": "2017-12-04T22:59:40.972575Z"
    },
    "collapsed": true
   },
   "outputs": [],
   "source": [
    "GBM_model=gbm.fit(X_train, y_train)\n",
    "score=GBM_model.predict_proba(X_test)\n",
    "score_XG=[]\n",
    "for i in score:\n",
    "    score_XG.append(i[1])\n"
   ]
  },
  {
   "cell_type": "code",
   "execution_count": 31,
   "metadata": {
    "ExecuteTime": {
     "end_time": "2017-12-14T05:42:27.663116Z",
     "start_time": "2017-12-14T05:42:27.649011Z"
    },
    "collapsed": true
   },
   "outputs": [],
   "source": [
    "from sklearn.metrics import roc_curve, roc_auc_score\n",
    "import matplotlib.pyplot as plt\n",
    "%matplotlib inline\n",
    "def plot_roc_curve(fpr, npr, label=None, auc=None):\n",
    "    plt.plot(fpr, tpr, linewidth=2, label=label + str(auc))\n",
    "    plt.plot([0, 1], [0, 1], 'k--')\n",
    "    plt.axis([0, 1, 0, 1])\n",
    "    plt.xlabel('False Positive Rate')\n",
    "    plt.ylabel('True Positive Rate')"
   ]
  },
  {
   "cell_type": "code",
   "execution_count": 30,
   "metadata": {
    "ExecuteTime": {
     "end_time": "2017-12-14T05:42:23.398090Z",
     "start_time": "2017-12-14T05:42:23.348900Z"
    }
   },
   "outputs": [
    {
     "ename": "NameError",
     "evalue": "name 'score_XG' is not defined",
     "output_type": "error",
     "traceback": [
      "\u001b[0;31m---------------------------------------------------------------------------\u001b[0m",
      "\u001b[0;31mNameError\u001b[0m                                 Traceback (most recent call last)",
      "\u001b[0;32m<ipython-input-30-ccd296b8b0ea>\u001b[0m in \u001b[0;36m<module>\u001b[0;34m()\u001b[0m\n\u001b[1;32m      8\u001b[0m     \u001b[0mplt\u001b[0m\u001b[0;34m.\u001b[0m\u001b[0mxlabel\u001b[0m\u001b[0;34m(\u001b[0m\u001b[0;34m'False Positive Rate'\u001b[0m\u001b[0;34m)\u001b[0m\u001b[0;34m\u001b[0m\u001b[0m\n\u001b[1;32m      9\u001b[0m     \u001b[0mplt\u001b[0m\u001b[0;34m.\u001b[0m\u001b[0mylabel\u001b[0m\u001b[0;34m(\u001b[0m\u001b[0;34m'True Positive Rate'\u001b[0m\u001b[0;34m)\u001b[0m\u001b[0;34m\u001b[0m\u001b[0m\n\u001b[0;32m---> 10\u001b[0;31m \u001b[0mfpr\u001b[0m\u001b[0;34m,\u001b[0m \u001b[0mtpr\u001b[0m\u001b[0;34m,\u001b[0m \u001b[0mthresholds\u001b[0m \u001b[0;34m=\u001b[0m \u001b[0mroc_curve\u001b[0m\u001b[0;34m(\u001b[0m\u001b[0my_test\u001b[0m\u001b[0;34m,\u001b[0m \u001b[0mscore_XG\u001b[0m\u001b[0;34m)\u001b[0m\u001b[0;34m\u001b[0m\u001b[0m\n\u001b[0m\u001b[1;32m     11\u001b[0m \u001b[0mauc\u001b[0m \u001b[0;34m=\u001b[0m \u001b[0mroc_auc_score\u001b[0m\u001b[0;34m(\u001b[0m\u001b[0my_test\u001b[0m\u001b[0;34m,\u001b[0m \u001b[0mscore_XG\u001b[0m\u001b[0;34m)\u001b[0m\u001b[0;34m\u001b[0m\u001b[0m\n\u001b[1;32m     12\u001b[0m \u001b[0mplot_roc_curve\u001b[0m\u001b[0;34m(\u001b[0m\u001b[0mfpr\u001b[0m\u001b[0;34m,\u001b[0m \u001b[0mtpr\u001b[0m\u001b[0;34m,\u001b[0m \u001b[0;34m'XGBoost auc ='\u001b[0m\u001b[0;34m,\u001b[0m \u001b[0mauc\u001b[0m\u001b[0;34m)\u001b[0m\u001b[0;34m\u001b[0m\u001b[0m\n",
      "\u001b[0;31mNameError\u001b[0m: name 'score_XG' is not defined"
     ]
    }
   ],
   "source": [
    "from sklearn.metrics import roc_curve, roc_auc_score\n",
    "import matplotlib.pyplot as plt\n",
    "%matplotlib inline\n",
    "def plot_roc_curve(fpr, npr, label=None, auc=None):\n",
    "    plt.plot(fpr, tpr, linewidth=2, label=label + str(auc))\n",
    "    plt.plot([0, 1], [0, 1], 'k--')\n",
    "    plt.axis([0, 1, 0, 1])\n",
    "    plt.xlabel('False Positive Rate')\n",
    "    plt.ylabel('True Positive Rate')\n",
    "fpr, tpr, thresholds = roc_curve(y_test, score_XG)\n",
    "auc = roc_auc_score(y_test, score_XG)\n",
    "plot_roc_curve(fpr, tpr, 'XGBoost auc =', auc)\n",
    "print 'Final Test set AUC socre for XG is ', str(auc)\n",
    "plt.legend(loc=0)"
   ]
  },
  {
   "cell_type": "code",
   "execution_count": null,
   "metadata": {
    "collapsed": true
   },
   "outputs": [],
   "source": [
    "params = {\n",
    "    'booster': 'gbtree',\n",
    "    'objective': 'rank:pairwise',\n",
    "    'eval_metric': 'auc',\n",
    "    'gamma': 0.1,\n",
    "    'min_child_weight': 1.1,\n",
    "    'max_depth': 5,\n",
    "    'lambda': 10,\n",
    "    'subsample': 0.7,\n",
    "    'colsample_bytree': 0.7,\n",
    "    'colsample_bylevel': 0.7,\n",
    "    'eta': 0.01,\n",
    "    'tree_method': 'exact',\n",
    "    'seed': 0,\n",
    "    'nthread': 12\n",
    "}"
   ]
  },
  {
   "cell_type": "code",
   "execution_count": null,
   "metadata": {
    "collapsed": true
   },
   "outputs": [],
   "source": [
    "ada_estimators190\n",
    "ada_depth3\n",
    "ada_para0.0596741704251   "
   ]
  },
  {
   "cell_type": "code",
   "execution_count": 73,
   "metadata": {
    "ExecuteTime": {
     "end_time": "2017-12-05T13:04:37.628991Z",
     "start_time": "2017-12-05T12:57:24.357394Z"
    },
    "collapsed": true
   },
   "outputs": [],
   "source": [
    "gbm = xgb.XGBClassifier(nthread=4,max_depth=11,n_estimator=85,learning_rate=0.13,objective=\"binary:logistic\")\n",
    "ABC = AdaBoostClassifier(DecisionTreeClassifier(max_depth=3),\n",
    "                     algorithm=\"SAMME\",\n",
    "                     n_estimators=190)\n",
    "ABC_model1=gbm.fit(X_train, y_train)\n",
    "scoreADA1=ABC_model1.predict_proba(X_test)\n",
    "\n",
    "GBM_model1=gbm.fit(X_train, y_train)\n",
    "scoreGBM1=GBM_model1.predict_proba(X_test)\n",
    "ada_para=0.0596741704251\n",
    "final_score1=scoreADA1*ada_para+scoreGBM1*(1-ada_para)\n",
    "score_1=[]\n",
    "for i in final_score1:\n",
    "    score_1.append(i[1])\n",
    "\n",
    "\n"
   ]
  },
  {
   "cell_type": "code",
   "execution_count": 75,
   "metadata": {
    "ExecuteTime": {
     "end_time": "2017-12-05T13:06:10.675970Z",
     "start_time": "2017-12-05T13:06:09.895891Z"
    }
   },
   "outputs": [
    {
     "name": "stdout",
     "output_type": "stream",
     "text": [
      "Final Test set AUC socre for XG is  0.850808243823\n"
     ]
    },
    {
     "data": {
      "text/plain": [
       "<matplotlib.legend.Legend at 0x1a247fd510>"
      ]
     },
     "execution_count": 75,
     "metadata": {},
     "output_type": "execute_result"
    },
    {
     "data": {
      "image/png": "[encoded data removed]",
      "text/plain": [
       "<matplotlib.figure.Figure at 0x1a271d4ed0>"
      ]
     },
     "metadata": {},
     "output_type": "display_data"
    }
   ],
   "source": [
    "fpr, tpr, thresholds = roc_curve(y_test, score_1)\n",
    "auc = roc_auc_score(y_test, score_1)\n",
    "plot_roc_curve(fpr, tpr, 'XGBoost auc =', auc)\n",
    "print 'Final Test set AUC socre for XG is ', str(auc)\n",
    "plt.legend(loc=0)\n"
   ]
  },
  {
   "cell_type": "code",
   "execution_count": 48,
   "metadata": {
    "ExecuteTime": {
     "end_time": "2017-12-14T06:27:51.167084Z",
     "start_time": "2017-12-14T06:27:49.795304Z"
    }
   },
   "outputs": [
    {
     "data": {
      "text/plain": [
       "0.73859814617340658"
      ]
     },
     "execution_count": 48,
     "metadata": {},
     "output_type": "execute_result"
    }
   ],
   "source": [
    "y_pred = MLP_model.predict(sX_test)\n",
    "metrics.accuracy_score(y_test,y_pred)"
   ]
  },
  {
   "cell_type": "code",
   "execution_count": 1,
   "metadata": {
    "ExecuteTime": {
     "end_time": "2017-12-13T01:02:58.559556Z",
     "start_time": "2017-12-13T01:02:57.682883Z"
    },
    "collapsed": true
   },
   "outputs": [],
   "source": [
    "from surprise import SVD\n",
    "import surprise\n",
    "from surprise import evaluate, print_perf"
   ]
  },
  {
   "cell_type": "code",
   "execution_count": 20,
   "metadata": {
    "ExecuteTime": {
     "end_time": "2017-12-14T05:26:31.288422Z",
     "start_time": "2017-12-14T05:26:25.639417Z"
    }
   },
   "outputs": [
    {
     "name": "stdout",
     "output_type": "stream",
     "text": [
      "fill completed\n",
      "fill completed\n"
     ]
    }
   ],
   "source": [
    "X_train=fillna_pipeline(pd.read_csv('X_full_train.csv'))\n",
    "X_test=fillna_pipeline(pd.read_csv('X_full_test.csv'))"
   ]
  },
  {
   "cell_type": "code",
   "execution_count": 7,
   "metadata": {
    "ExecuteTime": {
     "end_time": "2017-12-13T01:06:06.789385Z",
     "start_time": "2017-12-13T01:06:01.864817Z"
    },
    "collapsed": true
   },
   "outputs": [],
   "source": [
    "y_train=pd.read_csv('y_full_train.csv',header=None)\n",
    "y_test=pd.read_csv('y_full_test.csv',header=None)\n",
    "X_train=transform(pd.read_csv('X_full_train.csv'))\n",
    "X_test=transform(pd.read_csv('X_full_test.csv'))"
   ]
  },
  {
   "cell_type": "code",
   "execution_count": 9,
   "metadata": {
    "ExecuteTime": {
     "end_time": "2017-12-13T01:07:18.177728Z",
     "start_time": "2017-12-13T01:07:18.127408Z"
    }
   },
   "outputs": [
    {
     "ename": "AttributeError",
     "evalue": "'DataFrame' object has no attribute 'split'",
     "output_type": "error",
     "traceback": [
      "\u001b[0;31m---------------------------------------------------------------------------\u001b[0m",
      "\u001b[0;31mAttributeError\u001b[0m                            Traceback (most recent call last)",
      "\u001b[0;32m<ipython-input-9-01d0ace0b38e>\u001b[0m in \u001b[0;36m<module>\u001b[0;34m()\u001b[0m\n\u001b[0;32m----> 1\u001b[0;31m \u001b[0mdata\u001b[0m\u001b[0;34m=\u001b[0m\u001b[0mX_test\u001b[0m\u001b[0;34m.\u001b[0m\u001b[0msplit\u001b[0m\u001b[0;34m(\u001b[0m\u001b[0mn_folds\u001b[0m\u001b[0;34m=\u001b[0m\u001b[0;36m3\u001b[0m\u001b[0;34m)\u001b[0m\u001b[0;34m\u001b[0m\u001b[0m\n\u001b[0m\u001b[1;32m      2\u001b[0m \u001b[0malgo\u001b[0m \u001b[0;34m=\u001b[0m \u001b[0mSVD\u001b[0m\u001b[0;34m(\u001b[0m\u001b[0;34m)\u001b[0m\u001b[0;34m\u001b[0m\u001b[0m\n\u001b[1;32m      3\u001b[0m \u001b[0;34m\u001b[0m\u001b[0m\n\u001b[1;32m      4\u001b[0m \u001b[0;31m# Evaluate performances of our algorithm on the dataset.\u001b[0m\u001b[0;34m\u001b[0m\u001b[0;34m\u001b[0m\u001b[0m\n\u001b[1;32m      5\u001b[0m \u001b[0mperf\u001b[0m \u001b[0;34m=\u001b[0m \u001b[0mevaluate\u001b[0m\u001b[0;34m(\u001b[0m\u001b[0malgo\u001b[0m\u001b[0;34m,\u001b[0m \u001b[0mdata\u001b[0m\u001b[0;34m,\u001b[0m \u001b[0mmeasures\u001b[0m\u001b[0;34m=\u001b[0m\u001b[0;34m[\u001b[0m\u001b[0;34m'RMSE'\u001b[0m\u001b[0;34m,\u001b[0m \u001b[0;34m'MAE'\u001b[0m\u001b[0;34m]\u001b[0m\u001b[0;34m)\u001b[0m\u001b[0;34m\u001b[0m\u001b[0m\n",
      "\u001b[0;32m/Users/Jack/anaconda/lib/python2.7/site-packages/pandas/core/generic.pyc\u001b[0m in \u001b[0;36m__getattr__\u001b[0;34m(self, name)\u001b[0m\n\u001b[1;32m   3079\u001b[0m             \u001b[0;32mif\u001b[0m \u001b[0mname\u001b[0m \u001b[0;32min\u001b[0m \u001b[0mself\u001b[0m\u001b[0;34m.\u001b[0m\u001b[0m_info_axis\u001b[0m\u001b[0;34m:\u001b[0m\u001b[0;34m\u001b[0m\u001b[0m\n\u001b[1;32m   3080\u001b[0m                 \u001b[0;32mreturn\u001b[0m \u001b[0mself\u001b[0m\u001b[0;34m[\u001b[0m\u001b[0mname\u001b[0m\u001b[0;34m]\u001b[0m\u001b[0;34m\u001b[0m\u001b[0m\n\u001b[0;32m-> 3081\u001b[0;31m             \u001b[0;32mreturn\u001b[0m \u001b[0mobject\u001b[0m\u001b[0;34m.\u001b[0m\u001b[0m__getattribute__\u001b[0m\u001b[0;34m(\u001b[0m\u001b[0mself\u001b[0m\u001b[0;34m,\u001b[0m \u001b[0mname\u001b[0m\u001b[0;34m)\u001b[0m\u001b[0;34m\u001b[0m\u001b[0m\n\u001b[0m\u001b[1;32m   3082\u001b[0m \u001b[0;34m\u001b[0m\u001b[0m\n\u001b[1;32m   3083\u001b[0m     \u001b[0;32mdef\u001b[0m \u001b[0m__setattr__\u001b[0m\u001b[0;34m(\u001b[0m\u001b[0mself\u001b[0m\u001b[0;34m,\u001b[0m \u001b[0mname\u001b[0m\u001b[0;34m,\u001b[0m \u001b[0mvalue\u001b[0m\u001b[0;34m)\u001b[0m\u001b[0;34m:\u001b[0m\u001b[0;34m\u001b[0m\u001b[0m\n",
      "\u001b[0;31mAttributeError\u001b[0m: 'DataFrame' object has no attribute 'split'"
     ]
    }
   ],
   "source": [
    "data=X_test.split(n_folds=3)\n",
    "algo = SVD()\n",
    "\n",
    "# Evaluate performances of our algorithm on the dataset.\n",
    "perf = evaluate(algo, data, measures=['RMSE', 'MAE'])\n",
    "\n",
    "print_perf(perf)"
   ]
  },
  {
   "cell_type": "code",
   "execution_count": 43,
   "metadata": {
    "ExecuteTime": {
     "end_time": "2017-12-14T06:08:08.106349Z",
     "start_time": "2017-12-14T06:08:07.862164Z"
    }
   },
   "outputs": [
    {
     "data": {
      "text/html": [
       "<div>\n",
       "<style>\n",
       "    .dataframe thead tr:only-child th {\n",
       "        text-align: right;\n",
       "    }\n",
       "\n",
       "    .dataframe thead th {\n",
       "        text-align: left;\n",
       "    }\n",
       "\n",
       "    .dataframe tbody tr th {\n",
       "        vertical-align: top;\n",
       "    }\n",
       "</style>\n",
       "<table border=\"1\" class=\"dataframe\">\n",
       "  <thead>\n",
       "    <tr style=\"text-align: right;\">\n",
       "      <th></th>\n",
       "      <th>Date_received_week</th>\n",
       "      <th>Date_received_month</th>\n",
       "      <th>Tot_coupon_sent</th>\n",
       "      <th>Num_coupon_used</th>\n",
       "      <th>num_type</th>\n",
       "      <th>Customer's Total Usage Fraction for Merchant</th>\n",
       "      <th>Customer's Total Usage for Merchant's Coupons</th>\n",
       "      <th>Customer's Total Received by Merchant</th>\n",
       "      <th>Merchant's Total Usage Fraction</th>\n",
       "      <th>Customer's Inbox Share by Merchant</th>\n",
       "      <th>Difference</th>\n",
       "      <th>money</th>\n",
       "      <th>Coupon_requirement</th>\n",
       "      <th>Equivalent_discount</th>\n",
       "      <th>Fixed</th>\n",
       "    </tr>\n",
       "  </thead>\n",
       "  <tbody>\n",
       "    <tr>\n",
       "      <th>0</th>\n",
       "      <td>4</td>\n",
       "      <td>13</td>\n",
       "      <td>35140.0</td>\n",
       "      <td>0.0</td>\n",
       "      <td>123.0</td>\n",
       "      <td>0.000000</td>\n",
       "      <td>0</td>\n",
       "      <td>6</td>\n",
       "      <td>0.210273</td>\n",
       "      <td>1.000000</td>\n",
       "      <td>3.000000</td>\n",
       "      <td>520.000000</td>\n",
       "      <td>500.0</td>\n",
       "      <td>0.900000</td>\n",
       "      <td>0</td>\n",
       "    </tr>\n",
       "    <tr>\n",
       "      <th>1</th>\n",
       "      <td>3</td>\n",
       "      <td>17</td>\n",
       "      <td>1607.0</td>\n",
       "      <td>0.0</td>\n",
       "      <td>11.0</td>\n",
       "      <td>0.000000</td>\n",
       "      <td>0</td>\n",
       "      <td>1</td>\n",
       "      <td>0.168015</td>\n",
       "      <td>0.250000</td>\n",
       "      <td>18.000000</td>\n",
       "      <td>170.000000</td>\n",
       "      <td>50.0</td>\n",
       "      <td>0.900000</td>\n",
       "      <td>0</td>\n",
       "    </tr>\n",
       "    <tr>\n",
       "      <th>2</th>\n",
       "      <td>1</td>\n",
       "      <td>5</td>\n",
       "      <td>248.0</td>\n",
       "      <td>0.0</td>\n",
       "      <td>4.0</td>\n",
       "      <td>0.000000</td>\n",
       "      <td>0</td>\n",
       "      <td>1</td>\n",
       "      <td>0.088710</td>\n",
       "      <td>0.250000</td>\n",
       "      <td>18.000000</td>\n",
       "      <td>170.000000</td>\n",
       "      <td>30.0</td>\n",
       "      <td>0.966667</td>\n",
       "      <td>0</td>\n",
       "    </tr>\n",
       "    <tr>\n",
       "      <th>3</th>\n",
       "      <td>2</td>\n",
       "      <td>6</td>\n",
       "      <td>35140.0</td>\n",
       "      <td>0.0</td>\n",
       "      <td>123.0</td>\n",
       "      <td>0.000000</td>\n",
       "      <td>0</td>\n",
       "      <td>2</td>\n",
       "      <td>0.210273</td>\n",
       "      <td>0.500000</td>\n",
       "      <td>18.000000</td>\n",
       "      <td>170.000000</td>\n",
       "      <td>300.0</td>\n",
       "      <td>0.833333</td>\n",
       "      <td>0</td>\n",
       "    </tr>\n",
       "    <tr>\n",
       "      <th>4</th>\n",
       "      <td>3</td>\n",
       "      <td>17</td>\n",
       "      <td>35140.0</td>\n",
       "      <td>0.0</td>\n",
       "      <td>123.0</td>\n",
       "      <td>0.000000</td>\n",
       "      <td>0</td>\n",
       "      <td>2</td>\n",
       "      <td>0.210273</td>\n",
       "      <td>0.500000</td>\n",
       "      <td>18.000000</td>\n",
       "      <td>170.000000</td>\n",
       "      <td>300.0</td>\n",
       "      <td>0.900000</td>\n",
       "      <td>0</td>\n",
       "    </tr>\n",
       "    <tr>\n",
       "      <th>5</th>\n",
       "      <td>3</td>\n",
       "      <td>21</td>\n",
       "      <td>1824.0</td>\n",
       "      <td>0.0</td>\n",
       "      <td>25.0</td>\n",
       "      <td>0.000000</td>\n",
       "      <td>0</td>\n",
       "      <td>3</td>\n",
       "      <td>0.372807</td>\n",
       "      <td>0.166667</td>\n",
       "      <td>17.000000</td>\n",
       "      <td>150.000000</td>\n",
       "      <td>300.0</td>\n",
       "      <td>0.833333</td>\n",
       "      <td>0</td>\n",
       "    </tr>\n",
       "    <tr>\n",
       "      <th>6</th>\n",
       "      <td>5</td>\n",
       "      <td>14</td>\n",
       "      <td>217.0</td>\n",
       "      <td>0.0</td>\n",
       "      <td>27.0</td>\n",
       "      <td>0.000000</td>\n",
       "      <td>0</td>\n",
       "      <td>2</td>\n",
       "      <td>0.331797</td>\n",
       "      <td>0.111111</td>\n",
       "      <td>17.000000</td>\n",
       "      <td>150.000000</td>\n",
       "      <td>10.0</td>\n",
       "      <td>0.500000</td>\n",
       "      <td>0</td>\n",
       "    </tr>\n",
       "    <tr>\n",
       "      <th>7</th>\n",
       "      <td>6</td>\n",
       "      <td>13</td>\n",
       "      <td>59.0</td>\n",
       "      <td>0.0</td>\n",
       "      <td>5.0</td>\n",
       "      <td>0.000000</td>\n",
       "      <td>0</td>\n",
       "      <td>2</td>\n",
       "      <td>0.220339</td>\n",
       "      <td>0.111111</td>\n",
       "      <td>17.000000</td>\n",
       "      <td>150.000000</td>\n",
       "      <td>10.0</td>\n",
       "      <td>0.500000</td>\n",
       "      <td>0</td>\n",
       "    </tr>\n",
       "    <tr>\n",
       "      <th>8</th>\n",
       "      <td>3</td>\n",
       "      <td>10</td>\n",
       "      <td>1825.0</td>\n",
       "      <td>0.0</td>\n",
       "      <td>13.0</td>\n",
       "      <td>0.000000</td>\n",
       "      <td>0</td>\n",
       "      <td>5</td>\n",
       "      <td>0.477260</td>\n",
       "      <td>0.277778</td>\n",
       "      <td>17.000000</td>\n",
       "      <td>150.000000</td>\n",
       "      <td>500.0</td>\n",
       "      <td>0.900000</td>\n",
       "      <td>0</td>\n",
       "    </tr>\n",
       "    <tr>\n",
       "      <th>9</th>\n",
       "      <td>3</td>\n",
       "      <td>21</td>\n",
       "      <td>1824.0</td>\n",
       "      <td>0.0</td>\n",
       "      <td>25.0</td>\n",
       "      <td>0.000000</td>\n",
       "      <td>0</td>\n",
       "      <td>3</td>\n",
       "      <td>0.372807</td>\n",
       "      <td>0.166667</td>\n",
       "      <td>17.000000</td>\n",
       "      <td>150.000000</td>\n",
       "      <td>200.0</td>\n",
       "      <td>0.850000</td>\n",
       "      <td>0</td>\n",
       "    </tr>\n",
       "    <tr>\n",
       "      <th>10</th>\n",
       "      <td>4</td>\n",
       "      <td>5</td>\n",
       "      <td>2303.0</td>\n",
       "      <td>0.0</td>\n",
       "      <td>76.0</td>\n",
       "      <td>0.000000</td>\n",
       "      <td>0</td>\n",
       "      <td>4</td>\n",
       "      <td>0.119409</td>\n",
       "      <td>0.222222</td>\n",
       "      <td>17.000000</td>\n",
       "      <td>150.000000</td>\n",
       "      <td>20.0</td>\n",
       "      <td>0.500000</td>\n",
       "      <td>0</td>\n",
       "    </tr>\n",
       "    <tr>\n",
       "      <th>11</th>\n",
       "      <td>3</td>\n",
       "      <td>10</td>\n",
       "      <td>1825.0</td>\n",
       "      <td>0.0</td>\n",
       "      <td>13.0</td>\n",
       "      <td>0.000000</td>\n",
       "      <td>0</td>\n",
       "      <td>5</td>\n",
       "      <td>0.477260</td>\n",
       "      <td>0.277778</td>\n",
       "      <td>17.000000</td>\n",
       "      <td>150.000000</td>\n",
       "      <td>200.0</td>\n",
       "      <td>0.900000</td>\n",
       "      <td>0</td>\n",
       "    </tr>\n",
       "    <tr>\n",
       "      <th>12</th>\n",
       "      <td>4</td>\n",
       "      <td>13</td>\n",
       "      <td>760.0</td>\n",
       "      <td>0.0</td>\n",
       "      <td>20.0</td>\n",
       "      <td>0.000000</td>\n",
       "      <td>0</td>\n",
       "      <td>1</td>\n",
       "      <td>0.344737</td>\n",
       "      <td>0.055556</td>\n",
       "      <td>17.000000</td>\n",
       "      <td>150.000000</td>\n",
       "      <td>150.0</td>\n",
       "      <td>0.933333</td>\n",
       "      <td>0</td>\n",
       "    </tr>\n",
       "    <tr>\n",
       "      <th>13</th>\n",
       "      <td>6</td>\n",
       "      <td>13</td>\n",
       "      <td>59.0</td>\n",
       "      <td>0.0</td>\n",
       "      <td>5.0</td>\n",
       "      <td>0.000000</td>\n",
       "      <td>0</td>\n",
       "      <td>2</td>\n",
       "      <td>0.220339</td>\n",
       "      <td>0.111111</td>\n",
       "      <td>17.000000</td>\n",
       "      <td>150.000000</td>\n",
       "      <td>300.0</td>\n",
       "      <td>0.966667</td>\n",
       "      <td>0</td>\n",
       "    </tr>\n",
       "    <tr>\n",
       "      <th>14</th>\n",
       "      <td>3</td>\n",
       "      <td>28</td>\n",
       "      <td>2303.0</td>\n",
       "      <td>0.0</td>\n",
       "      <td>76.0</td>\n",
       "      <td>0.000000</td>\n",
       "      <td>0</td>\n",
       "      <td>4</td>\n",
       "      <td>0.119409</td>\n",
       "      <td>0.222222</td>\n",
       "      <td>17.000000</td>\n",
       "      <td>150.000000</td>\n",
       "      <td>150.0</td>\n",
       "      <td>0.933333</td>\n",
       "      <td>0</td>\n",
       "    </tr>\n",
       "    <tr>\n",
       "      <th>15</th>\n",
       "      <td>3</td>\n",
       "      <td>28</td>\n",
       "      <td>2303.0</td>\n",
       "      <td>0.0</td>\n",
       "      <td>76.0</td>\n",
       "      <td>0.000000</td>\n",
       "      <td>0</td>\n",
       "      <td>4</td>\n",
       "      <td>0.119409</td>\n",
       "      <td>0.222222</td>\n",
       "      <td>17.000000</td>\n",
       "      <td>150.000000</td>\n",
       "      <td>10.0</td>\n",
       "      <td>0.500000</td>\n",
       "      <td>0</td>\n",
       "    </tr>\n",
       "    <tr>\n",
       "      <th>16</th>\n",
       "      <td>5</td>\n",
       "      <td>30</td>\n",
       "      <td>101.0</td>\n",
       "      <td>0.0</td>\n",
       "      <td>4.0</td>\n",
       "      <td>0.000000</td>\n",
       "      <td>0</td>\n",
       "      <td>1</td>\n",
       "      <td>0.079208</td>\n",
       "      <td>0.055556</td>\n",
       "      <td>17.000000</td>\n",
       "      <td>150.000000</td>\n",
       "      <td>150.0</td>\n",
       "      <td>0.993333</td>\n",
       "      <td>0</td>\n",
       "    </tr>\n",
       "    <tr>\n",
       "      <th>17</th>\n",
       "      <td>1</td>\n",
       "      <td>19</td>\n",
       "      <td>2303.0</td>\n",
       "      <td>0.0</td>\n",
       "      <td>76.0</td>\n",
       "      <td>0.000000</td>\n",
       "      <td>0</td>\n",
       "      <td>4</td>\n",
       "      <td>0.119409</td>\n",
       "      <td>0.222222</td>\n",
       "      <td>17.000000</td>\n",
       "      <td>150.000000</td>\n",
       "      <td>10.0</td>\n",
       "      <td>0.500000</td>\n",
       "      <td>0</td>\n",
       "    </tr>\n",
       "    <tr>\n",
       "      <th>18</th>\n",
       "      <td>5</td>\n",
       "      <td>14</td>\n",
       "      <td>217.0</td>\n",
       "      <td>0.0</td>\n",
       "      <td>27.0</td>\n",
       "      <td>0.000000</td>\n",
       "      <td>0</td>\n",
       "      <td>2</td>\n",
       "      <td>0.331797</td>\n",
       "      <td>0.111111</td>\n",
       "      <td>17.000000</td>\n",
       "      <td>150.000000</td>\n",
       "      <td>200.0</td>\n",
       "      <td>0.950000</td>\n",
       "      <td>0</td>\n",
       "    </tr>\n",
       "    <tr>\n",
       "      <th>19</th>\n",
       "      <td>3</td>\n",
       "      <td>21</td>\n",
       "      <td>1824.0</td>\n",
       "      <td>0.0</td>\n",
       "      <td>25.0</td>\n",
       "      <td>0.000000</td>\n",
       "      <td>0</td>\n",
       "      <td>3</td>\n",
       "      <td>0.372807</td>\n",
       "      <td>0.166667</td>\n",
       "      <td>17.000000</td>\n",
       "      <td>150.000000</td>\n",
       "      <td>200.0</td>\n",
       "      <td>0.850000</td>\n",
       "      <td>0</td>\n",
       "    </tr>\n",
       "    <tr>\n",
       "      <th>20</th>\n",
       "      <td>4</td>\n",
       "      <td>11</td>\n",
       "      <td>1825.0</td>\n",
       "      <td>0.0</td>\n",
       "      <td>13.0</td>\n",
       "      <td>0.000000</td>\n",
       "      <td>0</td>\n",
       "      <td>5</td>\n",
       "      <td>0.477260</td>\n",
       "      <td>0.277778</td>\n",
       "      <td>17.000000</td>\n",
       "      <td>150.000000</td>\n",
       "      <td>150.0</td>\n",
       "      <td>0.933333</td>\n",
       "      <td>0</td>\n",
       "    </tr>\n",
       "    <tr>\n",
       "      <th>21</th>\n",
       "      <td>5</td>\n",
       "      <td>12</td>\n",
       "      <td>1825.0</td>\n",
       "      <td>0.0</td>\n",
       "      <td>13.0</td>\n",
       "      <td>0.000000</td>\n",
       "      <td>0</td>\n",
       "      <td>5</td>\n",
       "      <td>0.477260</td>\n",
       "      <td>0.277778</td>\n",
       "      <td>17.000000</td>\n",
       "      <td>150.000000</td>\n",
       "      <td>150.0</td>\n",
       "      <td>0.933333</td>\n",
       "      <td>0</td>\n",
       "    </tr>\n",
       "    <tr>\n",
       "      <th>22</th>\n",
       "      <td>3</td>\n",
       "      <td>10</td>\n",
       "      <td>1825.0</td>\n",
       "      <td>0.0</td>\n",
       "      <td>13.0</td>\n",
       "      <td>0.000000</td>\n",
       "      <td>0</td>\n",
       "      <td>5</td>\n",
       "      <td>0.477260</td>\n",
       "      <td>0.277778</td>\n",
       "      <td>17.000000</td>\n",
       "      <td>150.000000</td>\n",
       "      <td>150.0</td>\n",
       "      <td>0.933333</td>\n",
       "      <td>0</td>\n",
       "    </tr>\n",
       "    <tr>\n",
       "      <th>23</th>\n",
       "      <td>6</td>\n",
       "      <td>17</td>\n",
       "      <td>4505.0</td>\n",
       "      <td>0.0</td>\n",
       "      <td>36.0</td>\n",
       "      <td>0.500000</td>\n",
       "      <td>2</td>\n",
       "      <td>4</td>\n",
       "      <td>0.463929</td>\n",
       "      <td>1.000000</td>\n",
       "      <td>41.000000</td>\n",
       "      <td>138.240651</td>\n",
       "      <td>20.0</td>\n",
       "      <td>0.500000</td>\n",
       "      <td>0</td>\n",
       "    </tr>\n",
       "    <tr>\n",
       "      <th>24</th>\n",
       "      <td>6</td>\n",
       "      <td>17</td>\n",
       "      <td>4505.0</td>\n",
       "      <td>0.0</td>\n",
       "      <td>36.0</td>\n",
       "      <td>0.500000</td>\n",
       "      <td>2</td>\n",
       "      <td>4</td>\n",
       "      <td>0.463929</td>\n",
       "      <td>1.000000</td>\n",
       "      <td>41.000000</td>\n",
       "      <td>138.240651</td>\n",
       "      <td>150.0</td>\n",
       "      <td>0.666667</td>\n",
       "      <td>0</td>\n",
       "    </tr>\n",
       "    <tr>\n",
       "      <th>25</th>\n",
       "      <td>3</td>\n",
       "      <td>28</td>\n",
       "      <td>4505.0</td>\n",
       "      <td>0.0</td>\n",
       "      <td>36.0</td>\n",
       "      <td>0.500000</td>\n",
       "      <td>2</td>\n",
       "      <td>4</td>\n",
       "      <td>0.463929</td>\n",
       "      <td>1.000000</td>\n",
       "      <td>41.000000</td>\n",
       "      <td>138.240651</td>\n",
       "      <td>0.0</td>\n",
       "      <td>0.000000</td>\n",
       "      <td>1</td>\n",
       "    </tr>\n",
       "    <tr>\n",
       "      <th>26</th>\n",
       "      <td>6</td>\n",
       "      <td>17</td>\n",
       "      <td>4505.0</td>\n",
       "      <td>0.0</td>\n",
       "      <td>36.0</td>\n",
       "      <td>0.500000</td>\n",
       "      <td>2</td>\n",
       "      <td>4</td>\n",
       "      <td>0.463929</td>\n",
       "      <td>1.000000</td>\n",
       "      <td>41.000000</td>\n",
       "      <td>138.240651</td>\n",
       "      <td>0.0</td>\n",
       "      <td>0.000000</td>\n",
       "      <td>1</td>\n",
       "    </tr>\n",
       "    <tr>\n",
       "      <th>27</th>\n",
       "      <td>3</td>\n",
       "      <td>26</td>\n",
       "      <td>511.0</td>\n",
       "      <td>0.0</td>\n",
       "      <td>15.0</td>\n",
       "      <td>0.000000</td>\n",
       "      <td>0</td>\n",
       "      <td>1</td>\n",
       "      <td>0.305284</td>\n",
       "      <td>1.000000</td>\n",
       "      <td>2.000000</td>\n",
       "      <td>138.240651</td>\n",
       "      <td>30.0</td>\n",
       "      <td>0.966667</td>\n",
       "      <td>0</td>\n",
       "    </tr>\n",
       "    <tr>\n",
       "      <th>28</th>\n",
       "      <td>0</td>\n",
       "      <td>21</td>\n",
       "      <td>1097.0</td>\n",
       "      <td>0.0</td>\n",
       "      <td>34.0</td>\n",
       "      <td>0.000000</td>\n",
       "      <td>0</td>\n",
       "      <td>1</td>\n",
       "      <td>0.183227</td>\n",
       "      <td>1.000000</td>\n",
       "      <td>26.000000</td>\n",
       "      <td>5.000000</td>\n",
       "      <td>5.0</td>\n",
       "      <td>0.800000</td>\n",
       "      <td>0</td>\n",
       "    </tr>\n",
       "    <tr>\n",
       "      <th>29</th>\n",
       "      <td>6</td>\n",
       "      <td>6</td>\n",
       "      <td>7952.0</td>\n",
       "      <td>2.0</td>\n",
       "      <td>98.0</td>\n",
       "      <td>0.250000</td>\n",
       "      <td>2</td>\n",
       "      <td>8</td>\n",
       "      <td>0.309608</td>\n",
       "      <td>1.000000</td>\n",
       "      <td>1.000000</td>\n",
       "      <td>175.000000</td>\n",
       "      <td>0.0</td>\n",
       "      <td>0.000000</td>\n",
       "      <td>1</td>\n",
       "    </tr>\n",
       "    <tr>\n",
       "      <th>...</th>\n",
       "      <td>...</td>\n",
       "      <td>...</td>\n",
       "      <td>...</td>\n",
       "      <td>...</td>\n",
       "      <td>...</td>\n",
       "      <td>...</td>\n",
       "      <td>...</td>\n",
       "      <td>...</td>\n",
       "      <td>...</td>\n",
       "      <td>...</td>\n",
       "      <td>...</td>\n",
       "      <td>...</td>\n",
       "      <td>...</td>\n",
       "      <td>...</td>\n",
       "      <td>...</td>\n",
       "    </tr>\n",
       "    <tr>\n",
       "      <th>667423</th>\n",
       "      <td>5</td>\n",
       "      <td>5</td>\n",
       "      <td>2070.0</td>\n",
       "      <td>3.0</td>\n",
       "      <td>50.0</td>\n",
       "      <td>0.333333</td>\n",
       "      <td>3</td>\n",
       "      <td>9</td>\n",
       "      <td>0.342995</td>\n",
       "      <td>1.000000</td>\n",
       "      <td>5.000000</td>\n",
       "      <td>257.000000</td>\n",
       "      <td>200.0</td>\n",
       "      <td>0.900000</td>\n",
       "      <td>0</td>\n",
       "    </tr>\n",
       "    <tr>\n",
       "      <th>667424</th>\n",
       "      <td>1</td>\n",
       "      <td>15</td>\n",
       "      <td>2070.0</td>\n",
       "      <td>3.0</td>\n",
       "      <td>50.0</td>\n",
       "      <td>0.333333</td>\n",
       "      <td>3</td>\n",
       "      <td>9</td>\n",
       "      <td>0.342995</td>\n",
       "      <td>1.000000</td>\n",
       "      <td>5.000000</td>\n",
       "      <td>257.000000</td>\n",
       "      <td>0.0</td>\n",
       "      <td>0.000000</td>\n",
       "      <td>1</td>\n",
       "    </tr>\n",
       "    <tr>\n",
       "      <th>667425</th>\n",
       "      <td>0</td>\n",
       "      <td>7</td>\n",
       "      <td>2070.0</td>\n",
       "      <td>3.0</td>\n",
       "      <td>50.0</td>\n",
       "      <td>0.333333</td>\n",
       "      <td>3</td>\n",
       "      <td>9</td>\n",
       "      <td>0.342995</td>\n",
       "      <td>1.000000</td>\n",
       "      <td>5.000000</td>\n",
       "      <td>257.000000</td>\n",
       "      <td>0.0</td>\n",
       "      <td>0.000000</td>\n",
       "      <td>1</td>\n",
       "    </tr>\n",
       "    <tr>\n",
       "      <th>667426</th>\n",
       "      <td>4</td>\n",
       "      <td>19</td>\n",
       "      <td>2070.0</td>\n",
       "      <td>3.0</td>\n",
       "      <td>50.0</td>\n",
       "      <td>0.333333</td>\n",
       "      <td>3</td>\n",
       "      <td>9</td>\n",
       "      <td>0.342995</td>\n",
       "      <td>1.000000</td>\n",
       "      <td>5.000000</td>\n",
       "      <td>257.000000</td>\n",
       "      <td>300.0</td>\n",
       "      <td>0.833333</td>\n",
       "      <td>0</td>\n",
       "    </tr>\n",
       "    <tr>\n",
       "      <th>667427</th>\n",
       "      <td>4</td>\n",
       "      <td>19</td>\n",
       "      <td>2070.0</td>\n",
       "      <td>3.0</td>\n",
       "      <td>50.0</td>\n",
       "      <td>0.333333</td>\n",
       "      <td>3</td>\n",
       "      <td>9</td>\n",
       "      <td>0.342995</td>\n",
       "      <td>1.000000</td>\n",
       "      <td>5.000000</td>\n",
       "      <td>257.000000</td>\n",
       "      <td>200.0</td>\n",
       "      <td>0.900000</td>\n",
       "      <td>0</td>\n",
       "    </tr>\n",
       "    <tr>\n",
       "      <th>667428</th>\n",
       "      <td>0</td>\n",
       "      <td>7</td>\n",
       "      <td>2070.0</td>\n",
       "      <td>3.0</td>\n",
       "      <td>50.0</td>\n",
       "      <td>0.333333</td>\n",
       "      <td>3</td>\n",
       "      <td>9</td>\n",
       "      <td>0.342995</td>\n",
       "      <td>1.000000</td>\n",
       "      <td>5.000000</td>\n",
       "      <td>257.000000</td>\n",
       "      <td>200.0</td>\n",
       "      <td>0.900000</td>\n",
       "      <td>0</td>\n",
       "    </tr>\n",
       "    <tr>\n",
       "      <th>667429</th>\n",
       "      <td>6</td>\n",
       "      <td>6</td>\n",
       "      <td>2070.0</td>\n",
       "      <td>3.0</td>\n",
       "      <td>50.0</td>\n",
       "      <td>0.333333</td>\n",
       "      <td>3</td>\n",
       "      <td>9</td>\n",
       "      <td>0.342995</td>\n",
       "      <td>1.000000</td>\n",
       "      <td>5.000000</td>\n",
       "      <td>257.000000</td>\n",
       "      <td>200.0</td>\n",
       "      <td>0.900000</td>\n",
       "      <td>0</td>\n",
       "    </tr>\n",
       "    <tr>\n",
       "      <th>667430</th>\n",
       "      <td>6</td>\n",
       "      <td>6</td>\n",
       "      <td>2070.0</td>\n",
       "      <td>3.0</td>\n",
       "      <td>50.0</td>\n",
       "      <td>0.333333</td>\n",
       "      <td>3</td>\n",
       "      <td>9</td>\n",
       "      <td>0.342995</td>\n",
       "      <td>1.000000</td>\n",
       "      <td>5.000000</td>\n",
       "      <td>257.000000</td>\n",
       "      <td>200.0</td>\n",
       "      <td>0.900000</td>\n",
       "      <td>0</td>\n",
       "    </tr>\n",
       "    <tr>\n",
       "      <th>667431</th>\n",
       "      <td>0</td>\n",
       "      <td>7</td>\n",
       "      <td>2070.0</td>\n",
       "      <td>3.0</td>\n",
       "      <td>50.0</td>\n",
       "      <td>0.333333</td>\n",
       "      <td>3</td>\n",
       "      <td>9</td>\n",
       "      <td>0.342995</td>\n",
       "      <td>1.000000</td>\n",
       "      <td>5.000000</td>\n",
       "      <td>257.000000</td>\n",
       "      <td>500.0</td>\n",
       "      <td>0.800000</td>\n",
       "      <td>0</td>\n",
       "    </tr>\n",
       "    <tr>\n",
       "      <th>667432</th>\n",
       "      <td>2</td>\n",
       "      <td>20</td>\n",
       "      <td>465.0</td>\n",
       "      <td>1.0</td>\n",
       "      <td>19.0</td>\n",
       "      <td>1.000000</td>\n",
       "      <td>1</td>\n",
       "      <td>1</td>\n",
       "      <td>0.729032</td>\n",
       "      <td>1.000000</td>\n",
       "      <td>133.000000</td>\n",
       "      <td>150.000000</td>\n",
       "      <td>150.0</td>\n",
       "      <td>0.933333</td>\n",
       "      <td>0</td>\n",
       "    </tr>\n",
       "    <tr>\n",
       "      <th>667433</th>\n",
       "      <td>4</td>\n",
       "      <td>25</td>\n",
       "      <td>2126.0</td>\n",
       "      <td>0.0</td>\n",
       "      <td>36.0</td>\n",
       "      <td>0.000000</td>\n",
       "      <td>0</td>\n",
       "      <td>1</td>\n",
       "      <td>0.481656</td>\n",
       "      <td>1.000000</td>\n",
       "      <td>68.000000</td>\n",
       "      <td>500.000000</td>\n",
       "      <td>500.0</td>\n",
       "      <td>0.960000</td>\n",
       "      <td>0</td>\n",
       "    </tr>\n",
       "    <tr>\n",
       "      <th>667434</th>\n",
       "      <td>3</td>\n",
       "      <td>31</td>\n",
       "      <td>29.0</td>\n",
       "      <td>0.0</td>\n",
       "      <td>3.0</td>\n",
       "      <td>0.000000</td>\n",
       "      <td>0</td>\n",
       "      <td>1</td>\n",
       "      <td>0.000000</td>\n",
       "      <td>0.500000</td>\n",
       "      <td>12.000000</td>\n",
       "      <td>10.000000</td>\n",
       "      <td>10.0</td>\n",
       "      <td>0.900000</td>\n",
       "      <td>0</td>\n",
       "    </tr>\n",
       "    <tr>\n",
       "      <th>667435</th>\n",
       "      <td>2</td>\n",
       "      <td>25</td>\n",
       "      <td>241.0</td>\n",
       "      <td>0.0</td>\n",
       "      <td>10.0</td>\n",
       "      <td>0.000000</td>\n",
       "      <td>0</td>\n",
       "      <td>1</td>\n",
       "      <td>0.174274</td>\n",
       "      <td>0.500000</td>\n",
       "      <td>12.000000</td>\n",
       "      <td>10.000000</td>\n",
       "      <td>50.0</td>\n",
       "      <td>0.800000</td>\n",
       "      <td>0</td>\n",
       "    </tr>\n",
       "    <tr>\n",
       "      <th>667436</th>\n",
       "      <td>3</td>\n",
       "      <td>18</td>\n",
       "      <td>2659.0</td>\n",
       "      <td>0.0</td>\n",
       "      <td>58.0</td>\n",
       "      <td>1.000000</td>\n",
       "      <td>1</td>\n",
       "      <td>1</td>\n",
       "      <td>0.738247</td>\n",
       "      <td>1.000000</td>\n",
       "      <td>29.000000</td>\n",
       "      <td>138.240651</td>\n",
       "      <td>0.0</td>\n",
       "      <td>0.000000</td>\n",
       "      <td>1</td>\n",
       "    </tr>\n",
       "    <tr>\n",
       "      <th>667437</th>\n",
       "      <td>4</td>\n",
       "      <td>15</td>\n",
       "      <td>566.0</td>\n",
       "      <td>1.0</td>\n",
       "      <td>6.0</td>\n",
       "      <td>0.000000</td>\n",
       "      <td>0</td>\n",
       "      <td>1</td>\n",
       "      <td>0.113074</td>\n",
       "      <td>0.333333</td>\n",
       "      <td>43.000000</td>\n",
       "      <td>13.000000</td>\n",
       "      <td>20.0</td>\n",
       "      <td>0.500000</td>\n",
       "      <td>0</td>\n",
       "    </tr>\n",
       "    <tr>\n",
       "      <th>667438</th>\n",
       "      <td>5</td>\n",
       "      <td>12</td>\n",
       "      <td>1689.0</td>\n",
       "      <td>1.0</td>\n",
       "      <td>16.0</td>\n",
       "      <td>1.000000</td>\n",
       "      <td>1</td>\n",
       "      <td>1</td>\n",
       "      <td>0.165187</td>\n",
       "      <td>0.333333</td>\n",
       "      <td>43.000000</td>\n",
       "      <td>13.000000</td>\n",
       "      <td>10.0</td>\n",
       "      <td>0.500000</td>\n",
       "      <td>0</td>\n",
       "    </tr>\n",
       "    <tr>\n",
       "      <th>667439</th>\n",
       "      <td>3</td>\n",
       "      <td>21</td>\n",
       "      <td>508.0</td>\n",
       "      <td>1.0</td>\n",
       "      <td>12.0</td>\n",
       "      <td>0.000000</td>\n",
       "      <td>0</td>\n",
       "      <td>1</td>\n",
       "      <td>0.338583</td>\n",
       "      <td>0.333333</td>\n",
       "      <td>43.000000</td>\n",
       "      <td>13.000000</td>\n",
       "      <td>10.0</td>\n",
       "      <td>0.500000</td>\n",
       "      <td>0</td>\n",
       "    </tr>\n",
       "    <tr>\n",
       "      <th>667440</th>\n",
       "      <td>6</td>\n",
       "      <td>15</td>\n",
       "      <td>20542.0</td>\n",
       "      <td>0.0</td>\n",
       "      <td>172.0</td>\n",
       "      <td>0.000000</td>\n",
       "      <td>0</td>\n",
       "      <td>1</td>\n",
       "      <td>0.146772</td>\n",
       "      <td>1.000000</td>\n",
       "      <td>90.000000</td>\n",
       "      <td>138.240651</td>\n",
       "      <td>20.0</td>\n",
       "      <td>0.500000</td>\n",
       "      <td>0</td>\n",
       "    </tr>\n",
       "    <tr>\n",
       "      <th>667441</th>\n",
       "      <td>1</td>\n",
       "      <td>8</td>\n",
       "      <td>35140.0</td>\n",
       "      <td>2.0</td>\n",
       "      <td>123.0</td>\n",
       "      <td>0.666667</td>\n",
       "      <td>2</td>\n",
       "      <td>3</td>\n",
       "      <td>0.210273</td>\n",
       "      <td>1.000000</td>\n",
       "      <td>3.000000</td>\n",
       "      <td>300.000000</td>\n",
       "      <td>0.0</td>\n",
       "      <td>0.000000</td>\n",
       "      <td>1</td>\n",
       "    </tr>\n",
       "    <tr>\n",
       "      <th>667442</th>\n",
       "      <td>5</td>\n",
       "      <td>19</td>\n",
       "      <td>35140.0</td>\n",
       "      <td>2.0</td>\n",
       "      <td>123.0</td>\n",
       "      <td>0.666667</td>\n",
       "      <td>2</td>\n",
       "      <td>3</td>\n",
       "      <td>0.210273</td>\n",
       "      <td>1.000000</td>\n",
       "      <td>3.000000</td>\n",
       "      <td>300.000000</td>\n",
       "      <td>0.0</td>\n",
       "      <td>0.000000</td>\n",
       "      <td>1</td>\n",
       "    </tr>\n",
       "    <tr>\n",
       "      <th>667443</th>\n",
       "      <td>2</td>\n",
       "      <td>30</td>\n",
       "      <td>35140.0</td>\n",
       "      <td>2.0</td>\n",
       "      <td>123.0</td>\n",
       "      <td>0.666667</td>\n",
       "      <td>2</td>\n",
       "      <td>3</td>\n",
       "      <td>0.210273</td>\n",
       "      <td>1.000000</td>\n",
       "      <td>3.000000</td>\n",
       "      <td>300.000000</td>\n",
       "      <td>300.0</td>\n",
       "      <td>0.833333</td>\n",
       "      <td>0</td>\n",
       "    </tr>\n",
       "    <tr>\n",
       "      <th>667444</th>\n",
       "      <td>2</td>\n",
       "      <td>20</td>\n",
       "      <td>1986.0</td>\n",
       "      <td>0.0</td>\n",
       "      <td>128.0</td>\n",
       "      <td>0.000000</td>\n",
       "      <td>0</td>\n",
       "      <td>4</td>\n",
       "      <td>0.247734</td>\n",
       "      <td>1.000000</td>\n",
       "      <td>36.879986</td>\n",
       "      <td>287.000000</td>\n",
       "      <td>200.0</td>\n",
       "      <td>0.950000</td>\n",
       "      <td>0</td>\n",
       "    </tr>\n",
       "    <tr>\n",
       "      <th>667445</th>\n",
       "      <td>2</td>\n",
       "      <td>20</td>\n",
       "      <td>1986.0</td>\n",
       "      <td>0.0</td>\n",
       "      <td>128.0</td>\n",
       "      <td>0.000000</td>\n",
       "      <td>0</td>\n",
       "      <td>4</td>\n",
       "      <td>0.247734</td>\n",
       "      <td>1.000000</td>\n",
       "      <td>36.879986</td>\n",
       "      <td>287.000000</td>\n",
       "      <td>500.0</td>\n",
       "      <td>0.900000</td>\n",
       "      <td>0</td>\n",
       "    </tr>\n",
       "    <tr>\n",
       "      <th>667446</th>\n",
       "      <td>2</td>\n",
       "      <td>20</td>\n",
       "      <td>1986.0</td>\n",
       "      <td>0.0</td>\n",
       "      <td>128.0</td>\n",
       "      <td>0.000000</td>\n",
       "      <td>0</td>\n",
       "      <td>4</td>\n",
       "      <td>0.247734</td>\n",
       "      <td>1.000000</td>\n",
       "      <td>36.879986</td>\n",
       "      <td>287.000000</td>\n",
       "      <td>300.0</td>\n",
       "      <td>0.933333</td>\n",
       "      <td>0</td>\n",
       "    </tr>\n",
       "    <tr>\n",
       "      <th>667447</th>\n",
       "      <td>2</td>\n",
       "      <td>20</td>\n",
       "      <td>1986.0</td>\n",
       "      <td>0.0</td>\n",
       "      <td>128.0</td>\n",
       "      <td>0.000000</td>\n",
       "      <td>0</td>\n",
       "      <td>4</td>\n",
       "      <td>0.247734</td>\n",
       "      <td>1.000000</td>\n",
       "      <td>36.879986</td>\n",
       "      <td>287.000000</td>\n",
       "      <td>150.0</td>\n",
       "      <td>0.966667</td>\n",
       "      <td>0</td>\n",
       "    </tr>\n",
       "    <tr>\n",
       "      <th>667448</th>\n",
       "      <td>2</td>\n",
       "      <td>27</td>\n",
       "      <td>1614.0</td>\n",
       "      <td>0.0</td>\n",
       "      <td>24.0</td>\n",
       "      <td>0.000000</td>\n",
       "      <td>0</td>\n",
       "      <td>1</td>\n",
       "      <td>0.786245</td>\n",
       "      <td>0.500000</td>\n",
       "      <td>21.000000</td>\n",
       "      <td>5.000000</td>\n",
       "      <td>5.0</td>\n",
       "      <td>0.800000</td>\n",
       "      <td>0</td>\n",
       "    </tr>\n",
       "    <tr>\n",
       "      <th>667449</th>\n",
       "      <td>1</td>\n",
       "      <td>31</td>\n",
       "      <td>146.0</td>\n",
       "      <td>0.0</td>\n",
       "      <td>2.0</td>\n",
       "      <td>0.000000</td>\n",
       "      <td>0</td>\n",
       "      <td>1</td>\n",
       "      <td>0.267123</td>\n",
       "      <td>0.500000</td>\n",
       "      <td>21.000000</td>\n",
       "      <td>5.000000</td>\n",
       "      <td>30.0</td>\n",
       "      <td>0.333333</td>\n",
       "      <td>0</td>\n",
       "    </tr>\n",
       "    <tr>\n",
       "      <th>667450</th>\n",
       "      <td>0</td>\n",
       "      <td>11</td>\n",
       "      <td>589.0</td>\n",
       "      <td>0.0</td>\n",
       "      <td>14.0</td>\n",
       "      <td>0.000000</td>\n",
       "      <td>0</td>\n",
       "      <td>1</td>\n",
       "      <td>0.144312</td>\n",
       "      <td>1.000000</td>\n",
       "      <td>14.000000</td>\n",
       "      <td>30.000000</td>\n",
       "      <td>30.0</td>\n",
       "      <td>0.333333</td>\n",
       "      <td>0</td>\n",
       "    </tr>\n",
       "    <tr>\n",
       "      <th>667451</th>\n",
       "      <td>0</td>\n",
       "      <td>16</td>\n",
       "      <td>345.0</td>\n",
       "      <td>0.0</td>\n",
       "      <td>32.0</td>\n",
       "      <td>1.000000</td>\n",
       "      <td>2</td>\n",
       "      <td>2</td>\n",
       "      <td>0.278261</td>\n",
       "      <td>1.000000</td>\n",
       "      <td>12.000000</td>\n",
       "      <td>138.240651</td>\n",
       "      <td>10.0</td>\n",
       "      <td>0.500000</td>\n",
       "      <td>0</td>\n",
       "    </tr>\n",
       "    <tr>\n",
       "      <th>667452</th>\n",
       "      <td>1</td>\n",
       "      <td>17</td>\n",
       "      <td>345.0</td>\n",
       "      <td>0.0</td>\n",
       "      <td>32.0</td>\n",
       "      <td>1.000000</td>\n",
       "      <td>2</td>\n",
       "      <td>2</td>\n",
       "      <td>0.278261</td>\n",
       "      <td>1.000000</td>\n",
       "      <td>12.000000</td>\n",
       "      <td>138.240651</td>\n",
       "      <td>0.0</td>\n",
       "      <td>0.000000</td>\n",
       "      <td>1</td>\n",
       "    </tr>\n",
       "  </tbody>\n",
       "</table>\n",
       "<p>667453 rows × 15 columns</p>\n",
       "</div>"
      ],
      "text/plain": [
       "        Date_received_week  Date_received_month  Tot_coupon_sent  \\\n",
       "0                        4                   13          35140.0   \n",
       "1                        3                   17           1607.0   \n",
       "2                        1                    5            248.0   \n",
       "3                        2                    6          35140.0   \n",
       "4                        3                   17          35140.0   \n",
       "5                        3                   21           1824.0   \n",
       "6                        5                   14            217.0   \n",
       "7                        6                   13             59.0   \n",
       "8                        3                   10           1825.0   \n",
       "9                        3                   21           1824.0   \n",
       "10                       4                    5           2303.0   \n",
       "11                       3                   10           1825.0   \n",
       "12                       4                   13            760.0   \n",
       "13                       6                   13             59.0   \n",
       "14                       3                   28           2303.0   \n",
       "15                       3                   28           2303.0   \n",
       "16                       5                   30            101.0   \n",
       "17                       1                   19           2303.0   \n",
       "18                       5                   14            217.0   \n",
       "19                       3                   21           1824.0   \n",
       "20                       4                   11           1825.0   \n",
       "21                       5                   12           1825.0   \n",
       "22                       3                   10           1825.0   \n",
       "23                       6                   17           4505.0   \n",
       "24                       6                   17           4505.0   \n",
       "25                       3                   28           4505.0   \n",
       "26                       6                   17           4505.0   \n",
       "27                       3                   26            511.0   \n",
       "28                       0                   21           1097.0   \n",
       "29                       6                    6           7952.0   \n",
       "...                    ...                  ...              ...   \n",
       "667423                   5                    5           2070.0   \n",
       "667424                   1                   15           2070.0   \n",
       "667425                   0                    7           2070.0   \n",
       "667426                   4                   19           2070.0   \n",
       "667427                   4                   19           2070.0   \n",
       "667428                   0                    7           2070.0   \n",
       "667429                   6                    6           2070.0   \n",
       "667430                   6                    6           2070.0   \n",
       "667431                   0                    7           2070.0   \n",
       "667432                   2                   20            465.0   \n",
       "667433                   4                   25           2126.0   \n",
       "667434                   3                   31             29.0   \n",
       "667435                   2                   25            241.0   \n",
       "667436                   3                   18           2659.0   \n",
       "667437                   4                   15            566.0   \n",
       "667438                   5                   12           1689.0   \n",
       "667439                   3                   21            508.0   \n",
       "667440                   6                   15          20542.0   \n",
       "667441                   1                    8          35140.0   \n",
       "667442                   5                   19          35140.0   \n",
       "667443                   2                   30          35140.0   \n",
       "667444                   2                   20           1986.0   \n",
       "667445                   2                   20           1986.0   \n",
       "667446                   2                   20           1986.0   \n",
       "667447                   2                   20           1986.0   \n",
       "667448                   2                   27           1614.0   \n",
       "667449                   1                   31            146.0   \n",
       "667450                   0                   11            589.0   \n",
       "667451                   0                   16            345.0   \n",
       "667452                   1                   17            345.0   \n",
       "\n",
       "        Num_coupon_used  num_type  \\\n",
       "0                   0.0     123.0   \n",
       "1                   0.0      11.0   \n",
       "2                   0.0       4.0   \n",
       "3                   0.0     123.0   \n",
       "4                   0.0     123.0   \n",
       "5                   0.0      25.0   \n",
       "6                   0.0      27.0   \n",
       "7                   0.0       5.0   \n",
       "8                   0.0      13.0   \n",
       "9                   0.0      25.0   \n",
       "10                  0.0      76.0   \n",
       "11                  0.0      13.0   \n",
       "12                  0.0      20.0   \n",
       "13                  0.0       5.0   \n",
       "14                  0.0      76.0   \n",
       "15                  0.0      76.0   \n",
       "16                  0.0       4.0   \n",
       "17                  0.0      76.0   \n",
       "18                  0.0      27.0   \n",
       "19                  0.0      25.0   \n",
       "20                  0.0      13.0   \n",
       "21                  0.0      13.0   \n",
       "22                  0.0      13.0   \n",
       "23                  0.0      36.0   \n",
       "24                  0.0      36.0   \n",
       "25                  0.0      36.0   \n",
       "26                  0.0      36.0   \n",
       "27                  0.0      15.0   \n",
       "28                  0.0      34.0   \n",
       "29                  2.0      98.0   \n",
       "...                 ...       ...   \n",
       "667423              3.0      50.0   \n",
       "667424              3.0      50.0   \n",
       "667425              3.0      50.0   \n",
       "667426              3.0      50.0   \n",
       "667427              3.0      50.0   \n",
       "667428              3.0      50.0   \n",
       "667429              3.0      50.0   \n",
       "667430              3.0      50.0   \n",
       "667431              3.0      50.0   \n",
       "667432              1.0      19.0   \n",
       "667433              0.0      36.0   \n",
       "667434              0.0       3.0   \n",
       "667435              0.0      10.0   \n",
       "667436              0.0      58.0   \n",
       "667437              1.0       6.0   \n",
       "667438              1.0      16.0   \n",
       "667439              1.0      12.0   \n",
       "667440              0.0     172.0   \n",
       "667441              2.0     123.0   \n",
       "667442              2.0     123.0   \n",
       "667443              2.0     123.0   \n",
       "667444              0.0     128.0   \n",
       "667445              0.0     128.0   \n",
       "667446              0.0     128.0   \n",
       "667447              0.0     128.0   \n",
       "667448              0.0      24.0   \n",
       "667449              0.0       2.0   \n",
       "667450              0.0      14.0   \n",
       "667451              0.0      32.0   \n",
       "667452              0.0      32.0   \n",
       "\n",
       "        Customer's Total Usage Fraction for Merchant  \\\n",
       "0                                           0.000000   \n",
       "1                                           0.000000   \n",
       "2                                           0.000000   \n",
       "3                                           0.000000   \n",
       "4                                           0.000000   \n",
       "5                                           0.000000   \n",
       "6                                           0.000000   \n",
       "7                                           0.000000   \n",
       "8                                           0.000000   \n",
       "9                                           0.000000   \n",
       "10                                          0.000000   \n",
       "11                                          0.000000   \n",
       "12                                          0.000000   \n",
       "13                                          0.000000   \n",
       "14                                          0.000000   \n",
       "15                                          0.000000   \n",
       "16                                          0.000000   \n",
       "17                                          0.000000   \n",
       "18                                          0.000000   \n",
       "19                                          0.000000   \n",
       "20                                          0.000000   \n",
       "21                                          0.000000   \n",
       "22                                          0.000000   \n",
       "23                                          0.500000   \n",
       "24                                          0.500000   \n",
       "25                                          0.500000   \n",
       "26                                          0.500000   \n",
       "27                                          0.000000   \n",
       "28                                          0.000000   \n",
       "29                                          0.250000   \n",
       "...                                              ...   \n",
       "667423                                      0.333333   \n",
       "667424                                      0.333333   \n",
       "667425                                      0.333333   \n",
       "667426                                      0.333333   \n",
       "667427                                      0.333333   \n",
       "667428                                      0.333333   \n",
       "667429                                      0.333333   \n",
       "667430                                      0.333333   \n",
       "667431                                      0.333333   \n",
       "667432                                      1.000000   \n",
       "667433                                      0.000000   \n",
       "667434                                      0.000000   \n",
       "667435                                      0.000000   \n",
       "667436                                      1.000000   \n",
       "667437                                      0.000000   \n",
       "667438                                      1.000000   \n",
       "667439                                      0.000000   \n",
       "667440                                      0.000000   \n",
       "667441                                      0.666667   \n",
       "667442                                      0.666667   \n",
       "667443                                      0.666667   \n",
       "667444                                      0.000000   \n",
       "667445                                      0.000000   \n",
       "667446                                      0.000000   \n",
       "667447                                      0.000000   \n",
       "667448                                      0.000000   \n",
       "667449                                      0.000000   \n",
       "667450                                      0.000000   \n",
       "667451                                      1.000000   \n",
       "667452                                      1.000000   \n",
       "\n",
       "        Customer's Total Usage for Merchant's Coupons  \\\n",
       "0                                                   0   \n",
       "1                                                   0   \n",
       "2                                                   0   \n",
       "3                                                   0   \n",
       "4                                                   0   \n",
       "5                                                   0   \n",
       "6                                                   0   \n",
       "7                                                   0   \n",
       "8                                                   0   \n",
       "9                                                   0   \n",
       "10                                                  0   \n",
       "11                                                  0   \n",
       "12                                                  0   \n",
       "13                                                  0   \n",
       "14                                                  0   \n",
       "15                                                  0   \n",
       "16                                                  0   \n",
       "17                                                  0   \n",
       "18                                                  0   \n",
       "19                                                  0   \n",
       "20                                                  0   \n",
       "21                                                  0   \n",
       "22                                                  0   \n",
       "23                                                  2   \n",
       "24                                                  2   \n",
       "25                                                  2   \n",
       "26                                                  2   \n",
       "27                                                  0   \n",
       "28                                                  0   \n",
       "29                                                  2   \n",
       "...                                               ...   \n",
       "667423                                              3   \n",
       "667424                                              3   \n",
       "667425                                              3   \n",
       "667426                                              3   \n",
       "667427                                              3   \n",
       "667428                                              3   \n",
       "667429                                              3   \n",
       "667430                                              3   \n",
       "667431                                              3   \n",
       "667432                                              1   \n",
       "667433                                              0   \n",
       "667434                                              0   \n",
       "667435                                              0   \n",
       "667436                                              1   \n",
       "667437                                              0   \n",
       "667438                                              1   \n",
       "667439                                              0   \n",
       "667440                                              0   \n",
       "667441                                              2   \n",
       "667442                                              2   \n",
       "667443                                              2   \n",
       "667444                                              0   \n",
       "667445                                              0   \n",
       "667446                                              0   \n",
       "667447                                              0   \n",
       "667448                                              0   \n",
       "667449                                              0   \n",
       "667450                                              0   \n",
       "667451                                              2   \n",
       "667452                                              2   \n",
       "\n",
       "        Customer's Total Received by Merchant  \\\n",
       "0                                           6   \n",
       "1                                           1   \n",
       "2                                           1   \n",
       "3                                           2   \n",
       "4                                           2   \n",
       "5                                           3   \n",
       "6                                           2   \n",
       "7                                           2   \n",
       "8                                           5   \n",
       "9                                           3   \n",
       "10                                          4   \n",
       "11                                          5   \n",
       "12                                          1   \n",
       "13                                          2   \n",
       "14                                          4   \n",
       "15                                          4   \n",
       "16                                          1   \n",
       "17                                          4   \n",
       "18                                          2   \n",
       "19                                          3   \n",
       "20                                          5   \n",
       "21                                          5   \n",
       "22                                          5   \n",
       "23                                          4   \n",
       "24                                          4   \n",
       "25                                          4   \n",
       "26                                          4   \n",
       "27                                          1   \n",
       "28                                          1   \n",
       "29                                          8   \n",
       "...                                       ...   \n",
       "667423                                      9   \n",
       "667424                                      9   \n",
       "667425                                      9   \n",
       "667426                                      9   \n",
       "667427                                      9   \n",
       "667428                                      9   \n",
       "667429                                      9   \n",
       "667430                                      9   \n",
       "667431                                      9   \n",
       "667432                                      1   \n",
       "667433                                      1   \n",
       "667434                                      1   \n",
       "667435                                      1   \n",
       "667436                                      1   \n",
       "667437                                      1   \n",
       "667438                                      1   \n",
       "667439                                      1   \n",
       "667440                                      1   \n",
       "667441                                      3   \n",
       "667442                                      3   \n",
       "667443                                      3   \n",
       "667444                                      4   \n",
       "667445                                      4   \n",
       "667446                                      4   \n",
       "667447                                      4   \n",
       "667448                                      1   \n",
       "667449                                      1   \n",
       "667450                                      1   \n",
       "667451                                      2   \n",
       "667452                                      2   \n",
       "\n",
       "        Merchant's Total Usage Fraction  Customer's Inbox Share by Merchant  \\\n",
       "0                              0.210273                            1.000000   \n",
       "1                              0.168015                            0.250000   \n",
       "2                              0.088710                            0.250000   \n",
       "3                              0.210273                            0.500000   \n",
       "4                              0.210273                            0.500000   \n",
       "5                              0.372807                            0.166667   \n",
       "6                              0.331797                            0.111111   \n",
       "7                              0.220339                            0.111111   \n",
       "8                              0.477260                            0.277778   \n",
       "9                              0.372807                            0.166667   \n",
       "10                             0.119409                            0.222222   \n",
       "11                             0.477260                            0.277778   \n",
       "12                             0.344737                            0.055556   \n",
       "13                             0.220339                            0.111111   \n",
       "14                             0.119409                            0.222222   \n",
       "15                             0.119409                            0.222222   \n",
       "16                             0.079208                            0.055556   \n",
       "17                             0.119409                            0.222222   \n",
       "18                             0.331797                            0.111111   \n",
       "19                             0.372807                            0.166667   \n",
       "20                             0.477260                            0.277778   \n",
       "21                             0.477260                            0.277778   \n",
       "22                             0.477260                            0.277778   \n",
       "23                             0.463929                            1.000000   \n",
       "24                             0.463929                            1.000000   \n",
       "25                             0.463929                            1.000000   \n",
       "26                             0.463929                            1.000000   \n",
       "27                             0.305284                            1.000000   \n",
       "28                             0.183227                            1.000000   \n",
       "29                             0.309608                            1.000000   \n",
       "...                                 ...                                 ...   \n",
       "667423                         0.342995                            1.000000   \n",
       "667424                         0.342995                            1.000000   \n",
       "667425                         0.342995                            1.000000   \n",
       "667426                         0.342995                            1.000000   \n",
       "667427                         0.342995                            1.000000   \n",
       "667428                         0.342995                            1.000000   \n",
       "667429                         0.342995                            1.000000   \n",
       "667430                         0.342995                            1.000000   \n",
       "667431                         0.342995                            1.000000   \n",
       "667432                         0.729032                            1.000000   \n",
       "667433                         0.481656                            1.000000   \n",
       "667434                         0.000000                            0.500000   \n",
       "667435                         0.174274                            0.500000   \n",
       "667436                         0.738247                            1.000000   \n",
       "667437                         0.113074                            0.333333   \n",
       "667438                         0.165187                            0.333333   \n",
       "667439                         0.338583                            0.333333   \n",
       "667440                         0.146772                            1.000000   \n",
       "667441                         0.210273                            1.000000   \n",
       "667442                         0.210273                            1.000000   \n",
       "667443                         0.210273                            1.000000   \n",
       "667444                         0.247734                            1.000000   \n",
       "667445                         0.247734                            1.000000   \n",
       "667446                         0.247734                            1.000000   \n",
       "667447                         0.247734                            1.000000   \n",
       "667448                         0.786245                            0.500000   \n",
       "667449                         0.267123                            0.500000   \n",
       "667450                         0.144312                            1.000000   \n",
       "667451                         0.278261                            1.000000   \n",
       "667452                         0.278261                            1.000000   \n",
       "\n",
       "        Difference       money  Coupon_requirement  Equivalent_discount  Fixed  \n",
       "0         3.000000  520.000000               500.0             0.900000      0  \n",
       "1        18.000000  170.000000                50.0             0.900000      0  \n",
       "2        18.000000  170.000000                30.0             0.966667      0  \n",
       "3        18.000000  170.000000               300.0             0.833333      0  \n",
       "4        18.000000  170.000000               300.0             0.900000      0  \n",
       "5        17.000000  150.000000               300.0             0.833333      0  \n",
       "6        17.000000  150.000000                10.0             0.500000      0  \n",
       "7        17.000000  150.000000                10.0             0.500000      0  \n",
       "8        17.000000  150.000000               500.0             0.900000      0  \n",
       "9        17.000000  150.000000               200.0             0.850000      0  \n",
       "10       17.000000  150.000000                20.0             0.500000      0  \n",
       "11       17.000000  150.000000               200.0             0.900000      0  \n",
       "12       17.000000  150.000000               150.0             0.933333      0  \n",
       "13       17.000000  150.000000               300.0             0.966667      0  \n",
       "14       17.000000  150.000000               150.0             0.933333      0  \n",
       "15       17.000000  150.000000                10.0             0.500000      0  \n",
       "16       17.000000  150.000000               150.0             0.993333      0  \n",
       "17       17.000000  150.000000                10.0             0.500000      0  \n",
       "18       17.000000  150.000000               200.0             0.950000      0  \n",
       "19       17.000000  150.000000               200.0             0.850000      0  \n",
       "20       17.000000  150.000000               150.0             0.933333      0  \n",
       "21       17.000000  150.000000               150.0             0.933333      0  \n",
       "22       17.000000  150.000000               150.0             0.933333      0  \n",
       "23       41.000000  138.240651                20.0             0.500000      0  \n",
       "24       41.000000  138.240651               150.0             0.666667      0  \n",
       "25       41.000000  138.240651                 0.0             0.000000      1  \n",
       "26       41.000000  138.240651                 0.0             0.000000      1  \n",
       "27        2.000000  138.240651                30.0             0.966667      0  \n",
       "28       26.000000    5.000000                 5.0             0.800000      0  \n",
       "29        1.000000  175.000000                 0.0             0.000000      1  \n",
       "...            ...         ...                 ...                  ...    ...  \n",
       "667423    5.000000  257.000000               200.0             0.900000      0  \n",
       "667424    5.000000  257.000000                 0.0             0.000000      1  \n",
       "667425    5.000000  257.000000                 0.0             0.000000      1  \n",
       "667426    5.000000  257.000000               300.0             0.833333      0  \n",
       "667427    5.000000  257.000000               200.0             0.900000      0  \n",
       "667428    5.000000  257.000000               200.0             0.900000      0  \n",
       "667429    5.000000  257.000000               200.0             0.900000      0  \n",
       "667430    5.000000  257.000000               200.0             0.900000      0  \n",
       "667431    5.000000  257.000000               500.0             0.800000      0  \n",
       "667432  133.000000  150.000000               150.0             0.933333      0  \n",
       "667433   68.000000  500.000000               500.0             0.960000      0  \n",
       "667434   12.000000   10.000000                10.0             0.900000      0  \n",
       "667435   12.000000   10.000000                50.0             0.800000      0  \n",
       "667436   29.000000  138.240651                 0.0             0.000000      1  \n",
       "667437   43.000000   13.000000                20.0             0.500000      0  \n",
       "667438   43.000000   13.000000                10.0             0.500000      0  \n",
       "667439   43.000000   13.000000                10.0             0.500000      0  \n",
       "667440   90.000000  138.240651                20.0             0.500000      0  \n",
       "667441    3.000000  300.000000                 0.0             0.000000      1  \n",
       "667442    3.000000  300.000000                 0.0             0.000000      1  \n",
       "667443    3.000000  300.000000               300.0             0.833333      0  \n",
       "667444   36.879986  287.000000               200.0             0.950000      0  \n",
       "667445   36.879986  287.000000               500.0             0.900000      0  \n",
       "667446   36.879986  287.000000               300.0             0.933333      0  \n",
       "667447   36.879986  287.000000               150.0             0.966667      0  \n",
       "667448   21.000000    5.000000                 5.0             0.800000      0  \n",
       "667449   21.000000    5.000000                30.0             0.333333      0  \n",
       "667450   14.000000   30.000000                30.0             0.333333      0  \n",
       "667451   12.000000  138.240651                10.0             0.500000      0  \n",
       "667452   12.000000  138.240651                 0.0             0.000000      1  \n",
       "\n",
       "[667453 rows x 15 columns]"
      ]
     },
     "execution_count": 43,
     "metadata": {},
     "output_type": "execute_result"
    }
   ],
   "source": [
    "X_full_train.csv"
   ]
  },
  {
   "cell_type": "code",
   "execution_count": null,
   "metadata": {
    "collapsed": true
   },
   "outputs": [],
   "source": [
    "x_money['money_quantile']= pd.qcut(x_money['money'],10,labels=[1,2,3,4,5,6,7,8,9,10])"
   ]
  }
 ],
 "metadata": {
  "anaconda-cloud": {},
  "kernelspec": {
   "display_name": "Python [conda root]",
   "language": "python",
   "name": "conda-root-py"
  },
  "language_info": {
   "codemirror_mode": {
    "name": "ipython",
    "version": 2
   },
   "file_extension": ".py",
   "mimetype": "text/x-python",
   "name": "python",
   "nbconvert_exporter": "python",
   "pygments_lexer": "ipython2",
   "version": "2.7.14"
  },
  "nbTranslate": {
   "displayLangs": [
    "*"
   ],
   "hotkey": "alt-t",
   "langInMainMenu": true,
   "sourceLang": "en",
   "targetLang": "fr",
   "useGoogleTranslate": true
  },
  "toc": {
   "nav_menu": {},
   "number_sections": true,
   "sideBar": true,
   "skip_h1_title": false,
   "toc_cell": false,
   "toc_position": {},
   "toc_section_display": "block",
   "toc_window_display": false
  },
  "varInspector": {
   "cols": {
    "lenName": 16,
    "lenType": 16,
    "lenVar": 40
   },
   "kernels_config": {
    "python": {
     "delete_cmd_postfix": "",
     "delete_cmd_prefix": "del ",
     "library": "var_list.py",
     "varRefreshCmd": "print(var_dic_list())"
    },
    "r": {
     "delete_cmd_postfix": ") ",
     "delete_cmd_prefix": "rm(",
     "library": "var_list.r",
     "varRefreshCmd": "cat(var_dic_list()) "
    }
   },
   "types_to_exclude": [
    "module",
    "function",
    "builtin_function_or_method",
    "instance",
    "_Feature"
   ],
   "window_display": false
  }
 },
 "nbformat": 4,
 "nbformat_minor": 2
}
