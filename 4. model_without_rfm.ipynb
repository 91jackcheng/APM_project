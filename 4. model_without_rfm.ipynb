{
 "cells": [
  {
   "cell_type": "code",
   "execution_count": 1,
   "metadata": {
    "ExecuteTime": {
     "end_time": "2017-12-15T07:32:56.149231Z",
     "start_time": "2017-12-15T07:32:48.025641Z"
    },
    "collapsed": true
   },
   "outputs": [],
   "source": [
    "import pandas as pd\n",
    "import warnings\n",
    "from pandas import Series, DataFrame\n",
    "from sklearn.metrics import confusion_matrix\n",
    "from sklearn import metrics\n",
    "import os\n",
    "\n",
    "from sklearn.ensemble import RandomForestClassifier\n",
    "from sklearn.metrics import confusion_matrix\n",
    "from sklearn.ensemble import GradientBoostingClassifier\n",
    "from sklearn.model_selection import GridSearchCV\n",
    "from xgboost.sklearn import XGBClassifier\n",
    "from time import time\n",
    "import matplotlib.pyplot as plt\n",
    "from sklearn.model_selection import train_test_split\n",
    "import warnings\n",
    "warnings.filterwarnings(\"ignore\")\n",
    "%matplotlib inline"
   ]
  },
  {
   "cell_type": "code",
   "execution_count": 2,
   "metadata": {
    "ExecuteTime": {
     "end_time": "2017-12-14T07:46:28.217225Z",
     "start_time": "2017-12-14T07:46:28.180128Z"
    },
    "collapsed": true
   },
   "outputs": [],
   "source": [
    "def filter1(s,f):\n",
    "    if s==f:\n",
    "        return 0\n",
    "    else:\n",
    "        return float(s)\n",
    "def transfrom(input_data):\n",
    "    input_data['Coupon_requirement']=input_data['coupon_requirement'].map(lambda x: filter1(x,'null'))\n",
    "    input_data['Equivalent_discount']=input_data['equivalent_discount'].map(lambda x: filter1(x,'fixed'))\n",
    "    input_data['Fixed']=input_data['equivalent_discount'].map(lambda x: int(x=='fixed'))\n",
    "    return input_data.drop(['coupon_requirement','equivalent_discount'],axis=1)"
   ]
  },
  {
   "cell_type": "code",
   "execution_count": 5,
   "metadata": {
    "ExecuteTime": {
     "end_time": "2017-12-14T07:48:02.581032Z",
     "start_time": "2017-12-14T07:48:02.435952Z"
    },
    "collapsed": true
   },
   "outputs": [],
   "source": [
    "\n",
    "def fillna_pipeline(input_data):\n",
    "    input_data=transfrom(input_data)\n",
    "    input_data['Num_coupon_used'].fillna(0,inplace=True)\n",
    "    #input_data['Avg_coupon_got'].fillna(input_data['Avg_coupon_got'].mean(),inplace=True)\n",
    "    input_data['Difference'].fillna(input_data['Difference'].mean(),inplace=True)\n",
    "    input_data['money'].fillna(input_data['money'].mean(),inplace=True)\n",
    "    input_data['Tot_coupon_sent'].fillna(input_data['Tot_coupon_sent'].mean(),inplace=True)\n",
    "    input_data['num_type'].fillna(input_data['num_type'].mean(),inplace=True)\n",
    "    input_data[\"Customer's Total Usage for Merchant's Coupons\"].fillna(input_data[\"Customer's Total Usage for Merchant's Coupons\"].mean(),inplace=True)\n",
    "    input_data[\"Customer's Total Usage Fraction for Merchant\"].fillna(input_data[\"Customer's Total Usage Fraction for Merchant\"].mean(),inplace=True)\n",
    "    input_data[\"Customer's Total Received by Merchant\"].fillna(input_data[\"Customer's Total Received by Merchant\"].mean(),inplace=True)\n",
    "    input_data[\"Merchant's Total Usage Fraction\"].fillna(input_data[\"Merchant's Total Usage Fraction\"].mean(),inplace=True)\n",
    "    input_data[\"Customer's Inbox Share by Merchant\"].fillna(input_data[\"Customer's Inbox Share by Merchant\"].mean(),inplace=True)\n",
    "    print 'fill completed'\n",
    "    return input_data"
   ]
  },
  {
   "cell_type": "code",
   "execution_count": 6,
   "metadata": {
    "ExecuteTime": {
     "end_time": "2017-12-14T07:48:10.475269Z",
     "start_time": "2017-12-14T07:48:03.152069Z"
    }
   },
   "outputs": [
    {
     "name": "stdout",
     "output_type": "stream",
     "text": [
      "fill completed\n",
      "fill completed\n"
     ]
    }
   ],
   "source": [
    "y_train1=pd.read_csv('y_full_train.csv',header=None)\n",
    "y_test1=pd.read_csv('y_full_test.csv',header=None)\n",
    "X_train1=fillna_pipeline(pd.read_csv('X_full_train.csv'))\n",
    "X_test1=fillna_pipeline(pd.read_csv('X_full_test.csv'))"
   ]
  },
  {
   "cell_type": "code",
   "execution_count": 8,
   "metadata": {
    "ExecuteTime": {
     "end_time": "2017-12-14T07:48:35.584768Z",
     "start_time": "2017-12-14T07:48:35.566774Z"
    },
    "collapsed": true
   },
   "outputs": [],
   "source": [
    "X_train11 = X_train1#.drop(['User_id','Merchant_id','Coupon_id_x'], axis=1)\n",
    "#y_train11 = y_train1.drop(['User_id','Merchant_id','Coupon_id_x'], axis=1)\n",
    "X_test11 = X_test1#.drop(['User_id','Merchant_id','Coupon_id_x'], axis=1)"
   ]
  },
  {
   "cell_type": "code",
   "execution_count": null,
   "metadata": {
    "collapsed": true
   },
   "outputs": [],
   "source": []
  },
  {
   "cell_type": "code",
   "execution_count": 31,
   "metadata": {},
   "outputs": [
    {
     "data": {
      "text/plain": [
       "0.75618283979985235"
      ]
     },
     "execution_count": 31,
     "metadata": {},
     "output_type": "execute_result"
    }
   ],
   "source": [
    "GBDT = GradientBoostingClassifier(n_estimators=150,max_depth=5 )\n",
    "model=GBDT.fit(X_train11, y_train1)\n",
    "y1_GBDTpredicted_test = GBDT.predict(X_test11)\n",
    "metrics.accuracy_score(y_test1,y1_GBDTpredicted_test)"
   ]
  },
  {
   "cell_type": "code",
   "execution_count": 9,
   "metadata": {
    "ExecuteTime": {
     "end_time": "2017-12-14T07:48:47.637623Z",
     "start_time": "2017-12-14T07:48:41.353038Z"
    },
    "collapsed": true
   },
   "outputs": [],
   "source": [
    "X_full_train = pd.read_csv('X_full_train.csv')\n",
    "y_full_train = pd.read_csv('y_full_train.csv',header=None)\n",
    "X_full_test = pd.read_csv('X_full_test.csv')\n",
    "y_full_test = pd.read_csv('y_full_test.csv',header=None)\n",
    "full_train = pd.read_csv('full_train.csv')\n",
    "full_test = pd.read_csv('full_test.csv')"
   ]
  },
  {
   "cell_type": "code",
   "execution_count": 10,
   "metadata": {
    "ExecuteTime": {
     "end_time": "2017-12-14T07:48:55.707152Z",
     "start_time": "2017-12-14T07:48:51.449893Z"
    }
   },
   "outputs": [
    {
     "name": "stdout",
     "output_type": "stream",
     "text": [
      "fill completed\n",
      "fill completed\n"
     ]
    }
   ],
   "source": [
    "X_train1=fillna_pipeline(X_full_train)\n",
    "X_test1=fillna_pipeline(X_full_test)"
   ]
  },
  {
   "cell_type": "code",
   "execution_count": 11,
   "metadata": {
    "ExecuteTime": {
     "end_time": "2017-12-14T07:48:59.559889Z",
     "start_time": "2017-12-14T07:48:59.300756Z"
    }
   },
   "outputs": [
    {
     "name": "stdout",
     "output_type": "stream",
     "text": [
      "<class 'pandas.core.frame.DataFrame'>\n",
      "RangeIndex: 292584 entries, 0 to 292583\n",
      "Data columns (total 15 columns):\n",
      "Date_received_week                               292584 non-null int64\n",
      "Date_received_month                              292584 non-null int64\n",
      "Tot_coupon_sent                                  292584 non-null float64\n",
      "Num_coupon_used                                  292584 non-null float64\n",
      "num_type                                         292584 non-null float64\n",
      "Customer's Total Usage Fraction for Merchant     292584 non-null float64\n",
      "Customer's Total Usage for Merchant's Coupons    292584 non-null float64\n",
      "Customer's Total Received by Merchant            292584 non-null float64\n",
      "Merchant's Total Usage Fraction                  292584 non-null float64\n",
      "Customer's Inbox Share by Merchant               292584 non-null float64\n",
      "Difference                                       292584 non-null float64\n",
      "money                                            292584 non-null float64\n",
      "Coupon_requirement                               292584 non-null float64\n",
      "Equivalent_discount                              292584 non-null float64\n",
      "Fixed                                            292584 non-null int64\n",
      "dtypes: float64(12), int64(3)\n",
      "memory usage: 33.5 MB\n"
     ]
    }
   ],
   "source": [
    "X_test1.info()"
   ]
  },
  {
   "cell_type": "markdown",
   "metadata": {},
   "source": [
    "## Online"
   ]
  },
  {
   "cell_type": "code",
   "execution_count": 33,
   "metadata": {
    "ExecuteTime": {
     "end_time": "2017-12-14T09:08:03.798476Z",
     "start_time": "2017-12-14T09:08:03.533216Z"
    },
    "collapsed": true
   },
   "outputs": [],
   "source": [
    "X_train111 = X_train.drop(['Difference','money'], axis=1)\n",
    "X_test111 = X_test.drop(['Difference','money'], axis=1)"
   ]
  },
  {
   "cell_type": "code",
   "execution_count": 21,
   "metadata": {
    "ExecuteTime": {
     "end_time": "2017-12-14T08:05:07.274063Z",
     "start_time": "2017-12-14T08:05:07.264243Z"
    },
    "collapsed": true
   },
   "outputs": [],
   "source": [
    "from sklearn.metrics import roc_curve, roc_auc_score\n",
    "def plot_roc_curve(fpr, npr, label=None, auc=None):\n",
    "    plt.plot(fpr, tpr, linewidth=2, label=label + str(auc))\n",
    "    plt.plot([0, 1], [0, 1], 'k--')\n",
    "    plt.axis([0, 1, 0, 1])\n",
    "    plt.xlabel('False Positive Rate')\n",
    "    plt.ylabel('True Positive Rate')\n"
   ]
  },
  {
   "cell_type": "code",
   "execution_count": 34,
   "metadata": {},
   "outputs": [
    {
     "name": "stdout",
     "output_type": "stream",
     "text": [
      "AUC socre for GBDT is  0.835653604348\n"
     ]
    },
    {
     "data": {
      "text/plain": [
       "<matplotlib.legend.Legend at 0x10c01e48>"
      ]
     },
     "execution_count": 34,
     "metadata": {},
     "output_type": "execute_result"
    },
    {
     "data": {
      "image/png": "[encoded data removed]",
      "text/plain": [
       "<matplotlib.figure.Figure at 0xbe7b0b8>"
      ]
     },
     "metadata": {},
     "output_type": "display_data"
    }
   ],
   "source": [
    "# GBDT\n",
    "GBDT = GradientBoostingClassifier(n_estimators=150,max_depth=5 )\n",
    "model=GBDT.fit(X_train111, y_train1)\n",
    "y1_GBDTpredicted_test = GBDT.predict(X_test111)\n",
    "metrics.accuracy_score(y_test1,y1_GBDTpredicted_test)\n",
    "score=GBDT.predict_proba(X_test111)\n",
    "score_GDBT=[]\n",
    "for i in score:\n",
    "    score_GDBT.append(i[1])\n",
    "\n",
    "from sklearn.metrics import roc_curve, roc_auc_score\n",
    "def plot_roc_curve(fpr, npr, label=None, auc=None):\n",
    "    plt.plot(fpr, tpr, linewidth=2, label=label + str(auc))\n",
    "    plt.plot([0, 1], [0, 1], 'k--')\n",
    "    plt.axis([0, 1, 0, 1])\n",
    "    plt.xlabel('False Positive Rate')\n",
    "    plt.ylabel('True Positive Rate')\n",
    "\n",
    "\n",
    "fpr, tpr, thresholds = roc_curve(y_test1, score_GDBT)\n",
    "auc = roc_auc_score(y_test1, score_GDBT)\n",
    "plot_roc_curve(fpr, tpr, 'GBDT auc =', auc)\n",
    "print 'AUC socre for GBDT is ', str(auc)\n",
    "\n",
    "plt.legend(loc=0)"
   ]
  },
  {
   "cell_type": "code",
   "execution_count": 16,
   "metadata": {
    "ExecuteTime": {
     "end_time": "2017-12-14T07:49:42.037615Z",
     "start_time": "2017-12-14T07:49:42.028851Z"
    },
    "collapsed": true
   },
   "outputs": [],
   "source": [
    "from sklearn.metrics import confusion_matrix\n",
    "from sklearn import metrics\n",
    "#print 'accuracy rate is ', metrics.accuracy_score(y_test1, y1_GBDTpredicted_test)"
   ]
  },
  {
   "cell_type": "code",
   "execution_count": 35,
   "metadata": {},
   "outputs": [
    {
     "name": "stdout",
     "output_type": "stream",
     "text": [
      "AUC socre for XG is  0.835086201034\n",
      "[ 0.10771657  0.19125259  0.10545354  0.04559021  0.07511649  0.05073103\n",
      "  0.01781912  0.03173585  0.09948414  0.09616978  0.08946088  0.08946979\n",
      "  0.        ]\n"
     ]
    },
    {
     "data": {
      "image/png": "[encoded data removed]",
      "text/plain": [
       "<matplotlib.figure.Figure at 0x11f3ae80>"
      ]
     },
     "metadata": {},
     "output_type": "display_data"
    }
   ],
   "source": [
    "# xgb\n",
    "import xgboost as xgb\n",
    "from random import shuffle\n",
    "from xgboost.sklearn import XGBClassifier\n",
    "gbm = xgb.XGBClassifier(max_depth=20)\n",
    "GBM_model=gbm.fit(X_train111, y_train1)\n",
    "score_1=GBM_model.predict_proba(X_test111)\n",
    "score_XG=[]\n",
    "for i in score_1:\n",
    "    score_XG.append(i[1])\n",
    "    \n",
    "fpr, tpr, thresholds = roc_curve(y_test1, score_XG)\n",
    "auc = roc_auc_score(y_test1, score_XG)\n",
    "plot_roc_curve(fpr, tpr, 'XG auc =', auc)\n",
    "print 'AUC socre for XG is ', str(auc)\n",
    "plt.legend(loc=0)\n",
    "# 0.959\n",
    "print GBM_model.feature_importances_"
   ]
  },
  {
   "cell_type": "code",
   "execution_count": 40,
   "metadata": {},
   "outputs": [
    {
     "name": "stdout",
     "output_type": "stream",
     "text": [
      "accuracy rate is  0.752703497115\n"
     ]
    }
   ],
   "source": [
    "y1_XGBpredicted_test = gbm.predict(X_test111)\n",
    "print 'accuracy rate is ', metrics.accuracy_score(y_test1, y1_XGBpredicted_test)"
   ]
  },
  {
   "cell_type": "code",
   "execution_count": 47,
   "metadata": {},
   "outputs": [
    {
     "name": "stdout",
     "output_type": "stream",
     "text": [
      "AUC socre for AB is  0.842562749608\n"
     ]
    },
    {
     "data": {
      "text/plain": [
       "<matplotlib.legend.Legend at 0x11e9d780>"
      ]
     },
     "execution_count": 47,
     "metadata": {},
     "output_type": "execute_result"
    },
    {
     "data": {
      "image/png": "[encoded data removed]",
      "text/plain": [
       "<matplotlib.figure.Figure at 0xc1a5ba8>"
      ]
     },
     "metadata": {},
     "output_type": "display_data"
    }
   ],
   "source": [
    "# AdaBoost\n",
    "from sklearn.ensemble import AdaBoostClassifier\n",
    "from sklearn.tree import DecisionTreeClassifier\n",
    "ABC = AdaBoostClassifier(DecisionTreeClassifier(max_depth=1),\n",
    "                         algorithm=\"SAMME\",\n",
    "                         n_estimators=100)\n",
    "ABC.fit(X_train111, y_train1)\n",
    "score3=ABC.predict_proba(X_test111)\n",
    "score_AB=[]\n",
    "for i in score3:\n",
    "    score_AB.append(i[1])\n",
    "fpr, tpr, thresholds = roc_curve(y_test1, score_AB)\n",
    "auc = roc_auc_score(y_test1, score_AB)\n",
    "plot_roc_curve(fpr, tpr, 'AB auc =', auc)\n",
    "print 'AUC socre for AB is ', str(auc)\n",
    "plt.legend(loc=0)"
   ]
  },
  {
   "cell_type": "code",
   "execution_count": 41,
   "metadata": {},
   "outputs": [
    {
     "name": "stdout",
     "output_type": "stream",
     "text": [
      "accuracy rate is  0.751312443606\n"
     ]
    }
   ],
   "source": [
    "y1_ABC_predicted = ABC.predict(X_test111)\n",
    "print 'accuracy rate is ', metrics.accuracy_score(y_test1, y1_ABC_predicted)"
   ]
  },
  {
   "cell_type": "code",
   "execution_count": 6,
   "metadata": {
    "collapsed": true
   },
   "outputs": [],
   "source": [
    "def plot_roc_curve(fpr, npr, label=None, auc=None):\n",
    "    plt.plot(fpr, tpr, linewidth=2, label=label + str(auc))\n",
    "    plt.plot([0, 1], [0, 1], 'k--')\n",
    "    plt.axis([0, 1, 0, 1])\n",
    "    plt.xlabel('False Positive Rate')\n",
    "    plt.ylabel('True Positive Rate')"
   ]
  },
  {
   "cell_type": "code",
   "execution_count": null,
   "metadata": {
    "collapsed": true
   },
   "outputs": [],
   "source": [
    "plt.figure(0).clf()\n",
    "\n",
    "fpr, tpr, thresholds = roc_curve(y_test1, score_GDBT)\n",
    "auc = roc_auc_score(y_test1, score_GDBT)\n",
    "plot_roc_curve(fpr, tpr, 'GBDT auc =', auc)\n",
    "print 'AUC socre for GBDT is ', str(auc)\n",
    "\n",
    "fpr, tpr, thresholds = roc_curve(y_test1, score_XG)\n",
    "auc = roc_auc_score(y_test1, score_XG)\n",
    "plot_roc_curve(fpr, tpr, 'XG auc =', auc)\n",
    "print 'AUC socre for XG is ', str(auc)\n",
    "\n",
    "fpr, tpr, thresholds = roc_curve(y_test1, score_AB)\n",
    "auc = roc_auc_score(y_test1, score_AB)\n",
    "plot_roc_curve(fpr, tpr, 'AB auc =', auc)\n",
    "print 'AUC socre for AB is ', str(auc)\n",
    "plt.legend(loc=0)\n"
   ]
  },
  {
   "cell_type": "code",
   "execution_count": 23,
   "metadata": {
    "ExecuteTime": {
     "end_time": "2017-12-14T08:05:45.580778Z",
     "start_time": "2017-12-14T08:05:45.549804Z"
    },
    "collapsed": true
   },
   "outputs": [],
   "source": [
    "import pandas as pd\n",
    "import numpy as np\n",
    "from sklearn.model_selection import (train_test_split,KFold)\n",
    "from sklearn.metrics import mean_squared_error\n",
    "from sklearn.neural_network import MLPClassifier\n",
    "from sklearn.preprocessing import StandardScaler\n",
    "import matplotlib.pyplot as plt\n",
    "import glob\n",
    "from sklearn.metrics import roc_curve, roc_auc_score"
   ]
  },
  {
   "cell_type": "code",
   "execution_count": 19,
   "metadata": {
    "ExecuteTime": {
     "end_time": "2017-12-14T08:04:18.090749Z",
     "start_time": "2017-12-14T08:04:18.077007Z"
    },
    "collapsed": true
   },
   "outputs": [],
   "source": [
    "def plot_roc_curve(fpr, npr, label=None, auc=None):\n",
    "    plt.plot(fpr, tpr, linewidth=2, label=label + str(auc))\n",
    "    plt.plot([0, 1], [0, 1], 'k--')\n",
    "    plt.axis([0, 1, 0, 1])\n",
    "    plt.xlabel('False Positive Rate')\n",
    "    plt.ylabel('True Positive Rate')\n"
   ]
  },
  {
   "cell_type": "code",
   "execution_count": 34,
   "metadata": {
    "ExecuteTime": {
     "end_time": "2017-12-14T09:08:20.007749Z",
     "start_time": "2017-12-14T09:08:20.003521Z"
    },
    "collapsed": true
   },
   "outputs": [],
   "source": [
    "X_train1 = X_train1.drop(['User_id','Merchant_id','Coupon_id_x','Avg_coupon_got','Difference','money'], axis=1)\n",
    "X_test1 = X_test1.drop(['User_id','Merchant_id','Coupon_id_x','Avg_coupon_got','Difference','money'], axis=1)"
   ]
  },
  {
   "cell_type": "code",
   "execution_count": 17,
   "metadata": {
    "ExecuteTime": {
     "end_time": "2017-12-14T07:55:34.168453Z",
     "start_time": "2017-12-14T07:55:28.751290Z"
    }
   },
   "outputs": [
    {
     "name": "stdout",
     "output_type": "stream",
     "text": [
      "fill completed\n",
      "fill completed\n"
     ]
    }
   ],
   "source": [
    "X_train=fillna_pipeline(pd.read_csv('X_full_train.csv'))\n",
    "X_test=fillna_pipeline(pd.read_csv('X_full_test.csv'))"
   ]
  },
  {
   "cell_type": "code",
   "execution_count": 36,
   "metadata": {
    "ExecuteTime": {
     "end_time": "2017-12-14T09:25:46.763613Z",
     "start_time": "2017-12-14T09:17:44.214615Z"
    }
   },
   "outputs": [
    {
     "name": "stdout",
     "output_type": "stream",
     "text": [
      "AUC socre for RF model is  0.777659615691\n",
      "accuracy rate is  0.730723484538\n",
      "AUC socre for MLP is  0.793614654934\n",
      "accuracy rate is  0.736718344134\n",
      "AUC socre for GBDT is  0.809379488366\n",
      "accuracy rate is  0.675566674869\n",
      "AUC socre for XG is  0.817288048164\n",
      "accuracy rate is  0.678085609603\n",
      "AUC socre for AB is  0.814097872412\n",
      "accuracy rate is  0.6927617368\n",
      "AUC socre for combining model is  0.851377661222\n",
      "accuracy rate is  0.771204167008\n"
     ]
    },
    {
     "data": {
      "text/plain": [
       "<matplotlib.legend.Legend at 0x1a17c2b650>"
      ]
     },
     "execution_count": 36,
     "metadata": {},
     "output_type": "execute_result"
    },
    {
     "data": {
      "image/png": "[encoded data removed]",
      "text/plain": [
       "<matplotlib.figure.Figure at 0x1a2f7f96d0>"
      ]
     },
     "metadata": {},
     "output_type": "display_data"
    }
   ],
   "source": [
    "plt.figure(0).clf()\n",
    "Ada_coef=0.18\n",
    "XG_coef=0.3\n",
    "MLP_coef=0.09\n",
    "RF_coef=0.19\n",
    "GBDT_coef=0.24\n",
    "\n",
    "# Random Forest\n",
    "y_train=pd.read_csv('y_full_train.csv',header=None)\n",
    "y_test=pd.read_csv('y_full_test.csv',header=None)\n",
    "from sklearn.linear_model import LogisticRegression\n",
    "from sklearn.ensemble import RandomForestClassifier\n",
    "RF = RandomForestClassifier(bootstrap=True, class_weight=None, criterion='gini',\n",
    "            max_depth=5, max_features=4, max_leaf_nodes=None,\n",
    "            min_impurity_decrease=0.0, min_impurity_split=None,\n",
    "            min_samples_leaf=1, min_samples_split=2,\n",
    "            min_weight_fraction_leaf=0.0, n_estimators=10, n_jobs=1,\n",
    "            oob_score=False, verbose=0,\n",
    "            warm_start=False)\n",
    "RF.fit(X_train1, y_train1)\n",
    "y1_RFpredicted_test = RF.predict(X_test1)\n",
    "scoreRF=RF.predict_proba(X_test1)\n",
    "score_RF=[]\n",
    "for i in scoreRF:\n",
    "    score_RF.append(i[1])\n",
    "fpr, tpr, thresholds = roc_curve(y_test1, score_RF)\n",
    "auc = roc_auc_score(y_test1, score_RF)\n",
    "plot_roc_curve(fpr, tpr, 'RF model accuracy =', metrics.accuracy_score(y_test1, y1_RFpredicted_test))\n",
    "print 'AUC socre for RF model is ', auc\n",
    "print 'accuracy rate is ', str(metrics.accuracy_score(y_test1, y1_RFpredicted_test))\n",
    "\n",
    "# mlp\n",
    "Scaler = StandardScaler()\n",
    "sX_train = Scaler.fit_transform(X_train)\n",
    "sX_train = pd.DataFrame(sX_train)\n",
    "sX_test = Scaler.transform(X_test)\n",
    "sX_test = pd.DataFrame(sX_test)\n",
    "mlp = MLPClassifier(hidden_layer_sizes=(25,25,25,25,25,20), activation='tanh', solver='sgd', learning_rate='adaptive',\n",
    "                    batch_size=800, learning_rate_init=0.03,momentum=0.5, nesterovs_momentum=True)\n",
    "MLP_model=mlp.fit(sX_train,y_train)\n",
    "y1_mlp_predicted = mlp.predict(sX_test)\n",
    "scoremlp=MLP_model.predict_proba(sX_test)\n",
    "score_NN=[]\n",
    "for i in scoremlp:\n",
    "    score_NN.append(i[1])\n",
    "    \n",
    "fpr, tpr, thresholds = roc_curve(y_test1, score_NN)\n",
    "auc = roc_auc_score(y_test1, score_NN)\n",
    "plot_roc_curve(fpr, tpr, 'MLP accuracy =', metrics.accuracy_score(y_test1, y1_mlp_predicted))\n",
    "print 'AUC socre for MLP is ', auc\n",
    "print 'accuracy rate is ', str(metrics.accuracy_score(y_test1, y1_mlp_predicted))\n",
    "# GBDT\n",
    "GBDT = GradientBoostingClassifier(criterion='friedman_mse', init=None,\n",
    "              learning_rate=0.1, loss='deviance', max_depth=3,\n",
    "              max_features=None, max_leaf_nodes=None,\n",
    "              min_impurity_decrease=0.0, min_impurity_split=None,\n",
    "              min_samples_leaf=1, min_samples_split=2,\n",
    "              min_weight_fraction_leaf=0.0, n_estimators=100,\n",
    "              presort='auto', subsample=1.0, verbose=0,\n",
    "              warm_start=False)\n",
    "model=GBDT.fit(X_train111, y_train1)\n",
    "y1_GBDTpredicted_test = GBDT.predict(X_test111)\n",
    "scoreGBDT=GBDT.predict_proba(X_test111)\n",
    "score_GDBT=[]\n",
    "for i in scoreGBDT:\n",
    "    score_GDBT.append(i[1])\n",
    "\n",
    "fpr, tpr, thresholds = roc_curve(y_test1, score_GDBT)\n",
    "auc = roc_auc_score(y_test1, score_GDBT)\n",
    "plot_roc_curve(fpr, tpr, 'GBDT accuracy =', metrics.accuracy_score(y_test1,y1_GBDTpredicted_test))\n",
    "print 'AUC socre for GBDT is ', auc\n",
    "print 'accuracy rate is ', str(metrics.accuracy_score(y_test1,y1_GBDTpredicted_test))\n",
    "\n",
    "import xgboost as xgb\n",
    "from random import shuffle\n",
    "from xgboost.sklearn import XGBClassifier\n",
    "gbm = xgb.XGBClassifier(base_score=0.5, booster='gbtree', colsample_bylevel=1,\n",
    "       colsample_bytree=1, gamma=0, learning_rate=0.1, max_delta_step=0,\n",
    "       max_depth=2, min_child_weight=1, missing=None, n_estimators=20,\n",
    "       n_jobs=1, nthread=None, objective='binary:logistic', \n",
    "       reg_alpha=0, reg_lambda=1, scale_pos_weight=1, seed=None,\n",
    "       silent=True, subsample=1)\n",
    "GBM_model=gbm.fit(X_train1, y_train1)\n",
    "score_1=GBM_model.predict_proba(X_test1)\n",
    "y1_XGBpredicted_test = GBM_model.predict(X_test1)\n",
    "score_XG=[]\n",
    "for i in score_1:\n",
    "    score_XG.append(i[1])\n",
    "    \n",
    "fpr, tpr, thresholds = roc_curve(y_test1, score_XG)\n",
    "auc = roc_auc_score(y_test1, score_XG)\n",
    "plot_roc_curve(fpr, tpr, 'XG accuracy =', metrics.accuracy_score(y_test1, y1_XGBpredicted_test))\n",
    "print 'AUC socre for XG is ', auc\n",
    "print 'accuracy rate is ', str(metrics.accuracy_score(y_test1, y1_XGBpredicted_test))\n",
    "\n",
    "# AdaBoost\n",
    "from sklearn.ensemble import AdaBoostClassifier\n",
    "from sklearn.tree import DecisionTreeClassifier\n",
    "ABC = AdaBoostClassifier(DecisionTreeClassifier(max_depth=1),\n",
    "                         algorithm=\"SAMME\",\n",
    "                         learning_rate =0.05,\n",
    "                         n_estimators=20)\n",
    "ABC.fit(X_train1, y_train1)\n",
    "y1_ABpredicted_test = ABC.predict(X_test1)\n",
    "\n",
    "scoreAB=ABC.predict_proba(X_test1)\n",
    "score_AB=[]\n",
    "for i in scoreAB:\n",
    "    score_AB.append(i[1])\n",
    "fpr, tpr, thresholds = roc_curve(y_test1, score_AB)\n",
    "auc = roc_auc_score(y_test1, score_AB)\n",
    "plot_roc_curve(fpr, tpr, 'AB accuracy =', metrics.accuracy_score(y_test1, y1_ABpredicted_test))\n",
    "print 'AUC socre for AB is ', auc\n",
    "print 'accuracy rate is ', str(metrics.accuracy_score(y_test1, y1_ABpredicted_test))\n",
    "\n",
    "# Ensemble model\n",
    "scoreEM=scoreAB*Ada_coef+scoreXG*XG_coef+scoreRF*RF_coef+scoremlp*MLP_coef+scoreGBDT*GBDT_coef\n",
    "score_EM=[]\n",
    "for i in scoreEM:\n",
    "    score_EM.append(i[1])\n",
    "fpr, tpr, thresholds = roc_curve(y_test1, score_EM)\n",
    "auc = roc_auc_score(y_test1, score_EM)\n",
    "prediction=int(score_EM>0.5)\n",
    "plot_roc_curve(fpr, tpr, 'combining model accuracy =', metrics.accuracy_score(y_test1, prediction))\n",
    "print 'AUC socre for combining model is ', auc\n",
    "print 'accuracy rate is ', str(metrics.accuracy_score(y_test1, prediction))\n",
    "\n",
    "plt.legend(loc=0)"
   ]
  },
  {
   "cell_type": "code",
   "execution_count": null,
   "metadata": {
    "collapsed": true
   },
   "outputs": [],
   "source": [
    "from sklearn.svm import SVC\n",
    "GaussianSVC = SVC(C=0.5, probability=True)\n",
    "GaussianSVC.fit(X_train111[:100000], y_train1[:100000])\n",
    "score4=GaussianSVC.predict_proba(X_test111[:1000])\n",
    "score_SVC=[]\n",
    "for i in score4:\n",
    "    score_SVC.append(i[1])\n",
    "fpr, tpr, thresholds = roc_curve(y_test1[:1000], score_SVC)\n",
    "auc = roc_auc_score(y_test1[:1000], score_SVC)\n",
    "plot_roc_curve(fpr, tpr, 'SVC auc =', auc)\n",
    "print 'AUC socre for SVC is ', str(auc)\n",
    "plt.legend(loc=0)"
   ]
  },
  {
   "cell_type": "markdown",
   "metadata": {},
   "source": [
    "## Offline \n"
   ]
  },
  {
   "cell_type": "code",
   "execution_count": 42,
   "metadata": {
    "collapsed": true
   },
   "outputs": [],
   "source": [
    "offline_y_train = pd.read_csv('offline_y_train2.csv',header=None)\n",
    "offline_y_test = pd.read_csv('offline_y_test2.csv',header=None)\n",
    "offline_X_train = pd.read_csv('offline_X_train2.csv')\n",
    "offline_X_test = pd.read_csv('offline_X_test2.csv')"
   ]
  },
  {
   "cell_type": "code",
   "execution_count": 44,
   "metadata": {
    "collapsed": true
   },
   "outputs": [],
   "source": [
    "offline_train_x=fillna_pipeline(offline_train)\n",
    "offline_test_x=fillna_pipeline(offline_test)"
   ]
  },
  {
   "cell_type": "code",
   "execution_count": 45,
   "metadata": {
    "collapsed": true
   },
   "outputs": [],
   "source": [
    "del offline_X_train['Date_received_month']\n",
    "del offline_X_test['Date_received_month']"
   ]
  },
  {
   "cell_type": "code",
   "execution_count": 60,
   "metadata": {},
   "outputs": [
    {
     "name": "stdout",
     "output_type": "stream",
     "text": [
      "AUC socre for RF is  0.616018304834\n",
      "accuracy rate is  0.570568263488\n",
      "AUC socre for MLP is  0.552971292078\n",
      "accuracy rate is  0.574450860367\n",
      "AUC socre for GBDT is  0.588121354213\n",
      "accuracy rate is  0.574450860367\n",
      "AUC socre for XG is  0.603229200608\n",
      "accuracy rate is  0.574244339256\n",
      "AUC socre for AB is  0.59223514774\n",
      "accuracy rate is  0.574450860367\n",
      "AUC socre for combining model is  0.599955472008\n",
      "accuracy rate is  0.573038255971\n"
     ]
    },
    {
     "data": {
      "text/plain": [
       "<matplotlib.legend.Legend at 0x62bd278>"
      ]
     },
     "execution_count": 60,
     "metadata": {},
     "output_type": "execute_result"
    },
    {
     "data": {
      "image/png": "[encoded data removed]",
      "text/plain": [
       "<matplotlib.figure.Figure at 0x371a7048>"
      ]
     },
     "metadata": {},
     "output_type": "display_data"
    }
   ],
   "source": [
    "plt.figure(0).clf()\n",
    "X_train111 =offline_X_train\n",
    "y_train1 =offline_y_train\n",
    "X_test111 = offline_X_test\n",
    "y_test1 = offline_y_test\n",
    "\n",
    "Ada_coef=0.18\n",
    "XG_coef=0.24\n",
    "MLP_coef=0.15\n",
    "RF_coef=0.2\n",
    "GBDT_coef=0.23\n",
    "\n",
    "# Random Forest \n",
    "from sklearn.linear_model import LogisticRegression\n",
    "from sklearn.ensemble import RandomForestClassifier\n",
    "RF = RandomForestClassifier(bootstrap=True, class_weight=None, criterion='gini',\n",
    "            max_depth=3, max_features=5, max_leaf_nodes=None,\n",
    "            min_impurity_decrease=0.0, min_impurity_split=None,\n",
    "            min_samples_leaf=1, min_samples_split=2,\n",
    "            warm_start=False)\n",
    "RF.fit(X_train111, y_train1)\n",
    "y1_RFpredicted_test = RF.predict(X_test111)\n",
    "scoreRF=RF.predict_proba(X_test111)\n",
    "score_RF=[]\n",
    "for i in scoreRF:\n",
    "    score_RF.append(i[1])\n",
    "fpr, tpr, thresholds = roc_curve(y_test1, score_RF)\n",
    "auc = roc_auc_score(y_test1, score_RF)\n",
    "plot_roc_curve(fpr, tpr, 'RF accuracy =', metrics.accuracy_score(y_test1, y1_RFpredicted_test))\n",
    "print 'AUC socre for RF is ', auc\n",
    "print 'accuracy rate is ', str(metrics.accuracy_score(y_test1, y1_RFpredicted_test))\n",
    "\n",
    "# mlp\n",
    "Scaler = StandardScaler()\n",
    "sX_train1 = Scaler.fit_transform(X_train111)\n",
    "sX_train1 = pd.DataFrame(sX_train1)\n",
    "sX_test1 = Scaler.transform(X_test111)\n",
    "sX_test1 = pd.DataFrame(sX_test1)\n",
    "mlp = MLPClassifier(hidden_layer_sizes=(10,10,10,8,8,5), activation='relu', solver='sgd', learning_rate='adaptive',\n",
    "                    batch_size=1000, learning_rate_init=0.05)\n",
    "MLP_model=mlp.fit(sX_train1,y_train1)\n",
    "y1_mlp_predicted = mlp.predict(sX_test1)\n",
    "scoremlp=MLP_model.predict_proba(sX_test1)\n",
    "score_NN=[]\n",
    "for i in scoremlp:\n",
    "    score_NN.append(i[1])\n",
    "    \n",
    "fpr, tpr, thresholds = roc_curve(y_test1, score_NN)\n",
    "auc = roc_auc_score(y_test1, score_NN)\n",
    "plot_roc_curve(fpr, tpr, 'MLP accuracy =', metrics.accuracy_score(y_test1, y1_mlp_predicted))\n",
    "print 'AUC socre for MLP is ', auc\n",
    "print 'accuracy rate is ', str(metrics.accuracy_score(y_test1, y1_mlp_predicted))\n",
    "# GBDT\n",
    "GBDT = GradientBoostingClassifier(criterion='friedman_mse', init=None,\n",
    "              learning_rate=0.1, loss='deviance', max_depth=2,\n",
    "              max_features=None, max_leaf_nodes=None,\n",
    "              min_impurity_decrease=0.0, min_impurity_split=None,\n",
    "              min_samples_leaf=1, min_samples_split=2,\n",
    "              min_weight_fraction_leaf=0.0, n_estimators=150,\n",
    "              presort='auto', subsample=1.0, verbose=0,\n",
    "              warm_start=False)\n",
    "model=GBDT.fit(X_train111, y_train1)\n",
    "y1_GBDTpredicted_test = GBDT.predict(X_test111)\n",
    "scoreGBDT=GBDT.predict_proba(X_test111)\n",
    "score_GDBT=[]\n",
    "for i in scoreGBDT:\n",
    "    score_GDBT.append(i[1])\n",
    "\n",
    "fpr, tpr, thresholds = roc_curve(y_test1, score_GDBT)\n",
    "auc = roc_auc_score(y_test1, score_GDBT)\n",
    "plot_roc_curve(fpr, tpr, 'GBDT accuracy =', metrics.accuracy_score(y_test1,y1_GBDTpredicted_test))\n",
    "print 'AUC socre for GBDT is ', auc\n",
    "print 'accuracy rate is ', str(metrics.accuracy_score(y_test1,y1_GBDTpredicted_test))\n",
    "\n",
    "import xgboost as xgb\n",
    "from random import shuffle\n",
    "from xgboost.sklearn import XGBClassifier\n",
    "gbm = xgb.XGBClassifier(base_score=0.5, booster='gbtree', colsample_bylevel=1,\n",
    "       colsample_bytree=1, gamma=0, learning_rate=0.1, max_delta_step=0,\n",
    "       max_depth=2, min_child_weight=1, missing=None, n_estimators=25,\n",
    "       n_jobs=1, nthread=None, objective='binary:logistic',\n",
    "       reg_alpha=0, reg_lambda=1, scale_pos_weight=1, seed=None,\n",
    "       silent=True, subsample=1)\n",
    "GBM_model=gbm.fit(X_train111, y_train1)\n",
    "scoreXG=GBM_model.predict_proba(X_test111)\n",
    "y1_XGBpredicted_test = GBM_model.predict(X_test111)\n",
    "score_XG=[]\n",
    "for i in scoreXG:\n",
    "    score_XG.append(i[1])\n",
    "    \n",
    "fpr, tpr, thresholds = roc_curve(y_test1, score_XG)\n",
    "auc = roc_auc_score(y_test1, score_XG)\n",
    "plot_roc_curve(fpr, tpr, 'XG accuracy =', metrics.accuracy_score(y_test1, y1_XGBpredicted_test))\n",
    "print 'AUC socre for XG is ', auc\n",
    "print 'accuracy rate is ', str(metrics.accuracy_score(y_test1, y1_XGBpredicted_test))\n",
    "\n",
    "# AdaBoost\n",
    "from sklearn.ensemble import AdaBoostClassifier\n",
    "from sklearn.tree import DecisionTreeClassifier\n",
    "ABC = AdaBoostClassifier(DecisionTreeClassifier(max_depth=2),\n",
    "                         #algorithm=\"SAMME\",\n",
    "                         learning_rate =0.05,\n",
    "                         n_estimators=10)\n",
    "ABC.fit(X_train111, y_train1)\n",
    "y1_ABpredicted_test = ABC.predict(X_test111)\n",
    "\n",
    "scoreAB=ABC.predict_proba(X_test111)\n",
    "score_AB=[]\n",
    "for i in scoreAB:\n",
    "    score_AB.append(i[1])\n",
    "fpr, tpr, thresholds = roc_curve(y_test1, score_AB)\n",
    "auc = roc_auc_score(y_test1, score_AB)\n",
    "plot_roc_curve(fpr, tpr, 'AB accuracy =', metrics.accuracy_score(y_test1, y1_ABpredicted_test))\n",
    "print 'AUC socre for AB is ', auc\n",
    "print 'accuracy rate is ', str(metrics.accuracy_score(y_test1, y1_ABpredicted_test))\n",
    "\n",
    "# Ensemble model\n",
    "\n",
    "# Ensemble model\n",
    "scoreEM=scoreAB*Ada_coef+scoreXG*XG_coef+scoreRF*RF_coef+scoremlp*MLP_coef+scoreGBDT*GBDT_coef\n",
    "score_EM=[]\n",
    "for i in scoreEM:\n",
    "    score_EM.append(i[1])\n",
    "fpr, tpr, thresholds = roc_curve(y_test1, score_EM)\n",
    "auc = roc_auc_score(y_test1, score_EM)\n",
    "prediction=int(score_EM>0.5)\n",
    "plot_roc_curve(fpr, tpr, 'combining model accuracy =', metrics.accuracy_score(y_test1, prediction))\n",
    "print 'AUC socre for combining model is ', auc\n",
    "print 'accuracy rate is ', str(metrics.accuracy_score(y_test1, prediction))\n",
    "\n",
    "\n",
    "plt.legend(loc=0)"
   ]
  },
  {
   "cell_type": "code",
   "execution_count": null,
   "metadata": {
    "collapsed": true
   },
   "outputs": [],
   "source": [
    "# SVM\n",
    "from sklearn.svm import SVC\n",
    "GaussianSVC = SVC(kernel='rbf',C=2)\n",
    "GaussianSVC.fit(sX_train1, y_train1)\n",
    "score4=GaussianSVC.predict_proba(sX_test1)\n",
    "score_SVC=[]\n",
    "for i in score4:\n",
    "    score_SVC.append(i[1])\n",
    "fpr, tpr, thresholds = roc_curve(y_test1, score_SVC)\n",
    "auc = roc_auc_score(y_test1, score_SVC)\n",
    "plot_roc_curve(fpr, tpr, 'SVC auc =', auc)\n",
    "print 'AUC socre for SVC is ', str(auc)\n",
    "plt.legend(loc=0)"
   ]
  },
  {
   "cell_type": "code",
   "execution_count": null,
   "metadata": {
    "collapsed": true
   },
   "outputs": [],
   "source": []
  },
  {
   "cell_type": "code",
   "execution_count": 46,
   "metadata": {
    "scrolled": true
   },
   "outputs": [
    {
     "name": "stdout",
     "output_type": "stream",
     "text": [
      "max_depth:11\n",
      "n_estimator:80\n",
      "learning_rate:0.13\n",
      "subsample:1.0\n",
      "min_child_weight:1\n",
      "ada_estimators100\n",
      "ada_depth2\n",
      "ada_para0.444154284047\n",
      "0.842103725696\n",
      "max_depth:11\n",
      "n_estimator:80\n",
      "learning_rate:0.13\n",
      "subsample:1.0\n",
      "min_child_weight:1\n",
      "ada_estimators100\n",
      "ada_depth2\n",
      "ada_para0.426468084993\n",
      "0.842103725237\n",
      "max_depth:11\n",
      "n_estimator:80\n",
      "learning_rate:0.13\n",
      "subsample:0.9\n",
      "min_child_weight:2\n",
      "ada_estimators180\n",
      "ada_depth2\n",
      "ada_para0.764064567747\n",
      "0.845438556053\n",
      "max_depth:8\n",
      "n_estimator:95\n",
      "learning_rate:0.11\n",
      "subsample:0.9\n",
      "min_child_weight:2\n",
      "ada_estimators180\n",
      "ada_depth0\n",
      "ada_para0.834965213433\n",
      "0.845436174153\n",
      "{'ada_depth': 2, 'ada_estimators': 8, 'learning_rate': 4, 'ada_para': 0.7640645677468523, 'min_child_weight': 1, 'n_estimators': 6, 'subsample': 2, 'max_depth': 6}\n",
      "max_depth:11\n",
      "n_estimator:80\n",
      "learning_rate:0.13\n",
      "subsample:0.9\n",
      "min_child_weight:2\n",
      "ada_estimators180\n",
      "ada_depth2\n",
      "ada_para0.764064567747\n",
      "0.845438556053\n",
      "-0.845438556053\n"
     ]
    }
   ],
   "source": [
    "import numpy as np\n",
    "import pandas as pd\n",
    "from sklearn.preprocessing import MinMaxScaler\n",
    "import xgboost as xgb\n",
    "from random import shuffle\n",
    "from xgboost.sklearn import XGBClassifier\n",
    "from sklearn.cross_validation import cross_val_score\n",
    "import pickle\n",
    "import time\n",
    "from hyperopt import fmin, tpe, hp,space_eval,rand,Trials,partial,STATUS_OK\n",
    "\n",
    "\n",
    "\n",
    "\n",
    "def GBM(argsDict):\n",
    "    max_depth = argsDict[\"max_depth\"] + 5\n",
    "    n_estimators = argsDict['n_estimators'] * 5 + 50\n",
    "    learning_rate = argsDict[\"learning_rate\"] * 0.02 + 0.05\n",
    "    subsample = argsDict[\"subsample\"] * 0.1 + 0.7\n",
    "    min_child_weight = argsDict[\"min_child_weight\"]+1\n",
    "    ada_estimators = argsDict['ada_estimators'] * 10 + 100\n",
    "    ada_depth = argsDict[\"ada_depth\"] \n",
    "    ada_para=argsDict[\"ada_para\"] \n",
    "    \n",
    "    print \"max_depth:\" + str(max_depth)\n",
    "    print \"n_estimator:\" + str(n_estimators)\n",
    "    print \"learning_rate:\" + str(learning_rate)\n",
    "    print \"subsample:\" + str(subsample)\n",
    "    print \"min_child_weight:\" + str(min_child_weight)\n",
    "    print 'ada_estimators'+str(ada_estimators)\n",
    "    print 'ada_depth'+str(ada_depth)\n",
    "    print 'ada_para'+str(ada_para)\n",
    "    \n",
    "    gbm = xgb.XGBClassifier(nthread=4,   \n",
    "                            max_depth=max_depth,  \n",
    "                            n_estimators=n_estimators,  \n",
    "                            learning_rate=learning_rate, \n",
    "                            subsample=subsample,      \n",
    "                            min_child_weight=min_child_weight,   \n",
    "                            max_delta_step = 10,  \n",
    "                            objective=\"binary:logistic\")\n",
    "    ABC = AdaBoostClassifier(DecisionTreeClassifier(max_depth=ada_depth),\n",
    "                         algorithm=\"SAMME\",\n",
    "                         n_estimators=ada_estimators)\n",
    "    ABC_model1=gbm.fit(X_train111, y_train1)\n",
    "    scoreADA1=ABC_model1.predict_proba(X_test111)\n",
    "    \n",
    "    GBM_model1=gbm.fit(X_train111, y_train1)\n",
    "    scoreGBM1=GBM_model1.predict_proba(X_test111)\n",
    "    final_score1=scoreADA1*ada_para+scoreGBM1*(1-ada_para)\n",
    "    score_1=[]\n",
    "    for i in final_score1:\n",
    "        score_1.append(i[1])\n",
    "        \n",
    "    ABC_model2=gbm.fit(X_train111, y_train1)\n",
    "    scoreADA2=ABC_model1.predict_proba(X_test111)\n",
    "    \n",
    "    GBM_model2=gbm.fit(X_train111, y_train1)\n",
    "    scoreGBM2=GBM_model2.predict_proba(X_test111)\n",
    "    final_score2=scoreADA2*ada_para+scoreGBM2*(1-ada_para)\n",
    "    score_2=[]\n",
    "    for i in final_score2:\n",
    "        score_2.append(i[1]) \n",
    "\n",
    "\n",
    "\n",
    "    metric = (roc_auc_score(y_test1, score_1)+roc_auc_score(y_test1, score_2))/2\n",
    "    print metric\n",
    "    return -metric\n",
    "\n",
    "space = {\"max_depth\":hp.randint(\"max_depth\",15),\n",
    "         \"n_estimators\":hp.randint(\"n_estimators\",10),  #[0,1,2,3,4,5] -> [50,]\n",
    "         \"learning_rate\":hp.randint(\"learning_rate\",6),  #[0,1,2,3,4,5] -> 0.05,0.06\n",
    "         \"subsample\":hp.randint(\"subsample\",4),#[0,1,2,3] -> [0.7,0.8,0.9,1.0]\n",
    "         \"min_child_weight\":hp.randint(\"min_child_weight\",5), #\n",
    "         \"ada_depth\":hp.randint(\"ada_depth\",5),\n",
    "         \"ada_estimators\":hp.randint(\"ada_estimators\",10),\n",
    "         \"ada_para\":hp.uniform(\"ada_para\",0,1)\n",
    "        }\n",
    "algo = partial(tpe.suggest,n_startup_jobs=1)\n",
    "best = fmin(GBM,space,algo=algo,max_evals=4)\n",
    "\n",
    "print best\n",
    "print GBM(best)"
   ]
  },
  {
   "cell_type": "code",
   "execution_count": null,
   "metadata": {
    "collapsed": true
   },
   "outputs": [],
   "source": [
    "\n",
    "gbm = xgb.XGBClassifier(max_depth=11,\n",
    "                    n_estimator=80,\n",
    "                    learning_rate=0.13,\n",
    "                    subsample=0.9,\n",
    "                    min_child_weight=2,\n",
    "                    ada_estimators180,\n",
    "                    ada_depth2,\n",
    "                    ada_para=0.764064567747)"
   ]
  }
 ],
 "metadata": {
  "anaconda-cloud": {},
  "kernelspec": {
   "display_name": "Python [default]",
   "language": "python",
   "name": "python2"
  },
  "language_info": {
   "codemirror_mode": {
    "name": "ipython",
    "version": 2
   },
   "file_extension": ".py",
   "mimetype": "text/x-python",
   "name": "python",
   "nbconvert_exporter": "python",
   "pygments_lexer": "ipython2",
   "version": "2.7.14"
  },
  "nbTranslate": {
   "displayLangs": [
    "*"
   ],
   "hotkey": "alt-t",
   "langInMainMenu": true,
   "sourceLang": "en",
   "targetLang": "fr",
   "useGoogleTranslate": true
  },
  "toc": {
   "nav_menu": {},
   "number_sections": true,
   "sideBar": true,
   "skip_h1_title": false,
   "toc_cell": false,
   "toc_position": {},
   "toc_section_display": "block",
   "toc_window_display": false
  },
  "varInspector": {
   "cols": {
    "lenName": 16,
    "lenType": 16,
    "lenVar": 40
   },
   "kernels_config": {
    "python": {
     "delete_cmd_postfix": "",
     "delete_cmd_prefix": "del ",
     "library": "var_list.py",
     "varRefreshCmd": "print(var_dic_list())"
    },
    "r": {
     "delete_cmd_postfix": ") ",
     "delete_cmd_prefix": "rm(",
     "library": "var_list.r",
     "varRefreshCmd": "cat(var_dic_list()) "
    }
   },
   "types_to_exclude": [
    "module",
    "function",
    "builtin_function_or_method",
    "instance",
    "_Feature"
   ],
   "window_display": false
  }
 },
 "nbformat": 4,
 "nbformat_minor": 2
}
