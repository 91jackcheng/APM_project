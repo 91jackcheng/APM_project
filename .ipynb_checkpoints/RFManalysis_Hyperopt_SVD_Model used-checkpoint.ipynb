{
 "cells": [
  {
   "cell_type": "markdown",
   "metadata": {},
   "source": [
    "# Online"
   ]
  },
  {
   "cell_type": "code",
   "execution_count": 2,
   "metadata": {
    "ExecuteTime": {
     "end_time": "2017-12-13T01:03:04.922698Z",
     "start_time": "2017-12-13T01:03:01.924994Z"
    },
    "collapsed": true
   },
   "outputs": [],
   "source": [
    "import pandas as pd\n",
    "import warnings\n",
    "import numpy as np\n",
    "from pandas import Series, DataFrame\n",
    "warnings.filterwarnings(\"ignore\")"
   ]
  },
  {
   "cell_type": "code",
   "execution_count": 46,
   "metadata": {
    "ExecuteTime": {
     "end_time": "2017-12-14T06:25:42.008399Z",
     "start_time": "2017-12-14T06:25:42.002326Z"
    },
    "collapsed": true
   },
   "outputs": [],
   "source": [
    "\n",
    "from sklearn.metrics import confusion_matrix\n",
    "from sklearn import metrics"
   ]
  },
  {
   "cell_type": "code",
   "execution_count": 239,
   "metadata": {
    "ExecuteTime": {
     "end_time": "2017-12-14T14:36:35.561937Z",
     "start_time": "2017-12-14T14:36:35.534518Z"
    },
    "collapsed": true
   },
   "outputs": [],
   "source": [
    "\n",
    "\n",
    "from sklearn.ensemble import RandomForestClassifier\n",
    "from sklearn.metrics import confusion_matrix\n",
    "from sklearn.ensemble import GradientBoostingClassifier\n",
    "from sklearn.model_selection import GridSearchCV\n",
    "from xgboost.sklearn import XGBClassifier\n",
    "from time import time\n",
    "import matplotlib.pyplot as plt\n",
    "from sklearn.model_selection import train_test_split\n",
    "import warnings\n",
    "warnings.filterwarnings(\"ignore\")\n",
    "%matplotlib inline"
   ]
  },
  {
   "cell_type": "code",
   "execution_count": 6,
   "metadata": {
    "ExecuteTime": {
     "end_time": "2017-12-13T01:05:58.674132Z",
     "start_time": "2017-12-13T01:05:58.663329Z"
    },
    "collapsed": true
   },
   "outputs": [],
   "source": [
    "def filter1(s,f):\n",
    "    if s==f:\n",
    "        return 0\n",
    "    else:\n",
    "        return float(s)\n",
    "def transform(input_data):\n",
    "    input_data['Coupon_requirement']=input_data['coupon_requirement'].map(lambda x: filter1(x,'null'))\n",
    "    input_data['Equivalent_discount']=input_data['equivalent_discount'].map(lambda x: filter1(x,'fixed'))\n",
    "    input_data['Fixed']=input_data['equivalent_discount'].map(lambda x: int(x=='fixed'))\n",
    "    return input_data.drop(['coupon_requirement','equivalent_discount'],axis=1)"
   ]
  },
  {
   "cell_type": "code",
   "execution_count": 19,
   "metadata": {
    "ExecuteTime": {
     "end_time": "2017-12-14T05:26:08.231070Z",
     "start_time": "2017-12-14T05:26:08.212629Z"
    },
    "collapsed": true
   },
   "outputs": [],
   "source": [
    "\n",
    "def fillna_pipeline(input_data):\n",
    "    input_data=transform(input_data)\n",
    "    input_data['Num_coupon_used'].fillna(0,inplace=True)\n",
    "    input_data['Difference'].fillna(input_data['Difference'].mean(),inplace=True)\n",
    "    input_data['money'].fillna(input_data['money'].mean(),inplace=True)\n",
    "    input_data['Tot_coupon_sent'].fillna(input_data['Tot_coupon_sent'].mean(),inplace=True)\n",
    "    input_data['num_type'].fillna(input_data['num_type'].mean(),inplace=True)\n",
    "    input_data[\"Customer's Total Usage for Merchant's Coupons\"].fillna(input_data[\"Customer's Total Usage for Merchant's Coupons\"].mean(),inplace=True)\n",
    "    input_data[\"Customer's Total Usage Fraction for Merchant\"].fillna(input_data[\"Customer's Total Usage Fraction for Merchant\"].mean(),inplace=True)\n",
    "    input_data[\"Customer's Total Received by Merchant\"].fillna(input_data[\"Customer's Total Received by Merchant\"].mean(),inplace=True)\n",
    "    input_data[\"Merchant's Total Usage Fraction\"].fillna(input_data[\"Merchant's Total Usage Fraction\"].mean(),inplace=True)\n",
    "    input_data[\"Customer's Inbox Share by Merchant\"].fillna(input_data[\"Customer's Inbox Share by Merchant\"].mean(),inplace=True)\n",
    "    print 'fill completed'\n",
    "    return input_data"
   ]
  },
  {
   "cell_type": "code",
   "execution_count": 41,
   "metadata": {
    "ExecuteTime": {
     "end_time": "2017-12-04T21:29:47.680445Z",
     "start_time": "2017-12-04T21:29:47.514404Z"
    },
    "collapsed": true
   },
   "outputs": [],
   "source": [
    "y_train1=pd.read_csv('y_train1.csv',header=None)\n",
    "y_test1=pd.read_csv('y_test1.csv',header=None)"
   ]
  },
  {
   "cell_type": "code",
   "execution_count": 42,
   "metadata": {
    "ExecuteTime": {
     "end_time": "2017-12-04T21:30:03.047899Z",
     "start_time": "2017-12-04T21:29:58.810557Z"
    }
   },
   "outputs": [
    {
     "name": "stdout",
     "output_type": "stream",
     "text": [
      "fill completed\n",
      "fill completed\n"
     ]
    }
   ],
   "source": [
    "X_train1=fillna_pipeline(pd.read_csv('X_train1.csv'))\n",
    "X_test1=fillna_pipeline(pd.read_csv('X_test1.csv'))"
   ]
  },
  {
   "cell_type": "code",
   "execution_count": 43,
   "metadata": {
    "ExecuteTime": {
     "end_time": "2017-12-04T21:30:21.646798Z",
     "start_time": "2017-12-04T21:30:16.598163Z"
    }
   },
   "outputs": [
    {
     "name": "stdout",
     "output_type": "stream",
     "text": [
      "fill completed\n",
      "fill completed\n"
     ]
    }
   ],
   "source": [
    "y_train2=pd.read_csv('y_train2.csv',header=None)\n",
    "y_test2=pd.read_csv('y_test2.csv',header=None)\n",
    "X_train2=fillna_pipeline(pd.read_csv('X_train2.csv'))\n",
    "X_test2=fillna_pipeline(pd.read_csv('X_test2.csv'))"
   ]
  },
  {
   "cell_type": "code",
   "execution_count": 64,
   "metadata": {
    "ExecuteTime": {
     "end_time": "2017-12-14T09:20:33.290657Z",
     "start_time": "2017-12-14T09:20:33.256390Z"
    }
   },
   "outputs": [
    {
     "data": {
      "text/plain": [
       "Index([u'Date_received_week', u'Date_received_month', u'Tot_coupon_sent',\n",
       "       u'Num_coupon_used', u'num_type',\n",
       "       u'Customer's Total Usage Fraction for Merchant',\n",
       "       u'Customer's Total Usage for Merchant's Coupons',\n",
       "       u'Customer's Total Received by Merchant',\n",
       "       u'Merchant's Total Usage Fraction',\n",
       "       u'Customer's Inbox Share by Merchant', u'Difference', u'money',\n",
       "       u'Coupon_requirement', u'Equivalent_discount', u'Fixed'],\n",
       "      dtype='object')"
      ]
     },
     "execution_count": 64,
     "metadata": {},
     "output_type": "execute_result"
    }
   ],
   "source": [
    "X_train.columns"
   ]
  },
  {
   "cell_type": "code",
   "execution_count": 13,
   "metadata": {
    "ExecuteTime": {
     "end_time": "2017-12-04T01:05:42.414605Z",
     "start_time": "2017-12-04T01:02:55.024735Z"
    },
    "collapsed": true
   },
   "outputs": [],
   "source": [
    "GBDT = GradientBoostingClassifier(n_estimators=150,max_depth=5 )\n",
    "model=GBDT.fit(X_train1, y_train1)\n",
    "\n"
   ]
  },
  {
   "cell_type": "code",
   "execution_count": 14,
   "metadata": {
    "ExecuteTime": {
     "end_time": "2017-12-04T01:05:47.147698Z",
     "start_time": "2017-12-04T01:05:45.967368Z"
    }
   },
   "outputs": [
    {
     "data": {
      "text/plain": [
       "0.76818734241506281"
      ]
     },
     "execution_count": 14,
     "metadata": {},
     "output_type": "execute_result"
    }
   ],
   "source": [
    "y1_GBDTpredicted_test = GBDT.predict(X_test1)\n",
    "metrics.accuracy_score(y_test1,y1_GBDTpredicted_test)"
   ]
  },
  {
   "cell_type": "code",
   "execution_count": 15,
   "metadata": {
    "ExecuteTime": {
     "end_time": "2017-12-04T01:05:52.038773Z",
     "start_time": "2017-12-04T01:05:50.963757Z"
    },
    "collapsed": true
   },
   "outputs": [],
   "source": [
    "score=GBDT.predict_proba(X_test1)"
   ]
  },
  {
   "cell_type": "code",
   "execution_count": 16,
   "metadata": {
    "ExecuteTime": {
     "end_time": "2017-12-04T01:05:55.938629Z",
     "start_time": "2017-12-04T01:05:55.756156Z"
    },
    "collapsed": true
   },
   "outputs": [],
   "source": [
    "score_GDBT=[]\n",
    "for i in score:\n",
    "    score_GDBT.append(i[1])\n"
   ]
  },
  {
   "cell_type": "code",
   "execution_count": 255,
   "metadata": {
    "ExecuteTime": {
     "end_time": "2017-12-14T16:41:09.127014Z",
     "start_time": "2017-12-14T16:41:03.858431Z"
    }
   },
   "outputs": [
    {
     "name": "stdout",
     "output_type": "stream",
     "text": [
      "fill completed\n",
      "fill completed\n"
     ]
    }
   ],
   "source": [
    "def transform(input_data):\n",
    "    input_data['Coupon_requirement']=input_data['coupon_requirement'].map(lambda x: filter1(x,'null'))\n",
    "    input_data['Equivalent_discount']=input_data['equivalent_discount'].map(lambda x: filter1(x,'fixed'))\n",
    "    input_data['Fixed']=input_data['equivalent_discount'].map(lambda x: int(x=='fixed'))\n",
    "    return input_data.drop(['coupon_requirement','equivalent_discount'],axis=1)\n",
    "y_train=pd.read_csv('y_full_train.csv',header=None)\n",
    "y_test=pd.read_csv('y_full_test.csv',header=None)\n",
    "X_train=fillna_pipeline(pd.read_csv('X_full_train.csv'))\n",
    "X_test=fillna_pipeline(pd.read_csv('X_full_test.csv'))"
   ]
  },
  {
   "cell_type": "code",
   "execution_count": 258,
   "metadata": {
    "ExecuteTime": {
     "end_time": "2017-12-14T16:45:05.088344Z",
     "start_time": "2017-12-14T16:45:05.083528Z"
    },
    "collapsed": true
   },
   "outputs": [],
   "source": [
    "gbm =xgb.XGBClassifier(max_depth=20,n_estimator=70,learning_rate=0.13,subsample=0.9,min_child_weight=5)"
   ]
  },
  {
   "cell_type": "code",
   "execution_count": 259,
   "metadata": {
    "ExecuteTime": {
     "end_time": "2017-12-14T16:51:55.757550Z",
     "start_time": "2017-12-14T16:45:08.694830Z"
    },
    "collapsed": true
   },
   "outputs": [],
   "source": [
    "GBM_model2=gbm.fit(X_train, y_train)"
   ]
  },
  {
   "cell_type": "code",
   "execution_count": 260,
   "metadata": {
    "ExecuteTime": {
     "end_time": "2017-12-14T16:52:06.894572Z",
     "start_time": "2017-12-14T16:51:59.574151Z"
    }
   },
   "outputs": [
    {
     "name": "stdout",
     "output_type": "stream",
     "text": [
      "Final Test set AUC socre for XG is  0.862088974633\n"
     ]
    },
    {
     "data": {
      "text/plain": [
       "<matplotlib.legend.Legend at 0x11fd1ac50>"
      ]
     },
     "execution_count": 260,
     "metadata": {},
     "output_type": "execute_result"
    },
    {
     "data": {
      "image/png": "[encoded data removed]",
      "text/plain": [
       "<matplotlib.figure.Figure at 0x110b82890>"
      ]
     },
     "metadata": {},
     "output_type": "display_data"
    }
   ],
   "source": [
    "score2=GBM_model2.predict_proba(X_test)\n",
    "score_XG2=[]\n",
    "for i in score2:\n",
    "    score_XG2.append(i[1])\n",
    "fpr, tpr, thresholds = roc_curve(y_test, score_XG2)\n",
    "auc = roc_auc_score(y_test, score_XG2)\n",
    "plot_roc_curve(fpr, tpr, 'XG auc =', auc)\n",
    "print 'Final Test set AUC socre for XG is ', str(auc)\n",
    "plt.legend(loc=0)"
   ]
  },
  {
   "cell_type": "code",
   "execution_count": 263,
   "metadata": {
    "ExecuteTime": {
     "end_time": "2017-12-14T16:54:25.722896Z",
     "start_time": "2017-12-14T16:54:19.911246Z"
    }
   },
   "outputs": [
    {
     "data": {
      "text/plain": [
       "0.78607169223197437"
      ]
     },
     "execution_count": 263,
     "metadata": {},
     "output_type": "execute_result"
    }
   ],
   "source": [
    "y_pred = GBM_model2.predict(X_test)\n",
    "metrics.accuracy_score(y_test, y_pred)\n",
    "###################"
   ]
  },
  {
   "cell_type": "code",
   "execution_count": 52,
   "metadata": {
    "ExecuteTime": {
     "end_time": "2017-12-04T11:26:42.489627Z",
     "start_time": "2017-12-04T11:26:41.442829Z"
    }
   },
   "outputs": [
    {
     "data": {
      "text/plain": [
       "[('Fixed', 0.0),\n",
       " (\"Customer's Total Usage for Merchant's Coupons\", 0.015312243),\n",
       " (\"Customer's Total Received by Merchant\", 0.022561353),\n",
       " (\"Customer's Total Usage Fraction for Merchant\", 0.0381735),\n",
       " ('Num_coupon_used', 0.039930079),\n",
       " ('num_type', 0.057992872),\n",
       " (\"Customer's Inbox Share by Merchant\", 0.059929393),\n",
       " ('Coupon_requirement', 0.076843984),\n",
       " (\"Merchant's Total Usage Fraction\", 0.078369208),\n",
       " ('Equivalent_discount', 0.079166092),\n",
       " ('Tot_coupon_sent', 0.07972306),\n",
       " ('Date_received_week', 0.082173705),\n",
       " ('Difference', 0.10886516),\n",
       " ('money', 0.11460619),\n",
       " ('Date_received_month', 0.14635317)]"
      ]
     },
     "execution_count": 52,
     "metadata": {},
     "output_type": "execute_result"
    }
   ],
   "source": [
    "sorted(zip(X_train.columns,GBM_model2.feature_importances_),key=lambda x:x[1])"
   ]
  },
  {
   "cell_type": "code",
   "execution_count": null,
   "metadata": {
    "collapsed": true
   },
   "outputs": [],
   "source": [
    "params = {\n",
    "    'booster': 'gbtree',\n",
    "    'objective': 'rank:pairwise',\n",
    "    'eval_metric': 'auc',\n",
    "    'gamma': 0.1,\n",
    "    'min_child_weight': 1.1,\n",
    "    'max_depth': 5,\n",
    "    'lambda': 10,\n",
    "    'subsample': 0.7,\n",
    "    'colsample_bytree': 0.7,\n",
    "    'colsample_bylevel': 0.7,\n",
    "    'eta': 0.01,\n",
    "    'tree_method': 'exact',\n",
    "    'seed': 0,\n",
    "    'nthread': 12\n",
    "}"
   ]
  },
  {
   "cell_type": "code",
   "execution_count": 14,
   "metadata": {
    "ExecuteTime": {
     "end_time": "2017-12-14T05:25:39.431553Z",
     "start_time": "2017-12-14T05:25:39.423394Z"
    },
    "collapsed": true
   },
   "outputs": [],
   "source": [
    "import pandas as pd\n",
    "import numpy as np\n",
    "from sklearn.model_selection import (train_test_split,KFold)\n",
    "from sklearn.metrics import mean_squared_error\n",
    "from sklearn.neural_network import MLPClassifier\n",
    "from sklearn.preprocessing import StandardScaler\n",
    "import matplotlib.pyplot as plt\n",
    "import glob"
   ]
  },
  {
   "cell_type": "code",
   "execution_count": 22,
   "metadata": {
    "ExecuteTime": {
     "end_time": "2017-12-14T05:26:45.001012Z",
     "start_time": "2017-12-14T05:26:44.446638Z"
    },
    "collapsed": true
   },
   "outputs": [],
   "source": [
    "Scaler = StandardScaler()\n",
    "sX_train = Scaler.fit_transform(X_train)\n",
    "sX_train = DataFrame(sX_train)\n",
    "sX_test = Scaler.transform(X_test)\n",
    "sX_test = DataFrame(sX_test)"
   ]
  },
  {
   "cell_type": "code",
   "execution_count": 23,
   "metadata": {
    "ExecuteTime": {
     "end_time": "2017-12-14T05:26:46.649228Z",
     "start_time": "2017-12-14T05:26:46.118200Z"
    },
    "collapsed": true
   },
   "outputs": [],
   "source": [
    "sX_train = Scaler.fit_transform(X_train)\n",
    "sX_train = DataFrame(sX_train)\n",
    "sX_test = Scaler.transform(X_test)\n",
    "sX_test = DataFrame(sX_test)"
   ]
  },
  {
   "cell_type": "code",
   "execution_count": 63,
   "metadata": {
    "ExecuteTime": {
     "end_time": "2017-12-14T08:04:50.477976Z",
     "start_time": "2017-12-14T08:00:58.392845Z"
    }
   },
   "outputs": [
    {
     "name": "stdout",
     "output_type": "stream",
     "text": [
      "AUC socre for MLP is  0.793614654934\n"
     ]
    },
    {
     "data": {
      "text/plain": [
       "0.73671834413365056"
      ]
     },
     "execution_count": 63,
     "metadata": {},
     "output_type": "execute_result"
    },
    {
     "data": {
      "image/png": "[encoded data removed]",
      "text/plain": [
       "<matplotlib.figure.Figure at 0x114318810>"
      ]
     },
     "metadata": {},
     "output_type": "display_data"
    }
   ],
   "source": [
    "Scaler = StandardScaler()\n",
    "sX_train = Scaler.fit_transform(X_train)\n",
    "sX_train = DataFrame(sX_train)\n",
    "sX_test = Scaler.transform(X_test)\n",
    "sX_test = DataFrame(sX_test)\n",
    "mlp = MLPClassifier(hidden_layer_sizes=(25,25,25,25,25,20), random_state=42, activation='tanh', solver='sgd', learning_rate='adaptive',\n",
    "                    batch_size=800, learning_rate_init=0.03,momentum=0.5, nesterovs_momentum=True)\n",
    "MLP_model=mlp.fit(sX_train,y_train)\n",
    "score2=MLP_model.predict_proba(sX_test)\n",
    "score_NN=[]\n",
    "for i in score2:\n",
    "    score_NN.append(i[1])\n",
    "fpr, tpr, thresholds = roc_curve(y_test, score_NN)\n",
    "auc = roc_auc_score(y_test, score_NN)\n",
    "plot_roc_curve(fpr, tpr, 'MLP auc =', auc)\n",
    "print 'AUC socre for MLP is ', str(auc)\n",
    "plt.legend(loc=0)\n",
    "y_pred = MLP_model.predict(sX_test)\n",
    "metrics.accuracy_score(y_test,y_pred)"
   ]
  },
  {
   "cell_type": "code",
   "execution_count": 41,
   "metadata": {
    "ExecuteTime": {
     "end_time": "2017-12-14T05:50:36.767520Z",
     "start_time": "2017-12-14T05:50:36.038558Z"
    }
   },
   "outputs": [
    {
     "name": "stdout",
     "output_type": "stream",
     "text": [
      "AUC socre for MLP is  0.747447812895\n"
     ]
    },
    {
     "data": {
      "text/plain": [
       "<matplotlib.legend.Legend at 0x113cb5990>"
      ]
     },
     "execution_count": 41,
     "metadata": {},
     "output_type": "execute_result"
    },
    {
     "data": {
      "image/png": "[encoded data removed]",
      "text/plain": [
       "<matplotlib.figure.Figure at 0x112038c50>"
      ]
     },
     "metadata": {},
     "output_type": "display_data"
    }
   ],
   "source": [
    "fpr, tpr, thresholds = roc_curve(y_test, score_NN)\n",
    "auc = roc_auc_score(y_test, score_NN)\n",
    "plot_roc_curve(fpr, tpr, 'MLP auc =', auc)\n",
    "print 'AUC socre for MLP is ', str(auc)\n",
    "plt.legend(loc=0)"
   ]
  },
  {
   "cell_type": "code",
   "execution_count": 42,
   "metadata": {
    "ExecuteTime": {
     "end_time": "2017-12-14T05:50:39.197526Z",
     "start_time": "2017-12-14T05:50:38.485691Z"
    }
   },
   "outputs": [
    {
     "name": "stdout",
     "output_type": "stream",
     "text": [
      "AUC socre for MLP is  0.747447812895\n"
     ]
    },
    {
     "data": {
      "text/plain": [
       "<matplotlib.legend.Legend at 0x111ef8d90>"
      ]
     },
     "execution_count": 42,
     "metadata": {},
     "output_type": "execute_result"
    },
    {
     "data": {
      "image/png": "[encoded data removed]",
      "text/plain": [
       "<matplotlib.figure.Figure at 0x111ef8750>"
      ]
     },
     "metadata": {},
     "output_type": "display_data"
    }
   ],
   "source": [
    "fpr, tpr, thresholds = roc_curve(y_test, score_NN)\n",
    "auc = roc_auc_score(y_test, score_NN)\n",
    "plot_roc_curve(fpr, tpr, 'MLP auc =', auc)\n",
    "print 'AUC socre for MLP is ', str(auc)\n",
    "plt.legend(loc=0)"
   ]
  },
  {
   "cell_type": "code",
   "execution_count": 113,
   "metadata": {
    "ExecuteTime": {
     "end_time": "2017-12-05T18:40:34.708308Z",
     "start_time": "2017-12-05T18:40:34.255368Z"
    },
    "collapsed": true
   },
   "outputs": [],
   "source": [
    "from sklearn.discriminant_analysis import LinearDiscriminantAnalysis as LDA\n",
    "from sklearn.discriminant_analysis import QuadraticDiscriminantAnalysis as QDA"
   ]
  },
  {
   "cell_type": "code",
   "execution_count": 132,
   "metadata": {
    "ExecuteTime": {
     "end_time": "2017-12-14T11:22:04.234293Z",
     "start_time": "2017-12-14T11:22:03.892775Z"
    },
    "collapsed": true
   },
   "outputs": [],
   "source": [
    "\n",
    "from sklearn.ensemble import AdaBoostClassifier\n",
    "from sklearn.tree import DecisionTreeClassifier\n",
    "ABC = AdaBoostClassifier(DecisionTreeClassifier(max_depth=1),\n",
    "                         algorithm=\"SAMME\",\n",
    "                         n_estimators=200)"
   ]
  },
  {
   "cell_type": "code",
   "execution_count": 37,
   "metadata": {
    "ExecuteTime": {
     "end_time": "2017-12-04T18:25:44.699249Z",
     "start_time": "2017-12-04T18:21:58.113174Z"
    }
   },
   "outputs": [
    {
     "data": {
      "text/plain": [
       "AdaBoostClassifier(algorithm='SAMME',\n",
       "          base_estimator=DecisionTreeClassifier(class_weight=None, criterion='gini', max_depth=1,\n",
       "            max_features=None, max_leaf_nodes=None,\n",
       "            min_impurity_decrease=0.0, min_impurity_split=None,\n",
       "            min_samples_leaf=1, min_samples_split=2,\n",
       "            min_weight_fraction_leaf=0.0, presort=False, random_state=None,\n",
       "            splitter='best'),\n",
       "          learning_rate=1.0, n_estimators=200, random_state=None)"
      ]
     },
     "execution_count": 37,
     "metadata": {},
     "output_type": "execute_result"
    }
   ],
   "source": [
    "ABC.fit(X_train, y_train)"
   ]
  },
  {
   "cell_type": "code",
   "execution_count": 40,
   "metadata": {
    "ExecuteTime": {
     "end_time": "2017-12-04T18:37:22.965178Z",
     "start_time": "2017-12-04T18:37:17.384703Z"
    }
   },
   "outputs": [
    {
     "name": "stdout",
     "output_type": "stream",
     "text": [
      "AUC socre for AB is  0.818554511717\n"
     ]
    },
    {
     "data": {
      "text/plain": [
       "<matplotlib.legend.Legend at 0x1a2162a050>"
      ]
     },
     "execution_count": 40,
     "metadata": {},
     "output_type": "execute_result"
    },
    {
     "data": {
      "image/png": "[encoded data removed]",
      "text/plain": [
       "<matplotlib.figure.Figure at 0x1a30c77050>"
      ]
     },
     "metadata": {},
     "output_type": "display_data"
    }
   ],
   "source": [
    "ABC.fit(X_train, y_train)\n",
    "score3=ABC.predict_proba(X_test)\n",
    "score_AB=[]\n",
    "for i in score3:\n",
    "    score_AB.append(i[1])\n",
    "fpr, tpr, thresholds = roc_curve(y_test, score_AB)\n",
    "auc = roc_auc_score(y_test, score_AB)\n",
    "plot_roc_curve(fpr, tpr, 'AB auc =', auc)\n",
    "print 'AUC socre for AB is ', str(auc)\n",
    "plt.legend(loc=0)"
   ]
  },
  {
   "cell_type": "code",
   "execution_count": 8,
   "metadata": {
    "ExecuteTime": {
     "end_time": "2017-12-04T00:47:03.113369Z",
     "start_time": "2017-12-04T00:47:02.952601Z"
    },
    "collapsed": true
   },
   "outputs": [],
   "source": [
    "from sklearn.svm import SVC\n"
   ]
  },
  {
   "cell_type": "code",
   "execution_count": null,
   "metadata": {
    "ExecuteTime": {
     "start_time": "2017-12-04T06:47:37.344Z"
    },
    "collapsed": true
   },
   "outputs": [],
   "source": [
    "GaussianSVC = SVC(kernel='rbf',C=0.5)\n",
    "GaussianSVC.fit(X_train1, y_train1)"
   ]
  },
  {
   "cell_type": "code",
   "execution_count": null,
   "metadata": {
    "collapsed": true
   },
   "outputs": [],
   "source": [
    "score4=GaussianSVC.predict_proba(X_test1)\n",
    "score_SVC=[]\n",
    "for i in score4:\n",
    "    score_SVC.append(i[1])\n",
    "fpr, tpr, thresholds = roc_curve(y_test1, score_SVC)\n",
    "auc = roc_auc_score(y_test1, score_SVC)\n",
    "plot_roc_curve(fpr, tpr, 'SVC auc =', auc)\n",
    "print 'AUC socre for SVC is ', str(auc)\n",
    "plt.legend(loc=0)"
   ]
  },
  {
   "cell_type": "code",
   "execution_count": 8,
   "metadata": {
    "ExecuteTime": {
     "end_time": "2017-12-04T17:06:14.326865Z",
     "start_time": "2017-12-04T17:06:14.317695Z"
    },
    "collapsed": true
   },
   "outputs": [],
   "source": [
    "import numpy as np\n",
    "import pandas as pd\n",
    "from sklearn.preprocessing import MinMaxScaler\n",
    "import xgboost as xgb\n",
    "from random import shuffle\n",
    "from xgboost.sklearn import XGBClassifier\n",
    "from sklearn.cross_validation import cross_val_score\n",
    "import pickle\n",
    "import time\n",
    "from hyperopt import fmin, tpe, hp,space_eval,rand,Trials,partial,STATUS_OK\n",
    "labels = y_train"
   ]
  },
  {
   "cell_type": "code",
   "execution_count": 67,
   "metadata": {
    "ExecuteTime": {
     "end_time": "2017-12-05T00:06:02.994819Z",
     "start_time": "2017-12-04T23:34:29.210834Z"
    }
   },
   "outputs": [
    {
     "name": "stdout",
     "output_type": "stream",
     "text": [
      "max_depth:9\n",
      "n_estimator:80\n",
      "learning_rate:0.15\n",
      "subsample:0.7\n",
      "min_child_weight:1\n",
      "ada_estimators160\n",
      "ada_depth3\n",
      "ada_para0.677271716014\n",
      "0.886121486454\n",
      "max_depth:9\n",
      "n_estimator:80\n",
      "learning_rate:0.15\n",
      "subsample:0.7\n",
      "min_child_weight:1\n",
      "ada_estimators160\n",
      "ada_depth3\n",
      "ada_para0.731993493957\n",
      "0.886121486441\n",
      "max_depth:11\n",
      "n_estimator:85\n",
      "learning_rate:0.13\n",
      "subsample:0.8\n",
      "min_child_weight:1\n",
      "ada_estimators190\n",
      "ada_depth3\n",
      "ada_para0.0596741704251\n",
      "0.888422830827\n",
      "max_depth:11\n",
      "n_estimator:85\n",
      "learning_rate:0.13\n",
      "subsample:0.8\n",
      "min_child_weight:2\n",
      "ada_estimators190\n",
      "ada_depth1\n",
      "ada_para0.0535418840421\n",
      "0.884900518292\n",
      "{'ada_depth': 3, 'ada_estimators': 9, 'learning_rate': 4, 'ada_para': 0.05967417042506784, 'min_child_weight': 0, 'n_estimators': 7, 'subsample': 1, 'max_depth': 6}\n",
      "max_depth:11\n",
      "n_estimator:85\n",
      "learning_rate:0.13\n",
      "subsample:0.8\n",
      "min_child_weight:1\n",
      "ada_estimators190\n",
      "ada_depth3\n",
      "ada_para0.0596741704251\n",
      "0.888422830827\n",
      "-0.888422830827\n"
     ]
    }
   ],
   "source": [
    "\n",
    "import numpy as np\n",
    "import pandas as pd\n",
    "from sklearn.preprocessing import MinMaxScaler\n",
    "import xgboost as xgb\n",
    "from random import shuffle\n",
    "from xgboost.sklearn import XGBClassifier\n",
    "from sklearn.cross_validation import cross_val_score\n",
    "import pickle\n",
    "import time\n",
    "from hyperopt import fmin, tpe, hp,space_eval,rand,Trials,partial,STATUS_OK\n",
    "\n",
    "\n",
    "\n",
    "\n",
    "def GBM(argsDict):\n",
    "    max_depth = argsDict[\"max_depth\"] + 5\n",
    "    n_estimators = argsDict['n_estimators'] * 5 + 50\n",
    "    learning_rate = argsDict[\"learning_rate\"] * 0.02 + 0.05\n",
    "    subsample = argsDict[\"subsample\"] * 0.1 + 0.7\n",
    "    min_child_weight = argsDict[\"min_child_weight\"]+1\n",
    "    ada_estimators = argsDict['ada_estimators'] * 10 + 100\n",
    "    ada_depth = argsDict[\"ada_depth\"] \n",
    "    ada_para=argsDict[\"ada_para\"] \n",
    "    \n",
    "    print \"max_depth:\" + str(max_depth)\n",
    "    print \"n_estimator:\" + str(n_estimators)\n",
    "    print \"learning_rate:\" + str(learning_rate)\n",
    "    print \"subsample:\" + str(subsample)\n",
    "    print \"min_child_weight:\" + str(min_child_weight)\n",
    "    print 'ada_estimators'+str(ada_estimators)\n",
    "    print 'ada_depth'+str(ada_depth)\n",
    "    print 'ada_para'+str(ada_para)\n",
    "    \n",
    "    gbm = xgb.XGBClassifier(nthread=4,   \n",
    "                            max_depth=max_depth,  \n",
    "                            n_estimators=n_estimators,  \n",
    "                            learning_rate=learning_rate, \n",
    "                            subsample=subsample,      \n",
    "                            min_child_weight=min_child_weight,   \n",
    "                            max_delta_step = 10,  \n",
    "                            objective=\"binary:logistic\")\n",
    "    ABC = AdaBoostClassifier(DecisionTreeClassifier(max_depth=ada_depth),\n",
    "                         algorithm=\"SAMME\",\n",
    "                         n_estimators=ada_estimators)\n",
    "    ABC_model1=gbm.fit(X_train1, y_train1)\n",
    "    scoreADA1=ABC_model1.predict_proba(X_test1)\n",
    "    \n",
    "    GBM_model1=gbm.fit(X_train1, y_train1)\n",
    "    scoreGBM1=GBM_model1.predict_proba(X_test1)\n",
    "    final_score1=scoreADA1*ada_para+scoreGBM1*(1-ada_para)\n",
    "    score_1=[]\n",
    "    for i in final_score1:\n",
    "        score_1.append(i[1])\n",
    "        \n",
    "    ABC_model2=gbm.fit(X_train2, y_train2)\n",
    "    scoreADA2=ABC_model1.predict_proba(X_test2)\n",
    "    \n",
    "    GBM_model2=gbm.fit(X_train2, y_train2)\n",
    "    scoreGBM2=GBM_model2.predict_proba(X_test2)\n",
    "    final_score2=scoreADA2*ada_para+scoreGBM2*(1-ada_para)\n",
    "    score_2=[]\n",
    "    for i in final_score2:\n",
    "        score_2.append(i[1]) \n",
    "\n",
    "\n",
    "\n",
    "    metric = (roc_auc_score(y_test1, score_1)+roc_auc_score(y_test2, score_2))/2\n",
    "    print metric\n",
    "    return -metric\n",
    "\n",
    "space = {\"max_depth\":hp.randint(\"max_depth\",15),\n",
    "         \"n_estimators\":hp.randint(\"n_estimators\",10),  \n",
    "         \"learning_rate\":hp.randint(\"learning_rate\",6),  \n",
    "         \"subsample\":hp.randint(\"subsample\",4),\n",
    "         \"min_child_weight\":hp.randint(\"min_child_weight\",5), \n",
    "         \"ada_depth\":hp.randint(\"ada_depth\",5),\n",
    "         \"ada_estimators\":hp.randint(\"ada_estimators\",10),\n",
    "         \"ada_para\":hp.uniform(\"ada_para\",0,1)\n",
    "        }\n",
    "algo = partial(tpe.suggest,n_startup_jobs=1)\n",
    "best = fmin(GBM,space,algo=algo,max_evals=4)\n",
    "\n",
    "print best\n",
    "print GBM(best)"
   ]
  },
  {
   "cell_type": "markdown",
   "metadata": {},
   "source": [
    "<font size=8>\n",
    "Hyperopt function to get the ensemble model"
   ]
  },
  {
   "cell_type": "code",
   "execution_count": 296,
   "metadata": {
    "ExecuteTime": {
     "end_time": "2017-12-8T08:49:47.002235Z",
     "start_time": "2017-12-5T10:57:46.998091Z"
    },
    "collapsed": true
   },
   "outputs": [],
   "source": [
    "import numpy as np\n",
    "import pandas as pd\n",
    "from sklearn.preprocessing import MinMaxScaler\n",
    "import xgboost as xgb\n",
    "from random import shuffle\n",
    "from xgboost.sklearn import XGBClassifier\n",
    "from sklearn.cross_validation import cross_val_score\n",
    "import pickle\n",
    "import time\n",
    "from hyperopt import fmin, tpe, hp, space_eval, rand, Trials, partial, STATUS_OK\n",
    "\n",
    "\n",
    "def Ensemble(argsDict):\n",
    "    max_depth = argsDict[\"max_depth\"] + 5\n",
    "    n_estimators = argsDict['n_estimators'] * 5 + 50\n",
    "    learning_rate = argsDict[\"learning_rate\"] * 0.02 + 0.05\n",
    "    subsample = argsDict[\"subsample\"] * 0.1 + 0.7\n",
    "    min_child_weight = argsDict[\"min_child_weight\"] + 1\n",
    "    ada_estimators = argsDict['ada_estimators'] * 10 + 100\n",
    "    ada_depth = argsDict[\"ada_depth\"]\n",
    "    activation = argsDict[\"activation\"]\n",
    "    batch_size = argsDict[\"batch_size\"] * 10 + 500\n",
    "    learning_rate_mlp = argsDict[\"learning_rate_mlp\"]\n",
    "    momentum = argsDict[\"momentum\"]\n",
    "    max_features_RF = argsDict[\"max_features_RF\"] + 2\n",
    "    max_depth_RF = argsDict[\"max_depth_RF\"]\n",
    "    max_depth_GBDT = argsDict[\"max_depth_GBDT\"]\n",
    "    n_estimators_GBDT = argsDict[\"n_estimators_GBDT\"]\n",
    "    AB_coef = argsDict[\"AB_coef\"]\n",
    "    XG_coef = argsDict[\"XG_coef\"]\n",
    "    RF_coef = argsDict[\"RF_coef\"]\n",
    "    GBDT_coef = argsDict[\"GBDT_coef\"]\n",
    "    MLP_coef = argsDict[\"MLP_coef\"]\n",
    "    tot = np.exp(AB_coef) + np.exp(XG_coef) + np.exp(RF_coef) + np.exp(\n",
    "        GBDT_coef) + np.exp(MLP_coef)\n",
    "    AB_coef = np.exp(AB_coef) / tot\n",
    "    XG_coef = np.exp(XG_coef) / tot\n",
    "    RF_coef = np.exp(RF_coef) / tot\n",
    "    GBDT_coef = np.exp(GBDT_coef) / tot\n",
    "    MLP_coef = np.exp(MLP_coef) / tot\n",
    "\n",
    "    # XGBoost\n",
    "    XGB = xgb.XGBClassifier(\n",
    "        nthread=4,\n",
    "        max_depth=max_depth,\n",
    "        n_estimators=n_estimators,\n",
    "        learning_rate=learning_rate,\n",
    "        subsample=subsample,\n",
    "        min_child_weight=min_child_weight,\n",
    "        max_delta_step=10,\n",
    "        objective=\"binary:logistic\")\n",
    "    # AdaBoost\n",
    "    ABC = AdaBoostClassifier(\n",
    "        DecisionTreeClassifier(max_depth=ada_depth),\n",
    "        algorithm=\"SAMME\",\n",
    "        n_estimators=ada_estimators)\n",
    "\n",
    "    # MLP\n",
    "    Scaler = StandardScaler()\n",
    "    sX_train1 = Scaler.fit_transform(X_train1)\n",
    "    sX_train1 = pd.DataFrame(sX_train1)\n",
    "    sX_test1 = Scaler.transform(X_test1)\n",
    "    sX_test1 = pd.DataFrame(sX_test1)\n",
    "    sX_train2 = Scaler.fit_transform(X_train2)\n",
    "    sX_train2 = pd.DataFrame(sX_train2)\n",
    "    sX_test2 = Scaler.transform(X_test2)\n",
    "    sX_test2 = pd.DataFrame(sX_test2)\n",
    "    mlp = MLPClassifier(\n",
    "        hidden_layer_sizes=(25, 25, 25, 25, 25, 20),\n",
    "        activation=activation,\n",
    "        solver='sgd',\n",
    "        learning_rate='adaptive',\n",
    "        batch_size=batch_size,\n",
    "        learning_rate_init=leatning_rate_mlp,\n",
    "        momentum=momentum,\n",
    "        nesterovs_momentum=True)\n",
    "\n",
    "    # Random Forest\n",
    "    RF = RandomForestClassifier(\n",
    "        bootstrap=True,\n",
    "        class_weight=None,\n",
    "        criterion='gini',\n",
    "        max_depth=max_depth_RF,\n",
    "        max_features=max_features_RF,\n",
    "        max_leaf_nodes=None,\n",
    "        min_impurity_decrease=0.0,\n",
    "        min_impurity_split=None,\n",
    "        min_samples_leaf=1,\n",
    "        min_samples_split=2,\n",
    "        warm_start=False)\n",
    "    # GBDT\n",
    "    GBDT = GradientBoostingClassifier(\n",
    "        criterion='friedman_mse',\n",
    "        init=None,\n",
    "        learning_rate=0.1,\n",
    "        loss='deviance',\n",
    "        max_depth=max_depth_GBDT,\n",
    "        min_impurity_decrease=0.0,\n",
    "        min_impurity_split=None,\n",
    "        n_estimators=n_estimators_GBDT,\n",
    "        presort='auto',\n",
    "        verbose=0,\n",
    "        warm_start=False)\n",
    "\n",
    "    # Get all scores:\n",
    "    MLP_model1 = mlp.fit(sX_train1, y_train1)\n",
    "    scoremlp = MLP_model.predict_proba(sX_test1)\n",
    "    MLP_model2 = mlp.fit(sX_train2, y_train2)\n",
    "    scoremlp2 = MLP_model.predict_proba(sX_test2)\n",
    "\n",
    "    ABC_model1 = ABC.fit(X_train1, y_train1)\n",
    "    scoreADA1 = ABC_model1.predict_proba(X_test1)\n",
    "    ABC_model2 = ABC.fit(X_train2, y_train2)\n",
    "    scoreADA1 = ABC_model1.predict_proba(X_test2)\n",
    "\n",
    "    XGB_model1 = XGB.fit(X_train1, y_train1)\n",
    "    scoreXGB = XGB_model1.predict_proba(X_test1)\n",
    "    XGB_model2 = XGB.fit(X_train2, y_train2)\n",
    "    scoreXGB2 = XGBmodel1.predict_proba(X_test2)\n",
    "\n",
    "    GBDT_model1 = GBDT.fit(X_train1, y_train1)\n",
    "    scoreGBDT1 = GBDT_model.predict_proba(X_test1)\n",
    "    GBDT_model2 = GBDT.fit(X_train2, y_train2)\n",
    "    scoreGBDT2 = GBDT_model.predict_proba(X_test2)\n",
    "\n",
    "    RF_model1 = RF.fit(X_train1, y_train1)\n",
    "    scoreRF1 = RF_model.predict_proba(X_test1)\n",
    "    RF_model2 = RF.fit(X_train2, y_train2)\n",
    "    scoreRF2 = RF_model.predict_proba(X_test2)\n",
    "\n",
    "    # Get the final score\n",
    "    final_score1 = scoreAB1 * Ada_coef + scoreXG1 * XG_coef + scoreRF1 * RF_coef + scoremlp1 * MLP_coef + scoreGBDT1 * GBDT_coef\n",
    "    score_1 = []\n",
    "    for i in final_score1:\n",
    "        score_1.append(i[1])\n",
    "\n",
    "    final_score2 = scoreAB2 * Ada_coef + scoreXG2 * XG_coef + scoreRF2 * RF_coef + scoremlp2 * MLP_coef + scoreGBDT2 * GBDT_coef\n",
    "    for i in final_score2:\n",
    "        score_2.append(i[1])\n",
    "\n",
    "    metric = (\n",
    "        roc_auc_score(y_test1, score1) + roc_auc_score(y_test2, score2)) / 2\n",
    "    return -metric\n",
    "\n",
    "\n",
    "space = {\n",
    "    \"max_depth\":\n",
    "    hp.randint(\"max_depth\", 15),\n",
    "    \"n_estimators\":\n",
    "    hp.randint(\"n_estimators\", 10),  #[0,1,2,3,4,5] -> [50,]\n",
    "    \"learning_rate\":\n",
    "    hp.randint(\"learning_rate\", 6),  #[0,1,2,3,4,5] -> 0.05,0.06\n",
    "    \"subsample\":\n",
    "    hp.randint(\"subsample\", 4),  #[0,1,2,3] -> [0.7,0.8,0.9,1.0]\n",
    "    \"min_child_weight\":\n",
    "    hp.randint(\"min_child_weight\", 5),  #\n",
    "    \"ada_depth\":\n",
    "    hp.randint(\"ada_depth\", 5),\n",
    "    \"ada_estimators\":\n",
    "    hp.randint(\"ada_estimators\", 10),\n",
    "    \"max_depth_RF\":\n",
    "    hp.randint(\"max_depth_RF\", 20),\n",
    "    \"max_depth_GBDT\":\n",
    "    hp.randint(\"max_depth_GBDT\", 20),\n",
    "    \"n_estimators_GBDT\":\n",
    "    hp.randint(\"n_estimators_GBDT\", 15),\n",
    "    \"max_features_RF\":\n",
    "    hp.randint(\"max_features_RF\", 8),\n",
    "    \"activation\":\n",
    "    hp.choice(\"activation\", ['relu', 'tanh', 'sigmoid']),\n",
    "    \"learning_rate_mlp\":\n",
    "    hp.loguniform(\"learning_rate_mlp\", np.log(5e-2), np.log(1)),\n",
    "    \"batch_size\":\n",
    "    hp.randint(\"batch_size\", 10),\n",
    "    \"momentum\":\n",
    "    hp.uniform(\"momentum\", 0, 1),\n",
    "    \"AB_coef\":\n",
    "    hp.uniform(\"AB_coef\", 0, 1),\n",
    "    \"RF_coef\":\n",
    "    hp.uniform(\"RF_coef\", 0, 1),\n",
    "    \"MLP_coef\":\n",
    "    hp.uniform(\"MLP_coef\", 0, 1),\n",
    "    \"XG_coef\":\n",
    "    hp.uniform(\"XG_coef\", 0, 1),\n",
    "    \"GBDT_coef\":\n",
    "    hp.uniform(\"GBDT_coef\", 0, 1)\n",
    "}\n",
    "# define the searching algorithm\n",
    "mix_algo = partial(\n",
    "    mix.suggestfyux, p_suggest=[(0.1, rand.suggest), (0.9, tpe.suggest)])\n",
    "# get the best hyper parameters combination\n",
    "best = fmin(Ensemble, space, algo=mix_algo, max_evals=5000, trials=trials)"
   ]
  },
  {
   "cell_type": "code",
   "execution_count": null,
   "metadata": {
    "collapsed": true
   },
   "outputs": [],
   "source": [
    "max_depth:11\n",
    "n_estimator:85\n",
    "learning_rate:0.13\n",
    "subsample:0.8\n",
    "min_child_weight:1\n",
    "ada_estimators190\n",
    "ada_depth3\n",
    "ada_para0.0596741704251"
   ]
  },
  {
   "cell_type": "code",
   "execution_count": null,
   "metadata": {
    "collapsed": true
   },
   "outputs": [],
   "source": [
    "max_depth:13\n",
    "n_estimator:70\n",
    "learning_rate:0.13\n",
    "subsample:0.9\n",
    "min_child_weight:5"
   ]
  },
  {
   "cell_type": "code",
   "execution_count": 60,
   "metadata": {
    "ExecuteTime": {
     "end_time": "2017-12-04T22:59:25.561269Z",
     "start_time": "2017-12-04T22:59:25.537641Z"
    },
    "collapsed": true
   },
   "outputs": [],
   "source": [
    "gbm = xgb.XGBClassifier(max_depth=13,n_estimator=70,learning_rate=0.13,subsample=0.9,min_child_weight=5)"
   ]
  },
  {
   "cell_type": "code",
   "execution_count": 61,
   "metadata": {
    "ExecuteTime": {
     "end_time": "2017-12-04T23:04:50.573745Z",
     "start_time": "2017-12-04T22:59:40.972575Z"
    },
    "collapsed": true
   },
   "outputs": [],
   "source": [
    "GBM_model=gbm.fit(X_train, y_train)\n",
    "score=GBM_model.predict_proba(X_test)\n",
    "score_XG=[]\n",
    "for i in score:\n",
    "    score_XG.append(i[1])\n"
   ]
  },
  {
   "cell_type": "code",
   "execution_count": 31,
   "metadata": {
    "ExecuteTime": {
     "end_time": "2017-12-14T05:42:27.663116Z",
     "start_time": "2017-12-14T05:42:27.649011Z"
    },
    "collapsed": true
   },
   "outputs": [],
   "source": [
    "from sklearn.metrics import roc_curve, roc_auc_score\n",
    "import matplotlib.pyplot as plt\n",
    "%matplotlib inline\n",
    "def plot_roc_curve(fpr, npr, label=None, auc=None):\n",
    "    plt.plot(fpr, tpr, linewidth=2, label=label + str(auc))\n",
    "    plt.plot([0, 1], [0, 1], 'k--')\n",
    "    plt.axis([0, 1, 0, 1])\n",
    "    plt.xlabel('False Positive Rate')\n",
    "    plt.ylabel('True Positive Rate')"
   ]
  },
  {
   "cell_type": "code",
   "execution_count": null,
   "metadata": {
    "collapsed": true
   },
   "outputs": [],
   "source": [
    "params = {\n",
    "    'booster': 'gbtree',\n",
    "    'objective': 'rank:pairwise',\n",
    "    'eval_metric': 'auc',\n",
    "    'gamma': 0.1,\n",
    "    'min_child_weight': 1.1,\n",
    "    'max_depth': 5,\n",
    "    'lambda': 10,\n",
    "    'subsample': 0.7,\n",
    "    'colsample_bytree': 0.7,\n",
    "    'colsample_bylevel': 0.7,\n",
    "    'eta': 0.01,\n",
    "    'tree_method': 'exact',\n",
    "    'seed': 0,\n",
    "    'nthread': 12\n",
    "}"
   ]
  },
  {
   "cell_type": "code",
   "execution_count": null,
   "metadata": {
    "collapsed": true
   },
   "outputs": [],
   "source": [
    "ada_estimators190\n",
    "ada_depth3\n",
    "ada_para0.0596741704251   "
   ]
  },
  {
   "cell_type": "code",
   "execution_count": 73,
   "metadata": {
    "ExecuteTime": {
     "end_time": "2017-12-05T13:04:37.628991Z",
     "start_time": "2017-12-05T12:57:24.357394Z"
    },
    "collapsed": true
   },
   "outputs": [],
   "source": [
    "gbm = xgb.XGBClassifier(nthread=4,max_depth=11,n_estimator=85,learning_rate=0.13,objective=\"binary:logistic\")\n",
    "ABC = AdaBoostClassifier(DecisionTreeClassifier(max_depth=3),\n",
    "                     algorithm=\"SAMME\",\n",
    "                     n_estimators=190)\n",
    "ABC_model1=gbm.fit(X_train, y_train)\n",
    "scoreADA1=ABC_model1.predict_proba(X_test)\n",
    "\n",
    "GBM_model1=gbm.fit(X_train, y_train)\n",
    "scoreGBM1=GBM_model1.predict_proba(X_test)\n",
    "ada_para=0.0596741704251\n",
    "final_score1=scoreADA1*ada_para+scoreGBM1*(1-ada_para)\n",
    "score_1=[]\n",
    "for i in final_score1:\n",
    "    score_1.append(i[1])\n",
    "\n",
    "\n"
   ]
  },
  {
   "cell_type": "code",
   "execution_count": 75,
   "metadata": {
    "ExecuteTime": {
     "end_time": "2017-12-05T13:06:10.675970Z",
     "start_time": "2017-12-05T13:06:09.895891Z"
    }
   },
   "outputs": [
    {
     "name": "stdout",
     "output_type": "stream",
     "text": [
      "Final Test set AUC socre for XG is  0.850808243823\n"
     ]
    },
    {
     "data": {
      "text/plain": [
       "<matplotlib.legend.Legend at 0x1a247fd510>"
      ]
     },
     "execution_count": 75,
     "metadata": {},
     "output_type": "execute_result"
    },
    {
     "data": {
      "image/png": "[encoded data removed]",
      "text/plain": [
       "<matplotlib.figure.Figure at 0x1a271d4ed0>"
      ]
     },
     "metadata": {},
     "output_type": "display_data"
    }
   ],
   "source": [
    "fpr, tpr, thresholds = roc_curve(y_test, score_1)\n",
    "auc = roc_auc_score(y_test, score_1)\n",
    "plot_roc_curve(fpr, tpr, 'XGBoost auc =', auc)\n",
    "print 'Final Test set AUC socre for XG is ', str(auc)\n",
    "plt.legend(loc=0)\n"
   ]
  },
  {
   "cell_type": "code",
   "execution_count": 48,
   "metadata": {
    "ExecuteTime": {
     "end_time": "2017-12-14T06:27:51.167084Z",
     "start_time": "2017-12-14T06:27:49.795304Z"
    }
   },
   "outputs": [
    {
     "data": {
      "text/plain": [
       "0.73859814617340658"
      ]
     },
     "execution_count": 48,
     "metadata": {},
     "output_type": "execute_result"
    }
   ],
   "source": [
    "y_pred = MLP_model.predict(sX_test)\n",
    "metrics.accuracy_score(y_test,y_pred)"
   ]
  },
  {
   "cell_type": "code",
   "execution_count": 1,
   "metadata": {
    "ExecuteTime": {
     "end_time": "2017-12-13T01:02:58.559556Z",
     "start_time": "2017-12-13T01:02:57.682883Z"
    },
    "collapsed": true
   },
   "outputs": [],
   "source": [
    "from surprise import SVD\n",
    "import surprise\n",
    "from surprise import evaluate, print_perf"
   ]
  },
  {
   "cell_type": "code",
   "execution_count": 20,
   "metadata": {
    "ExecuteTime": {
     "end_time": "2017-12-14T05:26:31.288422Z",
     "start_time": "2017-12-14T05:26:25.639417Z"
    }
   },
   "outputs": [
    {
     "name": "stdout",
     "output_type": "stream",
     "text": [
      "fill completed\n",
      "fill completed\n"
     ]
    }
   ],
   "source": [
    "X_train=fillna_pipeline(pd.read_csv('X_full_train.csv'))\n",
    "X_test=fillna_pipeline(pd.read_csv('X_full_test.csv'))"
   ]
  },
  {
   "cell_type": "code",
   "execution_count": 73,
   "metadata": {
    "ExecuteTime": {
     "end_time": "2017-12-14T09:55:33.454989Z",
     "start_time": "2017-12-14T09:55:33.443785Z"
    },
    "collapsed": true
   },
   "outputs": [],
   "source": [
    "def transform(input_data):\n",
    "    input_data['CouponRequirement']=input_data['Coupon_requirement'].map(lambda x: filter1(x,'null'))\n",
    "    input_data['EquivalentDiscount']=input_data['Equivalent_discount'].map(lambda x: filter1(x,'fixed'))\n",
    "    input_data['Fixed']=input_data['Equivalent_discount'].map(lambda x: int(x=='fixed'))\n",
    "    return input_data.drop(['Coupon_requirement','Equivalent_discount'],axis=1)"
   ]
  },
  {
   "cell_type": "markdown",
   "metadata": {},
   "source": [
    "# Offline"
   ]
  },
  {
   "cell_type": "code",
   "execution_count": 114,
   "metadata": {
    "ExecuteTime": {
     "end_time": "2017-12-14T11:12:38.004150Z",
     "start_time": "2017-12-14T11:12:36.444603Z"
    },
    "collapsed": true
   },
   "outputs": [],
   "source": [
    "offy_train=pd.read_csv('offline_y_train.csv',header=None)\n",
    "offy_test=pd.read_csv('offline_y_test.csv',header=None)\n",
    "offX_train=transform(pd.read_csv('offline_X_train.csv'))\n",
    "offX_test=transform(pd.read_csv('offline_X_test.csv'))"
   ]
  },
  {
   "cell_type": "code",
   "execution_count": 126,
   "metadata": {
    "ExecuteTime": {
     "end_time": "2017-12-14T11:17:09.817506Z",
     "start_time": "2017-12-14T11:17:09.803535Z"
    },
    "collapsed": true
   },
   "outputs": [],
   "source": [
    "import time, datetime\n",
    "def get_week_day(s):\n",
    "    if s != 'null':\n",
    "        s=str(int(s))\n",
    "        date_time = datetime.datetime.strptime(s, '%Y%m%d')\n",
    "        return date_time.weekday()\n",
    "    else:\n",
    "        return 'null'\n",
    "\n",
    "\n",
    "def get_month_day(s):\n",
    "    if s != 'null':\n",
    "        s=str(int(s))\n",
    "        return int(s[-2:])\n",
    "    else:\n",
    "        return 'null'"
   ]
  },
  {
   "cell_type": "code",
   "execution_count": 121,
   "metadata": {
    "ExecuteTime": {
     "end_time": "2017-12-14T11:13:46.965441Z",
     "start_time": "2017-12-14T11:13:46.954454Z"
    },
    "collapsed": true
   },
   "outputs": [],
   "source": [
    "def transform1(input_data):\n",
    "    input_data['date_received_week'] = input_data['Date_received_week'].map(get_week_day)\n",
    "    input_data['date_received_month'] = input_data['Date_received_week'].map(get_month_day)\n",
    "    return input_data.drop(['Date_received_month','Date_received_week'],axis=1)"
   ]
  },
  {
   "cell_type": "code",
   "execution_count": 127,
   "metadata": {
    "ExecuteTime": {
     "end_time": "2017-12-14T11:17:16.528207Z",
     "start_time": "2017-12-14T11:17:14.108955Z"
    },
    "collapsed": true
   },
   "outputs": [],
   "source": [
    "offX_train=transform1(offX_train)"
   ]
  },
  {
   "cell_type": "code",
   "execution_count": 128,
   "metadata": {
    "ExecuteTime": {
     "end_time": "2017-12-14T11:17:20.945186Z",
     "start_time": "2017-12-14T11:17:18.053581Z"
    },
    "collapsed": true
   },
   "outputs": [],
   "source": [
    "offX_test=transform1(offX_test)"
   ]
  },
  {
   "cell_type": "code",
   "execution_count": 141,
   "metadata": {
    "ExecuteTime": {
     "end_time": "2017-12-14T11:52:33.779101Z",
     "start_time": "2017-12-14T11:52:12.990030Z"
    },
    "scrolled": true
   },
   "outputs": [
    {
     "name": "stdout",
     "output_type": "stream",
     "text": [
      "Final Test set AUC socre for XG is  0.605284201905\n"
     ]
    },
    {
     "data": {
      "text/plain": [
       "<matplotlib.legend.Legend at 0x115439fd0>"
      ]
     },
     "execution_count": 141,
     "metadata": {},
     "output_type": "execute_result"
    },
    {
     "data": {
      "image/png": "[encoded data removed]",
      "text/plain": [
       "<matplotlib.figure.Figure at 0x1194db990>"
      ]
     },
     "metadata": {},
     "output_type": "display_data"
    }
   ],
   "source": [
    "import xgboost as xgb\n",
    "gbm = xgb.XGBClassifier(max_depth=3, learning_rate=0.05, n_estimators=200)\n",
    "GBM_model2=gbm.fit(offX_train, offy_train)\n",
    "score2=GBM_model2.predict_proba(offX_test)\n",
    "score_XG2=[]\n",
    "for i in score2:\n",
    "    score_XG2.append(i[1])\n",
    "fpr, tpr, thresholds = roc_curve(offy_test, score_XG2)\n",
    "auc = roc_auc_score(offy_test, score_XG2)\n",
    "plot_roc_curve(fpr, tpr, 'XG auc =', auc)\n",
    "print 'Final Test set AUC socre for XG is ', str(auc)\n",
    "plt.legend(loc=0)"
   ]
  },
  {
   "cell_type": "code",
   "execution_count": 142,
   "metadata": {
    "ExecuteTime": {
     "end_time": "2017-12-14T12:02:47.347222Z",
     "start_time": "2017-12-14T12:02:47.037861Z"
    },
    "collapsed": true
   },
   "outputs": [],
   "source": [
    "user_data=pd.read_csv('TRAIN_user.csv')"
   ]
  },
  {
   "cell_type": "code",
   "execution_count": 215,
   "metadata": {
    "ExecuteTime": {
     "end_time": "2017-12-14T14:14:18.299958Z",
     "start_time": "2017-12-14T14:14:17.995651Z"
    },
    "collapsed": true
   },
   "outputs": [],
   "source": [
    "new_x_train=offX_train.merge(user_data, left_on='User_id',right_on='User_id',how='left')"
   ]
  },
  {
   "cell_type": "code",
   "execution_count": 216,
   "metadata": {
    "ExecuteTime": {
     "end_time": "2017-12-14T14:14:21.918471Z",
     "start_time": "2017-12-14T14:14:21.578371Z"
    },
    "collapsed": true
   },
   "outputs": [],
   "source": [
    "new_x_test=offX_test.merge(user_data, left_on='User_id',right_on='User_id',how='left')"
   ]
  },
  {
   "cell_type": "markdown",
   "metadata": {},
   "source": [
    "<font size=6>\n",
    "Surprise SVD"
   ]
  },
  {
   "cell_type": "code",
   "execution_count": 217,
   "metadata": {
    "ExecuteTime": {
     "end_time": "2017-12-14T14:14:25.237882Z",
     "start_time": "2017-12-14T14:14:25.183671Z"
    },
    "collapsed": true
   },
   "outputs": [],
   "source": [
    "x_train=new_x_train.drop(['User_id','Merchant_id','Coupon_id_x'], axis=1)"
   ]
  },
  {
   "cell_type": "code",
   "execution_count": 2,
   "metadata": {
    "ExecuteTime": {
     "end_time": "2017-12-15T10:33:05.375607Z",
     "start_time": "2017-12-15T10:33:05.365794Z"
    }
   },
   "outputs": [],
   "source": [
    "from surprise import SVD\n",
    "from surprise import Dataset\n",
    "from surprise import evaluate, print_perf\n",
    "rows=new_x_test.shape[0]\n",
    "reader = Reader(rating_scale=(1, 5))\n",
    "df=pd.read_csv('new_x_test_forSVD.csv')\n",
    "data = Dataset.load_from_df(df[['User_id', 'Merchantid', 'rating']], reader)\n",
    "data.split(2)\n",
    "algo = SVD()\n",
    "perf = evaluate(algo, data, measures=['RMSE'])\n",
    "# fill in dataframe with the prediction\n",
    "for row in range(rows):\n",
    "    uid=str(df.iloc[i,0])\n",
    "    mid=str(df.iloc[i,1])\n",
    "    if df.iloc[i][-1].isnull():\n",
    "        df.iloc[i,2]=algo.predict(uid, mid)\n",
    "new_x_test=new_x_test.merge(df,on = ['User_id','Merchant_id'], how='left')"
   ]
  },
  {
   "cell_type": "code",
   "execution_count": 218,
   "metadata": {
    "ExecuteTime": {
     "end_time": "2017-12-14T14:14:28.740536Z",
     "start_time": "2017-12-14T14:14:28.664525Z"
    },
    "collapsed": true
   },
   "outputs": [],
   "source": [
    "x_test=new_x_test.drop(['User_id','Merchant_id','Coupon_id_x'], axis=1)"
   ]
  },
  {
   "cell_type": "code",
   "execution_count": 235,
   "metadata": {
    "ExecuteTime": {
     "end_time": "2017-12-14T14:18:14.240162Z",
     "start_time": "2017-12-14T14:18:11.809088Z"
    }
   },
   "outputs": [
    {
     "name": "stdout",
     "output_type": "stream",
     "text": [
      "Final Test set AUC socre for XG is  0.725595621119\n"
     ]
    },
    {
     "data": {
      "text/plain": [
       "<matplotlib.legend.Legend at 0x111f042d0>"
      ]
     },
     "execution_count": 235,
     "metadata": {},
     "output_type": "execute_result"
    },
    {
     "data": {
      "image/png": "[encoded data removed]",
      "text/plain": [
       "<matplotlib.figure.Figure at 0x1125c8150>"
      ]
     },
     "metadata": {},
     "output_type": "display_data"
    }
   ],
   "source": [
    "import xgboost as xgb\n",
    "gbm = xgb.XGBClassifier(max_depth=3, learning_rate=0.05, n_estimators=200)\n",
    "GBM_model2=gbm.fit(x_train_1, y_train_1)\n",
    "score2=GBM_model2.predict_proba(x_test_1)\n",
    "score_XG2=[]\n",
    "for i in score2:\n",
    "    score_XG2.append(i[1])\n",
    "fpr, tpr, thresholds = roc_curve(y_test_1, score_XG2)\n",
    "auc = roc_auc_score(y_test_1, score_XG2)\n",
    "plot_roc_curve(fpr, tpr, 'XG auc =', auc)\n",
    "print 'Final Test set AUC socre for XG is ', str(auc)\n",
    "plt.legend(loc=0)"
   ]
  },
  {
   "cell_type": "code",
   "execution_count": 251,
   "metadata": {
    "ExecuteTime": {
     "end_time": "2017-12-14T14:48:36.562441Z",
     "start_time": "2017-12-14T14:48:36.540024Z"
    }
   },
   "outputs": [
    {
     "data": {
      "text/plain": [
       "[(\"Customer's Total Usage Fraction for Merchant\", 0.0),\n",
       " (\"Customer's Total Received by Merchant\", 0.0),\n",
       " (\"Merchant's Total Usage Fraction\", 0.0),\n",
       " ('Fixed', 0.0),\n",
       " ('Avg_coupon_got_y', 0.0),\n",
       " ('Num_coupon_used_y', 0.0053144377),\n",
       " ('Avg_use_rate', 0.0062001771),\n",
       " ('date_received_week', 0.0088573955),\n",
       " (\"Customer's Inbox Share by Merchant\", 0.0097431354),\n",
       " ('EquivalentDiscount', 0.057573073),\n",
       " ('date_received_month', 0.059344552),\n",
       " ('Tot_coupon_got', 0.062001772),\n",
       " ('Num_coupon_used_x', 0.075287864),\n",
       " (\"Customer's Total Usage for Merchant's Coupons\", 0.076173604),\n",
       " ('CouponRequirement', 0.085031003),\n",
       " ('money', 0.088573962),\n",
       " ('num_type', 0.096545614),\n",
       " ('Distance', 0.10628875),\n",
       " ('Avg_coupon_got_x', 0.12134632),\n",
       " ('Tot_coupon_sent', 0.14171833)]"
      ]
     },
     "execution_count": 251,
     "metadata": {},
     "output_type": "execute_result"
    }
   ],
   "source": [
    "sorted(zip(x_train_1.columns,GBM_model2.feature_importances_),key=lambda x:x[1])"
   ]
  },
  {
   "cell_type": "code",
   "execution_count": 249,
   "metadata": {
    "ExecuteTime": {
     "end_time": "2017-12-14T14:47:42.259468Z",
     "start_time": "2017-12-14T14:47:16.146713Z"
    }
   },
   "outputs": [
    {
     "name": "stdout",
     "output_type": "stream",
     "text": [
      "AUC socre for RF model is  0.714817604357\n",
      "accuracy rate is  0.647660118192\n",
      "AUC socre for MLP is  0.719951707726\n",
      "accuracy rate is  0.658281424693\n",
      "AUC socre for GBDT is  0.788037945464\n",
      "accuracy rate is  0.707794282064\n",
      "AUC socre for XG is  0.764766879059\n",
      "accuracy rate is  0.689985625299\n",
      "AUC socre for AB is  0.678010164493\n",
      "accuracy rate is  0.621945376138\n",
      "AUC socre for combining model is  0.801398790852\n",
      "accuracy rate is  0.720092636959\n"
     ]
    },
    {
     "data": {
      "text/plain": [
       "<matplotlib.legend.Legend at 0x114ef0190>"
      ]
     },
     "execution_count": 249,
     "metadata": {},
     "output_type": "execute_result"
    },
    {
     "data": {
      "image/png": "[encoded data removed]",
      "text/plain": [
       "<matplotlib.figure.Figure at 0x121538b90>"
      ]
     },
     "metadata": {},
     "output_type": "display_data"
    }
   ],
   "source": [
    "plt.figure(0).clf()\n",
    "X_train111 =x_train_1\n",
    "y_train1 =y_train_1\n",
    "X_test111 = x_test_1\n",
    "y_test1 = y_test_1\n",
    "\n",
    "\n",
    "# Random Forest \n",
    "RF = RandomForestClassifier(max_depth=13)\n",
    "RF.fit(X_train111, y_train1)\n",
    "y1_RFpredicted_test = RF.predict(X_test111)\n",
    "scoreRF=RF.predict_proba(X_test111)\n",
    "score_RF=[]\n",
    "for i in scoreRF:\n",
    "    score_RF.append(i[1])\n",
    "fpr, tpr, thresholds = roc_curve(y_test1, score_RF)\n",
    "auc = roc_auc_score(y_test1, score_RF)\n",
    "plot_roc_curve(fpr, tpr, 'Combining model accuracy =', metrics.accuracy_score(y_test1, y1_RFpredicted_test))\n",
    "print 'AUC socre for combining model is ', auc\n",
    "print 'accuracy rate is ', str(metrics.accuracy_score(y_test1, y1_RFpredicted_test))\n",
    "plt.legend(loc=0)\n",
    "\n",
    "\n",
    "\n",
    "\n",
    "# mlp\n",
    "Scaler = StandardScaler()\n",
    "sX_train1 = Scaler.fit_transform(X_train111)\n",
    "sX_train1 = pd.DataFrame(sX_train1)\n",
    "sX_test1 = Scaler.transform(X_test111)\n",
    "sX_test1 = pd.DataFrame(sX_test1)\n",
    "mlp = MLPClassifier(hidden_layer_sizes=(20,20,20,20,20,15), activation='relu', solver='sgd', learning_rate='adaptive',\n",
    "                    batch_size=800, learning_rate_init=0.05)\n",
    "MLP_model=mlp.fit(sX_train1,y_train1)\n",
    "y1_mlp_predicted = mlp.predict(sX_test1)\n",
    "scoremlp=MLP_model.predict_proba(sX_test1)\n",
    "score_NN=[]\n",
    "for i in scoremlp:\n",
    "    score_NN.append(i[1])\n",
    "    \n",
    "fpr, tpr, thresholds = roc_curve(y_test1, score_NN)\n",
    "auc = roc_auc_score(y_test1, score_NN)\n",
    "plot_roc_curve(fpr, tpr, 'MLP accuracy =', metrics.accuracy_score(y_test1, y1_mlp_predicted))\n",
    "print 'AUC socre for MLP is ', auc\n",
    "print 'accuracy rate is ', str(metrics.accuracy_score(y_test1, y1_mlp_predicted))\n",
    "# GBDT\n",
    "GBDT = GradientBoostingClassifier(n_estimators=100,max_depth=5)\n",
    "model=GBDT.fit(X_train111, y_train1)\n",
    "y1_GBDTpredicted_test = GBDT.predict(X_test111)\n",
    "scoreGBDT=GBDT.predict_proba(X_test111)\n",
    "score_GDBT=[]\n",
    "for i in scoreGBDT:\n",
    "    score_GDBT.append(i[1])\n",
    "\n",
    "fpr, tpr, thresholds = roc_curve(y_test1, score_GDBT)\n",
    "auc = roc_auc_score(y_test1, score_GDBT)\n",
    "plot_roc_curve(fpr, tpr, 'GBDT accuracy =', metrics.accuracy_score(y_test1,y1_GBDTpredicted_test))\n",
    "print 'AUC socre for GBDT is ', auc\n",
    "print 'accuracy rate is ', str(metrics.accuracy_score(y_test1,y1_GBDTpredicted_test))\n",
    "\n",
    "import xgboost as xgb\n",
    "from random import shuffle\n",
    "from xgboost.sklearn import XGBClassifier\n",
    "gbm = xgb.XGBClassifier(n_estimators=100,max_depth=5)\n",
    "GBM_model=gbm.fit(X_train111, y_train1)\n",
    "scoreXG=GBM_model.predict_proba(X_test111)\n",
    "y1_XGBpredicted_test = GBM_model.predict(X_test111)\n",
    "score_XG=[]\n",
    "for i in scoreXG:\n",
    "    score_XG.append(i[1])\n",
    "    \n",
    "fpr, tpr, thresholds = roc_curve(y_test1, score_XG)\n",
    "auc = roc_auc_score(y_test1, score_XG)\n",
    "plot_roc_curve(fpr, tpr, 'XG accuracy =', metrics.accuracy_score(y_test1, y1_XGBpredicted_test))\n",
    "print 'AUC socre for XG is ', auc\n",
    "print 'accuracy rate is ', str(metrics.accuracy_score(y_test1, y1_XGBpredicted_test))\n",
    "\n",
    "# AdaBoost\n",
    "from sklearn.ensemble import AdaBoostClassifier\n",
    "from sklearn.tree import DecisionTreeClassifier\n",
    "ABC = AdaBoostClassifier(DecisionTreeClassifier(max_depth=3),\n",
    "                         algorithm=\"SAMME\",\n",
    "                         learning_rate =0.05,\n",
    "                         n_estimators=20)\n",
    "ABC.fit(X_train111, y_train1)\n",
    "y1_ABpredicted_test = ABC.predict(X_test111)\n",
    "\n",
    "scoreAB=ABC.predict_proba(X_test111)\n",
    "score_AB=[]\n",
    "for i in scoreAB:\n",
    "    score_AB.append(i[1])\n",
    "fpr, tpr, thresholds = roc_curve(y_test1, score_AB)\n",
    "auc = roc_auc_score(y_test1, score_AB)\n",
    "plot_roc_curve(fpr, tpr, 'AB accuracy =', metrics.accuracy_score(y_test1, y1_ABpredicted_test))\n",
    "print 'AUC socre for AB is ', auc\n",
    "print 'accuracy rate is ', str(metrics.accuracy_score(y_test1, y1_ABpredicted_test))\n",
    "\n",
    "# Ensemble model\n",
    "scoreEM=scoreAB*Ada_coef+scoreXG*XG_coef+scoreRF*RF_coef+scoremlp*MLP_coef+scoreGBDT*GBDT_coef\n",
    "score_EM=[]\n",
    "for i in scoreEM:\n",
    "    score_EM.append(i[1])\n",
    "fpr, tpr, thresholds = roc_curve(y_test1, score_EM)\n",
    "auc = roc_auc_score(y_test1, score_EM)\n",
    "prediction=int(score_EM>0.5)\n",
    "plot_roc_curve(fpr, tpr, 'combining model accuracy =', metrics.accuracy_score(y_test1, prediction))\n",
    "print 'AUC socre for combining model is ', auc\n",
    "print 'accuracy rate is ', str(metrics.accuracy_score(y_test1, prediction))\n",
    "plt.legend(loc=0)"
   ]
  }
 ],
 "metadata": {
  "anaconda-cloud": {},
  "kernelspec": {
   "display_name": "Python [conda root]",
   "language": "python",
   "name": "conda-root-py"
  },
  "language_info": {
   "codemirror_mode": {
    "name": "ipython",
    "version": 2
   },
   "file_extension": ".py",
   "mimetype": "text/x-python",
   "name": "python",
   "nbconvert_exporter": "python",
   "pygments_lexer": "ipython2",
   "version": "2.7.14"
  },
  "nbTranslate": {
   "displayLangs": [
    "*"
   ],
   "hotkey": "alt-t",
   "langInMainMenu": true,
   "sourceLang": "en",
   "targetLang": "fr",
   "useGoogleTranslate": true
  },
  "toc": {
   "nav_menu": {},
   "number_sections": true,
   "sideBar": true,
   "skip_h1_title": false,
   "toc_cell": false,
   "toc_position": {},
   "toc_section_display": "block",
   "toc_window_display": false
  },
  "varInspector": {
   "cols": {
    "lenName": 16,
    "lenType": 16,
    "lenVar": 40
   },
   "kernels_config": {
    "python": {
     "delete_cmd_postfix": "",
     "delete_cmd_prefix": "del ",
     "library": "var_list.py",
     "varRefreshCmd": "print(var_dic_list())"
    },
    "r": {
     "delete_cmd_postfix": ") ",
     "delete_cmd_prefix": "rm(",
     "library": "var_list.r",
     "varRefreshCmd": "cat(var_dic_list()) "
    }
   },
   "types_to_exclude": [
    "module",
    "function",
    "builtin_function_or_method",
    "instance",
    "_Feature"
   ],
   "window_display": false
  }
 },
 "nbformat": 4,
 "nbformat_minor": 2
}
