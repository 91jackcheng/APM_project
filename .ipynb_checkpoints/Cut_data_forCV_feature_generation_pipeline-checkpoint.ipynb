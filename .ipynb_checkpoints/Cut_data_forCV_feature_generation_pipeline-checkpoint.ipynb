{
 "cells": [
  {
   "cell_type": "code",
   "execution_count": 3,
   "metadata": {
    "ExecuteTime": {
     "end_time": "2017-12-05T21:24:47.957797Z",
     "start_time": "2017-12-05T21:24:45.271451Z"
    },
    "collapsed": true
   },
   "outputs": [],
   "source": [
    "import pandas as pd\n",
    "import warnings\n",
    "from pandas import Series, DataFrame\n",
    "warnings.filterwarnings(\"ignore\")"
   ]
  },
  {
   "cell_type": "code",
   "execution_count": 2,
   "metadata": {
    "ExecuteTime": {
     "end_time": "2017-12-03T22:47:52.717212Z",
     "start_time": "2017-12-03T22:47:40.532395Z"
    },
    "collapsed": true
   },
   "outputs": [],
   "source": [
    "#data_offline = pd.read_csv('ccf_offline.csv')\n",
    "data_online = pd.read_csv('ccf_online.csv')"
   ]
  },
  {
   "cell_type": "code",
   "execution_count": 5,
   "metadata": {
    "ExecuteTime": {
     "end_time": "2017-12-03T22:49:26.473480Z",
     "start_time": "2017-12-03T22:48:31.913679Z"
    },
    "collapsed": true
   },
   "outputs": [],
   "source": [
    "tr2=cutoff_time(20160200,20160500,data_online).drop_duplicates()\n"
   ]
  },
  {
   "cell_type": "code",
   "execution_count": 11,
   "metadata": {
    "ExecuteTime": {
     "end_time": "2017-12-03T16:13:11.157910Z",
     "start_time": "2017-12-03T16:07:17.410134Z"
    },
    "collapsed": true
   },
   "outputs": [],
   "source": [
    "tr1=cutoff_time(20160100,20160400,data_online).drop_duplicates()\n",
    "te1=cutoff_time(20160400,20160500,data_online).drop_duplicates()\n",
    "tr2=cutoff_time(20160200,20160500,data_online).drop_duplicates()\n",
    "te2=cutoff_time(20160500,20160600,data_online).drop_duplicates()\n",
    "train=cutoff_time(20160100,20160600,data_online).drop_duplicates()\n",
    "test=cutoff_time(20160600,20160700,data_online).drop_duplicates()"
   ]
  },
  {
   "cell_type": "code",
   "execution_count": 4,
   "metadata": {
    "ExecuteTime": {
     "end_time": "2017-12-03T22:48:28.384757Z",
     "start_time": "2017-12-03T22:48:28.363454Z"
    },
    "collapsed": true
   },
   "outputs": [],
   "source": [
    "def get_date_number(s):\n",
    "    if s=='null':\n",
    "        return 0\n",
    "    else:\n",
    "        return int(s)\n",
    "def judge_cut_off(start_time,end_time,s):\n",
    "    return int(s>start_time and s<end_time)\n",
    " \n",
    "    \n",
    "def cutoff_time(start_time,end_time,input_data):\n",
    "    input_data['date']=input_data['Date'].map(get_date_number)\n",
    "    input_data['dr']=input_data['Date_received'].map(get_date_number)\n",
    "    input_data['jd']=input_data['date']+input_data['dr']\n",
    "    input_data['judge']=input_data['jd'].map(lambda x:judge_cut_off(start_time,end_time,x))\n",
    "    input_data['judge1']=input_data['date'].map(lambda x:int(x>0 and x<end_time))                             \n",
    "    input_data['finaljd']=input_data['judge']+input_data['judge1']\n",
    "    output=input_data[input_data['finaljd']>0].drop(['date','dr','jd','judge','judge1','finaljd'], axis=1)\n",
    "    return output\n",
    "    \n",
    "    \n",
    "    \n",
    "    "
   ]
  },
  {
   "cell_type": "code",
   "execution_count": 6,
   "metadata": {
    "ExecuteTime": {
     "end_time": "2017-12-03T22:49:26.628053Z",
     "start_time": "2017-12-03T22:49:26.584021Z"
    },
    "collapsed": true
   },
   "outputs": [],
   "source": [
    "import time, datetime\n",
    "def sent_coupon(value):\n",
    "    if value != 'null':\n",
    "        return 1\n",
    "    else: \n",
    "        return 0\n",
    "    \n",
    "def used_coupon(a,b):\n",
    "    if a == 1 and b != 'null':\n",
    "        return 1\n",
    "    else:\n",
    "        return 0\n",
    "    \n",
    "def get_discount_rate(s):\n",
    "    if s != 'null':\n",
    "        if len(s.split(':')) > 1:\n",
    "            return (float(s.split(':')[0]) - float(s.split(':')[1])) / float(\n",
    "                s.split(':')[0])\n",
    "        elif s == 'fixed':\n",
    "            return s\n",
    "        else:\n",
    "            return float(s)\n",
    "    else:\n",
    "        return 'null'\n",
    "\n",
    "\n",
    "def get_coupon_requirement(s):\n",
    "    if s != 'null':\n",
    "        if len(s.split(':')) > 1:\n",
    "            return s.split(':')[0]\n",
    "        else:\n",
    "            return 0\n",
    "    else:\n",
    "        return 0\n",
    "\n",
    "\n",
    "def is_direct_use(s):\n",
    "    if (len(s.split(':')) == 1) & (s != 'null'):\n",
    "        return 1\n",
    "    else:\n",
    "        return 0\n",
    "\n",
    "\n",
    "def get_week_day(s):\n",
    "    if s != 'null':\n",
    "        date_time = datetime.datetime.strptime(s, '%Y%m%d')\n",
    "        return date_time.weekday()\n",
    "    else:\n",
    "        return 'null'\n",
    "\n",
    "\n",
    "def get_month_day(s):\n",
    "    if s != 'null':\n",
    "        return int(s[-2:])\n",
    "    else:\n",
    "        return 'null'"
   ]
  },
  {
   "cell_type": "code",
   "execution_count": 7,
   "metadata": {
    "ExecuteTime": {
     "end_time": "2017-12-03T22:49:26.785586Z",
     "start_time": "2017-12-03T22:49:26.733963Z"
    },
    "collapsed": true
   },
   "outputs": [],
   "source": [
    "def get_coupon_feature_online(input_data):\n",
    "    a = input_data[['Merchant_id', 'Coupon_id']]\n",
    "    mask = input_data['Coupon_id'] != 'null'\n",
    "    num_coupon = a[mask].groupby(['Merchant_id']).count().reset_index()\n",
    "    num_coupon.columns = ['Merchant_id', 'Tot_coupon_sent']\n",
    "    input_data1 = pd.merge(\n",
    "        input_data, num_coupon, on='Merchant_id', how='left')\n",
    "    mask2 = (input_data1['Date'] != 'null') & (input_data1['Coupon_id'] !=\n",
    "                                               'null')\n",
    "    b = input_data1[mask2].groupby(\n",
    "        ['Merchant_id'])['Action'].count().reset_index()\n",
    "    b.columns = ['Merchant_id', 'Num_coupon_used']\n",
    "    input_data2 = pd.merge(input_data1, b, on='Merchant_id', how='left')\n",
    "    l = input_data2[['Merchant_id', 'Coupon_id', 'Action']].groupby(\n",
    "        ['Merchant_id', 'Coupon_id']).count().reset_index()\n",
    "    mask3 = l['Coupon_id'] != 'null'\n",
    "    l2 = l[mask3]\n",
    "    l2['num_type'] = l2['Coupon_id'].apply(lambda x: int(x > 0))\n",
    "    l3 = l2.groupby('Merchant_id')['num_type'].count()\n",
    "    l4 = pd.DataFrame(l3).reset_index()\n",
    "    input_data3 = pd.merge(input_data2, l4, on='Merchant_id', how='left')\n",
    "    couponmask = (input_data3['Date'] != 'null') & (input_data3['Coupon_id'] !=\n",
    "                                                    'null')\n",
    "    coupon_used = input_data3[couponmask]\n",
    "    input_data3['coupon_requirement'] = input_data3['Discount_rate'].map(\n",
    "        get_coupon_requirement)\n",
    "    input_data3['equivalent_discount'] = input_data3['Discount_rate'].map(\n",
    "        get_discount_rate)\n",
    "    input_data3['direct_use_coupon'] = input_data3['Discount_rate'].map(\n",
    "        is_direct_use)\n",
    "    input_data3['Date_received_week'] = input_data3['Date_received'].map(\n",
    "        get_week_day)\n",
    "    input_data3['Date_received_month'] = input_data3['Date_received'].map(\n",
    "        get_month_day)\n",
    "    output = input_data3[input_data3['Coupon_id'] != 'null']\n",
    "    output.drop(['Discount_rate', 'Date_received', 'Date'], axis=1, inplace=True)\n",
    "    print 'Coupon Fearures completed'\n",
    "    return output"
   ]
  },
  {
   "cell_type": "code",
   "execution_count": 8,
   "metadata": {
    "ExecuteTime": {
     "end_time": "2017-12-03T22:58:57.056109Z",
     "start_time": "2017-12-03T22:58:57.007261Z"
    },
    "collapsed": true
   },
   "outputs": [],
   "source": [
    "def get_custMerch(data):\n",
    "    data['Coupon Received'] = data['Coupon_id'].map(sent_coupon)\n",
    "    data['Coupon Used'] = data.apply(lambda x: used_coupon(x['Coupon Received'], x['Date']), axis = 1)\n",
    "    grouped = data.groupby(['User_id', 'Merchant_id'], as_index = False)[['Coupon Received','Coupon Used']].agg(sum)\n",
    "    grouped[\"Customer's Total Usage Fraction for Merchant\"] = grouped['Coupon Used'] / grouped['Coupon Received'].fillna(0)\n",
    "    grouped[\"Customer's Total Usage for Merchant's Coupons\"] = grouped[\"Coupon Used\"]\n",
    "    grouped[\"Customer's Total Received by Merchant\"] = grouped[\"Coupon Received\"]\n",
    "    del grouped[\"Coupon Used\"]\n",
    "    del grouped[\"Coupon Received\"]\n",
    "    merge0 = grouped.merge(data, on = ['User_id','Merchant_id'] )\n",
    "    receive_frac = data.groupby(['User_id', 'Merchant_id'])[['Coupon Received']].agg(sum)/data.groupby(['User_id'])[['Coupon Received']].agg(sum)\n",
    "    receive_frac = receive_frac.reset_index()\n",
    "    merged1 = receive_frac.merge(merge0, on = ['User_id','Merchant_id'])\n",
    "    merged1[\"Customer's Inbox Share by Merchant\"] = merged1['Coupon Received_x'].fillna(0)\n",
    "    del merged1['Coupon Received_x']\n",
    "    merged1['Coupon Received'] = merged1['Coupon Received_y']\n",
    "    del merged1['Coupon Received_y']\n",
    "    \n",
    "    # Note: this next feature is really more merchant-specific\n",
    "    merchant_group = data.groupby(['Merchant_id', 'User_id'])[['Coupon Received', 'Coupon Used']].agg(sum)\n",
    "    by_merchant = merchant_group.groupby(['Merchant_id'])[['Coupon Received', 'Coupon Used']].agg(sum)\n",
    "    by_merchant[\"Merchant's Total Usage Fraction\"] = by_merchant['Coupon Used'] / by_merchant['Coupon Received']\n",
    "    by_merchant[\"Merchant's Total Usage Fraction\"] = by_merchant[\"Merchant's Total Usage Fraction\"].fillna(0)\n",
    "    del by_merchant['Coupon Received'], by_merchant['Coupon Used']\n",
    "    by_merchant = by_merchant.reset_index()\n",
    "    finalMerge= merged1.merge(by_merchant, on = ['Merchant_id'])\n",
    "    print'Cust-Merchant features completed'\n",
    "    \n",
    "    return finalMerge"
   ]
  },
  {
   "cell_type": "code",
   "execution_count": null,
   "metadata": {
    "collapsed": true
   },
   "outputs": [],
   "source": []
  },
  {
   "cell_type": "code",
   "execution_count": null,
   "metadata": {
    "collapsed": true
   },
   "outputs": [],
   "source": []
  },
  {
   "cell_type": "code",
   "execution_count": null,
   "metadata": {
    "collapsed": true
   },
   "outputs": [],
   "source": []
  },
  {
   "cell_type": "code",
   "execution_count": null,
   "metadata": {
    "collapsed": true
   },
   "outputs": [],
   "source": []
  },
  {
   "cell_type": "code",
   "execution_count": null,
   "metadata": {
    "collapsed": true
   },
   "outputs": [],
   "source": []
  },
  {
   "cell_type": "code",
   "execution_count": 13,
   "metadata": {
    "ExecuteTime": {
     "end_time": "2017-12-03T23:04:18.653473Z",
     "start_time": "2017-12-03T23:04:18.641606Z"
    },
    "collapsed": true
   },
   "outputs": [],
   "source": [
    "def get_coupon_requirement(s):\n",
    "    if s != 'null':\n",
    "        if len(s.split(':')) > 1:\n",
    "            return int(s.split(':')[0])\n",
    "        else:\n",
    "            return 0\n",
    "    else:\n",
    "        return 0"
   ]
  },
  {
   "cell_type": "code",
   "execution_count": 14,
   "metadata": {
    "ExecuteTime": {
     "end_time": "2017-12-03T23:04:20.148591Z",
     "start_time": "2017-12-03T23:04:20.114451Z"
    },
    "collapsed": true
   },
   "outputs": [],
   "source": [
    "def get_online_user_table(data_online):\n",
    "\n",
    "    #Number of time this customer gets a coupon online\n",
    "    a = data_online[['User_id', 'Coupon_id']]\n",
    "    mask = data_online['Coupon_id'] != 'null'\n",
    "    num_coupon = a[mask].groupby(['User_id']).count().reset_index()\n",
    "    num_coupon.columns = ['User_id', 'Tot_coupon_got']\n",
    "    data_online1 = pd.merge(data_online, num_coupon, on='User_id', how='left')\n",
    "\n",
    "    #Number of time this customer uses a coupon\n",
    "    mask2 = (data_online1['Date'] != 'null') & (data_online1['Coupon_id'] !=\n",
    "                                                'null')\n",
    "    b = data_online1[mask2].groupby(\n",
    "        ['User_id'])['Action'].count().reset_index()\n",
    "    b.columns = ['User_id', 'Num_coupon_used']\n",
    "    data_online2 = pd.merge(data_online1, b, on='User_id', how='left')\n",
    "\n",
    "    #The average amount of coupon the customer got a week.\n",
    "    #The training set is collected from Jan. 1st 2016 to June 30th 2016. 26 weeks in total\n",
    "    def to_float(s):\n",
    "        return float(s)\n",
    "\n",
    "    data_online3 = data_online2\n",
    "    data_online3['Tot_coupon_got'] = data_online3['Tot_coupon_got'].map(\n",
    "        to_float)\n",
    "    data_online3['Avg_coupon_got'] = data_online3['Tot_coupon_got'] * 1 / 26\n",
    "\n",
    "    #generate customer table\n",
    "    customer_columns = data_online3[[\n",
    "        'User_id', 'Tot_coupon_got', 'Num_coupon_used', 'Avg_coupon_got'\n",
    "    ]]\n",
    "    customer_online_table = customer_columns.drop_duplicates()\n",
    "    data_online['money'] = data_online['Discount_rate'].map(\n",
    "        get_coupon_requirement)\n",
    "    out1=data_online[data_online['money']>0].groupby('User_id')['money'].mean().reset_index()\n",
    "    output = pd.merge(customer_online_table,out1, on='User_id')\n",
    "    print 'User features completed'\n",
    "    return output"
   ]
  },
  {
   "cell_type": "code",
   "execution_count": 2,
   "metadata": {
    "ExecuteTime": {
     "end_time": "2017-12-05T21:18:38.557679Z",
     "start_time": "2017-12-05T21:18:35.321691Z"
    },
    "collapsed": true
   },
   "outputs": [],
   "source": [
    "from sklearn.discriminant_analysis import LinearDiscriminantAnalysis as LDA\n",
    "from sklearn.discriminant_analysis import QuadraticDiscriminantAnalysis as QDA"
   ]
  },
  {
   "cell_type": "code",
   "execution_count": null,
   "metadata": {
    "collapsed": true
   },
   "outputs": [],
   "source": [
    "QDA()"
   ]
  },
  {
   "cell_type": "code",
   "execution_count": 15,
   "metadata": {
    "ExecuteTime": {
     "end_time": "2017-12-03T23:04:32.807609Z",
     "start_time": "2017-12-03T23:04:21.593937Z"
    }
   },
   "outputs": [
    {
     "name": "stdout",
     "output_type": "stream",
     "text": [
      "User features completed\n"
     ]
    }
   ],
   "source": [
    "TR1=get_online_user_table(tr2)"
   ]
  },
  {
   "cell_type": "code",
   "execution_count": 16,
   "metadata": {
    "ExecuteTime": {
     "end_time": "2017-12-03T23:09:45.727368Z",
     "start_time": "2017-12-03T23:09:45.704262Z"
    },
    "collapsed": true
   },
   "outputs": [],
   "source": [
    "TR1=TR1.fillna(0)"
   ]
  },
  {
   "cell_type": "code",
   "execution_count": 17,
   "metadata": {
    "ExecuteTime": {
     "end_time": "2017-12-03T23:09:46.819538Z",
     "start_time": "2017-12-03T23:09:46.488211Z"
    },
    "collapsed": true
   },
   "outputs": [],
   "source": [
    "TR1['Tot_coupon_got']=TR1['Tot_coupon_got'].map(lambda x:int(x))\n",
    "TR1['Num_coupon_used']=TR1['Num_coupon_used'].map(lambda x:int(x))\n",
    "TR1['money']=TR1['money'].map(lambda x:int(x))"
   ]
  },
  {
   "cell_type": "code",
   "execution_count": 18,
   "metadata": {
    "ExecuteTime": {
     "end_time": "2017-12-03T23:09:47.670174Z",
     "start_time": "2017-12-03T23:09:47.659485Z"
    },
    "collapsed": true
   },
   "outputs": [],
   "source": [
    "TR1['Avg_use_rate']=TR1['Num_coupon_used']/TR1['Tot_coupon_got']"
   ]
  },
  {
   "cell_type": "code",
   "execution_count": 19,
   "metadata": {
    "ExecuteTime": {
     "end_time": "2017-12-03T23:09:48.655278Z",
     "start_time": "2017-12-03T23:09:48.585459Z"
    }
   },
   "outputs": [
    {
     "data": {
      "text/html": [
       "<div>\n",
       "<style>\n",
       "    .dataframe thead tr:only-child th {\n",
       "        text-align: right;\n",
       "    }\n",
       "\n",
       "    .dataframe thead th {\n",
       "        text-align: left;\n",
       "    }\n",
       "\n",
       "    .dataframe tbody tr th {\n",
       "        vertical-align: top;\n",
       "    }\n",
       "</style>\n",
       "<table border=\"1\" class=\"dataframe\">\n",
       "  <thead>\n",
       "    <tr style=\"text-align: right;\">\n",
       "      <th></th>\n",
       "      <th>User_id</th>\n",
       "      <th>Tot_coupon_got</th>\n",
       "      <th>Num_coupon_used</th>\n",
       "      <th>Avg_coupon_got</th>\n",
       "      <th>money</th>\n",
       "      <th>Avg_use_rate</th>\n",
       "    </tr>\n",
       "  </thead>\n",
       "  <tbody>\n",
       "    <tr>\n",
       "      <th>0</th>\n",
       "      <td>13740231</td>\n",
       "      <td>5</td>\n",
       "      <td>0</td>\n",
       "      <td>0.192308</td>\n",
       "      <td>520</td>\n",
       "      <td>0.00</td>\n",
       "    </tr>\n",
       "    <tr>\n",
       "      <th>1</th>\n",
       "      <td>15137031</td>\n",
       "      <td>4</td>\n",
       "      <td>0</td>\n",
       "      <td>0.153846</td>\n",
       "      <td>170</td>\n",
       "      <td>0.00</td>\n",
       "    </tr>\n",
       "    <tr>\n",
       "      <th>2</th>\n",
       "      <td>13332831</td>\n",
       "      <td>12</td>\n",
       "      <td>0</td>\n",
       "      <td>0.461538</td>\n",
       "      <td>150</td>\n",
       "      <td>0.00</td>\n",
       "    </tr>\n",
       "    <tr>\n",
       "      <th>3</th>\n",
       "      <td>14219799</td>\n",
       "      <td>1</td>\n",
       "      <td>0</td>\n",
       "      <td>0.038462</td>\n",
       "      <td>5</td>\n",
       "      <td>0.00</td>\n",
       "    </tr>\n",
       "    <tr>\n",
       "      <th>4</th>\n",
       "      <td>12518031</td>\n",
       "      <td>8</td>\n",
       "      <td>2</td>\n",
       "      <td>0.307692</td>\n",
       "      <td>175</td>\n",
       "      <td>0.25</td>\n",
       "    </tr>\n",
       "  </tbody>\n",
       "</table>\n",
       "</div>"
      ],
      "text/plain": [
       "    User_id  Tot_coupon_got  Num_coupon_used  Avg_coupon_got  money  \\\n",
       "0  13740231               5                0        0.192308    520   \n",
       "1  15137031               4                0        0.153846    170   \n",
       "2  13332831              12                0        0.461538    150   \n",
       "3  14219799               1                0        0.038462      5   \n",
       "4  12518031               8                2        0.307692    175   \n",
       "\n",
       "   Avg_use_rate  \n",
       "0          0.00  \n",
       "1          0.00  \n",
       "2          0.00  \n",
       "3          0.00  \n",
       "4          0.25  "
      ]
     },
     "execution_count": 19,
     "metadata": {},
     "output_type": "execute_result"
    }
   ],
   "source": [
    "TR1.head()"
   ]
  },
  {
   "cell_type": "code",
   "execution_count": 20,
   "metadata": {
    "ExecuteTime": {
     "end_time": "2017-12-03T23:09:55.682778Z",
     "start_time": "2017-12-03T23:09:55.158383Z"
    },
    "collapsed": true
   },
   "outputs": [],
   "source": [
    "TR1.to_csv('TR2_user.csv',index=False)"
   ]
  },
  {
   "cell_type": "code",
   "execution_count": 23,
   "metadata": {
    "ExecuteTime": {
     "end_time": "2017-12-03T23:23:37.356020Z",
     "start_time": "2017-12-03T23:23:37.318169Z"
    },
    "collapsed": true
   },
   "outputs": [],
   "source": [
    "import webbrowser,sys\n",
    "webbrowser.open('https://www.youtube.com/watch?v=NiHF-cwto_A')"
   ]
  },
  {
   "cell_type": "code",
   "execution_count": 24,
   "metadata": {
    "ExecuteTime": {
     "end_time": "2017-12-03T23:24:28.557619Z",
     "start_time": "2017-12-03T23:24:28.175212Z"
    }
   },
   "outputs": [
    {
     "data": {
      "text/plain": [
       "True"
      ]
     },
     "execution_count": 24,
     "metadata": {},
     "output_type": "execute_result"
    }
   ],
   "source": []
  },
  {
   "cell_type": "code",
   "execution_count": 8,
   "metadata": {
    "ExecuteTime": {
     "end_time": "2017-12-03T16:06:30.347699Z",
     "start_time": "2017-12-03T16:06:30.297905Z"
    },
    "collapsed": true
   },
   "outputs": [],
   "source": [
    "def get_online_merchant_table(data_online):\n",
    "    #get num_coupon for each user\n",
    "    \n",
    "    a=data_online[['Merchant_id','Coupon_id']]\n",
    "    mask = data_online['Coupon_id']!='null'\n",
    "    num_coupon = a[mask].groupby(['Merchant_id']).count().reset_index()\n",
    "    num_coupon.columns = ['Merchant_id','Tot_coupon_sent']\n",
    "    data_online1 = pd.merge(data_online, num_coupon, on = 'Merchant_id', how='left')\n",
    "\n",
    "    #get num coupon used for each user\n",
    "    mask2 = (data_online1['Date']!= 'null') & (data_online1['Coupon_id']!= 'null')\n",
    "    b=data_online1[mask2].groupby(['Merchant_id'])['Action'].count().reset_index()\n",
    "    b.columns = ['Merchant_id','Num_coupon_used']\n",
    "    data_online2 = pd.merge(data_online1, b, on='Merchant_id', how='left')\n",
    "\n",
    "    #get total number of coupons type for each user\n",
    "    l= data_online2[['Merchant_id','Coupon_id','Action']].groupby(['Merchant_id','Coupon_id']).count().reset_index()\n",
    "    mask3 = l['Coupon_id']!='null'\n",
    "    l2=l[mask3]\n",
    "\n",
    "    def num_type(s):\n",
    "        if s>0:\n",
    "            return 1\n",
    "\n",
    "    l2['num_type']=l2['Coupon_id'].apply(num_type)\n",
    "    l3 =l2.groupby('Merchant_id')['num_type'].count()\n",
    "    l4=pd.DataFrame(l3).reset_index()\n",
    "    data_online3= pd.merge(data_online2, l4, on='Merchant_id',how='left')\n",
    "\n",
    "    #generate merchant table\n",
    "    no_userid= data_online3[['Merchant_id','Tot_coupon_sent','Num_coupon_used','num_type']]\n",
    "    merchant_online_table = no_userid.drop_duplicates()\n",
    "    print 'Merchant features completed'\n",
    "    return merchant_online_table"
   ]
  },
  {
   "cell_type": "code",
   "execution_count": 9,
   "metadata": {
    "ExecuteTime": {
     "end_time": "2017-12-03T16:06:32.957897Z",
     "start_time": "2017-12-03T16:06:32.943676Z"
    },
    "collapsed": true
   },
   "outputs": [],
   "source": [
    "def pipeline(input_data):\n",
    "    M=get_online_merchant_table(input_data)\n",
    "    CU=get_online_user_table(input_data)\n",
    "    CO=get_coupon_feature_online(input_data)\n",
    "    CM=get_custMerch(input_data)\n",
    "    MG1=CO.merge(M,left_on='Merchant_id',right_on='Merchant_id',how='left')\n",
    "    print 'Merge Completed1/3'\n",
    "    MG2=MG1.merge(CU,left_on='User_id',right_on='User_id',how='left')\n",
    "    print 'Merge Completed2/3'\n",
    "    MG1=MG2.merge(CM,left_on=['User_id','Merchant_id'],right_on=['User_id','Merchant_id'],how='left')\n",
    "    print 'Merge Completed3/3'\n",
    "    return MG1\n",
    "    "
   ]
  },
  {
   "cell_type": "markdown",
   "metadata": {},
   "source": [
    "# Code to run:"
   ]
  },
  {
   "cell_type": "code",
   "execution_count": null,
   "metadata": {
    "collapsed": true
   },
   "outputs": [],
   "source": [
    "tr1=cutoff_time(20160100,20160400,data_online)\n",
    "te1=cutoff_time(20160400,20160500,data_online)\n",
    "tr2=cutoff_time(20160200,20160500,data_online)\n",
    "te2=cutoff_time(20160500,20160600,data_online)\n",
    "train=cutoff_time(20160100,20160600,data_online)\n",
    "test=cutoff_time(20160600,20160700,data_online)\n",
    "TR1=pipeline(tr1)\n",
    "TE1=pipeline(te1)\n",
    "TR2=pipeline(tr2)\n",
    "TE2=pipeline(te2)\n",
    "TRAIN=pipeline(train)\n",
    "TEST=pipeline(test)\n",
    "\n"
   ]
  },
  {
   "cell_type": "markdown",
   "metadata": {},
   "source": [
    "## For offline data"
   ]
  },
  {
   "cell_type": "code",
   "execution_count": 82,
   "metadata": {
    "ExecuteTime": {
     "end_time": "2017-12-01T18:36:53.504882Z",
     "start_time": "2017-12-01T18:36:53.443321Z"
    },
    "collapsed": true
   },
   "outputs": [],
   "source": [
    "def get_coupon_feature_offline(input_data):\n",
    "    a = input_data[['Merchant_id', 'Coupon_id']]\n",
    "    mask = input_data['Coupon_id'] != 'null'\n",
    "    num_coupon = a[mask].groupby(['Merchant_id']).count().reset_index()\n",
    "    num_coupon.columns = ['Merchant_id', 'Tot_coupon_sent']\n",
    "    input_data1 = pd.merge(input_data, num_coupon, on='Merchant_id')\n",
    "    mask2 = (input_data1['Date'] != 'null') & (input_data1['Coupon_id'] !=\n",
    "                                                 'null')\n",
    "    b = input_data1[mask2].groupby(\n",
    "        ['Merchant_id'])['Coupon_id'].count().reset_index()\n",
    "    b.columns = ['Merchant_id', 'Num_coupon_used']\n",
    "    input_data2 = pd.merge(input_data1, b, on='Merchant_id')\n",
    "    l = input_data2[['Merchant_id', 'Coupon_id']].groupby(\n",
    "        ['Merchant_id', 'Coupon_id']).count().reset_index()\n",
    "    mask3 = l['Coupon_id'] != 'null'\n",
    "    l2 = l[mask3]\n",
    "    l2['num_type'] = l2['Coupon_id'].apply(lambda x:int(x>0))\n",
    "    l3 = l2.groupby('Merchant_id')['num_type'].count()\n",
    "    l4 = pd.DataFrame(l3).reset_index()\n",
    "    input_data3 = pd.merge(input_data2, l4, on='Merchant_id')\n",
    "    null_mask = input_data3['Distance'] != 'null'\n",
    "    input_data4 = input_data3[null_mask]\n",
    "    input_data4['Distance'] = input_data4['Distance'].map(lambda x: float(x))\n",
    "    input_data5 = pd.DataFrame(\n",
    "        input_data4.groupby('Merchant_id')['Distance'].mean()).reset_index()\n",
    "    input_data6 = pd.merge(input_data3, input_data5, on='Merchant_id')\n",
    "    input_data6 = input_data6.rename(columns={'Distance_y': 'Avg_Distance'})\n",
    "    input_data6['equivalent_discount'] = input_data6['Discount_rate'].map(\n",
    "        get_discount_rate)\n",
    "    input_data6['direct_use_coupon'] = input_data6['Discount_rate'].map(\n",
    "        is_direct_use)\n",
    "    input_data6['coupon_requirement'] = input_data6['Discount_rate'].map(\n",
    "        get_coupon_requirement)\n",
    "    input_data6['Date_received_week'] = input_data6['Date_received'].map(\n",
    "        get_week_day)\n",
    "    input_data6['Date_received_month'] = input_data6['Date_received'].map(\n",
    "        get_month_day)\n",
    "    output=input_data6[input_data6['Coupon_id']!='null'] \n",
    "    output.drop(['Discount_rate', 'Date_received', 'Date'], axis=1, inplace=True)\n",
    "    return output"
   ]
  },
  {
   "cell_type": "code",
   "execution_count": 83,
   "metadata": {
    "ExecuteTime": {
     "end_time": "2017-12-01T18:37:30.926158Z",
     "start_time": "2017-12-01T18:36:53.924736Z"
    },
    "collapsed": true
   },
   "outputs": [],
   "source": [
    "b=get_coupon_feature_offline(data_offline)"
   ]
  },
  {
   "cell_type": "code",
   "execution_count": 85,
   "metadata": {
    "ExecuteTime": {
     "end_time": "2017-12-01T19:18:23.992344Z",
     "start_time": "2017-12-01T19:18:23.860010Z"
    }
   },
   "outputs": [
    {
     "data": {
      "text/html": [
       "<div>\n",
       "<style>\n",
       "    .dataframe thead tr:only-child th {\n",
       "        text-align: right;\n",
       "    }\n",
       "\n",
       "    .dataframe thead th {\n",
       "        text-align: left;\n",
       "    }\n",
       "\n",
       "    .dataframe tbody tr th {\n",
       "        vertical-align: top;\n",
       "    }\n",
       "</style>\n",
       "<table border=\"1\" class=\"dataframe\">\n",
       "  <thead>\n",
       "    <tr style=\"text-align: right;\">\n",
       "      <th></th>\n",
       "      <th>User_id</th>\n",
       "      <th>Merchant_id</th>\n",
       "      <th>Coupon_id</th>\n",
       "      <th>Distance_x</th>\n",
       "      <th>Tot_coupon_sent</th>\n",
       "      <th>Num_coupon_used</th>\n",
       "      <th>num_type</th>\n",
       "      <th>Avg_Distance</th>\n",
       "      <th>equivalent_discount</th>\n",
       "      <th>direct_use_coupon</th>\n",
       "      <th>coupon_requirement</th>\n",
       "      <th>Date_received_week</th>\n",
       "      <th>Date_received_month</th>\n",
       "    </tr>\n",
       "  </thead>\n",
       "  <tbody>\n",
       "    <tr>\n",
       "      <th>1</th>\n",
       "      <td>1439408</td>\n",
       "      <td>2632</td>\n",
       "      <td>8591</td>\n",
       "      <td>0</td>\n",
       "      <td>43</td>\n",
       "      <td>4</td>\n",
       "      <td>2</td>\n",
       "      <td>1.54</td>\n",
       "      <td>0.95</td>\n",
       "      <td>0</td>\n",
       "      <td>20</td>\n",
       "      <td>2</td>\n",
       "      <td>17</td>\n",
       "    </tr>\n",
       "    <tr>\n",
       "      <th>2</th>\n",
       "      <td>1439408</td>\n",
       "      <td>2632</td>\n",
       "      <td>1078</td>\n",
       "      <td>0</td>\n",
       "      <td>43</td>\n",
       "      <td>4</td>\n",
       "      <td>2</td>\n",
       "      <td>1.54</td>\n",
       "      <td>0.95</td>\n",
       "      <td>0</td>\n",
       "      <td>20</td>\n",
       "      <td>5</td>\n",
       "      <td>19</td>\n",
       "    </tr>\n",
       "    <tr>\n",
       "      <th>3</th>\n",
       "      <td>1439408</td>\n",
       "      <td>2632</td>\n",
       "      <td>8591</td>\n",
       "      <td>0</td>\n",
       "      <td>43</td>\n",
       "      <td>4</td>\n",
       "      <td>2</td>\n",
       "      <td>1.54</td>\n",
       "      <td>0.95</td>\n",
       "      <td>0</td>\n",
       "      <td>20</td>\n",
       "      <td>0</td>\n",
       "      <td>13</td>\n",
       "    </tr>\n",
       "    <tr>\n",
       "      <th>5</th>\n",
       "      <td>1439408</td>\n",
       "      <td>2632</td>\n",
       "      <td>8591</td>\n",
       "      <td>0</td>\n",
       "      <td>43</td>\n",
       "      <td>4</td>\n",
       "      <td>2</td>\n",
       "      <td>1.54</td>\n",
       "      <td>0.95</td>\n",
       "      <td>0</td>\n",
       "      <td>20</td>\n",
       "      <td>0</td>\n",
       "      <td>16</td>\n",
       "    </tr>\n",
       "    <tr>\n",
       "      <th>6</th>\n",
       "      <td>2082569</td>\n",
       "      <td>2632</td>\n",
       "      <td>1078</td>\n",
       "      <td>3</td>\n",
       "      <td>43</td>\n",
       "      <td>4</td>\n",
       "      <td>2</td>\n",
       "      <td>1.54</td>\n",
       "      <td>0.95</td>\n",
       "      <td>0</td>\n",
       "      <td>20</td>\n",
       "      <td>4</td>\n",
       "      <td>25</td>\n",
       "    </tr>\n",
       "  </tbody>\n",
       "</table>\n",
       "</div>"
      ],
      "text/plain": [
       "   User_id  Merchant_id Coupon_id Distance_x  Tot_coupon_sent  \\\n",
       "1  1439408         2632      8591          0               43   \n",
       "2  1439408         2632      1078          0               43   \n",
       "3  1439408         2632      8591          0               43   \n",
       "5  1439408         2632      8591          0               43   \n",
       "6  2082569         2632      1078          3               43   \n",
       "\n",
       "   Num_coupon_used  num_type  Avg_Distance equivalent_discount  \\\n",
       "1                4         2          1.54                0.95   \n",
       "2                4         2          1.54                0.95   \n",
       "3                4         2          1.54                0.95   \n",
       "5                4         2          1.54                0.95   \n",
       "6                4         2          1.54                0.95   \n",
       "\n",
       "   direct_use_coupon coupon_requirement Date_received_week Date_received_month  \n",
       "1                  0                 20                  2                  17  \n",
       "2                  0                 20                  5                  19  \n",
       "3                  0                 20                  0                  13  \n",
       "5                  0                 20                  0                  16  \n",
       "6                  0                 20                  4                  25  "
      ]
     },
     "execution_count": 85,
     "metadata": {},
     "output_type": "execute_result"
    }
   ],
   "source": [
    "b.head()"
   ]
  },
  {
   "cell_type": "code",
   "execution_count": 4,
   "metadata": {
    "ExecuteTime": {
     "end_time": "2017-12-05T22:15:25.897659Z",
     "start_time": "2017-12-05T22:15:24.322288Z"
    },
    "collapsed": true
   },
   "outputs": [],
   "source": [
    "x=pd.read_csv('full_train.csv')"
   ]
  },
  {
   "cell_type": "code",
   "execution_count": 14,
   "metadata": {
    "ExecuteTime": {
     "end_time": "2017-12-05T22:19:39.907363Z",
     "start_time": "2017-12-05T22:19:39.780326Z"
    },
    "collapsed": true
   },
   "outputs": [],
   "source": [
    "x_money=x[x['money'].notnull()]"
   ]
  },
  {
   "cell_type": "code",
   "execution_count": 15,
   "metadata": {
    "ExecuteTime": {
     "end_time": "2017-12-05T22:19:48.573365Z",
     "start_time": "2017-12-05T22:19:48.363182Z"
    },
    "collapsed": true
   },
   "outputs": [],
   "source": [
    "x_money['money_quantile']= pd.qcut(x_money['money'],10,labels=[1,2,3,4,5,6,7,8,9,10])"
   ]
  },
  {
   "cell_type": "code",
   "execution_count": 23,
   "metadata": {
    "ExecuteTime": {
     "end_time": "2017-12-05T22:24:37.406268Z",
     "start_time": "2017-12-05T22:24:37.384148Z"
    }
   },
   "outputs": [
    {
     "data": {
      "text/plain": [
       "money_quantile\n",
       "1     0.239523\n",
       "2     0.169279\n",
       "3     0.222319\n",
       "4     0.245433\n",
       "5     0.222139\n",
       "6     0.169694\n",
       "7     0.226525\n",
       "8     0.216782\n",
       "9     0.223134\n",
       "10    0.243012\n",
       "Name: Coupon Used_x, dtype: float64"
      ]
     },
     "execution_count": 23,
     "metadata": {},
     "output_type": "execute_result"
    }
   ],
   "source": [
    "x_money.groupby('money_quantile')['Coupon Used_x'].mean()"
   ]
  },
  {
   "cell_type": "code",
   "execution_count": 20,
   "metadata": {
    "ExecuteTime": {
     "end_time": "2017-12-05T22:21:53.771601Z",
     "start_time": "2017-12-05T22:21:53.753404Z"
    },
    "collapsed": true
   },
   "outputs": [],
   "source": [
    "%matplotlib inline"
   ]
  },
  {
   "cell_type": "code",
   "execution_count": 24,
   "metadata": {
    "ExecuteTime": {
     "end_time": "2017-12-05T22:29:56.195782Z",
     "start_time": "2017-12-05T22:29:56.118977Z"
    }
   },
   "outputs": [
    {
     "data": {
      "text/html": [
       "<div>\n",
       "<style>\n",
       "    .dataframe thead tr:only-child th {\n",
       "        text-align: right;\n",
       "    }\n",
       "\n",
       "    .dataframe thead th {\n",
       "        text-align: left;\n",
       "    }\n",
       "\n",
       "    .dataframe tbody tr th {\n",
       "        vertical-align: top;\n",
       "    }\n",
       "</style>\n",
       "<table border=\"1\" class=\"dataframe\">\n",
       "  <thead>\n",
       "    <tr style=\"text-align: right;\">\n",
       "      <th></th>\n",
       "      <th>coupon_requirement</th>\n",
       "      <th>equivalent_discount</th>\n",
       "      <th>Date_received_week</th>\n",
       "      <th>Date_received_month</th>\n",
       "      <th>Tot_coupon_sent</th>\n",
       "      <th>Num_coupon_used</th>\n",
       "      <th>num_type</th>\n",
       "      <th>Customer's Total Usage Fraction for Merchant</th>\n",
       "      <th>Customer's Total Usage for Merchant's Coupons</th>\n",
       "      <th>Customer's Total Received by Merchant</th>\n",
       "      <th>Merchant's Total Usage Fraction</th>\n",
       "      <th>Customer's Inbox Share by Merchant</th>\n",
       "      <th>Difference</th>\n",
       "      <th>money</th>\n",
       "      <th>Coupon Used_x</th>\n",
       "      <th>money_quantile</th>\n",
       "    </tr>\n",
       "  </thead>\n",
       "  <tbody>\n",
       "    <tr>\n",
       "      <th>0</th>\n",
       "      <td>500</td>\n",
       "      <td>0.9</td>\n",
       "      <td>4</td>\n",
       "      <td>13</td>\n",
       "      <td>35140</td>\n",
       "      <td>0.0</td>\n",
       "      <td>123</td>\n",
       "      <td>0.0</td>\n",
       "      <td>0</td>\n",
       "      <td>6</td>\n",
       "      <td>0.210273</td>\n",
       "      <td>1.00</td>\n",
       "      <td>3.0</td>\n",
       "      <td>520.0</td>\n",
       "      <td>0</td>\n",
       "      <td>10</td>\n",
       "    </tr>\n",
       "    <tr>\n",
       "      <th>1</th>\n",
       "      <td>50</td>\n",
       "      <td>0.9</td>\n",
       "      <td>3</td>\n",
       "      <td>17</td>\n",
       "      <td>1607</td>\n",
       "      <td>0.0</td>\n",
       "      <td>11</td>\n",
       "      <td>0.0</td>\n",
       "      <td>0</td>\n",
       "      <td>1</td>\n",
       "      <td>0.168015</td>\n",
       "      <td>0.25</td>\n",
       "      <td>18.0</td>\n",
       "      <td>170.0</td>\n",
       "      <td>0</td>\n",
       "      <td>8</td>\n",
       "    </tr>\n",
       "    <tr>\n",
       "      <th>2</th>\n",
       "      <td>30</td>\n",
       "      <td>0.966666667</td>\n",
       "      <td>1</td>\n",
       "      <td>5</td>\n",
       "      <td>248</td>\n",
       "      <td>0.0</td>\n",
       "      <td>4</td>\n",
       "      <td>0.0</td>\n",
       "      <td>0</td>\n",
       "      <td>1</td>\n",
       "      <td>0.088710</td>\n",
       "      <td>0.25</td>\n",
       "      <td>18.0</td>\n",
       "      <td>170.0</td>\n",
       "      <td>0</td>\n",
       "      <td>8</td>\n",
       "    </tr>\n",
       "    <tr>\n",
       "      <th>3</th>\n",
       "      <td>300</td>\n",
       "      <td>0.833333333</td>\n",
       "      <td>2</td>\n",
       "      <td>6</td>\n",
       "      <td>35140</td>\n",
       "      <td>0.0</td>\n",
       "      <td>123</td>\n",
       "      <td>0.0</td>\n",
       "      <td>0</td>\n",
       "      <td>2</td>\n",
       "      <td>0.210273</td>\n",
       "      <td>0.50</td>\n",
       "      <td>18.0</td>\n",
       "      <td>170.0</td>\n",
       "      <td>0</td>\n",
       "      <td>8</td>\n",
       "    </tr>\n",
       "    <tr>\n",
       "      <th>4</th>\n",
       "      <td>300</td>\n",
       "      <td>0.9</td>\n",
       "      <td>3</td>\n",
       "      <td>17</td>\n",
       "      <td>35140</td>\n",
       "      <td>0.0</td>\n",
       "      <td>123</td>\n",
       "      <td>0.0</td>\n",
       "      <td>0</td>\n",
       "      <td>2</td>\n",
       "      <td>0.210273</td>\n",
       "      <td>0.50</td>\n",
       "      <td>18.0</td>\n",
       "      <td>170.0</td>\n",
       "      <td>0</td>\n",
       "      <td>8</td>\n",
       "    </tr>\n",
       "  </tbody>\n",
       "</table>\n",
       "</div>"
      ],
      "text/plain": [
       "  coupon_requirement equivalent_discount  Date_received_week  \\\n",
       "0                500                 0.9                   4   \n",
       "1                 50                 0.9                   3   \n",
       "2                 30         0.966666667                   1   \n",
       "3                300         0.833333333                   2   \n",
       "4                300                 0.9                   3   \n",
       "\n",
       "   Date_received_month  Tot_coupon_sent  Num_coupon_used  num_type  \\\n",
       "0                   13            35140              0.0       123   \n",
       "1                   17             1607              0.0        11   \n",
       "2                    5              248              0.0         4   \n",
       "3                    6            35140              0.0       123   \n",
       "4                   17            35140              0.0       123   \n",
       "\n",
       "   Customer's Total Usage Fraction for Merchant  \\\n",
       "0                                           0.0   \n",
       "1                                           0.0   \n",
       "2                                           0.0   \n",
       "3                                           0.0   \n",
       "4                                           0.0   \n",
       "\n",
       "   Customer's Total Usage for Merchant's Coupons  \\\n",
       "0                                              0   \n",
       "1                                              0   \n",
       "2                                              0   \n",
       "3                                              0   \n",
       "4                                              0   \n",
       "\n",
       "   Customer's Total Received by Merchant  Merchant's Total Usage Fraction  \\\n",
       "0                                      6                         0.210273   \n",
       "1                                      1                         0.168015   \n",
       "2                                      1                         0.088710   \n",
       "3                                      2                         0.210273   \n",
       "4                                      2                         0.210273   \n",
       "\n",
       "   Customer's Inbox Share by Merchant  Difference  money  Coupon Used_x  \\\n",
       "0                                1.00         3.0  520.0              0   \n",
       "1                                0.25        18.0  170.0              0   \n",
       "2                                0.25        18.0  170.0              0   \n",
       "3                                0.50        18.0  170.0              0   \n",
       "4                                0.50        18.0  170.0              0   \n",
       "\n",
       "  money_quantile  \n",
       "0             10  \n",
       "1              8  \n",
       "2              8  \n",
       "3              8  \n",
       "4              8  "
      ]
     },
     "execution_count": 24,
     "metadata": {},
     "output_type": "execute_result"
    }
   ],
   "source": [
    "x_money.head()"
   ]
  },
  {
   "cell_type": "code",
   "execution_count": 26,
   "metadata": {
    "ExecuteTime": {
     "end_time": "2017-12-05T22:31:41.627436Z",
     "start_time": "2017-12-05T22:31:41.323946Z"
    },
    "collapsed": true
   },
   "outputs": [],
   "source": [
    "x_RFM=x_money[x_money['Difference'].notnull()]"
   ]
  },
  {
   "cell_type": "code",
   "execution_count": 27,
   "metadata": {
    "ExecuteTime": {
     "end_time": "2017-12-05T22:32:15.954112Z",
     "start_time": "2017-12-05T22:32:15.668529Z"
    },
    "collapsed": true
   },
   "outputs": [],
   "source": [
    "x_RFM['Recency_quantile']= pd.qcut(x_RFM['Difference'],10,labels=[1,2,3,4,5,6,7,8,9,10])"
   ]
  },
  {
   "cell_type": "code",
   "execution_count": 31,
   "metadata": {
    "ExecuteTime": {
     "end_time": "2017-12-05T22:33:33.202403Z",
     "start_time": "2017-12-05T22:33:33.164128Z"
    },
    "collapsed": true
   },
   "outputs": [],
   "source": [
    "DataFrame(x_RFM.groupby(['money_quantile','Recency_quantile'])['Coupon Used_x'].mean()).to_csv('RFM.csv')"
   ]
  },
  {
   "cell_type": "code",
   "execution_count": 32,
   "metadata": {
    "ExecuteTime": {
     "end_time": "2017-12-05T22:42:31.683054Z",
     "start_time": "2017-12-05T22:42:31.617763Z"
    }
   },
   "outputs": [
    {
     "data": {
      "text/html": [
       "<div>\n",
       "<style>\n",
       "    .dataframe thead tr:only-child th {\n",
       "        text-align: right;\n",
       "    }\n",
       "\n",
       "    .dataframe thead th {\n",
       "        text-align: left;\n",
       "    }\n",
       "\n",
       "    .dataframe tbody tr th {\n",
       "        vertical-align: top;\n",
       "    }\n",
       "</style>\n",
       "<table border=\"1\" class=\"dataframe\">\n",
       "  <thead>\n",
       "    <tr style=\"text-align: right;\">\n",
       "      <th></th>\n",
       "      <th>coupon_requirement</th>\n",
       "      <th>equivalent_discount</th>\n",
       "      <th>Date_received_week</th>\n",
       "      <th>Date_received_month</th>\n",
       "      <th>Tot_coupon_sent</th>\n",
       "      <th>Num_coupon_used</th>\n",
       "      <th>num_type</th>\n",
       "      <th>Customer's Total Usage Fraction for Merchant</th>\n",
       "      <th>Customer's Total Usage for Merchant's Coupons</th>\n",
       "      <th>Customer's Total Received by Merchant</th>\n",
       "      <th>Merchant's Total Usage Fraction</th>\n",
       "      <th>Customer's Inbox Share by Merchant</th>\n",
       "      <th>Difference</th>\n",
       "      <th>money</th>\n",
       "      <th>Coupon Used_x</th>\n",
       "      <th>money_quantile</th>\n",
       "      <th>Recency_quantile</th>\n",
       "    </tr>\n",
       "  </thead>\n",
       "  <tbody>\n",
       "    <tr>\n",
       "      <th>0</th>\n",
       "      <td>500</td>\n",
       "      <td>0.9</td>\n",
       "      <td>4</td>\n",
       "      <td>13</td>\n",
       "      <td>35140</td>\n",
       "      <td>0.0</td>\n",
       "      <td>123</td>\n",
       "      <td>0.0</td>\n",
       "      <td>0</td>\n",
       "      <td>6</td>\n",
       "      <td>0.210273</td>\n",
       "      <td>1.00</td>\n",
       "      <td>3.0</td>\n",
       "      <td>520.0</td>\n",
       "      <td>0</td>\n",
       "      <td>10</td>\n",
       "      <td>1</td>\n",
       "    </tr>\n",
       "    <tr>\n",
       "      <th>1</th>\n",
       "      <td>50</td>\n",
       "      <td>0.9</td>\n",
       "      <td>3</td>\n",
       "      <td>17</td>\n",
       "      <td>1607</td>\n",
       "      <td>0.0</td>\n",
       "      <td>11</td>\n",
       "      <td>0.0</td>\n",
       "      <td>0</td>\n",
       "      <td>1</td>\n",
       "      <td>0.168015</td>\n",
       "      <td>0.25</td>\n",
       "      <td>18.0</td>\n",
       "      <td>170.0</td>\n",
       "      <td>0</td>\n",
       "      <td>8</td>\n",
       "      <td>5</td>\n",
       "    </tr>\n",
       "    <tr>\n",
       "      <th>2</th>\n",
       "      <td>30</td>\n",
       "      <td>0.966666667</td>\n",
       "      <td>1</td>\n",
       "      <td>5</td>\n",
       "      <td>248</td>\n",
       "      <td>0.0</td>\n",
       "      <td>4</td>\n",
       "      <td>0.0</td>\n",
       "      <td>0</td>\n",
       "      <td>1</td>\n",
       "      <td>0.088710</td>\n",
       "      <td>0.25</td>\n",
       "      <td>18.0</td>\n",
       "      <td>170.0</td>\n",
       "      <td>0</td>\n",
       "      <td>8</td>\n",
       "      <td>5</td>\n",
       "    </tr>\n",
       "    <tr>\n",
       "      <th>3</th>\n",
       "      <td>300</td>\n",
       "      <td>0.833333333</td>\n",
       "      <td>2</td>\n",
       "      <td>6</td>\n",
       "      <td>35140</td>\n",
       "      <td>0.0</td>\n",
       "      <td>123</td>\n",
       "      <td>0.0</td>\n",
       "      <td>0</td>\n",
       "      <td>2</td>\n",
       "      <td>0.210273</td>\n",
       "      <td>0.50</td>\n",
       "      <td>18.0</td>\n",
       "      <td>170.0</td>\n",
       "      <td>0</td>\n",
       "      <td>8</td>\n",
       "      <td>5</td>\n",
       "    </tr>\n",
       "    <tr>\n",
       "      <th>4</th>\n",
       "      <td>300</td>\n",
       "      <td>0.9</td>\n",
       "      <td>3</td>\n",
       "      <td>17</td>\n",
       "      <td>35140</td>\n",
       "      <td>0.0</td>\n",
       "      <td>123</td>\n",
       "      <td>0.0</td>\n",
       "      <td>0</td>\n",
       "      <td>2</td>\n",
       "      <td>0.210273</td>\n",
       "      <td>0.50</td>\n",
       "      <td>18.0</td>\n",
       "      <td>170.0</td>\n",
       "      <td>0</td>\n",
       "      <td>8</td>\n",
       "      <td>5</td>\n",
       "    </tr>\n",
       "  </tbody>\n",
       "</table>\n",
       "</div>"
      ],
      "text/plain": [
       "  coupon_requirement equivalent_discount  Date_received_week  \\\n",
       "0                500                 0.9                   4   \n",
       "1                 50                 0.9                   3   \n",
       "2                 30         0.966666667                   1   \n",
       "3                300         0.833333333                   2   \n",
       "4                300                 0.9                   3   \n",
       "\n",
       "   Date_received_month  Tot_coupon_sent  Num_coupon_used  num_type  \\\n",
       "0                   13            35140              0.0       123   \n",
       "1                   17             1607              0.0        11   \n",
       "2                    5              248              0.0         4   \n",
       "3                    6            35140              0.0       123   \n",
       "4                   17            35140              0.0       123   \n",
       "\n",
       "   Customer's Total Usage Fraction for Merchant  \\\n",
       "0                                           0.0   \n",
       "1                                           0.0   \n",
       "2                                           0.0   \n",
       "3                                           0.0   \n",
       "4                                           0.0   \n",
       "\n",
       "   Customer's Total Usage for Merchant's Coupons  \\\n",
       "0                                              0   \n",
       "1                                              0   \n",
       "2                                              0   \n",
       "3                                              0   \n",
       "4                                              0   \n",
       "\n",
       "   Customer's Total Received by Merchant  Merchant's Total Usage Fraction  \\\n",
       "0                                      6                         0.210273   \n",
       "1                                      1                         0.168015   \n",
       "2                                      1                         0.088710   \n",
       "3                                      2                         0.210273   \n",
       "4                                      2                         0.210273   \n",
       "\n",
       "   Customer's Inbox Share by Merchant  Difference  money  Coupon Used_x  \\\n",
       "0                                1.00         3.0  520.0              0   \n",
       "1                                0.25        18.0  170.0              0   \n",
       "2                                0.25        18.0  170.0              0   \n",
       "3                                0.50        18.0  170.0              0   \n",
       "4                                0.50        18.0  170.0              0   \n",
       "\n",
       "  money_quantile Recency_quantile  \n",
       "0             10                1  \n",
       "1              8                5  \n",
       "2              8                5  \n",
       "3              8                5  \n",
       "4              8                5  "
      ]
     },
     "execution_count": 32,
     "metadata": {},
     "output_type": "execute_result"
    }
   ],
   "source": [
    "x_RFM.head()"
   ]
  },
  {
   "cell_type": "code",
   "execution_count": 33,
   "metadata": {
    "ExecuteTime": {
     "end_time": "2017-12-05T23:48:39.364189Z",
     "start_time": "2017-12-05T23:48:39.331825Z"
    }
   },
   "outputs": [
    {
     "data": {
      "text/plain": [
       "SVC(C=1.0, cache_size=200, class_weight=None, coef0=0.0,\n",
       "  decision_function_shape='ovr', degree=3, gamma='auto', kernel='rbf',\n",
       "  max_iter=-1, probability=False, random_state=None, shrinking=True,\n",
       "  tol=0.001, verbose=False)"
      ]
     },
     "execution_count": 33,
     "metadata": {},
     "output_type": "execute_result"
    }
   ],
   "source": [
    "from sklearn.svm import SVC\n",
    "SVC()"
   ]
  },
  {
   "cell_type": "code",
   "execution_count": 35,
   "metadata": {
    "ExecuteTime": {
     "end_time": "2017-12-05T23:52:27.916688Z",
     "start_time": "2017-12-05T23:52:27.754591Z"
    },
    "collapsed": true
   },
   "outputs": [],
   "source": [
    "from sklearn.ensemble import RandomForestClassifier"
   ]
  },
  {
   "cell_type": "code",
   "execution_count": null,
   "metadata": {
    "collapsed": true
   },
   "outputs": [],
   "source": [
    "RandomForestClassifier()"
   ]
  }
 ],
 "metadata": {
  "anaconda-cloud": {},
  "kernelspec": {
   "display_name": "Python [default]",
   "language": "python",
   "name": "python2"
  },
  "language_info": {
   "codemirror_mode": {
    "name": "ipython",
    "version": 2
   },
   "file_extension": ".py",
   "mimetype": "text/x-python",
   "name": "python",
   "nbconvert_exporter": "python",
   "pygments_lexer": "ipython2",
   "version": "2.7.14"
  },
  "nbTranslate": {
   "displayLangs": [
    "*"
   ],
   "hotkey": "alt-t",
   "langInMainMenu": true,
   "sourceLang": "en",
   "targetLang": "fr",
   "useGoogleTranslate": true
  },
  "toc": {
   "nav_menu": {},
   "number_sections": true,
   "sideBar": true,
   "skip_h1_title": false,
   "toc_cell": false,
   "toc_position": {},
   "toc_section_display": "block",
   "toc_window_display": false
  },
  "varInspector": {
   "cols": {
    "lenName": 16,
    "lenType": 16,
    "lenVar": 40
   },
   "kernels_config": {
    "python": {
     "delete_cmd_postfix": "",
     "delete_cmd_prefix": "del ",
     "library": "var_list.py",
     "varRefreshCmd": "print(var_dic_list())"
    },
    "r": {
     "delete_cmd_postfix": ") ",
     "delete_cmd_prefix": "rm(",
     "library": "var_list.r",
     "varRefreshCmd": "cat(var_dic_list()) "
    }
   },
   "types_to_exclude": [
    "module",
    "function",
    "builtin_function_or_method",
    "instance",
    "_Feature"
   ],
   "window_display": false
  }
 },
 "nbformat": 4,
 "nbformat_minor": 2
}
