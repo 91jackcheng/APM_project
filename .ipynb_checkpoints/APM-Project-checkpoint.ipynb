{
 "cells": [
  {
   "cell_type": "code",
   "execution_count": 5,
   "metadata": {
    "ExecuteTime": {
     "end_time": "2017-12-01T17:56:10.955248Z",
     "start_time": "2017-12-01T17:56:08.705675Z"
    },
    "collapsed": true
   },
   "outputs": [],
   "source": [
    "import pandas as pd\n",
    "import warnings\n",
    "from pandas import Series, DataFrame\n",
    "warnings.filterwarnings(\"ignore\")"
   ]
  },
  {
   "cell_type": "code",
   "execution_count": 6,
   "metadata": {
    "ExecuteTime": {
     "end_time": "2017-12-01T17:56:25.399032Z",
     "start_time": "2017-12-01T17:56:11.986816Z"
    }
   },
   "outputs": [],
   "source": [
    "data_offline = pd.read_csv('ccf_offline.csv')\n",
    "data_online = pd.read_csv('ccf_online.csv')"
   ]
  },
  {
   "cell_type": "code",
   "execution_count": 1,
   "metadata": {
    "ExecuteTime": {
     "end_time": "2017-12-01T17:54:24.393424Z",
     "start_time": "2017-12-01T17:54:24.363185Z"
    }
   },
   "outputs": [],
   "source": [
    "def get_discount_rate(s):\n",
    "    if s != 'null':\n",
    "        if len(s.split(':')) > 1:\n",
    "            return (float(s.split(':')[0]) - float(s.split(':')[1])) / float(\n",
    "                s.split(':')[0])\n",
    "        elif s == 'fixed':\n",
    "            return s\n",
    "        else:\n",
    "            return float(s)\n",
    "    else:\n",
    "        return 'null'\n",
    "\n",
    "\n",
    "def get_coupon_requirement(s):\n",
    "    if s != 'null':\n",
    "        if len(s.split(':')) > 1:\n",
    "            return s.split(':')[0]\n",
    "        else:\n",
    "            return 'null'\n",
    "    else:\n",
    "        return 'null'\n",
    "\n",
    "\n",
    "def is_direct_use(s):\n",
    "    if (len(s.split(':')) == 1) & (s != 'null'):\n",
    "        return 1\n",
    "    else:\n",
    "        return 0\n",
    "\n",
    "\n",
    "def get_week_day(s):\n",
    "    if s != 'null':\n",
    "        date_time = datetime.datetime.strptime(s, '%Y%m%d')\n",
    "        return date_time.weekday()\n",
    "    else:\n",
    "        return 'null'\n",
    "\n",
    "\n",
    "def get_month_day(s):\n",
    "    if s != 'null':\n",
    "        return int(s[-2:])\n",
    "    else:\n",
    "        return 'null'"
   ]
  },
  {
   "cell_type": "code",
   "execution_count": 79,
   "metadata": {
    "ExecuteTime": {
     "end_time": "2017-12-01T18:35:29.377169Z",
     "start_time": "2017-12-01T18:35:29.332524Z"
    },
    "collapsed": true
   },
   "outputs": [],
   "source": [
    "import time, datetime\n",
    "\n",
    "\n",
    "def get_coupon_feature_online(input_data):\n",
    "    a = input_data[['Merchant_id', 'Coupon_id']]\n",
    "    mask = input_data['Coupon_id'] != 'null'\n",
    "    num_coupon = a[mask].groupby(['Merchant_id']).count().reset_index()\n",
    "    num_coupon.columns = ['Merchant_id', 'Tot_coupon_sent']\n",
    "    input_data1 = pd.merge(\n",
    "        input_data, num_coupon, on='Merchant_id', how='left')\n",
    "    mask2 = (input_data1['Date'] != 'null') & (input_data1['Coupon_id'] !=\n",
    "                                               'null')\n",
    "    b = input_data1[mask2].groupby(\n",
    "        ['Merchant_id'])['Action'].count().reset_index()\n",
    "    b.columns = ['Merchant_id', 'Num_coupon_used']\n",
    "    input_data2 = pd.merge(input_data1, b, on='Merchant_id', how='left')\n",
    "    l = input_data2[['Merchant_id', 'Coupon_id', 'Action']].groupby(\n",
    "        ['Merchant_id', 'Coupon_id']).count().reset_index()\n",
    "    mask3 = l['Coupon_id'] != 'null'\n",
    "    l2 = l[mask3]\n",
    "    l2['num_type'] = l2['Coupon_id'].apply(lambda x: int(x > 0))\n",
    "    l3 = l2.groupby('Merchant_id')['num_type'].count()\n",
    "    l4 = pd.DataFrame(l3).reset_index()\n",
    "    input_data3 = pd.merge(input_data2, l4, on='Merchant_id', how='left')\n",
    "    couponmask = (input_data3['Date'] != 'null') & (input_data3['Coupon_id'] !=\n",
    "                                                    'null')\n",
    "    coupon_used = input_data3[couponmask]\n",
    "    input_data3['coupon_requirement'] = input_data3['Discount_rate'].map(\n",
    "        get_coupon_requirement)\n",
    "    input_data3['equivalent_discount'] = input_data3['Discount_rate'].map(\n",
    "        get_discount_rate)\n",
    "    input_data3['direct_use_coupon'] = input_data3['Discount_rate'].map(\n",
    "        is_direct_use)\n",
    "    input_data3['Date_received_week'] = input_data3['Date_received'].map(\n",
    "        get_week_day)\n",
    "    input_data3['Date_received_month'] = input_data3['Date_received'].map(\n",
    "        get_month_day)\n",
    "    output = input_data3[input_data3['Coupon_id'] != 'null']\n",
    "    output.drop(['Discount_rate', 'Date_received', 'Date'], axis=1, inplace=True)\n",
    "    return output"
   ]
  },
  {
   "cell_type": "code",
   "execution_count": null,
   "metadata": {
    "ExecuteTime": {
     "start_time": "2017-12-02T00:35:30.119Z"
    }
   },
   "outputs": [],
   "source": [
    "a=get_coupon_feature(data_online)"
   ]
  },
  {
   "cell_type": "code",
   "execution_count": null,
   "metadata": {
    "ExecuteTime": {
     "start_time": "2017-12-02T00:35:31.362Z"
    }
   },
   "outputs": [],
   "source": [
    "a.head()"
   ]
  },
  {
   "cell_type": "markdown",
   "metadata": {},
   "source": [
    "## For offline data"
   ]
  },
  {
   "cell_type": "code",
   "execution_count": null,
   "metadata": {
    "ExecuteTime": {
     "start_time": "2017-12-02T00:36:09.893Z"
    }
   },
   "outputs": [],
   "source": [
    "def get_coupon_feature_offline(input_data):\n",
    "    a = input_data[['Merchant_id', 'Coupon_id']]\n",
    "    mask = input_data['Coupon_id'] != 'null'\n",
    "    num_coupon = a[mask].groupby(['Merchant_id']).count().reset_index()\n",
    "    num_coupon.columns = ['Merchant_id', 'Tot_coupon_sent']\n",
    "    input_data1 = pd.merge(input_data, num_coupon, on='Merchant_id')\n",
    "    mask2 = (input_data1['Date'] != 'null') & (input_data1['Coupon_id'] !=\n",
    "                                                 'null')\n",
    "    b = input_data1[mask2].groupby(\n",
    "        ['Merchant_id'])['Coupon_id'].count().reset_index()\n",
    "    b.columns = ['Merchant_id', 'Num_coupon_used']\n",
    "    input_data2 = pd.merge(input_data1, b, on='Merchant_id')\n",
    "    l = input_data2[['Merchant_id', 'Coupon_id']].groupby(\n",
    "        ['Merchant_id', 'Coupon_id']).count().reset_index()\n",
    "    mask3 = l['Coupon_id'] != 'null'\n",
    "    l2 = l[mask3]\n",
    "    l2['num_type'] = l2['Coupon_id'].apply(lambda x:int(x>0))\n",
    "    l3 = l2.groupby('Merchant_id')['num_type'].count()\n",
    "    l4 = pd.DataFrame(l3).reset_index()\n",
    "    input_data3 = pd.merge(input_data2, l4, on='Merchant_id')\n",
    "    null_mask = input_data3['Distance'] != 'null'\n",
    "    input_data4 = input_data3[null_mask]\n",
    "    input_data4['Distance'] = input_data4['Distance'].map(lambda x: float(x))\n",
    "    input_data5 = pd.DataFrame(\n",
    "        input_data4.groupby('Merchant_id')['Distance'].mean()).reset_index()\n",
    "    input_data6 = pd.merge(input_data3, input_data5, on='Merchant_id')\n",
    "    input_data6 = input_data6.rename(columns={'Distance_y': 'Avg_Distance'})\n",
    "    input_data6['equivalent_discount'] = input_data6['Discount_rate'].map(\n",
    "        get_discount_rate)\n",
    "    input_data6['direct_use_coupon'] = input_data6['Discount_rate'].map(\n",
    "        is_direct_use)\n",
    "    input_data6['coupon_requirement'] = input_data6['Discount_rate'].map(\n",
    "        get_coupon_requirement)\n",
    "    input_data6['Date_received_week'] = input_data6['Date_received'].map(\n",
    "        get_week_day)\n",
    "    input_data6['Date_received_month'] = input_data6['Date_received'].map(\n",
    "        get_month_day)\n",
    "    output=input_data6[input_data6['Coupon_id']!='null'] \n",
    "    output.drop(['Discount_rate', 'Date_received', 'Date'], axis=1, inplace=True)\n",
    "    return output"
   ]
  },
  {
   "cell_type": "code",
   "execution_count": null,
   "metadata": {
    "ExecuteTime": {
     "start_time": "2017-12-02T00:36:10.285Z"
    }
   },
   "outputs": [],
   "source": [
    "b=get_coupon_feature_offline(data_offline)"
   ]
  },
  {
   "cell_type": "code",
   "execution_count": null,
   "metadata": {
    "ExecuteTime": {
     "start_time": "2017-12-02T00:36:10.834Z"
    }
   },
   "outputs": [],
   "source": [
    "b.head()"
   ]
  },
  {
   "cell_type": "code",
   "execution_count": null,
   "metadata": {
    "collapsed": true
   },
   "outputs": [],
   "source": []
  }
 ],
 "metadata": {
  "anaconda-cloud": {},
  "kernelspec": {
   "display_name": "Python [default]",
   "language": "python",
   "name": "python2"
  },
  "language_info": {
   "codemirror_mode": {
    "name": "ipython",
    "version": 2
   },
   "file_extension": ".py",
   "mimetype": "text/x-python",
   "name": "python",
   "nbconvert_exporter": "python",
   "pygments_lexer": "ipython2",
   "version": "2.7.14"
  },
  "nbTranslate": {
   "displayLangs": [
    "*"
   ],
   "hotkey": "alt-t",
   "langInMainMenu": true,
   "sourceLang": "en",
   "targetLang": "fr",
   "useGoogleTranslate": true
  },
  "toc": {
   "nav_menu": {},
   "number_sections": true,
   "sideBar": true,
   "skip_h1_title": false,
   "toc_cell": false,
   "toc_position": {},
   "toc_section_display": "block",
   "toc_window_display": false
  },
  "varInspector": {
   "cols": {
    "lenName": 16,
    "lenType": 16,
    "lenVar": 40
   },
   "kernels_config": {
    "python": {
     "delete_cmd_postfix": "",
     "delete_cmd_prefix": "del ",
     "library": "var_list.py",
     "varRefreshCmd": "print(var_dic_list())"
    },
    "r": {
     "delete_cmd_postfix": ") ",
     "delete_cmd_prefix": "rm(",
     "library": "var_list.r",
     "varRefreshCmd": "cat(var_dic_list()) "
    }
   },
   "types_to_exclude": [
    "module",
    "function",
    "builtin_function_or_method",
    "instance",
    "_Feature"
   ],
   "window_display": false
  }
 },
 "nbformat": 4,
 "nbformat_minor": 2
}
