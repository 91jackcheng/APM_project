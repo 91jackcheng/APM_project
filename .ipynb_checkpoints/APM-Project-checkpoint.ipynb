{
 "cells": [
  {
   "cell_type": "code",
   "execution_count": 16,
   "metadata": {
    "ExecuteTime": {
     "end_time": "2017-11-09T09:15:40.675517Z",
     "start_time": "2017-11-09T09:15:40.670270Z"
    },
    "collapsed": true
   },
   "outputs": [],
   "source": [
    "import pandas as pd\n",
    "import warnings\n",
    "from pandas import Series, DataFrame\n",
    "warnings.filterwarnings(\"ignore\")"
   ]
  },
  {
   "cell_type": "code",
   "execution_count": 2,
   "metadata": {
    "ExecuteTime": {
     "end_time": "2017-11-09T09:14:08.053782Z",
     "start_time": "2017-11-09T09:13:55.771467Z"
    },
    "collapsed": true
   },
   "outputs": [],
   "source": [
    "data_offline = pd.read_csv('ccf_offline_stage1_train.csv')\n",
    "data_online = pd.read_csv('ccf_online_stage1_train.csv')"
   ]
  },
  {
   "cell_type": "code",
   "execution_count": 3,
   "metadata": {
    "ExecuteTime": {
     "end_time": "2017-11-09T09:14:11.636879Z",
     "start_time": "2017-11-09T09:14:09.140365Z"
    }
   },
   "outputs": [
    {
     "data": {
      "text/html": [
       "<div>\n",
       "<style>\n",
       "    .dataframe thead tr:only-child th {\n",
       "        text-align: right;\n",
       "    }\n",
       "\n",
       "    .dataframe thead th {\n",
       "        text-align: left;\n",
       "    }\n",
       "\n",
       "    .dataframe tbody tr th {\n",
       "        vertical-align: top;\n",
       "    }\n",
       "</style>\n",
       "<table border=\"1\" class=\"dataframe\">\n",
       "  <thead>\n",
       "    <tr style=\"text-align: right;\">\n",
       "      <th></th>\n",
       "      <th>User_id</th>\n",
       "      <th>Merchant_id</th>\n",
       "      <th>Action</th>\n",
       "    </tr>\n",
       "  </thead>\n",
       "  <tbody>\n",
       "    <tr>\n",
       "      <th>count</th>\n",
       "      <td>1.142983e+07</td>\n",
       "      <td>1.142983e+07</td>\n",
       "      <td>1.142983e+07</td>\n",
       "    </tr>\n",
       "    <tr>\n",
       "      <th>mean</th>\n",
       "      <td>1.074683e+07</td>\n",
       "      <td>3.436686e+04</td>\n",
       "      <td>2.348193e-01</td>\n",
       "    </tr>\n",
       "    <tr>\n",
       "      <th>std</th>\n",
       "      <td>4.137712e+06</td>\n",
       "      <td>1.441243e+04</td>\n",
       "      <td>5.426314e-01</td>\n",
       "    </tr>\n",
       "    <tr>\n",
       "      <th>min</th>\n",
       "      <td>4.000000e+00</td>\n",
       "      <td>1.000100e+04</td>\n",
       "      <td>0.000000e+00</td>\n",
       "    </tr>\n",
       "    <tr>\n",
       "      <th>25%</th>\n",
       "      <td>1.019827e+07</td>\n",
       "      <td>2.090100e+04</td>\n",
       "      <td>0.000000e+00</td>\n",
       "    </tr>\n",
       "    <tr>\n",
       "      <th>50%</th>\n",
       "      <td>1.196970e+07</td>\n",
       "      <td>3.420000e+04</td>\n",
       "      <td>0.000000e+00</td>\n",
       "    </tr>\n",
       "    <tr>\n",
       "      <th>75%</th>\n",
       "      <td>1.373506e+07</td>\n",
       "      <td>4.741500e+04</td>\n",
       "      <td>0.000000e+00</td>\n",
       "    </tr>\n",
       "    <tr>\n",
       "      <th>max</th>\n",
       "      <td>1.550000e+07</td>\n",
       "      <td>6.000000e+04</td>\n",
       "      <td>2.000000e+00</td>\n",
       "    </tr>\n",
       "  </tbody>\n",
       "</table>\n",
       "</div>"
      ],
      "text/plain": [
       "            User_id   Merchant_id        Action\n",
       "count  1.142983e+07  1.142983e+07  1.142983e+07\n",
       "mean   1.074683e+07  3.436686e+04  2.348193e-01\n",
       "std    4.137712e+06  1.441243e+04  5.426314e-01\n",
       "min    4.000000e+00  1.000100e+04  0.000000e+00\n",
       "25%    1.019827e+07  2.090100e+04  0.000000e+00\n",
       "50%    1.196970e+07  3.420000e+04  0.000000e+00\n",
       "75%    1.373506e+07  4.741500e+04  0.000000e+00\n",
       "max    1.550000e+07  6.000000e+04  2.000000e+00"
      ]
     },
     "execution_count": 3,
     "metadata": {},
     "output_type": "execute_result"
    }
   ],
   "source": [
    "data_online.describe()"
   ]
  },
  {
   "cell_type": "code",
   "execution_count": 4,
   "metadata": {
    "ExecuteTime": {
     "end_time": "2017-11-09T09:14:15.952362Z",
     "start_time": "2017-11-09T09:14:15.947191Z"
    }
   },
   "outputs": [
    {
     "data": {
      "text/plain": [
       "(1754884, 7)"
      ]
     },
     "execution_count": 4,
     "metadata": {},
     "output_type": "execute_result"
    }
   ],
   "source": [
    "data_offline.shape"
   ]
  },
  {
   "cell_type": "code",
   "execution_count": 5,
   "metadata": {
    "ExecuteTime": {
     "end_time": "2017-11-09T09:14:17.237410Z",
     "start_time": "2017-11-09T09:14:17.231395Z"
    }
   },
   "outputs": [
    {
     "data": {
      "text/plain": [
       "(11429826, 7)"
      ]
     },
     "execution_count": 5,
     "metadata": {},
     "output_type": "execute_result"
    }
   ],
   "source": [
    "data_online.shape"
   ]
  },
  {
   "cell_type": "code",
   "execution_count": 6,
   "metadata": {
    "ExecuteTime": {
     "end_time": "2017-11-09T09:14:20.775963Z",
     "start_time": "2017-11-09T09:14:20.751470Z"
    }
   },
   "outputs": [
    {
     "data": {
      "text/html": [
       "<div>\n",
       "<style>\n",
       "    .dataframe thead tr:only-child th {\n",
       "        text-align: right;\n",
       "    }\n",
       "\n",
       "    .dataframe thead th {\n",
       "        text-align: left;\n",
       "    }\n",
       "\n",
       "    .dataframe tbody tr th {\n",
       "        vertical-align: top;\n",
       "    }\n",
       "</style>\n",
       "<table border=\"1\" class=\"dataframe\">\n",
       "  <thead>\n",
       "    <tr style=\"text-align: right;\">\n",
       "      <th></th>\n",
       "      <th>User_id</th>\n",
       "      <th>Merchant_id</th>\n",
       "      <th>Action</th>\n",
       "      <th>Coupon_id</th>\n",
       "      <th>Discount_rate</th>\n",
       "      <th>Date_received</th>\n",
       "      <th>Date</th>\n",
       "    </tr>\n",
       "  </thead>\n",
       "  <tbody>\n",
       "    <tr>\n",
       "      <th>0</th>\n",
       "      <td>13740231</td>\n",
       "      <td>18907</td>\n",
       "      <td>2</td>\n",
       "      <td>100017492</td>\n",
       "      <td>500:50</td>\n",
       "      <td>20160513</td>\n",
       "      <td>null</td>\n",
       "    </tr>\n",
       "    <tr>\n",
       "      <th>1</th>\n",
       "      <td>13740231</td>\n",
       "      <td>34805</td>\n",
       "      <td>1</td>\n",
       "      <td>null</td>\n",
       "      <td>null</td>\n",
       "      <td>null</td>\n",
       "      <td>20160321</td>\n",
       "    </tr>\n",
       "    <tr>\n",
       "      <th>2</th>\n",
       "      <td>14336199</td>\n",
       "      <td>18907</td>\n",
       "      <td>0</td>\n",
       "      <td>null</td>\n",
       "      <td>null</td>\n",
       "      <td>null</td>\n",
       "      <td>20160618</td>\n",
       "    </tr>\n",
       "    <tr>\n",
       "      <th>3</th>\n",
       "      <td>14336199</td>\n",
       "      <td>18907</td>\n",
       "      <td>0</td>\n",
       "      <td>null</td>\n",
       "      <td>null</td>\n",
       "      <td>null</td>\n",
       "      <td>20160618</td>\n",
       "    </tr>\n",
       "    <tr>\n",
       "      <th>4</th>\n",
       "      <td>14336199</td>\n",
       "      <td>18907</td>\n",
       "      <td>0</td>\n",
       "      <td>null</td>\n",
       "      <td>null</td>\n",
       "      <td>null</td>\n",
       "      <td>20160618</td>\n",
       "    </tr>\n",
       "  </tbody>\n",
       "</table>\n",
       "</div>"
      ],
      "text/plain": [
       "    User_id  Merchant_id  Action  Coupon_id Discount_rate Date_received  \\\n",
       "0  13740231        18907       2  100017492        500:50      20160513   \n",
       "1  13740231        34805       1       null          null          null   \n",
       "2  14336199        18907       0       null          null          null   \n",
       "3  14336199        18907       0       null          null          null   \n",
       "4  14336199        18907       0       null          null          null   \n",
       "\n",
       "       Date  \n",
       "0      null  \n",
       "1  20160321  \n",
       "2  20160618  \n",
       "3  20160618  \n",
       "4  20160618  "
      ]
     },
     "execution_count": 6,
     "metadata": {},
     "output_type": "execute_result"
    }
   ],
   "source": [
    "data_online[:5]"
   ]
  },
  {
   "cell_type": "code",
   "execution_count": 47,
   "metadata": {
    "ExecuteTime": {
     "end_time": "2017-11-09T09:29:46.473534Z",
     "start_time": "2017-11-09T09:29:45.047693Z"
    },
    "collapsed": true
   },
   "outputs": [],
   "source": [
    "a = data_online[['Merchant_id', 'Coupon_id']]\n",
    "mask = data_online['Coupon_id'] != 'null'"
   ]
  },
  {
   "cell_type": "code",
   "execution_count": 48,
   "metadata": {
    "ExecuteTime": {
     "end_time": "2017-11-09T09:29:47.924536Z",
     "start_time": "2017-11-09T09:29:47.552759Z"
    },
    "collapsed": true
   },
   "outputs": [],
   "source": [
    "num_coupon = a[mask].groupby(['Merchant_id']).count().reset_index()"
   ]
  },
  {
   "cell_type": "code",
   "execution_count": 49,
   "metadata": {
    "ExecuteTime": {
     "end_time": "2017-11-09T09:29:48.888406Z",
     "start_time": "2017-11-09T09:29:48.884629Z"
    },
    "collapsed": true
   },
   "outputs": [],
   "source": [
    "num_coupon.columns = ['Merchant_id', 'Tot_coupon_sent']"
   ]
  },
  {
   "cell_type": "code",
   "execution_count": 75,
   "metadata": {
    "ExecuteTime": {
     "end_time": "2017-11-09T09:36:42.725118Z",
     "start_time": "2017-11-09T09:36:38.203474Z"
    },
    "collapsed": true
   },
   "outputs": [],
   "source": [
    "data_online1 = pd.merge(data_online, num_coupon, on='Merchant_id', how='left')"
   ]
  },
  {
   "cell_type": "code",
   "execution_count": 76,
   "metadata": {
    "ExecuteTime": {
     "end_time": "2017-11-09T09:36:49.861814Z",
     "start_time": "2017-11-09T09:36:47.559007Z"
    },
    "collapsed": true
   },
   "outputs": [],
   "source": [
    "mask2 = (data_online1['Date'] != 'null') & (data_online1['Coupon_id'] !=\n",
    "                                            'null')"
   ]
  },
  {
   "cell_type": "code",
   "execution_count": 77,
   "metadata": {
    "ExecuteTime": {
     "end_time": "2017-11-09T09:36:51.618958Z",
     "start_time": "2017-11-09T09:36:50.971826Z"
    },
    "collapsed": true
   },
   "outputs": [],
   "source": [
    "b = data_online1[mask2].groupby(\n",
    "    ['Merchant_id'])['Action'].count().reset_index()\n",
    "b.columns = ['Merchant_id', 'Num_coupon_used']"
   ]
  },
  {
   "cell_type": "code",
   "execution_count": 79,
   "metadata": {
    "ExecuteTime": {
     "end_time": "2017-11-09T09:37:00.252662Z",
     "start_time": "2017-11-09T09:37:00.246757Z"
    }
   },
   "outputs": [
    {
     "data": {
      "text/plain": [
       "(11429826, 8)"
      ]
     },
     "execution_count": 79,
     "metadata": {},
     "output_type": "execute_result"
    }
   ],
   "source": [
    "data_online1.shape"
   ]
  },
  {
   "cell_type": "code",
   "execution_count": 80,
   "metadata": {
    "ExecuteTime": {
     "end_time": "2017-11-09T09:37:12.041002Z",
     "start_time": "2017-11-09T09:37:08.211562Z"
    },
    "collapsed": true
   },
   "outputs": [],
   "source": [
    "data_online2 = pd.merge(data_online1, b, on='Merchant_id', how='left')"
   ]
  },
  {
   "cell_type": "code",
   "execution_count": 81,
   "metadata": {
    "ExecuteTime": {
     "end_time": "2017-11-09T09:37:16.344149Z",
     "start_time": "2017-11-09T09:37:13.115504Z"
    },
    "collapsed": true
   },
   "outputs": [],
   "source": [
    "l = data_online2[['Merchant_id', 'Coupon_id', 'Action']].groupby(\n",
    "    ['Merchant_id', 'Coupon_id']).count().reset_index()\n",
    "mask3 = l['Coupon_id'] != 'null'\n",
    "l2 = l[mask3]"
   ]
  },
  {
   "cell_type": "code",
   "execution_count": 82,
   "metadata": {
    "ExecuteTime": {
     "end_time": "2017-11-09T09:37:17.286862Z",
     "start_time": "2017-11-09T09:37:17.282832Z"
    },
    "collapsed": true
   },
   "outputs": [],
   "source": [
    "def num_type(s):\n",
    "    if s > 0:\n",
    "        return 1"
   ]
  },
  {
   "cell_type": "code",
   "execution_count": 83,
   "metadata": {
    "ExecuteTime": {
     "end_time": "2017-11-09T09:37:19.721158Z",
     "start_time": "2017-11-09T09:37:18.237116Z"
    },
    "collapsed": true,
    "scrolled": true
   },
   "outputs": [],
   "source": [
    "l2['num_type'] = l2['Coupon_id'].apply(num_type)"
   ]
  },
  {
   "cell_type": "code",
   "execution_count": 84,
   "metadata": {
    "ExecuteTime": {
     "end_time": "2017-11-09T09:37:26.824582Z",
     "start_time": "2017-11-09T09:37:23.020053Z"
    },
    "collapsed": true
   },
   "outputs": [],
   "source": [
    "l3 = l2.groupby('Merchant_id')['num_type'].count()\n",
    "l4 = pd.DataFrame(l3).reset_index()\n",
    "data_online3 = pd.merge(data_online2, l4, on='Merchant_id', how='left')"
   ]
  },
  {
   "cell_type": "code",
   "execution_count": 73,
   "metadata": {
    "ExecuteTime": {
     "end_time": "2017-11-09T09:34:20.950486Z",
     "start_time": "2017-11-09T09:34:20.945489Z"
    },
    "collapsed": true
   },
   "outputs": [],
   "source": [
    "# data_online3.to_csv('data_online3.csv')"
   ]
  },
  {
   "cell_type": "code",
   "execution_count": 37,
   "metadata": {
    "ExecuteTime": {
     "end_time": "2017-11-09T09:26:15.681010Z",
     "start_time": "2017-11-09T09:26:13.818684Z"
    },
    "collapsed": true
   },
   "outputs": [],
   "source": [
    "couponmask = (data_online3['Date'] != 'null') & (data_online3['Coupon_id'] !=\n",
    "                                                 'null')\n",
    "coupon_used = data_online3[couponmask]"
   ]
  },
  {
   "cell_type": "code",
   "execution_count": 93,
   "metadata": {
    "ExecuteTime": {
     "end_time": "2017-11-09T09:48:49.160933Z",
     "start_time": "2017-11-09T09:48:49.154870Z"
    }
   },
   "outputs": [
    {
     "data": {
      "text/plain": [
       "(11429826, 10)"
      ]
     },
     "execution_count": 93,
     "metadata": {},
     "output_type": "execute_result"
    }
   ],
   "source": [
    "data_online3.shape"
   ]
  },
  {
   "cell_type": "code",
   "execution_count": 147,
   "metadata": {
    "ExecuteTime": {
     "end_time": "2017-11-09T10:12:16.819973Z",
     "start_time": "2017-11-09T10:12:16.813158Z"
    },
    "collapsed": true
   },
   "outputs": [],
   "source": [
    "def get_coupon_requirement(s):\n",
    "    if s != 'null':\n",
    "        if len(s.split(':')) > 1:\n",
    "            return s.split(':')[0]\n",
    "        else:\n",
    "            return 'null'\n",
    "    else:\n",
    "        return 'null'"
   ]
  },
  {
   "cell_type": "code",
   "execution_count": 148,
   "metadata": {
    "ExecuteTime": {
     "end_time": "2017-11-09T10:12:22.835925Z",
     "start_time": "2017-11-09T10:12:19.316921Z"
    },
    "collapsed": true
   },
   "outputs": [],
   "source": [
    "data_online3['coupon_requirement'] = data_online3['Discount_rate'].map(\n",
    "    get_coupon_requirement)"
   ]
  },
  {
   "cell_type": "code",
   "execution_count": 149,
   "metadata": {
    "ExecuteTime": {
     "end_time": "2017-11-09T10:12:24.200182Z",
     "start_time": "2017-11-09T10:12:24.191822Z"
    },
    "collapsed": true
   },
   "outputs": [],
   "source": [
    "def get_discount_rate(s):\n",
    "    if s != 'null':\n",
    "        if len(s.split(':')) > 1:\n",
    "            return (float(s.split(':')[0]) - float(s.split(':')[1])) / float(\n",
    "                s.split(':')[0])\n",
    "        elif s == 'fixed':\n",
    "            return s\n",
    "        else:\n",
    "            return float(s)\n",
    "    else:\n",
    "        return 'null'"
   ]
  },
  {
   "cell_type": "code",
   "execution_count": 150,
   "metadata": {
    "ExecuteTime": {
     "end_time": "2017-11-09T10:12:30.309864Z",
     "start_time": "2017-11-09T10:12:25.824245Z"
    },
    "collapsed": true
   },
   "outputs": [],
   "source": [
    "data_online3['equivalent_discount'] = data_online3['Discount_rate'].map(\n",
    "    get_discount_rate)"
   ]
  },
  {
   "cell_type": "code",
   "execution_count": 156,
   "metadata": {
    "ExecuteTime": {
     "end_time": "2017-11-09T10:19:50.437303Z",
     "start_time": "2017-11-09T10:19:33.524117Z"
    },
    "collapsed": true
   },
   "outputs": [],
   "source": [
    "def is_direct_use(s):\n",
    "    if (len(s.split(':')) == 1) & (s != 'null'):\n",
    "        return 1\n",
    "    else:\n",
    "        return 0\n",
    "\n",
    "\n",
    "data_online3['direct_use_coupon'] = data_online3['Discount_rate'].map(\n",
    "    is_direct_use)"
   ]
  },
  {
   "cell_type": "code",
   "execution_count": 215,
   "metadata": {
    "ExecuteTime": {
     "end_time": "2017-11-09T12:50:37.235872Z",
     "start_time": "2017-11-09T12:50:37.228971Z"
    }
   },
   "outputs": [],
   "source": [
    "import time, datetime\n",
    "\n",
    "\n",
    "def get_week_day(s):\n",
    "    if s != 'null':\n",
    "        date_time = datetime.datetime.strptime(s, '%Y%m%d')\n",
    "        return date_time.weekday()\n",
    "    else:\n",
    "        return 'null'"
   ]
  },
  {
   "cell_type": "code",
   "execution_count": 216,
   "metadata": {
    "ExecuteTime": {
     "end_time": "2017-11-09T12:50:38.931723Z",
     "start_time": "2017-11-09T12:50:38.925496Z"
    }
   },
   "outputs": [],
   "source": [
    "def get_month_day(s):\n",
    "    if s != 'null':\n",
    "        return int(s[-2:])\n",
    "    else:\n",
    "        return 'null'"
   ]
  },
  {
   "cell_type": "code",
   "execution_count": 217,
   "metadata": {
    "ExecuteTime": {
     "end_time": "2017-11-09T12:51:08.420113Z",
     "start_time": "2017-11-09T12:50:40.461935Z"
    }
   },
   "outputs": [],
   "source": [
    "data_online3['Date_received_week'] = data_online3['Date_received'].map(\n",
    "    get_week_day)\n",
    "data_online3['Date_received_month'] = data_online3['Date_received'].map(\n",
    "    get_month_day)"
   ]
  },
  {
   "cell_type": "code",
   "execution_count": 219,
   "metadata": {
    "ExecuteTime": {
     "end_time": "2017-11-09T12:54:07.857338Z",
     "start_time": "2017-11-09T12:54:06.735233Z"
    }
   },
   "outputs": [
    {
     "data": {
      "text/plain": [
       "(10, 15)"
      ]
     },
     "execution_count": 219,
     "metadata": {},
     "output_type": "execute_result"
    }
   ],
   "source": [
    "data_online3.sample(10).shape"
   ]
  },
  {
   "cell_type": "markdown",
   "metadata": {},
   "source": [
    "## For offline data"
   ]
  },
  {
   "cell_type": "code",
   "execution_count": 24,
   "metadata": {
    "ExecuteTime": {
     "end_time": "2017-11-09T09:17:18.955552Z",
     "start_time": "2017-11-09T09:17:18.045692Z"
    },
    "collapsed": true
   },
   "outputs": [],
   "source": [
    "a = data_offline[['Merchant_id', 'Coupon_id']]\n",
    "mask = data_offline['Coupon_id'] != 'null'\n",
    "num_coupon = a[mask].groupby(['Merchant_id']).count().reset_index()\n",
    "num_coupon.columns = ['Merchant_id', 'Tot_coupon_sent']\n",
    "data_offline1 = pd.merge(data_offline, num_coupon, on='Merchant_id')"
   ]
  },
  {
   "cell_type": "code",
   "execution_count": 25,
   "metadata": {
    "ExecuteTime": {
     "end_time": "2017-11-09T09:17:20.584246Z",
     "start_time": "2017-11-09T09:17:19.740801Z"
    }
   },
   "outputs": [
    {
     "data": {
      "text/html": [
       "<div>\n",
       "<style>\n",
       "    .dataframe thead tr:only-child th {\n",
       "        text-align: right;\n",
       "    }\n",
       "\n",
       "    .dataframe thead th {\n",
       "        text-align: left;\n",
       "    }\n",
       "\n",
       "    .dataframe tbody tr th {\n",
       "        vertical-align: top;\n",
       "    }\n",
       "</style>\n",
       "<table border=\"1\" class=\"dataframe\">\n",
       "  <thead>\n",
       "    <tr style=\"text-align: right;\">\n",
       "      <th></th>\n",
       "      <th>User_id</th>\n",
       "      <th>Merchant_id</th>\n",
       "      <th>Coupon_id</th>\n",
       "      <th>Discount_rate</th>\n",
       "      <th>Distance</th>\n",
       "      <th>Date_received</th>\n",
       "      <th>Date</th>\n",
       "      <th>Tot_coupon_sent</th>\n",
       "      <th>Num_coupon_used</th>\n",
       "    </tr>\n",
       "  </thead>\n",
       "  <tbody>\n",
       "    <tr>\n",
       "      <th>0</th>\n",
       "      <td>1439408</td>\n",
       "      <td>2632</td>\n",
       "      <td>null</td>\n",
       "      <td>null</td>\n",
       "      <td>0</td>\n",
       "      <td>null</td>\n",
       "      <td>20160217</td>\n",
       "      <td>43</td>\n",
       "      <td>4</td>\n",
       "    </tr>\n",
       "    <tr>\n",
       "      <th>1</th>\n",
       "      <td>1439408</td>\n",
       "      <td>2632</td>\n",
       "      <td>8591</td>\n",
       "      <td>20:1</td>\n",
       "      <td>0</td>\n",
       "      <td>20160217</td>\n",
       "      <td>null</td>\n",
       "      <td>43</td>\n",
       "      <td>4</td>\n",
       "    </tr>\n",
       "    <tr>\n",
       "      <th>2</th>\n",
       "      <td>1439408</td>\n",
       "      <td>2632</td>\n",
       "      <td>1078</td>\n",
       "      <td>20:1</td>\n",
       "      <td>0</td>\n",
       "      <td>20160319</td>\n",
       "      <td>null</td>\n",
       "      <td>43</td>\n",
       "      <td>4</td>\n",
       "    </tr>\n",
       "    <tr>\n",
       "      <th>3</th>\n",
       "      <td>1439408</td>\n",
       "      <td>2632</td>\n",
       "      <td>8591</td>\n",
       "      <td>20:1</td>\n",
       "      <td>0</td>\n",
       "      <td>20160613</td>\n",
       "      <td>null</td>\n",
       "      <td>43</td>\n",
       "      <td>4</td>\n",
       "    </tr>\n",
       "    <tr>\n",
       "      <th>4</th>\n",
       "      <td>1439408</td>\n",
       "      <td>2632</td>\n",
       "      <td>null</td>\n",
       "      <td>null</td>\n",
       "      <td>0</td>\n",
       "      <td>null</td>\n",
       "      <td>20160516</td>\n",
       "      <td>43</td>\n",
       "      <td>4</td>\n",
       "    </tr>\n",
       "  </tbody>\n",
       "</table>\n",
       "</div>"
      ],
      "text/plain": [
       "   User_id  Merchant_id Coupon_id Discount_rate Distance Date_received  \\\n",
       "0  1439408         2632      null          null        0          null   \n",
       "1  1439408         2632      8591          20:1        0      20160217   \n",
       "2  1439408         2632      1078          20:1        0      20160319   \n",
       "3  1439408         2632      8591          20:1        0      20160613   \n",
       "4  1439408         2632      null          null        0          null   \n",
       "\n",
       "       Date  Tot_coupon_sent  Num_coupon_used  \n",
       "0  20160217               43                4  \n",
       "1      null               43                4  \n",
       "2      null               43                4  \n",
       "3      null               43                4  \n",
       "4  20160516               43                4  "
      ]
     },
     "execution_count": 25,
     "metadata": {},
     "output_type": "execute_result"
    }
   ],
   "source": [
    "mask2 = (data_offline1['Date'] != 'null') & (data_offline1['Coupon_id'] !=\n",
    "                                             'null')\n",
    "b = data_offline1[mask2].groupby(\n",
    "    ['Merchant_id'])['Coupon_id'].count().reset_index()\n",
    "b.columns = ['Merchant_id', 'Num_coupon_used']\n",
    "data_offline2 = pd.merge(data_offline1, b, on='Merchant_id')\n",
    "data_offline2[:5]"
   ]
  },
  {
   "cell_type": "code",
   "execution_count": 26,
   "metadata": {
    "ExecuteTime": {
     "end_time": "2017-11-09T09:17:22.629445Z",
     "start_time": "2017-11-09T09:17:21.698819Z"
    },
    "collapsed": true
   },
   "outputs": [],
   "source": [
    "l = data_offline2[['Merchant_id', 'Coupon_id']].groupby(\n",
    "    ['Merchant_id', 'Coupon_id']).count().reset_index()\n",
    "mask3 = l['Coupon_id'] != 'null'\n",
    "l2 = l[mask3]\n",
    "l2['num_type'] = l2['Coupon_id'].apply(num_type)\n",
    "l3 = l2.groupby('Merchant_id')['num_type'].count()\n",
    "l4 = pd.DataFrame(l3).reset_index()\n",
    "data_offline3 = pd.merge(data_offline2, l4, on='Merchant_id')"
   ]
  },
  {
   "cell_type": "code",
   "execution_count": 27,
   "metadata": {
    "ExecuteTime": {
     "end_time": "2017-11-09T09:17:26.080086Z",
     "start_time": "2017-11-09T09:17:24.495913Z"
    },
    "collapsed": true
   },
   "outputs": [],
   "source": [
    "null_mask = data_offline3['Distance'] != 'null'\n",
    "\n",
    "\n",
    "def to_float(s):\n",
    "    return float(s)\n",
    "\n",
    "\n",
    "data_offline4 = data_offline3[null_mask]\n",
    "data_offline4['Distance'] = data_offline4['Distance'].map(to_float)\n",
    "data_offline5 = pd.DataFrame(\n",
    "    data_offline4.groupby('Merchant_id')['Distance'].mean()).reset_index()\n",
    "data_offline6 = pd.merge(data_offline3, data_offline5, on='Merchant_id')"
   ]
  },
  {
   "cell_type": "code",
   "execution_count": 28,
   "metadata": {
    "ExecuteTime": {
     "end_time": "2017-11-09T09:17:28.616823Z",
     "start_time": "2017-11-09T09:17:27.994140Z"
    },
    "collapsed": true
   },
   "outputs": [],
   "source": [
    "data_offline6 = data_offline6.rename(columns={'Distance_y': 'Avg_Distance'})"
   ]
  },
  {
   "cell_type": "code",
   "execution_count": 220,
   "metadata": {
    "ExecuteTime": {
     "end_time": "2017-11-09T12:58:39.950738Z",
     "start_time": "2017-11-09T12:58:06.978360Z"
    },
    "collapsed": true
   },
   "outputs": [],
   "source": [
    "data_offline6['equivalent_discount'] = data_offline6['Discount_rate'].map(\n",
    "    get_discount_rate)\n",
    "data_offline6['direct_use_coupon'] = data_offline6['Discount_rate'].map(\n",
    "    is_direct_use)\n",
    "data_offline6['coupon_requirement'] = data_offline6['Discount_rate'].map(\n",
    "    get_coupon_requirement)\n",
    "data_offline6['Date_received_week'] = data_offline6['Date_received'].map(\n",
    "    get_week_day)\n",
    "data_offline6['Date_received_month'] = data_offline6['Date_received'].map(\n",
    "    get_month_day)"
   ]
  },
  {
   "cell_type": "code",
   "execution_count": 221,
   "metadata": {
    "ExecuteTime": {
     "end_time": "2017-11-09T12:58:42.875074Z",
     "start_time": "2017-11-09T12:58:41.539625Z"
    }
   },
   "outputs": [
    {
     "data": {
      "text/html": [
       "<div>\n",
       "<style>\n",
       "    .dataframe thead tr:only-child th {\n",
       "        text-align: right;\n",
       "    }\n",
       "\n",
       "    .dataframe thead th {\n",
       "        text-align: left;\n",
       "    }\n",
       "\n",
       "    .dataframe tbody tr th {\n",
       "        vertical-align: top;\n",
       "    }\n",
       "</style>\n",
       "<table border=\"1\" class=\"dataframe\">\n",
       "  <thead>\n",
       "    <tr style=\"text-align: right;\">\n",
       "      <th></th>\n",
       "      <th>User_id</th>\n",
       "      <th>Merchant_id</th>\n",
       "      <th>Coupon_id</th>\n",
       "      <th>Discount_rate</th>\n",
       "      <th>Distance_x</th>\n",
       "      <th>Date_received</th>\n",
       "      <th>Date</th>\n",
       "      <th>Tot_coupon_sent</th>\n",
       "      <th>Num_coupon_used</th>\n",
       "      <th>num_type</th>\n",
       "      <th>Avg_Distance</th>\n",
       "      <th>equivalent_discount</th>\n",
       "      <th>direct_use_coupon</th>\n",
       "      <th>coupon_requirement</th>\n",
       "      <th>Date_received_week</th>\n",
       "      <th>Date_received_month</th>\n",
       "    </tr>\n",
       "  </thead>\n",
       "  <tbody>\n",
       "    <tr>\n",
       "      <th>821595</th>\n",
       "      <td>4205712</td>\n",
       "      <td>6434</td>\n",
       "      <td>10050</td>\n",
       "      <td>50:5</td>\n",
       "      <td>0</td>\n",
       "      <td>20160125</td>\n",
       "      <td>null</td>\n",
       "      <td>16529</td>\n",
       "      <td>186</td>\n",
       "      <td>3</td>\n",
       "      <td>4.974691</td>\n",
       "      <td>0.9</td>\n",
       "      <td>0</td>\n",
       "      <td>50</td>\n",
       "      <td>0</td>\n",
       "      <td>25</td>\n",
       "    </tr>\n",
       "    <tr>\n",
       "      <th>138578</th>\n",
       "      <td>3941189</td>\n",
       "      <td>3381</td>\n",
       "      <td>11951</td>\n",
       "      <td>200:20</td>\n",
       "      <td>1</td>\n",
       "      <td>20160128</td>\n",
       "      <td>null</td>\n",
       "      <td>122834</td>\n",
       "      <td>2487</td>\n",
       "      <td>8</td>\n",
       "      <td>2.713991</td>\n",
       "      <td>0.9</td>\n",
       "      <td>0</td>\n",
       "      <td>200</td>\n",
       "      <td>3</td>\n",
       "      <td>28</td>\n",
       "    </tr>\n",
       "    <tr>\n",
       "      <th>650323</th>\n",
       "      <td>6115489</td>\n",
       "      <td>760</td>\n",
       "      <td>3811</td>\n",
       "      <td>30:5</td>\n",
       "      <td>0</td>\n",
       "      <td>20160326</td>\n",
       "      <td>null</td>\n",
       "      <td>44976</td>\n",
       "      <td>3140</td>\n",
       "      <td>9</td>\n",
       "      <td>1.225028</td>\n",
       "      <td>0.833333</td>\n",
       "      <td>0</td>\n",
       "      <td>30</td>\n",
       "      <td>5</td>\n",
       "      <td>26</td>\n",
       "    </tr>\n",
       "    <tr>\n",
       "      <th>799257</th>\n",
       "      <td>3703657</td>\n",
       "      <td>6424</td>\n",
       "      <td>1315</td>\n",
       "      <td>100:10</td>\n",
       "      <td>10</td>\n",
       "      <td>20160130</td>\n",
       "      <td>null</td>\n",
       "      <td>8072</td>\n",
       "      <td>13</td>\n",
       "      <td>2</td>\n",
       "      <td>4.422733</td>\n",
       "      <td>0.9</td>\n",
       "      <td>0</td>\n",
       "      <td>100</td>\n",
       "      <td>5</td>\n",
       "      <td>30</td>\n",
       "    </tr>\n",
       "    <tr>\n",
       "      <th>191838</th>\n",
       "      <td>2038615</td>\n",
       "      <td>450</td>\n",
       "      <td>null</td>\n",
       "      <td>null</td>\n",
       "      <td>0</td>\n",
       "      <td>null</td>\n",
       "      <td>20160507</td>\n",
       "      <td>63042</td>\n",
       "      <td>1461</td>\n",
       "      <td>19</td>\n",
       "      <td>3.512198</td>\n",
       "      <td>null</td>\n",
       "      <td>0</td>\n",
       "      <td>null</td>\n",
       "      <td>null</td>\n",
       "      <td>null</td>\n",
       "    </tr>\n",
       "  </tbody>\n",
       "</table>\n",
       "</div>"
      ],
      "text/plain": [
       "        User_id  Merchant_id Coupon_id Discount_rate Distance_x Date_received  \\\n",
       "821595  4205712         6434     10050          50:5          0      20160125   \n",
       "138578  3941189         3381     11951        200:20          1      20160128   \n",
       "650323  6115489          760      3811          30:5          0      20160326   \n",
       "799257  3703657         6424      1315        100:10         10      20160130   \n",
       "191838  2038615          450      null          null          0          null   \n",
       "\n",
       "            Date  Tot_coupon_sent  Num_coupon_used  num_type  Avg_Distance  \\\n",
       "821595      null            16529              186         3      4.974691   \n",
       "138578      null           122834             2487         8      2.713991   \n",
       "650323      null            44976             3140         9      1.225028   \n",
       "799257      null             8072               13         2      4.422733   \n",
       "191838  20160507            63042             1461        19      3.512198   \n",
       "\n",
       "       equivalent_discount  direct_use_coupon coupon_requirement  \\\n",
       "821595                 0.9                  0                 50   \n",
       "138578                 0.9                  0                200   \n",
       "650323            0.833333                  0                 30   \n",
       "799257                 0.9                  0                100   \n",
       "191838                null                  0               null   \n",
       "\n",
       "       Date_received_week Date_received_month  \n",
       "821595                  0                  25  \n",
       "138578                  3                  28  \n",
       "650323                  5                  26  \n",
       "799257                  5                  30  \n",
       "191838               null                null  "
      ]
     },
     "execution_count": 221,
     "metadata": {},
     "output_type": "execute_result"
    }
   ],
   "source": [
    "data_offline6.sample(5)"
   ]
  },
  {
   "cell_type": "code",
   "execution_count": null,
   "metadata": {
    "collapsed": true
   },
   "outputs": [],
   "source": []
  }
 ],
 "metadata": {
  "anaconda-cloud": {},
  "kernelspec": {
   "display_name": "Python [default]",
   "language": "python",
   "name": "python2"
  },
  "language_info": {
   "codemirror_mode": {
    "name": "ipython",
    "version": 2
   },
   "file_extension": ".py",
   "mimetype": "text/x-python",
   "name": "python",
   "nbconvert_exporter": "python",
   "pygments_lexer": "ipython2",
   "version": "2.7.13"
  },
  "nbTranslate": {
   "displayLangs": [
    "*"
   ],
   "hotkey": "alt-t",
   "langInMainMenu": true,
   "sourceLang": "en",
   "targetLang": "fr",
   "useGoogleTranslate": true
  },
  "toc": {
   "nav_menu": {},
   "number_sections": true,
   "sideBar": true,
   "skip_h1_title": false,
   "toc_cell": false,
   "toc_position": {},
   "toc_section_display": "block",
   "toc_window_display": false
  },
  "varInspector": {
   "cols": {
    "lenName": 16,
    "lenType": 16,
    "lenVar": 40
   },
   "kernels_config": {
    "python": {
     "delete_cmd_postfix": "",
     "delete_cmd_prefix": "del ",
     "library": "var_list.py",
     "varRefreshCmd": "print(var_dic_list())"
    },
    "r": {
     "delete_cmd_postfix": ") ",
     "delete_cmd_prefix": "rm(",
     "library": "var_list.r",
     "varRefreshCmd": "cat(var_dic_list()) "
    }
   },
   "types_to_exclude": [
    "module",
    "function",
    "builtin_function_or_method",
    "instance",
    "_Feature"
   ],
   "window_display": false
  }
 },
 "nbformat": 4,
 "nbformat_minor": 2
}
