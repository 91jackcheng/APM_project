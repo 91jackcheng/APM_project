{
 "cells": [
  {
   "cell_type": "code",
   "execution_count": 5,
   "metadata": {
    "ExecuteTime": {
     "end_time": "2017-12-01T17:56:10.955248Z",
     "start_time": "2017-12-01T17:56:08.705675Z"
    },
    "collapsed": true
   },
   "outputs": [],
   "source": [
    "import pandas as pd\n",
    "import warnings\n",
    "from pandas import Series, DataFrame\n",
    "warnings.filterwarnings(\"ignore\")"
   ]
  },
  {
   "cell_type": "code",
   "execution_count": 6,
   "metadata": {
    "ExecuteTime": {
     "end_time": "2017-12-01T17:56:25.399032Z",
     "start_time": "2017-12-01T17:56:11.986816Z"
    },
    "collapsed": true
   },
   "outputs": [],
   "source": [
    "data_offline = pd.read_csv('ccf_offline.csv')\n",
    "data_online = pd.read_csv('ccf_online.csv')"
   ]
  },
  {
   "cell_type": "code",
   "execution_count": 147,
   "metadata": {
    "ExecuteTime": {
     "end_time": "2017-12-02T15:04:37.190886Z",
     "start_time": "2017-12-02T15:03:45.929377Z"
    }
   },
   "outputs": [],
   "source": [
    "test1=cutoff_time(20160100,20160200,data_online)"
   ]
  },
  {
   "cell_type": "code",
   "execution_count": 129,
   "metadata": {
    "ExecuteTime": {
     "end_time": "2017-12-02T14:20:44.981362Z",
     "start_time": "2017-12-02T14:20:44.957769Z"
    }
   },
   "outputs": [],
   "source": [
    "def get_date_number(s):\n",
    "    if s=='null':\n",
    "        return 0\n",
    "    else:\n",
    "        return int(s)\n",
    "def judge_cut_off(start_time,end_time,s):\n",
    "    return int(s>start_time and s<end_time)\n",
    " \n",
    "    \n",
    "def cutoff_time(start_time,end_time,input_data):\n",
    "    input_data['date']=input_data['Date'].map(get_date_number)\n",
    "    input_data['dr']=input_data['Date_received'].map(get_date_number)\n",
    "    input_data['jd']=input_data['date']+input_data['dr']\n",
    "    input_data['judge']=input_data['jd'].map(lambda x:judge_cut_off(start_time,end_time,x))\n",
    "    input_data['judge1']=input_data['date'].map(lambda x:int(x>0 and x<end_time))                             \n",
    "    input_data['finaljd']=input_data['judge']+input_data['judge1']\n",
    "    output=input_data[input_data['finaljd']>0].drop(['date','dr','jd','judge','judge1','finaljd'], axis=1)\n",
    "    return output\n",
    "    \n",
    "    \n",
    "    \n",
    "    "
   ]
  },
  {
   "cell_type": "code",
   "execution_count": 138,
   "metadata": {
    "ExecuteTime": {
     "end_time": "2017-12-02T14:34:57.933182Z",
     "start_time": "2017-12-02T14:34:57.862101Z"
    },
    "collapsed": true
   },
   "outputs": [],
   "source": [
    "import time, datetime\n",
    "def sent_coupon(value):\n",
    "    if value != 'null':\n",
    "        return 1\n",
    "    else: \n",
    "        return 0\n",
    "    \n",
    "def used_coupon(a,b):\n",
    "    if a == 1 and b != 'null':\n",
    "        return 1\n",
    "    else:\n",
    "        return 0\n",
    "    \n",
    "def get_discount_rate(s):\n",
    "    if s != 'null':\n",
    "        if len(s.split(':')) > 1:\n",
    "            return (float(s.split(':')[0]) - float(s.split(':')[1])) / float(\n",
    "                s.split(':')[0])\n",
    "        elif s == 'fixed':\n",
    "            return s\n",
    "        else:\n",
    "            return float(s)\n",
    "    else:\n",
    "        return 'null'\n",
    "\n",
    "\n",
    "def get_coupon_requirement(s):\n",
    "    if s != 'null':\n",
    "        if len(s.split(':')) > 1:\n",
    "            return s.split(':')[0]\n",
    "        else:\n",
    "            return 'null'\n",
    "    else:\n",
    "        return 'null'\n",
    "\n",
    "\n",
    "def is_direct_use(s):\n",
    "    if (len(s.split(':')) == 1) & (s != 'null'):\n",
    "        return 1\n",
    "    else:\n",
    "        return 0\n",
    "\n",
    "\n",
    "def get_week_day(s):\n",
    "    if s != 'null':\n",
    "        date_time = datetime.datetime.strptime(s, '%Y%m%d')\n",
    "        return date_time.weekday()\n",
    "    else:\n",
    "        return 'null'\n",
    "\n",
    "\n",
    "def get_month_day(s):\n",
    "    if s != 'null':\n",
    "        return int(s[-2:])\n",
    "    else:\n",
    "        return 'null'"
   ]
  },
  {
   "cell_type": "code",
   "execution_count": 144,
   "metadata": {
    "ExecuteTime": {
     "end_time": "2017-12-02T15:03:24.450247Z",
     "start_time": "2017-12-02T15:03:24.407247Z"
    },
    "collapsed": true
   },
   "outputs": [],
   "source": [
    "def get_coupon_feature_online(input_data):\n",
    "    a = input_data[['Merchant_id', 'Coupon_id']]\n",
    "    mask = input_data['Coupon_id'] != 'null'\n",
    "    num_coupon = a[mask].groupby(['Merchant_id']).count().reset_index()\n",
    "    num_coupon.columns = ['Merchant_id', 'Tot_coupon_sent']\n",
    "    input_data1 = pd.merge(\n",
    "        input_data, num_coupon, on='Merchant_id', how='left')\n",
    "    mask2 = (input_data1['Date'] != 'null') & (input_data1['Coupon_id'] !=\n",
    "                                               'null')\n",
    "    b = input_data1[mask2].groupby(\n",
    "        ['Merchant_id'])['Action'].count().reset_index()\n",
    "    b.columns = ['Merchant_id', 'Num_coupon_used']\n",
    "    input_data2 = pd.merge(input_data1, b, on='Merchant_id', how='left')\n",
    "    l = input_data2[['Merchant_id', 'Coupon_id', 'Action']].groupby(\n",
    "        ['Merchant_id', 'Coupon_id']).count().reset_index()\n",
    "    mask3 = l['Coupon_id'] != 'null'\n",
    "    l2 = l[mask3]\n",
    "    l2['num_type'] = l2['Coupon_id'].apply(lambda x: int(x > 0))\n",
    "    l3 = l2.groupby('Merchant_id')['num_type'].count()\n",
    "    l4 = pd.DataFrame(l3).reset_index()\n",
    "    input_data3 = pd.merge(input_data2, l4, on='Merchant_id', how='left')\n",
    "    couponmask = (input_data3['Date'] != 'null') & (input_data3['Coupon_id'] !=\n",
    "                                                    'null')\n",
    "    coupon_used = input_data3[couponmask]\n",
    "    input_data3['coupon_requirement'] = input_data3['Discount_rate'].map(\n",
    "        get_coupon_requirement)\n",
    "    input_data3['equivalent_discount'] = input_data3['Discount_rate'].map(\n",
    "        get_discount_rate)\n",
    "    input_data3['direct_use_coupon'] = input_data3['Discount_rate'].map(\n",
    "        is_direct_use)\n",
    "    input_data3['Date_received_week'] = input_data3['Date_received'].map(\n",
    "        get_week_day)\n",
    "    input_data3['Date_received_month'] = input_data3['Date_received'].map(\n",
    "        get_month_day)\n",
    "    output = input_data3[input_data3['Coupon_id'] != 'null']\n",
    "    output.drop(['Discount_rate', 'Date_received', 'Date'], axis=1, inplace=True)\n",
    "    print 'Coupon Fearures completed'\n",
    "    return output"
   ]
  },
  {
   "cell_type": "code",
   "execution_count": 133,
   "metadata": {
    "ExecuteTime": {
     "end_time": "2017-12-02T14:24:39.704925Z",
     "start_time": "2017-12-02T14:24:39.659341Z"
    },
    "collapsed": true
   },
   "outputs": [],
   "source": [
    "def get_custMerch(data):\n",
    "    data['Coupon Received'] = data['Coupon_id'].map(sent_coupon)\n",
    "    data['Coupon Used'] = data.apply(lambda x: used_coupon(x['Coupon Received'], x['Date']), axis = 1)\n",
    "    grouped = data.groupby(['User_id', 'Merchant_id'], as_index = False)[['Coupon Received','Coupon Used']].agg(sum)\n",
    "    grouped[\"Customer's Total Usage Fraction for Merchant\"] = grouped['Coupon Used'] / grouped['Coupon Received'].fillna(0)\n",
    "    grouped[\"Customer's Total Usage for Merchant's Coupons\"] = grouped[\"Coupon Used\"]\n",
    "    grouped[\"Customer's Total Received by Merchant\"] = grouped[\"Coupon Received\"]\n",
    "    del grouped[\"Coupon Used\"]\n",
    "    del grouped[\"Coupon Received\"]\n",
    "    merge0 = grouped.merge(data, on = ['User_id','Merchant_id'] )\n",
    "    receive_frac = data.groupby(['User_id', 'Merchant_id'])[['Coupon Received']].agg(sum)/data.groupby(['User_id'])[['Coupon Received']].agg(sum)\n",
    "    receive_frac = receive_frac.reset_index()\n",
    "    merged1 = receive_frac.merge(merge0, on = ['User_id','Merchant_id'])\n",
    "    merged1[\"Customer's Inbox Share by Merchant\"] = merged1['Coupon Received_x'].fillna(0)\n",
    "    del merged1['Coupon Received_x']\n",
    "    merged1['Coupon Received'] = merged1['Coupon Received_y']\n",
    "    del merged1['Coupon Received_y']\n",
    "    \n",
    "    # Note: this next feature is really more merchant-specific\n",
    "    merchant_group = data.groupby(['Merchant_id', 'User_id'])[['Coupon Received', 'Coupon Used']].agg(sum)\n",
    "    by_merchant = merchant_group.groupby(['Merchant_id'])[['Coupon Received', 'Coupon Used']].agg(sum)\n",
    "    by_merchant[\"Merchant's Total Usage Fraction\"] = by_merchant['Coupon Used'] / by_merchant['Coupon Received']\n",
    "    by_merchant[\"Merchant's Total Usage Fraction\"] = by_merchant[\"Merchant's Total Usage Fraction\"].fillna(0)\n",
    "    del by_merchant['Coupon Received'], by_merchant['Coupon Used']\n",
    "    by_merchant = by_merchant.reset_index()\n",
    "    finalMerge= merged1.merge(by_merchant, on = ['Merchant_id'])\n",
    "    print'Cust-Merchant features completed'\n",
    "    \n",
    "    return finalMerge"
   ]
  },
  {
   "cell_type": "code",
   "execution_count": 134,
   "metadata": {
    "ExecuteTime": {
     "end_time": "2017-12-02T14:24:41.301086Z",
     "start_time": "2017-12-02T14:24:41.264033Z"
    },
    "collapsed": true
   },
   "outputs": [],
   "source": [
    "def get_online_user_table(data_online):\n",
    "    \n",
    "    #Number of time this customer gets a coupon online\n",
    "    a=data_online[['User_id','Coupon_id']]\n",
    "    mask = data_online['Coupon_id']!='null'\n",
    "    num_coupon = a[mask].groupby(['User_id']).count().reset_index()\n",
    "    num_coupon.columns = ['User_id','Tot_coupon_got']\n",
    "    data_online1 = pd.merge(data_online, num_coupon, on = 'User_id', how='left')\n",
    "\n",
    "    #Number of time this customer uses a coupon\n",
    "    mask2 = (data_online1['Date']!= 'null') & (data_online1['Coupon_id']!= 'null')\n",
    "    b=data_online1[mask2].groupby(['User_id'])['Action'].count().reset_index()\n",
    "    b.columns = ['User_id','Num_coupon_used']\n",
    "    data_online2 = pd.merge(data_online1, b, on='User_id', how='left')\n",
    "\n",
    "    #The average amount of coupon the customer got a week.\n",
    "    #The training set is collected from Jan. 1st 2016 to June 30th 2016. 26 weeks in total\n",
    "    def to_float (s):\n",
    "        return float (s)\n",
    "    data_online3 = data_online2\n",
    "    data_online3['Tot_coupon_got']=data_online3['Tot_coupon_got'].map(to_float)\n",
    "    data_online3['Avg_coupon_got']=data_online3['Tot_coupon_got']*1/26\n",
    "\n",
    "    #generate customer table\n",
    "    customer_columns= data_online3[['User_id','Tot_coupon_got','Num_coupon_used','Avg_coupon_got']]\n",
    "    customer_online_table = customer_columns.drop_duplicates()\n",
    "    print 'User features completed'\n",
    "    return customer_online_table"
   ]
  },
  {
   "cell_type": "code",
   "execution_count": 135,
   "metadata": {
    "ExecuteTime": {
     "end_time": "2017-12-02T14:24:42.886861Z",
     "start_time": "2017-12-02T14:24:42.834987Z"
    },
    "collapsed": true
   },
   "outputs": [],
   "source": [
    "def get_online_merchant_table(data_online):\n",
    "    #get num_coupon for each user\n",
    "    \n",
    "    a=data_online[['Merchant_id','Coupon_id']]\n",
    "    mask = data_online['Coupon_id']!='null'\n",
    "    num_coupon = a[mask].groupby(['Merchant_id']).count().reset_index()\n",
    "    num_coupon.columns = ['Merchant_id','Tot_coupon_sent']\n",
    "    data_online1 = pd.merge(data_online, num_coupon, on = 'Merchant_id', how='left')\n",
    "\n",
    "    #get num coupon used for each user\n",
    "    mask2 = (data_online1['Date']!= 'null') & (data_online1['Coupon_id']!= 'null')\n",
    "    b=data_online1[mask2].groupby(['Merchant_id'])['Action'].count().reset_index()\n",
    "    b.columns = ['Merchant_id','Num_coupon_used']\n",
    "    data_online2 = pd.merge(data_online1, b, on='Merchant_id', how='left')\n",
    "\n",
    "    #get total number of coupons type for each user\n",
    "    l= data_online2[['Merchant_id','Coupon_id','Action']].groupby(['Merchant_id','Coupon_id']).count().reset_index()\n",
    "    mask3 = l['Coupon_id']!='null'\n",
    "    l2=l[mask3]\n",
    "\n",
    "    def num_type(s):\n",
    "        if s>0:\n",
    "            return 1\n",
    "\n",
    "    l2['num_type']=l2['Coupon_id'].apply(num_type)\n",
    "    l3 =l2.groupby('Merchant_id')['num_type'].count()\n",
    "    l4=pd.DataFrame(l3).reset_index()\n",
    "    data_online3= pd.merge(data_online2, l4, on='Merchant_id',how='left')\n",
    "\n",
    "    #generate merchant table\n",
    "    no_userid= data_online3[['Merchant_id','Tot_coupon_sent','Num_coupon_used','num_type']]\n",
    "    merchant_online_table = no_userid.drop_duplicates()\n",
    "    print 'Merchant features completed'\n",
    "    return merchant_online_table"
   ]
  },
  {
   "cell_type": "code",
   "execution_count": 149,
   "metadata": {
    "ExecuteTime": {
     "end_time": "2017-12-02T15:07:29.315632Z",
     "start_time": "2017-12-02T15:07:29.300266Z"
    }
   },
   "outputs": [],
   "source": [
    "def pipeline(input_data):\n",
    "    M=get_online_merchant_table(input_data)\n",
    "    CU=get_online_user_table(input_data)\n",
    "    CO=get_coupon_feature_online(input_data)\n",
    "    CM=get_custMerch(input_data)\n",
    "    MG1=CO.merge(M,left_on='Merchant_id',right_on='Merchant_id',how='left')\n",
    "    print 'Merge Completed1/3'\n",
    "    MG2=MG1.merge(CU,left_on='User_id',right_on='User_id',how='left')\n",
    "    print 'Merge Completed2/3'\n",
    "    MG1=MG2.merge(CM,left_on=['User_id','Merchant_id'],right_on=['User_id','Merchant_id'],how='left')\n",
    "    print 'Merge Completed3/3'\n",
    "    return MG1\n",
    "    "
   ]
  },
  {
   "cell_type": "markdown",
   "metadata": {},
   "source": [
    "# Code to run:"
   ]
  },
  {
   "cell_type": "code",
   "execution_count": null,
   "metadata": {
    "collapsed": true
   },
   "outputs": [],
   "source": [
    "tr1=cutoff_time(20160100,20160400,data_online)\n",
    "te1=cutoff_time(20160400,20160500,data_online)\n",
    "tr2=cutoff_time(20160200,20160500,data_online)\n",
    "te2=cutoff_time(20160500,20160600,data_online)\n",
    "train=cutoff_time(20160100,20160600,data_online)\n",
    "test=cutoff_time(20160600,20160700,data_online)\n",
    "TR1=pipeline(tr1)\n",
    "TE1=pipeline(te1)\n",
    "TR2=pipeline(tr2)\n",
    "TE2=pipeline(te2)\n",
    "TRAIN=pipeline(train)\n",
    "TEST=pipeline(test)\n",
    "\n"
   ]
  },
  {
   "cell_type": "markdown",
   "metadata": {},
   "source": [
    "## For offline data"
   ]
  },
  {
   "cell_type": "code",
   "execution_count": 82,
   "metadata": {
    "ExecuteTime": {
     "end_time": "2017-12-01T18:36:53.504882Z",
     "start_time": "2017-12-01T18:36:53.443321Z"
    },
    "collapsed": true
   },
   "outputs": [],
   "source": [
    "def get_coupon_feature_offline(input_data):\n",
    "    a = input_data[['Merchant_id', 'Coupon_id']]\n",
    "    mask = input_data['Coupon_id'] != 'null'\n",
    "    num_coupon = a[mask].groupby(['Merchant_id']).count().reset_index()\n",
    "    num_coupon.columns = ['Merchant_id', 'Tot_coupon_sent']\n",
    "    input_data1 = pd.merge(input_data, num_coupon, on='Merchant_id')\n",
    "    mask2 = (input_data1['Date'] != 'null') & (input_data1['Coupon_id'] !=\n",
    "                                                 'null')\n",
    "    b = input_data1[mask2].groupby(\n",
    "        ['Merchant_id'])['Coupon_id'].count().reset_index()\n",
    "    b.columns = ['Merchant_id', 'Num_coupon_used']\n",
    "    input_data2 = pd.merge(input_data1, b, on='Merchant_id')\n",
    "    l = input_data2[['Merchant_id', 'Coupon_id']].groupby(\n",
    "        ['Merchant_id', 'Coupon_id']).count().reset_index()\n",
    "    mask3 = l['Coupon_id'] != 'null'\n",
    "    l2 = l[mask3]\n",
    "    l2['num_type'] = l2['Coupon_id'].apply(lambda x:int(x>0))\n",
    "    l3 = l2.groupby('Merchant_id')['num_type'].count()\n",
    "    l4 = pd.DataFrame(l3).reset_index()\n",
    "    input_data3 = pd.merge(input_data2, l4, on='Merchant_id')\n",
    "    null_mask = input_data3['Distance'] != 'null'\n",
    "    input_data4 = input_data3[null_mask]\n",
    "    input_data4['Distance'] = input_data4['Distance'].map(lambda x: float(x))\n",
    "    input_data5 = pd.DataFrame(\n",
    "        input_data4.groupby('Merchant_id')['Distance'].mean()).reset_index()\n",
    "    input_data6 = pd.merge(input_data3, input_data5, on='Merchant_id')\n",
    "    input_data6 = input_data6.rename(columns={'Distance_y': 'Avg_Distance'})\n",
    "    input_data6['equivalent_discount'] = input_data6['Discount_rate'].map(\n",
    "        get_discount_rate)\n",
    "    input_data6['direct_use_coupon'] = input_data6['Discount_rate'].map(\n",
    "        is_direct_use)\n",
    "    input_data6['coupon_requirement'] = input_data6['Discount_rate'].map(\n",
    "        get_coupon_requirement)\n",
    "    input_data6['Date_received_week'] = input_data6['Date_received'].map(\n",
    "        get_week_day)\n",
    "    input_data6['Date_received_month'] = input_data6['Date_received'].map(\n",
    "        get_month_day)\n",
    "    output=input_data6[input_data6['Coupon_id']!='null'] \n",
    "    output.drop(['Discount_rate', 'Date_received', 'Date'], axis=1, inplace=True)\n",
    "    return output"
   ]
  },
  {
   "cell_type": "code",
   "execution_count": 83,
   "metadata": {
    "ExecuteTime": {
     "end_time": "2017-12-01T18:37:30.926158Z",
     "start_time": "2017-12-01T18:36:53.924736Z"
    },
    "collapsed": true
   },
   "outputs": [],
   "source": [
    "b=get_coupon_feature_offline(data_offline)"
   ]
  },
  {
   "cell_type": "code",
   "execution_count": 85,
   "metadata": {
    "ExecuteTime": {
     "end_time": "2017-12-01T19:18:23.992344Z",
     "start_time": "2017-12-01T19:18:23.860010Z"
    }
   },
   "outputs": [
    {
     "data": {
      "text/html": [
       "<div>\n",
       "<style>\n",
       "    .dataframe thead tr:only-child th {\n",
       "        text-align: right;\n",
       "    }\n",
       "\n",
       "    .dataframe thead th {\n",
       "        text-align: left;\n",
       "    }\n",
       "\n",
       "    .dataframe tbody tr th {\n",
       "        vertical-align: top;\n",
       "    }\n",
       "</style>\n",
       "<table border=\"1\" class=\"dataframe\">\n",
       "  <thead>\n",
       "    <tr style=\"text-align: right;\">\n",
       "      <th></th>\n",
       "      <th>User_id</th>\n",
       "      <th>Merchant_id</th>\n",
       "      <th>Coupon_id</th>\n",
       "      <th>Distance_x</th>\n",
       "      <th>Tot_coupon_sent</th>\n",
       "      <th>Num_coupon_used</th>\n",
       "      <th>num_type</th>\n",
       "      <th>Avg_Distance</th>\n",
       "      <th>equivalent_discount</th>\n",
       "      <th>direct_use_coupon</th>\n",
       "      <th>coupon_requirement</th>\n",
       "      <th>Date_received_week</th>\n",
       "      <th>Date_received_month</th>\n",
       "    </tr>\n",
       "  </thead>\n",
       "  <tbody>\n",
       "    <tr>\n",
       "      <th>1</th>\n",
       "      <td>1439408</td>\n",
       "      <td>2632</td>\n",
       "      <td>8591</td>\n",
       "      <td>0</td>\n",
       "      <td>43</td>\n",
       "      <td>4</td>\n",
       "      <td>2</td>\n",
       "      <td>1.54</td>\n",
       "      <td>0.95</td>\n",
       "      <td>0</td>\n",
       "      <td>20</td>\n",
       "      <td>2</td>\n",
       "      <td>17</td>\n",
       "    </tr>\n",
       "    <tr>\n",
       "      <th>2</th>\n",
       "      <td>1439408</td>\n",
       "      <td>2632</td>\n",
       "      <td>1078</td>\n",
       "      <td>0</td>\n",
       "      <td>43</td>\n",
       "      <td>4</td>\n",
       "      <td>2</td>\n",
       "      <td>1.54</td>\n",
       "      <td>0.95</td>\n",
       "      <td>0</td>\n",
       "      <td>20</td>\n",
       "      <td>5</td>\n",
       "      <td>19</td>\n",
       "    </tr>\n",
       "    <tr>\n",
       "      <th>3</th>\n",
       "      <td>1439408</td>\n",
       "      <td>2632</td>\n",
       "      <td>8591</td>\n",
       "      <td>0</td>\n",
       "      <td>43</td>\n",
       "      <td>4</td>\n",
       "      <td>2</td>\n",
       "      <td>1.54</td>\n",
       "      <td>0.95</td>\n",
       "      <td>0</td>\n",
       "      <td>20</td>\n",
       "      <td>0</td>\n",
       "      <td>13</td>\n",
       "    </tr>\n",
       "    <tr>\n",
       "      <th>5</th>\n",
       "      <td>1439408</td>\n",
       "      <td>2632</td>\n",
       "      <td>8591</td>\n",
       "      <td>0</td>\n",
       "      <td>43</td>\n",
       "      <td>4</td>\n",
       "      <td>2</td>\n",
       "      <td>1.54</td>\n",
       "      <td>0.95</td>\n",
       "      <td>0</td>\n",
       "      <td>20</td>\n",
       "      <td>0</td>\n",
       "      <td>16</td>\n",
       "    </tr>\n",
       "    <tr>\n",
       "      <th>6</th>\n",
       "      <td>2082569</td>\n",
       "      <td>2632</td>\n",
       "      <td>1078</td>\n",
       "      <td>3</td>\n",
       "      <td>43</td>\n",
       "      <td>4</td>\n",
       "      <td>2</td>\n",
       "      <td>1.54</td>\n",
       "      <td>0.95</td>\n",
       "      <td>0</td>\n",
       "      <td>20</td>\n",
       "      <td>4</td>\n",
       "      <td>25</td>\n",
       "    </tr>\n",
       "  </tbody>\n",
       "</table>\n",
       "</div>"
      ],
      "text/plain": [
       "   User_id  Merchant_id Coupon_id Distance_x  Tot_coupon_sent  \\\n",
       "1  1439408         2632      8591          0               43   \n",
       "2  1439408         2632      1078          0               43   \n",
       "3  1439408         2632      8591          0               43   \n",
       "5  1439408         2632      8591          0               43   \n",
       "6  2082569         2632      1078          3               43   \n",
       "\n",
       "   Num_coupon_used  num_type  Avg_Distance equivalent_discount  \\\n",
       "1                4         2          1.54                0.95   \n",
       "2                4         2          1.54                0.95   \n",
       "3                4         2          1.54                0.95   \n",
       "5                4         2          1.54                0.95   \n",
       "6                4         2          1.54                0.95   \n",
       "\n",
       "   direct_use_coupon coupon_requirement Date_received_week Date_received_month  \n",
       "1                  0                 20                  2                  17  \n",
       "2                  0                 20                  5                  19  \n",
       "3                  0                 20                  0                  13  \n",
       "5                  0                 20                  0                  16  \n",
       "6                  0                 20                  4                  25  "
      ]
     },
     "execution_count": 85,
     "metadata": {},
     "output_type": "execute_result"
    }
   ],
   "source": [
    "b.head()"
   ]
  },
  {
   "cell_type": "code",
   "execution_count": null,
   "metadata": {
    "collapsed": true
   },
   "outputs": [],
   "source": []
  }
 ],
 "metadata": {
  "anaconda-cloud": {},
  "kernelspec": {
   "display_name": "Python [default]",
   "language": "python",
   "name": "python2"
  },
  "language_info": {
   "codemirror_mode": {
    "name": "ipython",
    "version": 2
   },
   "file_extension": ".py",
   "mimetype": "text/x-python",
   "name": "python",
   "nbconvert_exporter": "python",
   "pygments_lexer": "ipython2",
   "version": "2.7.14"
  },
  "nbTranslate": {
   "displayLangs": [
    "*"
   ],
   "hotkey": "alt-t",
   "langInMainMenu": true,
   "sourceLang": "en",
   "targetLang": "fr",
   "useGoogleTranslate": true
  },
  "toc": {
   "nav_menu": {},
   "number_sections": true,
   "sideBar": true,
   "skip_h1_title": false,
   "toc_cell": false,
   "toc_position": {},
   "toc_section_display": "block",
   "toc_window_display": false
  },
  "varInspector": {
   "cols": {
    "lenName": 16,
    "lenType": 16,
    "lenVar": 40
   },
   "kernels_config": {
    "python": {
     "delete_cmd_postfix": "",
     "delete_cmd_prefix": "del ",
     "library": "var_list.py",
     "varRefreshCmd": "print(var_dic_list())"
    },
    "r": {
     "delete_cmd_postfix": ") ",
     "delete_cmd_prefix": "rm(",
     "library": "var_list.r",
     "varRefreshCmd": "cat(var_dic_list()) "
    }
   },
   "types_to_exclude": [
    "module",
    "function",
    "builtin_function_or_method",
    "instance",
    "_Feature"
   ],
   "window_display": false
  }
 },
 "nbformat": 4,
 "nbformat_minor": 2
}
