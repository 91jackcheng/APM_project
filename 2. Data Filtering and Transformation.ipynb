{
 "cells": [
  {
   "cell_type": "code",
   "execution_count": 3,
   "metadata": {
    "ExecuteTime": {
     "end_time": "2017-12-03T11:58:28.416257Z",
     "start_time": "2017-12-03T11:58:25.752631Z"
    },
    "collapsed": true
   },
   "outputs": [],
   "source": [
    "import hyperopt\n",
    "import numpy as np\n",
    "import pandas as pd"
   ]
  },
  {
   "cell_type": "code",
   "execution_count": 42,
   "metadata": {
    "ExecuteTime": {
     "end_time": "2017-12-03T13:43:02.323832Z",
     "start_time": "2017-12-03T13:42:12.438897Z"
    },
    "collapsed": true
   },
   "outputs": [],
   "source": [
    "online_123 = pd.read_csv('123.csv').drop_duplicates()\n",
    "online_234 = pd.read_csv('234.csv')\n",
    "online_4 = pd.read_csv('4.csv').drop_duplicates()\n",
    "online_5 = pd.read_csv('5.csv')\n",
    "train_data = pd.read_csv('train_dataset.csv')\n",
    "test_data = pd.read_csv('online_test_dataset.csv')"
   ]
  },
  {
   "cell_type": "code",
   "execution_count": 18,
   "metadata": {
    "ExecuteTime": {
     "end_time": "2017-12-03T12:26:54.170671Z",
     "start_time": "2017-12-03T12:26:54.150567Z"
    }
   },
   "outputs": [
    {
     "data": {
      "text/plain": [
       "0    297041\n",
       "1    135432\n",
       "Name: Coupon Used, dtype: int64"
      ]
     },
     "execution_count": 18,
     "metadata": {},
     "output_type": "execute_result"
    }
   ],
   "source": [
    "online_123['Coupon Used'].value_counts()"
   ]
  },
  {
   "cell_type": "code",
   "execution_count": 19,
   "metadata": {
    "ExecuteTime": {
     "end_time": "2017-12-03T12:29:07.873752Z",
     "start_time": "2017-12-03T12:29:07.783461Z"
    },
    "collapsed": true
   },
   "outputs": [],
   "source": [
    "X_train=online_123.drop(['Coupon Used','Coupon_id_x'],axis=1)\n",
    "y_train=online_123['Coupon Used']"
   ]
  },
  {
   "cell_type": "code",
   "execution_count": 20,
   "metadata": {
    "ExecuteTime": {
     "end_time": "2017-12-03T12:29:33.919139Z",
     "start_time": "2017-12-03T12:29:32.563398Z"
    },
    "collapsed": true
   },
   "outputs": [],
   "source": [
    "import pandas as pd\n",
    "from sklearn.metrics import mean_squared_error\n",
    "from sklearn.metrics import confusion_matrix\n",
    "from sklearn import metrics"
   ]
  },
  {
   "cell_type": "code",
   "execution_count": 21,
   "metadata": {
    "ExecuteTime": {
     "end_time": "2017-12-03T12:29:46.912781Z",
     "start_time": "2017-12-03T12:29:44.564586Z"
    },
    "collapsed": true
   },
   "outputs": [],
   "source": [
    "\n",
    "import numpy as np\n",
    "from sklearn.ensemble import RandomForestClassifier\n",
    "from sklearn.metrics import confusion_matrix\n",
    "from sklearn.ensemble import GradientBoostingClassifier\n",
    "from sklearn.model_selection import GridSearchCV\n",
    "from xgboost.sklearn import XGBClassifier\n",
    "from time import time\n",
    "import matplotlib.pyplot as plt\n",
    "from sklearn.model_selection import train_test_split\n",
    "import warnings\n",
    "warnings.filterwarnings(\"ignore\")\n",
    "%matplotlib inline"
   ]
  },
  {
   "cell_type": "code",
   "execution_count": 40,
   "metadata": {
    "ExecuteTime": {
     "end_time": "2017-12-03T13:41:41.554118Z",
     "start_time": "2017-12-03T13:41:41.543023Z"
    },
    "collapsed": true
   },
   "outputs": [],
   "source": [
    "def filter1(s,f):\n",
    "    if s==f:\n",
    "        return 0\n",
    "    else:\n",
    "        return float(s)\n",
    "def transfrom(input_data):\n",
    "    input_data['Coupon_requirement']=input_data['coupon_requirement'].map(lambda x: filter1(x,'null'))\n",
    "    input_data['Equivalent_discount']=input_data['equivalent_discount'].map(lambda x: filter1(x,'fixed'))\n",
    "    return input_data.drop(['coupon_requirement','equivalent_discount'],axis=1)"
   ]
  },
  {
   "cell_type": "code",
   "execution_count": 41,
   "metadata": {
    "ExecuteTime": {
     "end_time": "2017-12-03T13:41:44.690134Z",
     "start_time": "2017-12-03T13:41:43.727364Z"
    },
    "collapsed": true
   },
   "outputs": [],
   "source": [
    "online123=transfrom(online_123)"
   ]
  },
  {
   "cell_type": "code",
   "execution_count": 43,
   "metadata": {
    "ExecuteTime": {
     "end_time": "2017-12-03T13:43:49.448777Z",
     "start_time": "2017-12-03T13:43:29.096454Z"
    },
    "collapsed": true
   },
   "outputs": [],
   "source": [
    "online123=transfrom(online_123)\n",
    "online234=transfrom(online_234)\n",
    "online5=transfrom(online_5)\n",
    "online4=transfrom(online_4)\n",
    "Train_data=transfrom(train_data)\n",
    "Test_data=transfrom(test_data)"
   ]
  },
  {
   "cell_type": "code",
   "execution_count": 51,
   "metadata": {
    "ExecuteTime": {
     "end_time": "2017-12-03T14:08:42.648458Z",
     "start_time": "2017-12-03T14:08:42.637762Z"
    }
   },
   "outputs": [
    {
     "data": {
      "text/plain": [
       "(432473, 22)"
      ]
     },
     "execution_count": 51,
     "metadata": {},
     "output_type": "execute_result"
    }
   ],
   "source": [
    "online123.shape"
   ]
  },
  {
   "cell_type": "code",
   "execution_count": 47,
   "metadata": {
    "ExecuteTime": {
     "end_time": "2017-12-03T13:57:08.039891Z",
     "start_time": "2017-12-03T13:57:07.969944Z"
    },
    "collapsed": true
   },
   "outputs": [],
   "source": []
  },
  {
   "cell_type": "code",
   "execution_count": null,
   "metadata": {
    "collapsed": true
   },
   "outputs": [],
   "source": [
    "a4 = online_4.groupby(online_4.columns, axis = 1).transform(lambda x: x.fillna(x.mean()))"
   ]
  },
  {
   "cell_type": "code",
   "execution_count": 63,
   "metadata": {
    "ExecuteTime": {
     "end_time": "2017-12-03T14:23:48.008231Z",
     "start_time": "2017-12-03T14:23:47.999261Z"
    },
    "collapsed": true
   },
   "outputs": [],
   "source": [
    "def fillna_pipeline(input_data):\n",
    "    out1=input_data.groupby(input_data.columns, axis = 1).transform(lambda x: x.fillna(x.mean()))\n",
    "    return out1"
   ]
  },
  {
   "cell_type": "code",
   "execution_count": 64,
   "metadata": {
    "ExecuteTime": {
     "end_time": "2017-12-03T14:43:14.901353Z",
     "start_time": "2017-12-03T14:24:22.420447Z"
    },
    "collapsed": true
   },
   "outputs": [],
   "source": [
    "online123=fillna_pipeline(online123)"
   ]
  },
  {
   "cell_type": "code",
   "execution_count": 65,
   "metadata": {
    "ExecuteTime": {
     "end_time": "2017-12-03T14:49:11.391692Z",
     "start_time": "2017-12-03T14:43:52.081617Z"
    },
    "collapsed": true
   },
   "outputs": [],
   "source": [
    "online4=fillna_pipeline(online4)"
   ]
  },
  {
   "cell_type": "code",
   "execution_count": 66,
   "metadata": {
    "ExecuteTime": {
     "end_time": "2017-12-03T14:51:10.903615Z",
     "start_time": "2017-12-03T14:51:10.790576Z"
    },
    "collapsed": true
   },
   "outputs": [],
   "source": [
    "X_train=online123.drop(['Coupon Used','Coupon_id_x','Coupon Received'],axis=1)\n",
    "y_train=online123['Coupon Used']"
   ]
  },
  {
   "cell_type": "markdown",
   "metadata": {},
   "source": [
    "Merchant:\n",
    "                            \n",
    "num_type_x\n",
    "Merchant's Total Usage Fraction\n",
    "\n",
    "\n",
    "\n",
    "\n",
    "\n",
    "User:\n",
    "Num_coupon_used_y\n",
    "Tot_coupon_got\n",
    "Num_coupon_used\n",
    "Avg_coupon_got\n",
    "\n",
    "\n",
    "\n",
    "User & Merchant:\n",
    "Customer's Total Usage Fraction for Merchant\n",
    "Customer's Total Usage for Merchant's Coupons\n",
    "Customer's Total Received by Merchant\n",
    "Customer's Inbox Share by Merchant\n",
    "\n",
    "\n",
    "\n",
    "\n",
    "Coupon:\n",
    "direct_use_coupon\n",
    "Date_received_week\n",
    "Date_received_month\n",
    "Coupon_requirement\n",
    "Equivalent_discount"
   ]
  },
  {
   "cell_type": "code",
   "execution_count": null,
   "metadata": {
    "collapsed": true
   },
   "outputs": [],
   "source": []
  },
  {
   "cell_type": "code",
   "execution_count": 67,
   "metadata": {
    "ExecuteTime": {
     "end_time": "2017-12-03T14:55:20.251093Z",
     "start_time": "2017-12-03T14:51:33.199491Z"
    }
   },
   "outputs": [
    {
     "name": "stdout",
     "output_type": "stream",
     "text": [
      "{'loss': 'deviance'}\n",
      "0.833205772383\n"
     ]
    }
   ],
   "source": [
    "parameter_candidates = {\n",
    "    'loss': ('deviance', 'exponential'),\n",
    "}\n",
    "GBDT = GradientBoostingClassifier(random_state=42)\n",
    "GBDTGS = GridSearchCV(\n",
    "    estimator=GBDT, param_grid=parameter_candidates, cv=3, n_jobs=4)\n",
    "\n",
    "GBDTGS.fit(X_train, y_train)\n",
    "print GBDTGS.best_params_\n",
    "print GBDTGS.best_score_"
   ]
  },
  {
   "cell_type": "code",
   "execution_count": 68,
   "metadata": {
    "ExecuteTime": {
     "end_time": "2017-12-03T14:59:48.453095Z",
     "start_time": "2017-12-03T14:58:47.528196Z"
    },
    "collapsed": true
   },
   "outputs": [],
   "source": [
    "GBDT = GradientBoostingClassifier(random_state=42)\n",
    "model=GBDT.fit(X_train, y_train)"
   ]
  },
  {
   "cell_type": "code",
   "execution_count": 69,
   "metadata": {
    "ExecuteTime": {
     "end_time": "2017-12-03T15:00:15.166962Z",
     "start_time": "2017-12-03T15:00:15.099133Z"
    },
    "collapsed": true
   },
   "outputs": [],
   "source": [
    "X_test=online4.drop(['Coupon Used','Coupon_id_x','Coupon Received'],axis=1)\n",
    "y_test=online4['Coupon Used']"
   ]
  },
  {
   "cell_type": "code",
   "execution_count": 74,
   "metadata": {
    "ExecuteTime": {
     "end_time": "2017-12-03T15:04:53.420442Z",
     "start_time": "2017-12-03T15:04:53.389442Z"
    }
   },
   "outputs": [
    {
     "data": {
      "text/plain": [
       "(275645, 19)"
      ]
     },
     "execution_count": 74,
     "metadata": {},
     "output_type": "execute_result"
    }
   ],
   "source": [
    "X_test.shape"
   ]
  },
  {
   "cell_type": "code",
   "execution_count": 1,
   "metadata": {
    "ExecuteTime": {
     "end_time": "2017-12-04T23:58:05.776288Z",
     "start_time": "2017-12-04T23:58:03.137355Z"
    },
    "collapsed": true
   },
   "outputs": [],
   "source": [
    "from hyperopt import fmin, tpe, hp,space_eval,rand,Trials,partial,STATUS_OK"
   ]
  },
  {
   "cell_type": "code",
   "execution_count": null,
   "metadata": {
    "collapsed": true
   },
   "outputs": [],
   "source": [
    "space = {\"max_depth\":hp.quniform(\"max_depth\",10,30,2), #[10,12,14...] \n",
    "         \"learning_rate\":hp.loguniform(\"learning_rate\",-4,-1),  \n",
    "         \"C\":hp.lognormal(\"C\",0,1), #one side bounce,  acutally we want numbers close to 1\n",
    "         \"score_para\":hp.uniform(\"score_para\",0,1)\n",
    "        }"
   ]
  },
  {
   "cell_type": "code",
   "execution_count": 73,
   "metadata": {
    "ExecuteTime": {
     "end_time": "2017-12-03T15:04:16.353728Z",
     "start_time": "2017-12-03T15:04:15.460966Z"
    },
    "collapsed": true
   },
   "outputs": [],
   "source": [
    "\n",
    "\n",
    "y1_GBDTpredicted_test = GBDT.predict(X_test)"
   ]
  },
  {
   "cell_type": "code",
   "execution_count": 71,
   "metadata": {
    "ExecuteTime": {
     "end_time": "2017-12-03T15:01:02.332728Z",
     "start_time": "2017-12-03T15:01:01.837840Z"
    }
   },
   "outputs": [
    {
     "data": {
      "text/plain": [
       "array([[124630,      0],\n",
       "       [ 33503, 117512]])"
      ]
     },
     "execution_count": 71,
     "metadata": {},
     "output_type": "execute_result"
    }
   ],
   "source": [
    "confusion_matrix(y_test,y1_GBDTpredicted_test)"
   ]
  },
  {
   "cell_type": "code",
   "execution_count": 72,
   "metadata": {
    "ExecuteTime": {
     "end_time": "2017-12-03T15:02:17.810461Z",
     "start_time": "2017-12-03T15:02:17.738655Z"
    }
   },
   "outputs": [
    {
     "data": {
      "text/plain": [
       "0.87845598505323874"
      ]
     },
     "execution_count": 72,
     "metadata": {},
     "output_type": "execute_result"
    }
   ],
   "source": [
    "metrics.accuracy_score(y_test,y1_GBDTpredicted_test)"
   ]
  },
  {
   "cell_type": "code",
   "execution_count": 75,
   "metadata": {
    "ExecuteTime": {
     "end_time": "2017-12-03T15:06:23.334845Z",
     "start_time": "2017-12-03T15:06:23.299706Z"
    }
   },
   "outputs": [
    {
     "name": "stdout",
     "output_type": "stream",
     "text": [
      "[  5.99994884e-10   2.81490554e-12   0.00000000e+00   2.75489880e-14\n",
      "   0.00000000e+00   0.00000000e+00   0.00000000e+00   4.81553775e-15\n",
      "   5.17054227e-13  -7.96384301e-13   1.24323768e-12   0.00000000e+00\n",
      "   6.41000987e-01   3.58999012e-01   8.86124330e-12  -2.15566615e-14\n",
      "  -1.07513505e-15   0.00000000e+00  -9.14014854e-15]\n"
     ]
    }
   ],
   "source": [
    "print GBDT.feature_importances_"
   ]
  },
  {
   "cell_type": "code",
   "execution_count": null,
   "metadata": {
    "ExecuteTime": {
     "start_time": "2017-12-04T05:21:59.089Z"
    },
    "collapsed": true
   },
   "outputs": [],
   "source": [
    "webbrowser.open(www.baidu.com, new=0, autoraise=True)"
   ]
  },
  {
   "cell_type": "code",
   "execution_count": 76,
   "metadata": {
    "ExecuteTime": {
     "end_time": "2017-12-03T15:07:13.849713Z",
     "start_time": "2017-12-03T15:07:13.419432Z"
    }
   },
   "outputs": [
    {
     "name": "stdout",
     "output_type": "stream",
     "text": [
      "<class 'pandas.core.frame.DataFrame'>\n",
      "Int64Index: 432473 entries, 0 to 1754985\n",
      "Data columns (total 19 columns):\n",
      "User_id                                          432473 non-null int64\n",
      "Merchant_id                                      432473 non-null int64\n",
      "Action_x                                         432473 non-null int64\n",
      "Tot_coupon_sent_x                                432473 non-null float64\n",
      "num_type_x                                       432473 non-null float64\n",
      "direct_use_coupon                                432473 non-null int64\n",
      "Date_received_week                               432473 non-null int64\n",
      "Date_received_month                              432473 non-null int64\n",
      "Num_coupon_used_y                                432473 non-null float64\n",
      "Tot_coupon_got                                   432473 non-null float64\n",
      "Num_coupon_used                                  432473 non-null float64\n",
      "Avg_coupon_got                                   432473 non-null float64\n",
      "Customer's Total Usage Fraction for Merchant     432473 non-null float64\n",
      "Customer's Total Usage for Merchant's Coupons    432473 non-null int64\n",
      "Customer's Total Received by Merchant            432473 non-null int64\n",
      "Customer's Inbox Share by Merchant               432473 non-null float64\n",
      "Merchant's Total Usage Fraction                  432473 non-null float64\n",
      "Coupon_requirement                               432473 non-null float64\n",
      "Equivalent_discount                              432473 non-null float64\n",
      "dtypes: float64(11), int64(8)\n",
      "memory usage: 86.0 MB\n"
     ]
    }
   ],
   "source": [
    "X_train.info()"
   ]
  },
  {
   "cell_type": "code",
   "execution_count": 77,
   "metadata": {
    "ExecuteTime": {
     "end_time": "2017-12-03T17:24:16.800862Z",
     "start_time": "2017-12-03T17:24:16.771549Z"
    }
   },
   "outputs": [
    {
     "data": {
      "text/plain": [
       "(275645, 24)"
      ]
     },
     "execution_count": 77,
     "metadata": {},
     "output_type": "execute_result"
    }
   ],
   "source": [
    "online_4.shape"
   ]
  },
  {
   "cell_type": "code",
   "execution_count": null,
   "metadata": {
    "collapsed": true
   },
   "outputs": [],
   "source": [
    "x=pd.r"
   ]
  }
 ],
 "metadata": {
  "anaconda-cloud": {},
  "kernelspec": {
   "display_name": "Python [conda root]",
   "language": "python",
   "name": "conda-root-py"
  },
  "language_info": {
   "codemirror_mode": {
    "name": "ipython",
    "version": 2
   },
   "file_extension": ".py",
   "mimetype": "text/x-python",
   "name": "python",
   "nbconvert_exporter": "python",
   "pygments_lexer": "ipython2",
   "version": "2.7.14"
  },
  "nbTranslate": {
   "displayLangs": [
    "*"
   ],
   "hotkey": "alt-t",
   "langInMainMenu": true,
   "sourceLang": "en",
   "targetLang": "fr",
   "useGoogleTranslate": true
  },
  "toc": {
   "nav_menu": {},
   "number_sections": true,
   "sideBar": true,
   "skip_h1_title": false,
   "toc_cell": false,
   "toc_position": {},
   "toc_section_display": "block",
   "toc_window_display": false
  },
  "varInspector": {
   "cols": {
    "lenName": 16,
    "lenType": 16,
    "lenVar": 40
   },
   "kernels_config": {
    "python": {
     "delete_cmd_postfix": "",
     "delete_cmd_prefix": "del ",
     "library": "var_list.py",
     "varRefreshCmd": "print(var_dic_list())"
    },
    "r": {
     "delete_cmd_postfix": ") ",
     "delete_cmd_prefix": "rm(",
     "library": "var_list.r",
     "varRefreshCmd": "cat(var_dic_list()) "
    }
   },
   "types_to_exclude": [
    "module",
    "function",
    "builtin_function_or_method",
    "instance",
    "_Feature"
   ],
   "window_display": false
  }
 },
 "nbformat": 4,
 "nbformat_minor": 2
}
