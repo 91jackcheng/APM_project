{
 "cells": [
  {
   "cell_type": "code",
   "execution_count": 1,
   "metadata": {
    "collapsed": true
   },
   "outputs": [],
   "source": [
    "import pandas as pd"
   ]
  },
  {
   "cell_type": "code",
   "execution_count": 64,
   "metadata": {
    "collapsed": true
   },
   "outputs": [],
   "source": [
    "data_offline= pd.read_csv('ccf_offline.csv')\n",
    "data_online = pd.read_csv('ccf_online.csv')"
   ]
  },
  {
   "cell_type": "markdown",
   "metadata": {},
   "source": [
    "# (1) Online"
   ]
  },
  {
   "cell_type": "code",
   "execution_count": 66,
   "metadata": {
    "collapsed": true
   },
   "outputs": [],
   "source": [
    "def get_online_user_table(data_online):\n",
    "    \n",
    "    #Number of time this customer gets a coupon online\n",
    "    a=data_online[['User_id','Coupon_id']]\n",
    "    mask = data_online['Coupon_id']!='null'\n",
    "    num_coupon = a[mask].groupby(['User_id']).count().reset_index()\n",
    "    num_coupon.columns = ['User_id','Tot_coupon_got']\n",
    "    data_online1 = pd.merge(data_online, num_coupon, on = 'User_id', how='left')\n",
    "\n",
    "    #Number of time this customer uses a coupon\n",
    "    mask2 = (data_online1['Date']!= 'null') & (data_online1['Coupon_id']!= 'null')\n",
    "    b=data_online1[mask2].groupby(['User_id'])['Action'].count().reset_index()\n",
    "    b.columns = ['User_id','Num_coupon_used']\n",
    "    data_online2 = pd.merge(data_online1, b, on='User_id', how='left')\n",
    "\n",
    "    #The average amount of coupon the customer got a week.\n",
    "    #The training set is collected from Jan. 1st 2016 to June 30th 2016. 26 weeks in total\n",
    "    def to_float (s):\n",
    "        return float (s)\n",
    "    data_online3 = data_online2\n",
    "    data_online3['Tot_coupon_got']=data_online3['Tot_coupon_got'].map(to_float)\n",
    "    data_online3['Avg_coupon_got']=data_online3['Tot_coupon_got']*1/26\n",
    "\n",
    "    #generate customer table\n",
    "    customer_columns= data_online3[['User_id','Tot_coupon_got','Num_coupon_used','Avg_coupon_got']]\n",
    "    customer_online_table = customer_columns.drop_duplicates()\n",
    "    return customer_online_table"
   ]
  },
  {
   "cell_type": "code",
   "execution_count": 68,
   "metadata": {},
   "outputs": [
    {
     "data": {
      "text/html": [
       "<div>\n",
       "<style>\n",
       "    .dataframe thead tr:only-child th {\n",
       "        text-align: right;\n",
       "    }\n",
       "\n",
       "    .dataframe thead th {\n",
       "        text-align: left;\n",
       "    }\n",
       "\n",
       "    .dataframe tbody tr th {\n",
       "        vertical-align: top;\n",
       "    }\n",
       "</style>\n",
       "<table border=\"1\" class=\"dataframe\">\n",
       "  <thead>\n",
       "    <tr style=\"text-align: right;\">\n",
       "      <th></th>\n",
       "      <th>User_id</th>\n",
       "      <th>Tot_coupon_got</th>\n",
       "      <th>Num_coupon_used</th>\n",
       "      <th>Avg_coupon_got</th>\n",
       "    </tr>\n",
       "  </thead>\n",
       "  <tbody>\n",
       "    <tr>\n",
       "      <th>0</th>\n",
       "      <td>13740231</td>\n",
       "      <td>6.0</td>\n",
       "      <td>NaN</td>\n",
       "      <td>0.230769</td>\n",
       "    </tr>\n",
       "    <tr>\n",
       "      <th>2</th>\n",
       "      <td>14336199</td>\n",
       "      <td>NaN</td>\n",
       "      <td>NaN</td>\n",
       "      <td>NaN</td>\n",
       "    </tr>\n",
       "    <tr>\n",
       "      <th>19</th>\n",
       "      <td>10539231</td>\n",
       "      <td>NaN</td>\n",
       "      <td>NaN</td>\n",
       "      <td>NaN</td>\n",
       "    </tr>\n",
       "    <tr>\n",
       "      <th>22</th>\n",
       "      <td>14438631</td>\n",
       "      <td>NaN</td>\n",
       "      <td>NaN</td>\n",
       "      <td>NaN</td>\n",
       "    </tr>\n",
       "    <tr>\n",
       "      <th>29</th>\n",
       "      <td>15034599</td>\n",
       "      <td>NaN</td>\n",
       "      <td>NaN</td>\n",
       "      <td>NaN</td>\n",
       "    </tr>\n",
       "  </tbody>\n",
       "</table>\n",
       "</div>"
      ],
      "text/plain": [
       "     User_id  Tot_coupon_got  Num_coupon_used  Avg_coupon_got\n",
       "0   13740231             6.0              NaN        0.230769\n",
       "2   14336199             NaN              NaN             NaN\n",
       "19  10539231             NaN              NaN             NaN\n",
       "22  14438631             NaN              NaN             NaN\n",
       "29  15034599             NaN              NaN             NaN"
      ]
     },
     "execution_count": 68,
     "metadata": {},
     "output_type": "execute_result"
    }
   ],
   "source": [
    "get_online_user_table(data_online) [:5]"
   ]
  },
  {
   "cell_type": "markdown",
   "metadata": {},
   "source": [
    "# (2) Offline"
   ]
  },
  {
   "cell_type": "code",
   "execution_count": 69,
   "metadata": {
    "collapsed": true
   },
   "outputs": [],
   "source": [
    "def get_offline_customer_table(data_offline):\n",
    "    #Number of time this customer gets a coupon\n",
    "    a=data_offline[['User_id','Coupon_id']]\n",
    "    mask = data_offline['Coupon_id']!='null'\n",
    "    num_coupon = a[mask].groupby(['User_id']).count().reset_index()\n",
    "    num_coupon.columns = ['User_id','Tot_coupon_got']\n",
    "    data_offline1 = pd.merge(data_offline, num_coupon, on = 'User_id',how='left')\n",
    "    \n",
    "    #Number of time this customer uses a coupon\n",
    "    mask2 = (data_offline1['Date']!= 'null') & (data_offline1['Coupon_id']!= 'null')\n",
    "    b=data_offline1[mask2].groupby(['User_id'])['Coupon_id'].count().reset_index()\n",
    "    b.columns = ['User_id','Num_coupon_used']\n",
    "    data_offline2 = pd.merge(data_offline1, b, on='User_id',how='left')\n",
    "    \n",
    "    #The average distance of the shops this customer uses a coupon.\n",
    "    null_mask = data_offline2['Distance']!='null'\n",
    "\n",
    "    def to_float(s):\n",
    "        return float(s)\n",
    "\n",
    "    data_offline3 =data_offline2[null_mask]\n",
    "    data_offline3['Distance']=data_offline3['Distance'].map(to_float)\n",
    "    data_offline4 = pd.DataFrame(data_offline3.groupby('User_id')['Distance'].mean()).reset_index()\n",
    "    data_offline5 = pd.merge(data_offline2, data_offline4,on='User_id',how='left')\n",
    "    data_offline5=data_offline5.rename(columns = {'Distance_y':'Avg_Distance'})\n",
    "    \n",
    "    #The average amount of coupon the customer got a week.\n",
    "    #The training set is collected from Jan. 1st 2016 to June 30th 2016. 26 weeks in total\n",
    "    def to_float (s):\n",
    "        return float (s)\n",
    "    data_offline6 = data_offline5\n",
    "    data_offline6['Tot_coupon_got']=data_offline6['Tot_coupon_got'].map(to_float)\n",
    "    data_offline6['Avg_coupon_got']=data_offline6['Tot_coupon_got']*1/26\n",
    "\n",
    "    customer_columns2= data_offline6[['User_id','Tot_coupon_got','Num_coupon_used','Avg_Distance','Avg_coupon_got']]\n",
    "    customer_offline_table = customer_columns2.drop_duplicates()\n",
    "    return customer_offline_table"
   ]
  },
  {
   "cell_type": "code",
   "execution_count": 70,
   "metadata": {},
   "outputs": [
    {
     "name": "stderr",
     "output_type": "stream",
     "text": [
      "C:\\Users\\Jianing Cui\\Anaconda2\\lib\\site-packages\\ipykernel_launcher.py:22: SettingWithCopyWarning: \n",
      "A value is trying to be set on a copy of a slice from a DataFrame.\n",
      "Try using .loc[row_indexer,col_indexer] = value instead\n",
      "\n",
      "See the caveats in the documentation: http://pandas.pydata.org/pandas-docs/stable/indexing.html#indexing-view-versus-copy\n"
     ]
    },
    {
     "data": {
      "text/html": [
       "<div>\n",
       "<style>\n",
       "    .dataframe thead tr:only-child th {\n",
       "        text-align: right;\n",
       "    }\n",
       "\n",
       "    .dataframe thead th {\n",
       "        text-align: left;\n",
       "    }\n",
       "\n",
       "    .dataframe tbody tr th {\n",
       "        vertical-align: top;\n",
       "    }\n",
       "</style>\n",
       "<table border=\"1\" class=\"dataframe\">\n",
       "  <thead>\n",
       "    <tr style=\"text-align: right;\">\n",
       "      <th></th>\n",
       "      <th>User_id</th>\n",
       "      <th>Tot_coupon_got</th>\n",
       "      <th>Num_coupon_used</th>\n",
       "      <th>Avg_Distance</th>\n",
       "      <th>Avg_coupon_got</th>\n",
       "    </tr>\n",
       "  </thead>\n",
       "  <tbody>\n",
       "    <tr>\n",
       "      <th>0</th>\n",
       "      <td>1439408</td>\n",
       "      <td>5.0</td>\n",
       "      <td>1.0</td>\n",
       "      <td>0.142857</td>\n",
       "      <td>0.192308</td>\n",
       "    </tr>\n",
       "    <tr>\n",
       "      <th>7</th>\n",
       "      <td>1832624</td>\n",
       "      <td>1.0</td>\n",
       "      <td>NaN</td>\n",
       "      <td>0.000000</td>\n",
       "      <td>0.038462</td>\n",
       "    </tr>\n",
       "    <tr>\n",
       "      <th>8</th>\n",
       "      <td>2029232</td>\n",
       "      <td>3.0</td>\n",
       "      <td>NaN</td>\n",
       "      <td>0.200000</td>\n",
       "      <td>0.115385</td>\n",
       "    </tr>\n",
       "    <tr>\n",
       "      <th>13</th>\n",
       "      <td>2747744</td>\n",
       "      <td>1.0</td>\n",
       "      <td>NaN</td>\n",
       "      <td>NaN</td>\n",
       "      <td>0.038462</td>\n",
       "    </tr>\n",
       "    <tr>\n",
       "      <th>14</th>\n",
       "      <td>196342</td>\n",
       "      <td>1.0</td>\n",
       "      <td>NaN</td>\n",
       "      <td>1.000000</td>\n",
       "      <td>0.038462</td>\n",
       "    </tr>\n",
       "  </tbody>\n",
       "</table>\n",
       "</div>"
      ],
      "text/plain": [
       "    User_id  Tot_coupon_got  Num_coupon_used  Avg_Distance  Avg_coupon_got\n",
       "0   1439408             5.0              1.0      0.142857        0.192308\n",
       "7   1832624             1.0              NaN      0.000000        0.038462\n",
       "8   2029232             3.0              NaN      0.200000        0.115385\n",
       "13  2747744             1.0              NaN           NaN        0.038462\n",
       "14   196342             1.0              NaN      1.000000        0.038462"
      ]
     },
     "execution_count": 70,
     "metadata": {},
     "output_type": "execute_result"
    }
   ],
   "source": [
    "get_offline_customer_table(data_offline)[:5]"
   ]
  },
  {
   "cell_type": "markdown",
   "metadata": {},
   "source": [
    "# (3) Online Vs Offline"
   ]
  },
  {
   "cell_type": "code",
   "execution_count": 73,
   "metadata": {
    "collapsed": true
   },
   "outputs": [],
   "source": [
    "def get_bothline_customer_table(data_online, data_offline):\n",
    "    #The relative ratio of a customer’s online and offline purchasing within those months\n",
    "    data_bothline = pd.merge(data_online, data_offline, on='User_id')\n",
    "    mask1 = data_bothline['Date_x']!='null'\n",
    "    c=data_bothline[['User_id','Date_x']]\n",
    "    mask2 = data_bothline['Date_y']!='null'\n",
    "    d=data_bothline[['User_id','Date_y']]\n",
    "    \n",
    "    num_online_purchase = c[mask1].groupby(['User_id']).count().reset_index()\n",
    "    num_online_purchase.columns = ['User_id','num_online_purchase']\n",
    "    num_online_purchase['num_online_purchase'].fillna(0,inplace=True)\n",
    "        \n",
    "    num_offline_purchase = c[mask2].groupby(['User_id']).count().reset_index()\n",
    "    num_offline_purchase.columns = ['User_id','num_offline_purchase']\n",
    "    num_offline_purchase['num_offline_purchase'].fillna(0,inplace=True)\n",
    "    \n",
    "    num_bothline = pd.merge(num_online_purchase, num_offline_purchase, on='User_id',how='outer')\n",
    "    num_bothline['offline/online_ratio'] = num_bothline['num_offline_purchase']/num_bothline['num_online_purchase']\n",
    "    data_bothline2 = pd.merge(data_bothline,num_bothline,on='User_id',how='left')\n",
    "\n",
    "    customer_columns3= data_bothline2[['User_id','num_online_purchase','num_offline_purchase','offline/online_ratio']]\n",
    "    customer_bothline_table = customer_columns3.drop_duplicates()\n",
    "    return customer_bothline_table"
   ]
  },
  {
   "cell_type": "code",
   "execution_count": 74,
   "metadata": {},
   "outputs": [
    {
     "data": {
      "text/html": [
       "<div>\n",
       "<style>\n",
       "    .dataframe thead tr:only-child th {\n",
       "        text-align: right;\n",
       "    }\n",
       "\n",
       "    .dataframe thead th {\n",
       "        text-align: left;\n",
       "    }\n",
       "\n",
       "    .dataframe tbody tr th {\n",
       "        vertical-align: top;\n",
       "    }\n",
       "</style>\n",
       "<table border=\"1\" class=\"dataframe\">\n",
       "  <thead>\n",
       "    <tr style=\"text-align: right;\">\n",
       "      <th></th>\n",
       "      <th>User_id</th>\n",
       "      <th>num_online_purchase</th>\n",
       "      <th>num_offline_purchase</th>\n",
       "      <th>offline/online_ratio</th>\n",
       "    </tr>\n",
       "  </thead>\n",
       "  <tbody>\n",
       "    <tr>\n",
       "      <th>0</th>\n",
       "      <td>556864</td>\n",
       "      <td>2.0</td>\n",
       "      <td>NaN</td>\n",
       "      <td>NaN</td>\n",
       "    </tr>\n",
       "    <tr>\n",
       "      <th>3</th>\n",
       "      <td>15949</td>\n",
       "      <td>2.0</td>\n",
       "      <td>NaN</td>\n",
       "      <td>NaN</td>\n",
       "    </tr>\n",
       "    <tr>\n",
       "      <th>5</th>\n",
       "      <td>5145092</td>\n",
       "      <td>2.0</td>\n",
       "      <td>NaN</td>\n",
       "      <td>NaN</td>\n",
       "    </tr>\n",
       "    <tr>\n",
       "      <th>7</th>\n",
       "      <td>4549124</td>\n",
       "      <td>1.0</td>\n",
       "      <td>NaN</td>\n",
       "      <td>NaN</td>\n",
       "    </tr>\n",
       "    <tr>\n",
       "      <th>14</th>\n",
       "      <td>1670017</td>\n",
       "      <td>64.0</td>\n",
       "      <td>54.0</td>\n",
       "      <td>0.84375</td>\n",
       "    </tr>\n",
       "  </tbody>\n",
       "</table>\n",
       "</div>"
      ],
      "text/plain": [
       "    User_id  num_online_purchase  num_offline_purchase  offline/online_ratio\n",
       "0    556864                  2.0                   NaN                   NaN\n",
       "3     15949                  2.0                   NaN                   NaN\n",
       "5   5145092                  2.0                   NaN                   NaN\n",
       "7   4549124                  1.0                   NaN                   NaN\n",
       "14  1670017                 64.0                  54.0               0.84375"
      ]
     },
     "execution_count": 74,
     "metadata": {},
     "output_type": "execute_result"
    }
   ],
   "source": [
    "get_bothline_customer_table(data_online, data_offline)[:5]"
   ]
  }
 ],
 "metadata": {
  "kernelspec": {
   "display_name": "Python 2",
   "language": "python",
   "name": "python2"
  },
  "language_info": {
   "codemirror_mode": {
    "name": "ipython",
    "version": 2
   },
   "file_extension": ".py",
   "mimetype": "text/x-python",
   "name": "python",
   "nbconvert_exporter": "python",
   "pygments_lexer": "ipython2",
   "version": "2.7.13"
  }
 },
 "nbformat": 4,
 "nbformat_minor": 2
}
