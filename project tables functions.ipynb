{
 "cells": [
  {
   "cell_type": "code",
   "execution_count": 1,
   "metadata": {
    "collapsed": true
   },
   "outputs": [],
   "source": [
    "import pandas as pd\n",
    "import warnings\n",
    "warnings.filterwarnings(\"ignore\")\n",
    "# read in data\n",
    "data_offline= pd.read_csv('ccf_offline.csv')\n",
    "data_online = pd.read_csv('ccf_online.csv')"
   ]
  },
  {
   "cell_type": "markdown",
   "metadata": {},
   "source": [
    "## get online merchant table function"
   ]
  },
  {
   "cell_type": "code",
   "execution_count": 2,
   "metadata": {
    "collapsed": true
   },
   "outputs": [],
   "source": [
    "\n",
    "def get_online_merchant_table(data_online):\n",
    "    #get num_coupon for each user\n",
    "    \n",
    "    a=data_online[['Merchant_id','Coupon_id']]\n",
    "    mask = data_online['Coupon_id']!='null'\n",
    "    num_coupon = a[mask].groupby(['Merchant_id']).count().reset_index()\n",
    "    num_coupon.columns = ['Merchant_id','Tot_coupon_sent']\n",
    "    data_online1 = pd.merge(data_online, num_coupon, on = 'Merchant_id', how='left')\n",
    "\n",
    "    #get num coupon used for each user\n",
    "    mask2 = (data_online1['Date']!= 'null') & (data_online1['Coupon_id']!= 'null')\n",
    "    b=data_online1[mask2].groupby(['Merchant_id'])['Action'].count().reset_index()\n",
    "    b.columns = ['Merchant_id','Num_coupon_used']\n",
    "    data_online2 = pd.merge(data_online1, b, on='Merchant_id', how='left')\n",
    "\n",
    "    #get total number of coupons type for each user\n",
    "    l= data_online2[['Merchant_id','Coupon_id','Action']].groupby(['Merchant_id','Coupon_id']).count().reset_index()\n",
    "    mask3 = l['Coupon_id']!='null'\n",
    "    l2=l[mask3]\n",
    "\n",
    "    def num_type(s):\n",
    "        if s>0:\n",
    "            return 1\n",
    "\n",
    "    l2['num_type']=l2['Coupon_id'].apply(num_type)\n",
    "    l3 =l2.groupby('Merchant_id')['num_type'].count()\n",
    "    l4=pd.DataFrame(l3).reset_index()\n",
    "    data_online3= pd.merge(data_online2, l4, on='Merchant_id',how='left')\n",
    "\n",
    "    #generate merchant table\n",
    "    no_userid= data_online3[['Merchant_id','Tot_coupon_sent','Num_coupon_used','num_type']]\n",
    "    merchant_online_table = no_userid.drop_duplicates()\n",
    "    return merchant_online_table"
   ]
  },
  {
   "cell_type": "code",
   "execution_count": 5,
   "metadata": {},
   "outputs": [
    {
     "name": "stdout",
     "output_type": "stream",
     "text": [
      "Time elpased (hh:mm:ss.ms) 0:00:14.017000\n"
     ]
    }
   ],
   "source": [
    "from datetime import datetime \n",
    "startTime= datetime.now() \n",
    "get_online_merchant_table(data_online)\n",
    "timeElapsed=datetime.now()-startTime \n",
    "print('Time elpased (hh:mm:ss.ms) {}'.format(timeElapsed))"
   ]
  },
  {
   "cell_type": "markdown",
   "metadata": {},
   "source": [
    "## get offline merchant table function"
   ]
  },
  {
   "cell_type": "code",
   "execution_count": 7,
   "metadata": {
    "collapsed": true
   },
   "outputs": [],
   "source": [
    "def get_offline_merchant_table(data_offline):\n",
    "    a=data_offline[['Merchant_id','Coupon_id']]\n",
    "    mask = data_offline['Coupon_id']!='null'\n",
    "    num_coupon = a[mask].groupby(['Merchant_id']).count().reset_index()\n",
    "    num_coupon.columns = ['Merchant_id','Tot_coupon_sent']\n",
    "    data_offline1 = pd.merge(data_offline, num_coupon, on = 'Merchant_id',how='left')\n",
    "    mask2 = (data_offline1['Date']!= 'null') & (data_offline1['Coupon_id']!= 'null')\n",
    "    b=data_offline1[mask2].groupby(['Merchant_id'])['Coupon_id'].count().reset_index()\n",
    "    b.columns = ['Merchant_id','Num_coupon_used']\n",
    "    data_offline2 = pd.merge(data_offline1, b, on='Merchant_id',how='left')\n",
    "    l= data_offline2[['Merchant_id','Coupon_id']].groupby(['Merchant_id','Coupon_id']).count().reset_index()\n",
    "    mask3 = l['Coupon_id']!='null'\n",
    "    l2=l[mask3]\n",
    "    \n",
    "    def num_type(s):\n",
    "        if s>0:\n",
    "            return 1\n",
    "        \n",
    "    l2['num_type']=l2['Coupon_id'].apply(num_type)\n",
    "    l3 =l2.groupby('Merchant_id')['num_type'].count()\n",
    "    l4=pd.DataFrame(l3).reset_index()\n",
    "    data_offline3= pd.merge(data_offline2, l4, on='Merchant_id',how='left')\n",
    "    null_mask = data_offline3['Distance']!='null'\n",
    "\n",
    "    def to_float(s):\n",
    "        return float(s)\n",
    "    data_offline4 =data_offline3[null_mask]\n",
    "    data_offline4['Distance']=data_offline4['Distance'].map(to_float)\n",
    "    data_offline5 = pd.DataFrame(data_offline4.groupby('Merchant_id')['Distance'].mean()).reset_index()\n",
    "    data_offline6 = pd.merge(data_offline3, data_offline5,on='Merchant_id',how='left')\n",
    "    data_offline6=data_offline6.rename(columns = {'Distance_y':'Avg_Distance'})\n",
    "    \n",
    "    no_others= data_offline6[['Merchant_id','Tot_coupon_sent','Num_coupon_used','num_type','Avg_Distance']]\n",
    "    merchant_offline_table = no_others.drop_duplicates()\n",
    "    return merchant_offline_table"
   ]
  },
  {
   "cell_type": "code",
   "execution_count": 10,
   "metadata": {},
   "outputs": [
    {
     "name": "stdout",
     "output_type": "stream",
     "text": [
      "Time elpased (hour:min:second.ms) 0:00:04.101000\n"
     ]
    }
   ],
   "source": [
    "from datetime import datetime \n",
    "startTime= datetime.now() \n",
    "get_offline_merchant_table(data_offline)\n",
    "timeElapsed=datetime.now()-startTime \n",
    "print('Time elpased (hour:min:second.ms) {}'.format(timeElapsed))"
   ]
  }
 ],
 "metadata": {
  "kernelspec": {
   "display_name": "Python 2",
   "language": "python",
   "name": "python2"
  },
  "language_info": {
   "codemirror_mode": {
    "name": "ipython",
    "version": 2
   },
   "file_extension": ".py",
   "mimetype": "text/x-python",
   "name": "python",
   "nbconvert_exporter": "python",
   "pygments_lexer": "ipython2",
   "version": "2.7.13"
  }
 },
 "nbformat": 4,
 "nbformat_minor": 2
}
