{
 "cells": [
  {
   "cell_type": "code",
   "execution_count": 2,
   "metadata": {
    "ExecuteTime": {
     "end_time": "2017-12-01T17:37:36.720365Z",
     "start_time": "2017-12-01T17:37:24.088656Z"
    },
    "collapsed": true
   },
   "outputs": [],
   "source": [
    "import pandas as pd\n",
    "import warnings\n",
    "warnings.filterwarnings(\"ignore\")\n",
    "# read in data\n",
    "data_offline= pd.read_csv('ccf_offline.csv')\n",
    "data_online = pd.read_csv('ccf_online.csv')"
   ]
  },
  {
   "cell_type": "markdown",
   "metadata": {},
   "source": [
    "## get online merchant table function"
   ]
  },
  {
   "cell_type": "code",
   "execution_count": 3,
   "metadata": {
    "ExecuteTime": {
     "end_time": "2017-12-01T17:37:44.415224Z",
     "start_time": "2017-12-01T17:37:44.374377Z"
    },
    "collapsed": true
   },
   "outputs": [],
   "source": [
    "\n",
    "def get_online_merchant_table(data_online):\n",
    "    #get num_coupon for each user\n",
    "    \n",
    "    a=data_online[['Merchant_id','Coupon_id']]\n",
    "    mask = data_online['Coupon_id']!='null'\n",
    "    num_coupon = a[mask].groupby(['Merchant_id']).count().reset_index()\n",
    "    num_coupon.columns = ['Merchant_id','Tot_coupon_sent']\n",
    "    data_online1 = pd.merge(data_online, num_coupon, on = 'Merchant_id', how='left')\n",
    "\n",
    "    #get num coupon used for each user\n",
    "    mask2 = (data_online1['Date']!= 'null') & (data_online1['Coupon_id']!= 'null')\n",
    "    b=data_online1[mask2].groupby(['Merchant_id'])['Action'].count().reset_index()\n",
    "    b.columns = ['Merchant_id','Num_coupon_used']\n",
    "    data_online2 = pd.merge(data_online1, b, on='Merchant_id', how='left')\n",
    "\n",
    "    #get total number of coupons type for each user\n",
    "    l= data_online2[['Merchant_id','Coupon_id','Action']].groupby(['Merchant_id','Coupon_id']).count().reset_index()\n",
    "    mask3 = l['Coupon_id']!='null'\n",
    "    l2=l[mask3]\n",
    "\n",
    "    def num_type(s):\n",
    "        if s>0:\n",
    "            return 1\n",
    "\n",
    "    l2['num_type']=l2['Coupon_id'].apply(num_type)\n",
    "    l3 =l2.groupby('Merchant_id')['num_type'].count()\n",
    "    l4=pd.DataFrame(l3).reset_index()\n",
    "    data_online3= pd.merge(data_online2, l4, on='Merchant_id',how='left')\n",
    "\n",
    "    #generate merchant table\n",
    "    no_userid= data_online3[['Merchant_id','Tot_coupon_sent','Num_coupon_used','num_type']]\n",
    "    merchant_online_table = no_userid.drop_duplicates()\n",
    "    return merchant_online_table"
   ]
  },
  {
   "cell_type": "code",
   "execution_count": 14,
   "metadata": {
    "ExecuteTime": {
     "end_time": "2017-12-02T13:46:03.312972Z",
     "start_time": "2017-12-02T13:45:31.023460Z"
    }
   },
   "outputs": [
    {
     "name": "stdout",
     "output_type": "stream",
     "text": [
      "Time elpased (hh:mm:ss.ms) 0:00:32.275884\n"
     ]
    }
   ],
   "source": [
    "from datetime import datetime \n",
    "startTime= datetime.now() \n",
    "me=get_online_merchant_table(data_online)\n",
    "timeElapsed=datetime.now()-startTime \n",
    "print('Time elpased (hh:mm:ss.ms) {}'.format(timeElapsed))"
   ]
  },
  {
   "cell_type": "code",
   "execution_count": 15,
   "metadata": {
    "ExecuteTime": {
     "end_time": "2017-12-02T13:46:03.850991Z",
     "start_time": "2017-12-02T13:46:03.809457Z"
    }
   },
   "outputs": [
    {
     "data": {
      "text/html": [
       "<div>\n",
       "<style>\n",
       "    .dataframe thead tr:only-child th {\n",
       "        text-align: right;\n",
       "    }\n",
       "\n",
       "    .dataframe thead th {\n",
       "        text-align: left;\n",
       "    }\n",
       "\n",
       "    .dataframe tbody tr th {\n",
       "        vertical-align: top;\n",
       "    }\n",
       "</style>\n",
       "<table border=\"1\" class=\"dataframe\">\n",
       "  <thead>\n",
       "    <tr style=\"text-align: right;\">\n",
       "      <th></th>\n",
       "      <th>Merchant_id</th>\n",
       "      <th>Tot_coupon_sent</th>\n",
       "      <th>Num_coupon_used</th>\n",
       "      <th>num_type</th>\n",
       "    </tr>\n",
       "  </thead>\n",
       "  <tbody>\n",
       "    <tr>\n",
       "      <th>0</th>\n",
       "      <td>18907</td>\n",
       "      <td>52552.0</td>\n",
       "      <td>10927.0</td>\n",
       "      <td>152.0</td>\n",
       "    </tr>\n",
       "    <tr>\n",
       "      <th>1</th>\n",
       "      <td>34805</td>\n",
       "      <td>3334.0</td>\n",
       "      <td>330.0</td>\n",
       "      <td>90.0</td>\n",
       "    </tr>\n",
       "    <tr>\n",
       "      <th>10</th>\n",
       "      <td>38810</td>\n",
       "      <td>117.0</td>\n",
       "      <td>5.0</td>\n",
       "      <td>7.0</td>\n",
       "    </tr>\n",
       "    <tr>\n",
       "      <th>16</th>\n",
       "      <td>37005</td>\n",
       "      <td>498.0</td>\n",
       "      <td>128.0</td>\n",
       "      <td>9.0</td>\n",
       "    </tr>\n",
       "    <tr>\n",
       "      <th>17</th>\n",
       "      <td>14305</td>\n",
       "      <td>34924.0</td>\n",
       "      <td>9221.0</td>\n",
       "      <td>236.0</td>\n",
       "    </tr>\n",
       "  </tbody>\n",
       "</table>\n",
       "</div>"
      ],
      "text/plain": [
       "    Merchant_id  Tot_coupon_sent  Num_coupon_used  num_type\n",
       "0         18907          52552.0          10927.0     152.0\n",
       "1         34805           3334.0            330.0      90.0\n",
       "10        38810            117.0              5.0       7.0\n",
       "16        37005            498.0            128.0       9.0\n",
       "17        14305          34924.0           9221.0     236.0"
      ]
     },
     "execution_count": 15,
     "metadata": {},
     "output_type": "execute_result"
    }
   ],
   "source": [
    "me.head()"
   ]
  },
  {
   "cell_type": "markdown",
   "metadata": {},
   "source": [
    "## get offline merchant table function"
   ]
  },
  {
   "cell_type": "code",
   "execution_count": 5,
   "metadata": {
    "ExecuteTime": {
     "end_time": "2017-12-01T17:38:24.065956Z",
     "start_time": "2017-12-01T17:38:24.013124Z"
    },
    "collapsed": true
   },
   "outputs": [],
   "source": [
    "def get_offline_merchant_table(data_offline):\n",
    "    a=data_offline[['Merchant_id','Coupon_id']]\n",
    "    mask = data_offline['Coupon_id']!='null'\n",
    "    num_coupon = a[mask].groupby(['Merchant_id']).count().reset_index()\n",
    "    num_coupon.columns = ['Merchant_id','Tot_coupon_sent']\n",
    "    data_offline1 = pd.merge(data_offline, num_coupon, on = 'Merchant_id',how='left')\n",
    "    mask2 = (data_offline1['Date']!= 'null') & (data_offline1['Coupon_id']!= 'null')\n",
    "    b=data_offline1[mask2].groupby(['Merchant_id'])['Coupon_id'].count().reset_index()\n",
    "    b.columns = ['Merchant_id','Num_coupon_used']\n",
    "    data_offline2 = pd.merge(data_offline1, b, on='Merchant_id',how='left')\n",
    "    l= data_offline2[['Merchant_id','Coupon_id']].groupby(['Merchant_id','Coupon_id']).count().reset_index()\n",
    "    mask3 = l['Coupon_id']!='null'\n",
    "    l2=l[mask3]\n",
    "    \n",
    "    def num_type(s):\n",
    "        if s>0:\n",
    "            return 1\n",
    "        \n",
    "    l2['num_type']=l2['Coupon_id'].apply(num_type)\n",
    "    l3 =l2.groupby('Merchant_id')['num_type'].count()\n",
    "    l4=pd.DataFrame(l3).reset_index()\n",
    "    data_offline3= pd.merge(data_offline2, l4, on='Merchant_id',how='left')\n",
    "    null_mask = data_offline3['Distance']!='null'\n",
    "\n",
    "    def to_float(s):\n",
    "        return float(s)\n",
    "    data_offline4 =data_offline3[null_mask]\n",
    "    data_offline4['Distance']=data_offline4['Distance'].map(to_float)\n",
    "    data_offline5 = pd.DataFrame(data_offline4.groupby('Merchant_id')['Distance'].mean()).reset_index()\n",
    "    data_offline6 = pd.merge(data_offline3, data_offline5,on='Merchant_id',how='left')\n",
    "    data_offline6=data_offline6.rename(columns = {'Distance_y':'Avg_Distance'})\n",
    "    \n",
    "    no_others= data_offline6[['Merchant_id','Tot_coupon_sent','Num_coupon_used','num_type','Avg_Distance']]\n",
    "    merchant_offline_table = no_others.drop_duplicates()\n",
    "    return merchant_offline_table"
   ]
  },
  {
   "cell_type": "code",
   "execution_count": 6,
   "metadata": {
    "ExecuteTime": {
     "end_time": "2017-12-01T17:38:31.602173Z",
     "start_time": "2017-12-01T17:38:26.108119Z"
    }
   },
   "outputs": [
    {
     "name": "stdout",
     "output_type": "stream",
     "text": [
      "Time elpased (hour:min:second.ms) 0:00:05.486122\n"
     ]
    }
   ],
   "source": [
    "from datetime import datetime \n",
    "startTime= datetime.now() \n",
    "get_offline_merchant_table(data_offline)\n",
    "timeElapsed=datetime.now()-startTime \n",
    "print('Time elpased (hour:min:second.ms) {}'.format(timeElapsed))"
   ]
  },
  {
   "cell_type": "code",
   "execution_count": null,
   "metadata": {
    "collapsed": true
   },
   "outputs": [],
   "source": []
  }
 ],
 "metadata": {
  "anaconda-cloud": {},
  "kernelspec": {
   "display_name": "Python [default]",
   "language": "python",
   "name": "python2"
  },
  "language_info": {
   "codemirror_mode": {
    "name": "ipython",
    "version": 2
   },
   "file_extension": ".py",
   "mimetype": "text/x-python",
   "name": "python",
   "nbconvert_exporter": "python",
   "pygments_lexer": "ipython2",
   "version": "2.7.14"
  },
  "nbTranslate": {
   "displayLangs": [
    "*"
   ],
   "hotkey": "alt-t",
   "langInMainMenu": true,
   "sourceLang": "en",
   "targetLang": "fr",
   "useGoogleTranslate": true
  },
  "toc": {
   "nav_menu": {},
   "number_sections": true,
   "sideBar": true,
   "skip_h1_title": false,
   "toc_cell": false,
   "toc_position": {},
   "toc_section_display": "block",
   "toc_window_display": false
  },
  "varInspector": {
   "cols": {
    "lenName": 16,
    "lenType": 16,
    "lenVar": 40
   },
   "kernels_config": {
    "python": {
     "delete_cmd_postfix": "",
     "delete_cmd_prefix": "del ",
     "library": "var_list.py",
     "varRefreshCmd": "print(var_dic_list())"
    },
    "r": {
     "delete_cmd_postfix": ") ",
     "delete_cmd_prefix": "rm(",
     "library": "var_list.r",
     "varRefreshCmd": "cat(var_dic_list()) "
    }
   },
   "types_to_exclude": [
    "module",
    "function",
    "builtin_function_or_method",
    "instance",
    "_Feature"
   ],
   "window_display": false
  }
 },
 "nbformat": 4,
 "nbformat_minor": 2
}
